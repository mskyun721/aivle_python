{
 "cells": [
  {
   "cell_type": "markdown",
   "metadata": {},
   "source": [
    "![](https://upload.wikimedia.org/wikipedia/commons/thumb/3/31/NumPy_logo_2020.svg/330px-NumPy_logo_2020.svg.png)\n",
    "\n",
    "https://numpy.org/doc/"
   ]
  },
  {
   "cell_type": "code",
   "execution_count": 5,
   "metadata": {},
   "outputs": [],
   "source": [
    "# numpy import\n",
    "import numpy as np"
   ]
  },
  {
   "cell_type": "markdown",
   "metadata": {},
   "source": [
    "### numpy 배열 만들기"
   ]
  },
  {
   "cell_type": "markdown",
   "metadata": {},
   "source": [
    "<img src='https://raw.githubusercontent.com/Jangrae/img/master/array.png' width=300 align=\"left\"/>"
   ]
  },
  {
   "cell_type": "markdown",
   "metadata": {},
   "source": [
    " - axis : 배열의 축  ex) x(1), y(0)\n",
    " - rank : 축의 개수, ndim이랑 같음  ex) x, y 2차원 배열\n",
    " - shape: 축의 길이, 배열의 크기  ex) (4, 3)"
   ]
  },
  {
   "cell_type": "code",
   "execution_count": null,
   "metadata": {},
   "outputs": [],
   "source": [
    "# 리스트 -> numpy 배열\n",
    "a = [1,2,3,4,5,6,7,8,9,0] # 1차원\n",
    "b = [[1,2,3,4,5], [6,7,8,9,0]] # 2차원\n",
    "c = [[[1,2,3],[4,5,6], [7,8,9]]] # 3차원\n",
    "\n",
    "a_np = np.array(a)\n",
    "b_np = np.array(b)\n",
    "c_np = np.array(c)\n",
    "\n",
    "print(a_np)\n",
    "print(b_np)\n",
    "print(c_np)"
   ]
  },
  {
   "cell_type": "code",
   "execution_count": null,
   "metadata": {},
   "outputs": [],
   "source": [
    "# 배열 차원\n",
    "print('ndim / rank')\n",
    "print(a_np.ndim)\n",
    "print(b_np.ndim)\n",
    "print(c_np.ndim)\n",
    "print()\n",
    "\n",
    "# 배열 크기 - 튜플\n",
    "print('shape')\n",
    "print(a_np.shape) # (x, )\n",
    "print(b_np.shape) # (x, y)\n",
    "print(c_np.shape) # (x, y, z)\n",
    "print()\n",
    "\n",
    "# 배열 요소 자료형 - 배열은 한가지의 자료형만 가진다.\n",
    "print('dtype')\n",
    "print(a_np.dtype)\n",
    "print(b_np.dtype)\n",
    "print(c_np.dtype)\n",
    "print()"
   ]
  },
  {
   "cell_type": "markdown",
   "metadata": {},
   "source": [
    "### Reshape (배열 재배치)\n",
    " - 요소의  수와 규칙에 영향을 주지 않는 범위 내에서 변경 가능\n",
    " - (n, -1) 또는 (-1, n)으로 사용 가능, -1을 자동으로 크기 계산하여 지정됨"
   ]
  },
  {
   "cell_type": "code",
   "execution_count": null,
   "metadata": {},
   "outputs": [],
   "source": [
    "# 1차원 -> 2차원\n",
    "re_a_np = a_np.reshape(2, 5)\n",
    "print(a_np)\n",
    "print('-'*30)\n",
    "print(re_a_np)\n",
    "print()\n",
    "\n",
    "# 2차원 -> 1차원\n",
    "re_b_np = b_np.reshape(10, )\n",
    "print(b_np)\n",
    "print('-'*30)\n",
    "print(re_b_np)\n",
    "print()\n",
    "\n",
    "# 2차원 -> 2차원 / (2, 5) -> (5, 2)\n",
    "re_b_np = b_np.reshape(5, 2) # == re_b_np = b_np.reshape(5, -1) == re_b_np = b_np.reshape(-1, 2)\n",
    "print(b_np)\n",
    "print('-'*30)\n",
    "print(re_b_np)"
   ]
  },
  {
   "cell_type": "markdown",
   "metadata": {},
   "source": [
    "## 배열 index\n",
    " - list index와 유사\n",
    " - array[행, 열] 형태도 특정 요소 조회"
   ]
  },
  {
   "cell_type": "markdown",
   "metadata": {},
   "source": [
    "<img src='https://github.com/DA4BAM/image/blob/main/%EB%B0%B0%EC%97%B4%20%EC%8A%AC%EB%9D%BC%EC%9D%B4%EC%8B%B1.png?raw=true' width=800 align=\"left\"/>"
   ]
  },
  {
   "cell_type": "code",
   "execution_count": 50,
   "metadata": {},
   "outputs": [
    {
     "name": "stdout",
     "output_type": "stream",
     "text": [
      "[[1 2 3]\n",
      " [4 5 6]\n",
      " [7 8 9]]\n"
     ]
    }
   ],
   "source": [
    "np_idx = np.array([[1, 2, 3], \n",
    "                    [4, 5, 6],\n",
    "                    [7, 8, 9]])"
   ]
  },
  {
   "cell_type": "code",
   "execution_count": null,
   "metadata": {},
   "outputs": [],
   "source": [
    "print(np_idx)\n",
    "print()\n",
    "\n",
    "### 특정 요소 idx 조회\n",
    "print(np_idx[0, 1]) # 1차원\n",
    "print(np_idx[[0], [1]]) # 2차원\n",
    "print()\n",
    "\n",
    "\n",
    "### 행 조회\n",
    "# 행 하나 조회\n",
    "# [0] : [[0]] 비교\n",
    "print(np_idx[0, :]) # : 생략 가능\n",
    "print(np_idx[0]) # 1차원\n",
    "print(np_idx[[0]]) # 2차원\n",
    "print()\n",
    "\n",
    "# 2개 이상 행 조회\n",
    "print(np_idx[[0,2]])\n",
    "print()\n",
    "\n",
    "\n",
    "### 열 조회\n",
    "# 열 하나 조회 \n",
    "# [:, 0] : [:, [0]] 비교\n",
    "print(np_idx[:, 0]) # : 생략 불가, 1차원\n",
    "print(np_idx[:, [0]]) # 2차원\n",
    "print()\n",
    "\n",
    "# 2개 이상 열 조회\n",
    "print(np_idx[:, [0,2]])\n",
    "print()\n",
    "\n",
    "\n",
    "### 행/열 조회\n",
    "print(np_idx[[0,2],[0,2]]) # [0, 0], [2, 2] 요소 조회\n",
    "print(np_idx[[0,1,2],[2,1,0]]) # [0, 2], [1, 1], [2, 0] 요소 조회"
   ]
  },
  {
   "cell_type": "markdown",
   "metadata": {},
   "source": [
    "### 배열 slicing\n",
    " - list slice와 유사\n",
    " - n행 ~ m행 / n열 ~ m열 조회\n",
    " - [n:m] : n 부터 m-1 까지"
   ]
  },
  {
   "cell_type": "markdown",
   "metadata": {},
   "source": [
    "<img src='https://github.com/DA4BAM/image/blob/main/%EB%B0%B0%EC%97%B4%20%EC%8A%AC%EB%9D%BC%EC%9D%B4%EC%8B%B12.png?raw=true' width=800 align=\"left\"/>"
   ]
  },
  {
   "cell_type": "code",
   "execution_count": null,
   "metadata": {},
   "outputs": [],
   "source": [
    "print(np_idx)\n",
    "print()\n",
    "\n",
    "# 행 슬라이싱 [n:m, x]\n",
    "print(np_idx[0:2, :]) # : 생략 가능\n",
    "print(np_idx[0:2])\n",
    "print()\n",
    "\n",
    "# 열 슬라싱 [x, n:m]\n",
    "print(np_idx[:, 0:2]) # : 생략 불가\n",
    "print()\n",
    "print(np_idx[1, 0:2]) # 특정 행의 열 슬라이싱\n",
    "print()\n",
    "print(np_idx[0:2, 0:2]) # 범위 행의 열 슬라이싱\n",
    "print()\n",
    "\n",
    "# n 부터 끝까지 슬라이싱\n",
    "print(np_idx[1:, 0:])"
   ]
  },
  {
   "cell_type": "markdown",
   "metadata": {},
   "source": [
    "### 조건 조회\n",
    " - 조회 결과는 1차원 배열이 된다"
   ]
  },
  {
   "cell_type": "code",
   "execution_count": null,
   "metadata": {},
   "outputs": [],
   "source": [
    "score= np.array([[78, 91, 84, 89, 93, 65],\n",
    "                 [82, 87, 96, 79, 91, 73]])\n",
    "\n",
    "print(score)\n",
    "print()\n",
    "\n",
    "print(score[score >= 90])\n",
    "print()\n",
    "\n",
    "# & 또는 | 연산을 사용하는 경우 각 조건을 ()로 묶어야 한다. (score >= 90)  (score < 95)\n",
    "print(score[(score >= 90) & (score < 95)])"
   ]
  },
  {
   "cell_type": "markdown",
   "metadata": {},
   "source": [
    "#### numpy.where(조건, 참, 거짓)\n",
    " - 조건 : True, False 조건이 되도록 표현\n",
    " - 참 : 조건이 참 일때 값\n",
    " - 거짓 : 조건이 거짓 일때 값"
   ]
  },
  {
   "cell_type": "code",
   "execution_count": 65,
   "metadata": {},
   "outputs": [
    {
     "name": "stdout",
     "output_type": "stream",
     "text": [
      "[[12 91  6  1 93 25]\n",
      " [ 8  3 96 11 91 17]]\n"
     ]
    }
   ],
   "source": [
    "wh_score = np.where(score >= 90, score, 90 - score)\n",
    "print(wh_score)"
   ]
  },
  {
   "cell_type": "markdown",
   "metadata": {},
   "source": [
    "### 배열 연산\n",
    " - +, -, *, /, **\n",
    " - 행열 연산"
   ]
  },
  {
   "cell_type": "code",
   "execution_count": null,
   "metadata": {},
   "outputs": [],
   "source": [
    "# 두 개의 (2, 2) 형태의 2차원 배열 만들기\n",
    "x = np.array([[1, 2], [3, 4]])\n",
    "y = np.array([[5, 6], [7, 8]])\n",
    "\n",
    "# 확인\n",
    "print('x')\n",
    "print(x)\n",
    "print('y')\n",
    "print(y)\n",
    "print()\n",
    "\n",
    "# +\n",
    "print('+')\n",
    "print(x + y)\n",
    "print(np.add(x, y))\n",
    "print(x+10)\n",
    "print()\n",
    "\n",
    "# -\n",
    "print('-')\n",
    "print(x - y)\n",
    "print(np.subtract(x, y))\n",
    "print(x-10)\n",
    "print()\n",
    "\n",
    "# *\n",
    "print('*')\n",
    "print(x * y)\n",
    "print(np.multiply(x, y))\n",
    "print(x*10)\n",
    "print()\n",
    "\n",
    "# /\n",
    "print('/')\n",
    "print(x / y)\n",
    "print(np.divide(x, y))\n",
    "print(x/10)\n",
    "print()\n",
    "\n",
    "\n",
    "# **\n",
    "print('**')\n",
    "print(x ** y)\n",
    "print(np.power(x, y))\n",
    "print(x**2)\n",
    "print()\n"
   ]
  },
  {
   "cell_type": "markdown",
   "metadata": {},
   "source": [
    "### 배열 집계\n",
    " - sum, max, min, mean, std\n",
    " - axis = 0 : 열 기준 집계 / axis = 1 : 행 기준 집계\n",
    " - axis 생략 시 전체 집계\n",
    " - np.sum() or array.sum() 형태로 사용"
   ]
  },
  {
   "cell_type": "code",
   "execution_count": null,
   "metadata": {},
   "outputs": [],
   "source": [
    "np_total = np.array([[1,5,7],[2,3,8]])"
   ]
  },
  {
   "cell_type": "code",
   "execution_count": null,
   "metadata": {},
   "outputs": [],
   "source": [
    "print(np_total)\n",
    "print()\n",
    "\n",
    "### sum()\n",
    "# 전체\n",
    "print(np_total.sum())\n",
    "print(np.sum(np_total))\n",
    "print()\n",
    "\n",
    "# axis = 0 : 열 합계\n",
    "print(np_total.sum(axis=0))\n",
    "print(np.sum(np_total, axis=0))\n",
    "print()\n",
    "\n",
    "# axis = 1 : 행 합계\n",
    "print(np_total.sum(axis=1))\n",
    "print(np.sum(np_total, axis=1))\n",
    "print()"
   ]
  },
  {
   "cell_type": "code",
   "execution_count": null,
   "metadata": {},
   "outputs": [],
   "source": [
    "print(np_total)\n",
    "print()\n",
    "\n",
    "### max()\n",
    "# 전체\n",
    "print(np_total.max())\n",
    "print(np.max(np_total))\n",
    "print()\n",
    "\n",
    "# axis = 0 : 열 합계\n",
    "print(np_total.max(axis=0))\n",
    "print(np.max(np_total, axis=0))\n",
    "print()\n",
    "\n",
    "# axis = 1 : 행 합계\n",
    "print(np_total.max(axis=1))\n",
    "print(np.max(np_total, axis=1))\n",
    "print()"
   ]
  },
  {
   "cell_type": "code",
   "execution_count": null,
   "metadata": {},
   "outputs": [],
   "source": [
    "print(np_total)\n",
    "print()\n",
    "\n",
    "### min()\n",
    "# 전체\n",
    "print(np_total.min())\n",
    "print(np.min(np_total))\n",
    "print()\n",
    "\n",
    "# axis = 0 : 열 합계\n",
    "print(np_total.min(axis=0))\n",
    "print(np.min(np_total, axis=0))\n",
    "print()\n",
    "\n",
    "# axis = 1 : 행 합계\n",
    "print(np_total.min(axis=1))\n",
    "print(np.min(np_total, axis=1))\n",
    "print()"
   ]
  },
  {
   "cell_type": "code",
   "execution_count": null,
   "metadata": {},
   "outputs": [],
   "source": [
    "print(np_total)\n",
    "print()\n",
    "\n",
    "### mean()\n",
    "# 전체\n",
    "print(np_total.mean())\n",
    "print(np.mean(np_total))\n",
    "print()\n",
    "\n",
    "# axis = 0 : 열 합계\n",
    "print(np_total.mean(axis=0))\n",
    "print(np.mean(np_total, axis=0))\n",
    "print()\n",
    "\n",
    "# axis = 1 : 행 합계\n",
    "print(np_total.mean(axis=1))\n",
    "print(np.mean(np_total, axis=1))\n",
    "print()"
   ]
  },
  {
   "cell_type": "code",
   "execution_count": null,
   "metadata": {},
   "outputs": [],
   "source": [
    "print(np_total)\n",
    "print()\n",
    "\n",
    "### std()\n",
    "# 전체\n",
    "print(np_total.std())\n",
    "print(np.std(np_total))\n",
    "print()\n",
    "\n",
    "# axis = 0 : 열 합계\n",
    "print(np_total.std(axis=0))\n",
    "print(np.std(np_total, axis=0))\n",
    "print()\n",
    "\n",
    "# axis = 1 : 행 합계\n",
    "print(np_total.std(axis=1))\n",
    "print(np.std(np_total, axis=1))\n",
    "print()"
   ]
  },
  {
   "cell_type": "markdown",
   "metadata": {},
   "source": [
    "#### 최대/최소값의 index\n",
    " - argmax() / argmin()"
   ]
  },
  {
   "cell_type": "code",
   "execution_count": null,
   "metadata": {},
   "outputs": [],
   "source": [
    "print(np_total)\n",
    "print()\n",
    "\n",
    "# 전체 중에서 가장 큰 값의 인덱스\n",
    "print(np.argmax(np_total))\n",
    "# 행 방향 최대값의 인덱스\n",
    "print(np.argmax(np_total, axis = 0))\n",
    "# 열 방향 최대값의 인덱스\n",
    "print(np.argmax(np_total, axis = 1))\n"
   ]
  },
  {
   "cell_type": "code",
   "execution_count": null,
   "metadata": {},
   "outputs": [],
   "source": [
    "print(np_total)\n",
    "print()\n",
    "\n",
    "# 전체 중에서 가장 큰 값의 인덱스\n",
    "print(np.argmin(np_total))\n",
    "# 행 방향 최대값의 인덱스\n",
    "print(np.argmin(np_total, axis = 0))\n",
    "# 열 방향 최대값의 인덱스\n",
    "print(np.argmin(np_total, axis = 1))"
   ]
  }
 ],
 "metadata": {
  "kernelspec": {
   "display_name": "Python 3.9.13 64-bit",
   "language": "python",
   "name": "python3"
  },
  "language_info": {
   "codemirror_mode": {
    "name": "ipython",
    "version": 3
   },
   "file_extension": ".py",
   "mimetype": "text/x-python",
   "name": "python",
   "nbconvert_exporter": "python",
   "pygments_lexer": "ipython3",
   "version": "3.9.13"
  },
  "orig_nbformat": 4,
  "vscode": {
   "interpreter": {
    "hash": "cf92aa13fedf815d5c8dd192b8d835913fde3e8bc926b2a0ad6cc74ef2ba3ca2"
   }
  }
 },
 "nbformat": 4,
 "nbformat_minor": 2
}
