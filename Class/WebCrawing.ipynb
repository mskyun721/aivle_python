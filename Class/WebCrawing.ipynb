{
 "cells": [
  {
   "cell_type": "markdown",
   "metadata": {},
   "source": [
    "# Web Crawing\n",
    " : 웹페이지 데이터 수집"
   ]
  },
  {
   "cell_type": "markdown",
   "metadata": {},
   "source": [
    "## 크롤링 방법"
   ]
  },
  {
   "cell_type": "markdown",
   "metadata": {},
   "source": [
    "##### 크롤링 정책\n",
    "    - robots.txt 파일에 크롤링 정책 설명 : https://www.해당 주소.com/robots.txt\n",
    "    - 크롤링에 대한 법적 제제 없음\n",
    "    - 과도한 크롤링으로 서비스에 영향을 주는 경우 문제가 될 수 있음\n",
    "        - 영업방해, 지적재산권 침해 등 다른 법률에 의해 제재\n",
    "            ex) 사람인/잡코리아(2008 ~ 2018)\n",
    "    - 크롤링을 할때는 되도록 api를 사용"
   ]
  },
  {
   "cell_type": "markdown",
   "metadata": {},
   "source": [
    "- requests package\n",
    "    - json 문자열 파싱 (동적 크롤링에 주로 사용)\n",
    "    - html 문자열 파싱 (정적 크롤링에 주로 사용)"
   ]
  },
  {
   "cell_type": "code",
   "execution_count": null,
   "metadata": {},
   "outputs": [],
   "source": [
    "import requests, json\n",
    "import pandas as pd"
   ]
  },
  {
   "cell_type": "markdown",
   "metadata": {},
   "source": [
    "##### 1. 실습 ( 웹서비스 분석 : 크롬 개발자 도구 url )\n",
    " - 코스피 url : https://m.stock.naver.com/api/index/KOSPI/price?pageSize=10&page=3"
   ]
  },
  {
   "cell_type": "code",
   "execution_count": null,
   "metadata": {},
   "outputs": [],
   "source": [
    "url = 'https://m.stock.naver.com/api/index/KOSPI/price?pageSize=10&page=3'\n",
    "response = requests.get(url)\n",
    "\n",
    "print(response) # <Response [200]> : response status"
   ]
  },
  {
   "cell_type": "code",
   "execution_count": null,
   "metadata": {},
   "outputs": [],
   "source": [
    "# request -> string (response)\n",
    "print(type(response.text)) # string\n",
    "print()\n",
    "print(response.text)\n",
    "print()\n",
    "print(response.text[:200])"
   ]
  },
  {
   "cell_type": "code",
   "execution_count": null,
   "metadata": {},
   "outputs": [],
   "source": [
    "# response -> list (data)\n",
    "data = response.json()\n",
    "print(type(data)) # list\n",
    "print()\n",
    "print(data)"
   ]
  },
  {
   "cell_type": "code",
   "execution_count": null,
   "metadata": {},
   "outputs": [],
   "source": [
    "# data -> DataFrame (df)\n",
    "df = pd.DataFrame(data)[['localTradedAt', 'closePrice']]\n",
    "print(df.dtypes)\n",
    "print()\n",
    "print(df)"
   ]
  },
  {
   "cell_type": "code",
   "execution_count": null,
   "metadata": {},
   "outputs": [],
   "source": [
    "# 함수 생성\n",
    "def stock_crawling(pagesize, page, code='KOSPI'):\n",
    "    \"\"\"stock page crawling\n",
    "\n",
    "    Args:\n",
    "        pagesize (int): page size\n",
    "        page (int): page number\n",
    "        code (str, optional): KOSPI / KOSDAQ. Defaults to 'KOSPI'.\n",
    "\n",
    "    Returns:\n",
    "        DataFrame : 'localTradedAt', 'closePrice'\n",
    "    \"\"\"\n",
    "    \n",
    "    url = f'https://m.stock.naver.com/api/index/{code}/price?pageSize={pagesize}&page={page}'\n",
    "    response = requests.get(url)\n",
    "    data = response.json()\n",
    "    df = pd.DataFrame(data)[['localTradedAt', 'closePrice']]\n",
    "    \n",
    "    return df\n"
   ]
  },
  {
   "cell_type": "markdown",
   "metadata": {},
   "source": [
    " - 코스닥 url : https://m.stock.naver.com/api/index/KOSDAQ/price?pageSize=10&page=2"
   ]
  },
  {
   "cell_type": "code",
   "execution_count": null,
   "metadata": {},
   "outputs": [],
   "source": [
    "url = 'https://m.stock.naver.com/api/index/KOSDAQ/price?pageSize=10&page=2'\n",
    "response = requests.get(url)\n",
    "data = response.json()\n",
    "df = pd.DataFrame(data)[[\"localTradedAt\", \"closePrice\"]]\n",
    "\n",
    "print(df)\n",
    "\n",
    "print(stock_crawling(10,2,'KOSDAQ'))"
   ]
  },
  {
   "cell_type": "markdown",
   "metadata": {},
   "source": [
    " - 환율 ( 달러 ) url : https://api.stock.naver.com/marketindex/exchange/FX_USDKRW/prices?page=3&pageSize=10"
   ]
  },
  {
   "cell_type": "code",
   "execution_count": null,
   "metadata": {},
   "outputs": [],
   "source": [
    "url = 'https://api.stock.naver.com/marketindex/exchange/FX_USDKRW/prices?page=3&pageSize=10'\n",
    "response = requests.get(url)\n",
    "data = response.json()\n",
    "df = pd.DataFrame(data)[[\"localTradedAt\", \"closePrice\"]]\n",
    "\n",
    "print(df)\n",
    "\n",
    "def exchange_crawling(pagesize, page, code='FX_USDKRW'):\n",
    "    \"\"\"money exchange\n",
    "\n",
    "    Args:\n",
    "        pagesize (int): page size\n",
    "        page (int): page number\n",
    "        code (str, optional): FX_USDKRW, FX_EURKRW, FX_JPYKRW, FX_CNYKRW, each. Defaults to 'FX_USDKRW'.\n",
    "\n",
    "    Returns:\n",
    "        _DataFrame : 'localTradedAt', 'closePrice'\n",
    "    \"\"\"\n",
    "    \n",
    "    url = f'https://api.stock.naver.com/marketindex/exchange/{code}/prices?page={page}&pageSize={pagesize}'\n",
    "    response = requests.get(url)\n",
    "    data = response.json()\n",
    "    df = pd.DataFrame(data)[['localTradedAt', 'closePrice']]\n",
    "    \n",
    "    return df\n",
    "\n",
    "print(exchange_crawling(10,1))"
   ]
  },
  {
   "cell_type": "markdown",
   "metadata": {},
   "source": [
    "### 데이터 분석 : 상관관계\n",
    " - 피어슨 상관계수\n",
    "    - 1과 가까울수록 강한 양의 상관관계를 갖는다.\n",
    "    - -1과 가까울수록 강한 음의 상관계를 갖는다.\n",
    "    - 0과 가까울수록 관계가 없다.\n",
    "    - pandas 함수 df.corr()\n",
    "\n",
    "ex) 달러 환율과 주가 지수의 관계"
   ]
  },
  {
   "cell_type": "code",
   "execution_count": null,
   "metadata": {},
   "outputs": [],
   "source": [
    "kospi = stock_crawling(60, 1)\n",
    "kosdaq = stock_crawling(60, 1, 'KOSDAQ')\n",
    "usd = exchange_crawling(60,1)\n",
    "\n",
    "df = kospi.copy()\n",
    "df['kosdaq'] = kosdaq[\"closePrice\"]\n",
    "df['usd'] = usd[\"closePrice\"]\n",
    "df.rename(columns={'closePrice': 'kospi'},\n",
    "          inplace=True)\n",
    "\n",
    "print(df.dtypes)\n",
    "print()\n",
    "# 데이터타입 변경 str -> int\n",
    "df['kospi'] = df['kospi'].apply(lambda data:float(data.replace(',','')))\n",
    "df['kosdaq'] = df['kosdaq'].apply(lambda data:float(data.replace(',','')))\n",
    "df['usd'] = df['usd'].apply(lambda data:float(data.replace(',','')))\n",
    "print(df.dtypes)\n",
    "print()\n",
    "\n",
    "print(df[['kospi', 'kosdaq', 'usd']].corr())\n",
    "\n"
   ]
  },
  {
   "cell_type": "code",
   "execution_count": null,
   "metadata": {},
   "outputs": [],
   "source": [
    "# apply(func)\n",
    "df = pd.DataFrame([{\"age\": 23}, {\"age\": 36}, {\"age\": 27}])\n",
    "\n",
    "# 연령대 컬럼을 추가 \n",
    "def change_ages(age): \n",
    "    return age // 10 * 10\n",
    "\n",
    "df[\"ages\"] = df[\"age\"].apply(change_ages)\n",
    "print(df)\n",
    "print()"
   ]
  },
  {
   "cell_type": "code",
   "execution_count": null,
   "metadata": {},
   "outputs": [],
   "source": [
    "### lambda : 일회성 함수\n",
    "###     - 사용 이유 : 메모리 절약, 간단한 함수 (파라미터를 받아서 바로 리턴)\n",
    "\n",
    "# 함수 3개 사용 ( 메모리 3개 사용 )\n",
    "def plus(n1,n2):\n",
    "    return n1+n2\n",
    "\n",
    "def minus(n1,n2):\n",
    "    return n1-n2\n",
    "\n",
    "def calc(func, n1, n2):\n",
    "    return func(n1, n2)\n",
    "\n",
    "print('def : plus, minus, calc')\n",
    "print(calc(plus, 1,2))\n",
    "print(calc(minus, 1,2))\n",
    "print()\n",
    "\n",
    "# lambda parmeter : return\n",
    "print('lambda : calc')\n",
    "print(calc(lambda n1, n2: n1+n2, 1, 2))\n",
    "print(calc(lambda n1, n2: n1-n2, 1, 2))\n"
   ]
  },
  {
   "cell_type": "markdown",
   "metadata": {},
   "source": [
    "### API 데이터 수집\n",
    " - application programing interface\n",
    " - api를 사용해서 데이터를 수집하는 것은 서비스에 데이터를 제공하는 공식적인 방법으로 데이터 수집\n",
    "\n",
    "ex) naver api( 파파고 )"
   ]
  },
  {
   "cell_type": "code",
   "execution_count": null,
   "metadata": {},
   "outputs": [],
   "source": [
    "import pandas as pd\n",
    "import requests, json\n",
    "\n",
    "# 1. app 등록 > app_key(request_token)\n",
    "# https://developers.naver.com\n",
    "CLIENT_ID, CLIENT_SECRET = \"Y7kkW5s3waqiGemisIDm\", \"O0iVtJhKyp\"\n",
    "\n",
    "# 2. Naver API document 확인 > URL\n",
    "# https://openapi.naver.com/v1/papago/n2mt\n",
    "url = 'https://openapi.naver.com/v1/papago/n2mt'\n",
    "txt = '안녕하세요. 반갑습니다. 감사합니다.'\n",
    "params = {\n",
    "    'source': 'ko',\n",
    "    'target': 'en',\n",
    "    'text':txt\n",
    "}\n",
    "headers = {\n",
    "    \"Content-Type\": \"application/json\",\n",
    "    \"X-Naver-Client-Id\": CLIENT_ID,\n",
    "    \"X-Naver-Client-Secret\": CLIENT_SECRET\n",
    "}\n",
    "# 3. request(url, app_key) > json(str)\n",
    "ppg_response = requests.post(url, json.dumps(params), headers=headers)\n",
    "print(ppg_response)\n",
    "print()\n",
    "\n",
    "# 4. json > list, dict > dataframe\n",
    "txt_en = ppg_response.json()[\"message\"][\"result\"][\"translatedText\"]\n",
    "print(txt_en)"
   ]
  },
  {
   "cell_type": "code",
   "execution_count": null,
   "metadata": {},
   "outputs": [],
   "source": [
    "# 파파고 함수\n",
    "def ppg_translate(id,pw,txt,fromNa='ko', toNa='en'):\n",
    "    \"\"\"naver papago translate api\n",
    "\n",
    "    Args:\n",
    "        id (str): naver api id\n",
    "        pw (str): naver api secret_\n",
    "        txt (str): befor translate text\n",
    "        fromNa (str, optional): . Defaults to 'ko'.\n",
    "        toNa (str, optional): . Defaults to 'en'.\n",
    "\n",
    "    Returns:\n",
    "        _type_: DataFrame, after translate text\n",
    "    \"\"\"\n",
    "    \n",
    "    params = {\n",
    "        'source': fromNa,\n",
    "        'target': toNa,\n",
    "        'text':txt\n",
    "    }\n",
    "    \n",
    "    headers = {\n",
    "        \"Content-Type\": \"application/json\",\n",
    "        \"X-Naver-Client-Id\": id,\n",
    "        \"X-Naver-Client-Secret\": pw\n",
    "    }\n",
    "    response = requests.post('https://openapi.naver.com/v1/papago/n2mt', json.dumps(params), headers=headers)\n",
    "    \n",
    "    return response.json()[\"message\"][\"result\"][\"translatedText\"]\n",
    "\n",
    "print(ppg_translate(CLIENT_ID, CLIENT_SECRET, '크롤링 공부'))"
   ]
  },
  {
   "cell_type": "code",
   "execution_count": null,
   "metadata": {},
   "outputs": [],
   "source": [
    "### covid 번역\n",
    "CLIENT_ID, CLIENT_SECRET = \"Y7kkW5s3waqiGemisIDm\", \"O0iVtJhKyp\"\n",
    "\n",
    "def ppg_translate_txt(txt):\n",
    "    \"\"\"naver papago translate api\n",
    "\n",
    "    Args:\n",
    "        txt (str): befor translate text\n",
    "\n",
    "    Returns:\n",
    "        _type_: DataFrame, after translate text\n",
    "    \"\"\"\n",
    "    \n",
    "    params = {\n",
    "        'source': 'ko',\n",
    "        'target': 'en',\n",
    "        'text':txt\n",
    "    }\n",
    "    headers = {\n",
    "        \"Content-Type\": \"application/json\",\n",
    "        \"X-Naver-Client-Id\": CLIENT_ID,\n",
    "        \"X-Naver-Client-Secret\": CLIENT_SECRET\n",
    "    }\n",
    "    \n",
    "    response = requests.post('https://openapi.naver.com/v1/papago/n2mt', json.dumps(params), headers=headers)\n",
    "    \n",
    "    return response.json()[\"message\"][\"result\"][\"translatedText\"]\n",
    "\n",
    "covid = pd.read_excel(\"../excel/covid.xlsx\")[[\"category\", \"title\"]]\n",
    "covid['en'] = covid['title'].apply(ppg_translate_txt)\n",
    "print(covid)\n",
    "# 엑셀 파일 만들기\n",
    "# covid.to_excel('../excel/covid_en.xlsx', index=False, encoding='utf-8-sig')"
   ]
  },
  {
   "cell_type": "markdown",
   "metadata": {},
   "source": [
    "ex) naver dataLab"
   ]
  },
  {
   "cell_type": "code",
   "execution_count": null,
   "metadata": {},
   "outputs": [],
   "source": [
    "# datalab.naver.com\n",
    "import pandas as pd\n",
    "import requests, json\n",
    "\n",
    "id, secret = 'Y7kkW5s3waqiGemisIDm', 'O0iVtJhKyp'\n",
    "url = 'https://openapi.naver.com/v1/datalab/search'\n",
    "headers = {\n",
    "    'X-Naver-Client-Id': id,\n",
    "    'X-Naver-Client-Secret':secret,\n",
    "    'Content-Type': 'application/json'\n",
    "}\n",
    "\n",
    "data = {\n",
    "    \"startDate\": \"2018-01-01\",\n",
    "    \"endDate\": \"2022-08-04\",\n",
    "    \"timeUnit\": \"month\",\n",
    "    \"keywordGroups\": [\n",
    "                    {\n",
    "                        \"groupName\": \"트위터\",\n",
    "                        \"keywords\": [\"트위터\", \"트윗\",'twitter']\n",
    "                    },\n",
    "                    {\n",
    "                        \"groupName\": \"페이스북\",\n",
    "                        \"keywords\": [\"페이스북\",\"페북\", 'facebook']\n",
    "                    },\n",
    "                    {\n",
    "                        \"groupName\": \"인스타그램\",\n",
    "                        \"keywords\": [\"인스타그램\",\"인스타\", 'insta', 'instagram']\n",
    "                    }\n",
    "                    ]\n",
    "}\n",
    "dtLab = requests.post(url=url, data=json.dumps(data) ,headers=headers)\n",
    "\n",
    "print(dtLab)\n",
    "# print(dtLab.text)\n"
   ]
  },
  {
   "cell_type": "code",
   "execution_count": null,
   "metadata": {},
   "outputs": [],
   "source": [
    "dt = dtLab.json()[\"results\"]\n",
    "print([i['ratio'] for i in dt[0]['data']])\n",
    "print(type(data['keywordGroups'][0]['keywords'][-1]))\n",
    "print()\n",
    "\n",
    "df = pd.DataFrame(dt[0]['data'])['period']\n",
    "# print(period)\n",
    "for i in range(len(data['keywordGroups'])):\n",
    "    df_ = pd.DataFrame(dt[i]['data'])['ratio']\n",
    "    df = pd.concat([df,df_], axis=1)\n",
    "    \n",
    "    df.rename(columns={'ratio':data['keywordGroups'][i]['keywords'][-1]}\n",
    "              , inplace=True)\n",
    "    \n",
    "\n",
    "print(df)\n",
    "\n",
    "# df = pd.DataFrame({\n",
    "#     \"date\": [period[\"period\"] for period in dt[0][\"data\"]],\n",
    "#     \"twitter\": [ratio[\"ratio\"] for ratio in dt[0][\"data\"]],\n",
    "#     \"facebook\": [ratio[\"ratio\"] for ratio in dt[1][\"data\"]],\n",
    "#     \"instagram\": [ratio[\"ratio\"] for ratio in dt[2][\"data\"]],\n",
    "# })\n"
   ]
  },
  {
   "cell_type": "code",
   "execution_count": null,
   "metadata": {},
   "outputs": [],
   "source": [
    "# visualizations\n",
    "df.plot(figsize=(20, 5))"
   ]
  },
  {
   "cell_type": "markdown",
   "metadata": {},
   "source": [
    "##### 직방 매물정보 수집\n",
    "1. 지역 검색\n",
    "2. 위도, 경도 확인\n",
    "3. 매물 아이디 확인\n",
    "4. 매물 정보 확인"
   ]
  },
  {
   "cell_type": "code",
   "execution_count": null,
   "metadata": {},
   "outputs": [],
   "source": [
    "# 위도,경도 hash 패키지\n",
    "import geohash2\n",
    "\n",
    "# 1. 지역 검색\n",
    "addr = '주례동'\n",
    "url = f'https://apis.zigbang.com/v2/search?leaseYn=N&q={addr}&serviceType=원룸'\n",
    "\n",
    "response = requests.get(url)\n",
    "data = response.json()['items'][0]\n",
    "print(response.json())\n",
    "\n",
    "lat, lng = data['lat'],data['lng']\n",
    "\n",
    "# print(response.text)\n",
    "# print()\n",
    "# print(data)\n",
    "# print()\n",
    "# print(lat,lng)"
   ]
  },
  {
   "cell_type": "code",
   "execution_count": null,
   "metadata": {},
   "outputs": [],
   "source": [
    "# 2. 위도, 경도 확인\n",
    "geohash = geohash2.encode(lat, lng, precision=5)\n",
    "\n",
    "print(geohash)"
   ]
  },
  {
   "cell_type": "code",
   "execution_count": null,
   "metadata": {},
   "outputs": [],
   "source": [
    "# 3. 매물 아이디 확인\n",
    "itm_url = f'https://apis.zigbang.com/v2/items?deposit_gteq=0&domain=zigbang&geohash={geohash}&needHasNoFiltered=true&rent_gteq=0&sales_type_in=전세|월세&service_type_eq=원룸'\n",
    "\n",
    "itm_respon = requests.get(itm_url)\n",
    "print(itm_respon)\n",
    "\n",
    "items = itm_respon.json()[\"items\"] \n",
    "print(len(items), items[:2])\n",
    "print()\n",
    "\n",
    "ids = [item['item_id'] for item in items]\n",
    "print(ids)"
   ]
  },
  {
   "cell_type": "code",
   "execution_count": null,
   "metadata": {},
   "outputs": [],
   "source": [
    "# 4. 매물 정보 확인\n",
    "room_url = 'https://apis.zigbang.com/v2/items/list'\n",
    "params = {\n",
    "    'domain': 'zigbang',\n",
    "    'item_ids':ids,\n",
    "    'withCoalition': 'true'\n",
    "}\n",
    "\n",
    "room_respon = requests.post(url=room_url, params=params)\n",
    "\n",
    "room = room_respon.json()['items']\n",
    "columns = [\"item_id\", \"sales_type\", \"deposit\", \"rent\", \"size_m2\", \"address1\", \"manage_cost\"]\n",
    "\n",
    "df = pd.DataFrame(room)[columns]\n",
    "print(df)"
   ]
  },
  {
   "cell_type": "code",
   "execution_count": 219,
   "metadata": {},
   "outputs": [
    {
     "name": "stdout",
     "output_type": "stream",
     "text": [
      "50 60\n"
     ]
    }
   ],
   "source": [
    "# max row, max column 설정\n",
    "print(pd.options.display.max_columns, pd.options.display.max_rows)\n",
    "pd.options.display.max_rows = 200"
   ]
  },
  {
   "cell_type": "code",
   "execution_count": null,
   "metadata": {},
   "outputs": [],
   "source": [
    "# 직방 함수\n",
    "import pandas as pd\n",
    "import geohash2, json, requests\n",
    "\n",
    "\n",
    "def zigbang(addr):\n",
    "    \"\"\"zigbang room search\n",
    "\n",
    "    Args:\n",
    "        addr (str): address\n",
    "\n",
    "    Returns:\n",
    "        DataFrame: columns - [\"item_id\", \"sales_type\", \"deposit\", \"rent\", \"size_m2\", \"address1\", \"manage_cost\"]\n",
    "    \"\"\"\n",
    "    \n",
    "    url1 = f'https://apis.zigbang.com/v2/search?leaseYn=N&q={addr}&serviceType=원룸'\n",
    "    \n",
    "    dt1 = requests.get(url1).json()['items'][0]\n",
    "    lat, lng = dt1['lat'],dt1['lng']\n",
    "    geohash = geohash2.encode(lat, lng, precision=5)\n",
    "    \n",
    "    url2 = f'https://apis.zigbang.com/v2/items?deposit_gteq=0&domain=zigbang&geohash={geohash}&needHasNoFiltered=true&rent_gteq=0&sales_type_in=전세|월세&service_type_eq=원룸'\n",
    "    \n",
    "    dt2 = requests.get(url2).json()[\"items\"]\n",
    "    idx = [item['item_id'] for item in dt2]\n",
    "    \n",
    "    url3 = 'https://apis.zigbang.com/v2/items/list'\n",
    "    \n",
    "    params = {\n",
    "        'domain': 'zigbang',\n",
    "        'item_ids':idx,\n",
    "        'withCoalition': 'true'\n",
    "    }\n",
    "    dt3 = requests.post(url=url3, params=params).json()['items']\n",
    "    columns = [\"item_id\", \"sales_type\", \"deposit\", \"rent\", \"size_m2\", \"address1\", \"manage_cost\"]\n",
    "    df = pd.DataFrame(dt3)[columns]\n",
    "    \n",
    "    \n",
    "    return df\n",
    "\n",
    "print(zigbang('주례동'))"
   ]
  },
  {
   "cell_type": "markdown",
   "metadata": {},
   "source": [
    "### html\n",
    " - 웹 문서를 작성하는 언어\n",
    " - 구성요소\n",
    "    - Document : 한페이지를 나타내는 코드\n",
    "    - Element : 하나의 레이아웃, Element가 모여서 Document를 만든다.\n",
    "    - Tag : Element의 종류 정의, 시작/끝 태그가 모여서 Element를 만든다.\n",
    "    - Attribute : Tag의 속성. 시작 태그에서 태그의 기능을 정의\n",
    "        - id : 페이지 내 유일한 값\n",
    "        - class : 페이지 내 중복 가능한 값\n",
    "        - attr : 속성값\n",
    "    - Text : 시작과 끝 태그 사이의 내용\n",
    " - Element는 계층적 구조를 갖는다.\n",
    " \n",
    "\n"
   ]
  },
  {
   "cell_type": "markdown",
   "metadata": {},
   "source": [
    "%%html\n",
    "\n",
    "<div class='wrapper'>\n",
    "    <button id='b1' clas='btn' value='1'>html1</button>\n",
    "    <button id='b2' clas='btn' value='2'>html1</button>\n",
    "</div>\n"
   ]
  },
  {
   "cell_type": "code",
   "execution_count": null,
   "metadata": {},
   "outputs": [],
   "source": [
    "# 파이썬 부동 소숫점 오류\n",
    "a, b = 0.1, 0.2\n",
    "a+b # 0.3 x"
   ]
  },
  {
   "cell_type": "code",
   "execution_count": null,
   "metadata": {},
   "outputs": [],
   "source": [
    "(a+b) == 0.3"
   ]
  },
  {
   "cell_type": "code",
   "execution_count": null,
   "metadata": {},
   "outputs": [],
   "source": [
    "# 해결 : 반올림 사용\n",
    "round(a+b,1) == 0.3"
   ]
  },
  {
   "cell_type": "code",
   "execution_count": null,
   "metadata": {},
   "outputs": [],
   "source": [
    "# 해결 : 고정소수점 연산\n",
    "from decimal import Decimal\n",
    "float(Decimal(str(a)) + Decimal(str(b))) == 0.3\n"
   ]
  },
  {
   "cell_type": "markdown",
   "metadata": {},
   "source": [
    "### 정적페이지 데이터 수집\n",
    " - 네이버 연관 검색어 수집\n",
    " - bs4 : BeautifulSoup, HTML > CSS selector 를 이용하여 수집"
   ]
  },
  {
   "cell_type": "code",
   "execution_count": null,
   "metadata": {},
   "outputs": [],
   "source": [
    "import pandas as pd\n",
    "import requests\n",
    "from bs4 import BeautifulSoup\n",
    "\n",
    "# 1. 웹 서비스 분석 : url\n",
    "url = 'https://search.naver.com/search.naver?sm=tab_hty.top&where=nexearch&query=kt&oquery=%EC%A1%B4%EB%B0%94%EB%B0%94%ED%86%A0%EC%8A%A4&tqi=hXWxYsprvmsss79TtHossssstaN-185816'\n",
    "\n",
    "response = requests.get(url)\n",
    "print(response)"
   ]
  },
  {
   "cell_type": "code",
   "execution_count": null,
   "metadata": {},
   "outputs": [],
   "source": [
    "doc = BeautifulSoup(response.text, 'html.parser')\n",
    "\n",
    "elements = doc.select('.lst_related_srch > .item')\n",
    "elements"
   ]
  },
  {
   "cell_type": "code",
   "execution_count": null,
   "metadata": {},
   "outputs": [],
   "source": [
    "dt = [e.select_one('.tit').text for e in elements]\n",
    "dt"
   ]
  },
  {
   "cell_type": "markdown",
   "metadata": {},
   "source": [
    "### Gmarket 베트스 상품 수집"
   ]
  },
  {
   "cell_type": "code",
   "execution_count": 1,
   "metadata": {},
   "outputs": [
    {
     "data": {
      "text/plain": [
       "<Response [200]>"
      ]
     },
     "execution_count": 1,
     "metadata": {},
     "output_type": "execute_result"
    }
   ],
   "source": [
    "import pandas as pd\n",
    "import requests\n",
    "from bs4 import BeautifulSoup\n",
    "\n",
    "url = 'http://corners.gmarket.co.kr/Bestsellers'\n",
    "\n",
    "response = requests.get(url)\n",
    "response"
   ]
  },
  {
   "cell_type": "code",
   "execution_count": 5,
   "metadata": {},
   "outputs": [
    {
     "data": {
      "text/html": [
       "<div>\n",
       "<style scoped>\n",
       "    .dataframe tbody tr th:only-of-type {\n",
       "        vertical-align: middle;\n",
       "    }\n",
       "\n",
       "    .dataframe tbody tr th {\n",
       "        vertical-align: top;\n",
       "    }\n",
       "\n",
       "    .dataframe thead th {\n",
       "        text-align: right;\n",
       "    }\n",
       "</style>\n",
       "<table border=\"1\" class=\"dataframe\">\n",
       "  <thead>\n",
       "    <tr style=\"text-align: right;\">\n",
       "      <th></th>\n",
       "      <th>title</th>\n",
       "      <th>o-price</th>\n",
       "      <th>s-price</th>\n",
       "      <th>img</th>\n",
       "    </tr>\n",
       "  </thead>\n",
       "  <tbody>\n",
       "    <tr>\n",
       "      <th>0</th>\n",
       "      <td>3900원 균일가 시즌오프 블라우스/티셔츠/원피스/팬츠 外</td>\n",
       "      <td>13000</td>\n",
       "      <td>3900</td>\n",
       "      <td>http://gdimg.gmarket.co.kr/2266434001/still/30...</td>\n",
       "    </tr>\n",
       "    <tr>\n",
       "      <th>1</th>\n",
       "      <td>청정우 양지 300gX3팩</td>\n",
       "      <td>31800</td>\n",
       "      <td>15900</td>\n",
       "      <td>http://gdimg.gmarket.co.kr/1587075039/still/30...</td>\n",
       "    </tr>\n",
       "    <tr>\n",
       "      <th>2</th>\n",
       "      <td>[한상궁김치]한상궁김치 국산 겉절이 2kg 출고당일생산</td>\n",
       "      <td></td>\n",
       "      <td>15900</td>\n",
       "      <td>http://gdimg.gmarket.co.kr/1798110680/still/30...</td>\n",
       "    </tr>\n",
       "    <tr>\n",
       "      <th>3</th>\n",
       "      <td>[키스포]12%쿠폰 아동 주니어 여름 클리어런스+가을 프리뷰 모음전</td>\n",
       "      <td>22000</td>\n",
       "      <td>6600</td>\n",
       "      <td>http://gdimg.gmarket.co.kr/336394693/still/300...</td>\n",
       "    </tr>\n",
       "    <tr>\n",
       "      <th>4</th>\n",
       "      <td>DCOVERS/디커버스/반팔티/티셔츠/여성/남자/빅사이즈</td>\n",
       "      <td>26300</td>\n",
       "      <td>7900</td>\n",
       "      <td>http://gdimg.gmarket.co.kr/2514963907/still/30...</td>\n",
       "    </tr>\n",
       "    <tr>\n",
       "      <th>...</th>\n",
       "      <td>...</td>\n",
       "      <td>...</td>\n",
       "      <td>...</td>\n",
       "      <td>...</td>\n",
       "    </tr>\n",
       "    <tr>\n",
       "      <th>195</th>\n",
       "      <td>[게스]누구나 22% 게스 여름 티셔츠/데님 파이널 세일</td>\n",
       "      <td>56000</td>\n",
       "      <td>17000</td>\n",
       "      <td>http://gdimg.gmarket.co.kr/1829738400/still/30...</td>\n",
       "    </tr>\n",
       "    <tr>\n",
       "      <th>196</th>\n",
       "      <td>[스파클]스파클생수 2L 30병</td>\n",
       "      <td></td>\n",
       "      <td>15900</td>\n",
       "      <td>http://gdimg.gmarket.co.kr/2007982106/still/30...</td>\n",
       "    </tr>\n",
       "    <tr>\n",
       "      <th>197</th>\n",
       "      <td>[G7]베트남 G7 블랙 2g x 200입 (무료배송+랜덤 사은품)</td>\n",
       "      <td>19900</td>\n",
       "      <td>13500</td>\n",
       "      <td>http://gdimg.gmarket.co.kr/1692723853/still/30...</td>\n",
       "    </tr>\n",
       "    <tr>\n",
       "      <th>198</th>\n",
       "      <td>[미래생활]순수PURE천연펄프 25m 30롤 x 3팩 휴지</td>\n",
       "      <td>31900</td>\n",
       "      <td>28900</td>\n",
       "      <td>http://gdimg.gmarket.co.kr/1899274105/still/30...</td>\n",
       "    </tr>\n",
       "    <tr>\n",
       "      <th>199</th>\n",
       "      <td>탑모델 여름신상 BEST 특가+10%쿠폰</td>\n",
       "      <td>32900</td>\n",
       "      <td>9900</td>\n",
       "      <td>http://gdimg.gmarket.co.kr/1787483503/still/30...</td>\n",
       "    </tr>\n",
       "  </tbody>\n",
       "</table>\n",
       "<p>200 rows × 4 columns</p>\n",
       "</div>"
      ],
      "text/plain": [
       "                                     title o-price  s-price  \\\n",
       "0         3900원 균일가 시즌오프 블라우스/티셔츠/원피스/팬츠 外   13000     3900   \n",
       "1                           청정우 양지 300gX3팩   31800    15900   \n",
       "2           [한상궁김치]한상궁김치 국산 겉절이 2kg 출고당일생산            15900   \n",
       "3    [키스포]12%쿠폰 아동 주니어 여름 클리어런스+가을 프리뷰 모음전   22000     6600   \n",
       "4          DCOVERS/디커버스/반팔티/티셔츠/여성/남자/빅사이즈   26300     7900   \n",
       "..                                     ...     ...      ...   \n",
       "195        [게스]누구나 22% 게스 여름 티셔츠/데님 파이널 세일   56000    17000   \n",
       "196                      [스파클]스파클생수 2L 30병            15900   \n",
       "197  [G7]베트남 G7 블랙 2g x 200입 (무료배송+랜덤 사은품)   19900    13500   \n",
       "198       [미래생활]순수PURE천연펄프 25m 30롤 x 3팩 휴지   31900    28900   \n",
       "199                 탑모델 여름신상 BEST 특가+10%쿠폰   32900     9900   \n",
       "\n",
       "                                                   img  \n",
       "0    http://gdimg.gmarket.co.kr/2266434001/still/30...  \n",
       "1    http://gdimg.gmarket.co.kr/1587075039/still/30...  \n",
       "2    http://gdimg.gmarket.co.kr/1798110680/still/30...  \n",
       "3    http://gdimg.gmarket.co.kr/336394693/still/300...  \n",
       "4    http://gdimg.gmarket.co.kr/2514963907/still/30...  \n",
       "..                                                 ...  \n",
       "195  http://gdimg.gmarket.co.kr/1829738400/still/30...  \n",
       "196  http://gdimg.gmarket.co.kr/2007982106/still/30...  \n",
       "197  http://gdimg.gmarket.co.kr/1692723853/still/30...  \n",
       "198  http://gdimg.gmarket.co.kr/1899274105/still/30...  \n",
       "199  http://gdimg.gmarket.co.kr/1787483503/still/30...  \n",
       "\n",
       "[200 rows x 4 columns]"
      ]
     },
     "execution_count": 5,
     "metadata": {},
     "output_type": "execute_result"
    }
   ],
   "source": [
    "dt = BeautifulSoup(response.text, 'html.parser')\n",
    "dt\n",
    "\n",
    "elements = dt.select('#gBestWrap > div > div:nth-child(5) > div > ul > li')\n",
    "\n",
    "items = []\n",
    "for e in elements:\n",
    "    item = {\n",
    "        'title': e.select_one('.itemname').text\n",
    "        , 'o-price': e.select_one('.o-price').text.replace(',','').replace('원','')\n",
    "        , 's-price': e.select_one('.s-price > strong').text.replace(',','').replace('원','')\n",
    "        , 'img': 'http:' + e.select_one('img').get('data-original')\n",
    "    }\n",
    "    \n",
    "    items.append(item)\n",
    "    \n",
    "df = pd.DataFrame(items)\n",
    "\n",
    "\n",
    "def typeInt(data):\n",
    "    if data == '':\n",
    "        return 0\n",
    "    else:\n",
    "        return int(data)\n",
    "    \n",
    "    \n",
    "    \n",
    "# df['o-price'] = df['o-price'].apply(typeInt(data))\n",
    "df['s-price'] = df['s-price'].apply(lambda data:int(data))\n",
    "\n",
    "df.to_csv('../csv/gmarket.csv')\n",
    "\n",
    "\n",
    "df"
   ]
  },
  {
   "cell_type": "markdown",
   "metadata": {},
   "source": [
    "### G마켓 이미지 다운로드"
   ]
  },
  {
   "cell_type": "code",
   "execution_count": 7,
   "metadata": {},
   "outputs": [
    {
     "name": "stdout",
     "output_type": "stream",
     "text": [
      "     Unnamed: 0                                  title  o-price  s-price  \\\n",
      "0             0       3900원 균일가 시즌오프 블라우스/티셔츠/원피스/팬츠 外  13000.0     3900   \n",
      "1             1                         청정우 양지 300gX3팩  31800.0    15900   \n",
      "2             2         [한상궁김치]한상궁김치 국산 겉절이 2kg 출고당일생산      NaN    15900   \n",
      "3             3  [키스포]12%쿠폰 아동 주니어 여름 클리어런스+가을 프리뷰 모음전  22000.0     6600   \n",
      "4             4        DCOVERS/디커버스/반팔티/티셔츠/여성/남자/빅사이즈  26300.0     7900   \n",
      "..          ...                                    ...      ...      ...   \n",
      "195         195        [게스]누구나 22% 게스 여름 티셔츠/데님 파이널 세일  56000.0    17000   \n",
      "196         196                      [스파클]스파클생수 2L 30병      NaN    15900   \n",
      "197         197  [G7]베트남 G7 블랙 2g x 200입 (무료배송+랜덤 사은품)  19900.0    13500   \n",
      "198         198       [미래생활]순수PURE천연펄프 25m 30롤 x 3팩 휴지  31900.0    28900   \n",
      "199         199                 탑모델 여름신상 BEST 특가+10%쿠폰  32900.0     9900   \n",
      "\n",
      "                                                   img  \n",
      "0    http://gdimg.gmarket.co.kr/2266434001/still/30...  \n",
      "1    http://gdimg.gmarket.co.kr/1587075039/still/30...  \n",
      "2    http://gdimg.gmarket.co.kr/1798110680/still/30...  \n",
      "3    http://gdimg.gmarket.co.kr/336394693/still/300...  \n",
      "4    http://gdimg.gmarket.co.kr/2514963907/still/30...  \n",
      "..                                                 ...  \n",
      "195  http://gdimg.gmarket.co.kr/1829738400/still/30...  \n",
      "196  http://gdimg.gmarket.co.kr/2007982106/still/30...  \n",
      "197  http://gdimg.gmarket.co.kr/1692723853/still/30...  \n",
      "198  http://gdimg.gmarket.co.kr/1899274105/still/30...  \n",
      "199  http://gdimg.gmarket.co.kr/1787483503/still/30...  \n",
      "\n",
      "[200 rows x 5 columns]\n"
     ]
    },
    {
     "data": {
      "image/png": "[encoded data removed]",
      "text/plain": [
       "<PIL.JpegImagePlugin.JpegImageFile image mode=RGB size=300x300>"
      ]
     },
     "execution_count": 7,
     "metadata": {},
     "output_type": "execute_result"
    }
   ],
   "source": [
    "import pandas as pd\n",
    "import requests, json, os\n",
    "from PIL import Image as pil\n",
    "\n",
    "\n",
    "### G마켓 이미지\n",
    "# csv 파일 불러오기\n",
    "df = pd.read_csv('../csv/gmarket.csv')\n",
    "print(df)\n",
    "\n",
    "# 디렉토리 생성\n",
    "folder = '../Gmarket_img'\n",
    "if not os.path.exists(folder):\n",
    "    os.makedirs(folder)\n",
    "    \n",
    "\n",
    "# 이미지 다운로드\n",
    "# img_link = df.loc[0, 'img']\n",
    "\n",
    "# response = requests.get(img_link)\n",
    "# with open(f'{folder}/img01.png', 'wb') as file:\n",
    "    # file.write(response.content)\n",
    "\n",
    "# enumerate 하는 경우 컬럼을 불러옴\n",
    "for idx, data in df[3:5].iterrows():\n",
    "    filename = \"0\" * (3 - len(str(idx))) + str(idx) + \".png\"\n",
    "    \n",
    "    response = requests.get(data[\"img\"])\n",
    "    \n",
    "    with open(f'{folder}/{filename}', 'wb') as file:\n",
    "        file.write(response.content)\n",
    "\n",
    "pil.open(f\"{folder}/003.png\")"
   ]
  },
  {
   "cell_type": "code",
   "execution_count": 8,
   "metadata": {},
   "outputs": [
    {
     "name": "stderr",
     "output_type": "stream",
     "text": [
      "[ProfileCreate] Generating default config file: WindowsPath('C:/Users/User/.ipython/profile_default/ipython_config.py')\n",
      "[ProfileCreate] Generating default config file: WindowsPath('C:/Users/User/.ipython/profile_default/ipython_kernel_config.py')\n"
     ]
    }
   ],
   "source": [
    "!ipython profile create"
   ]
  },
  {
   "cell_type": "code",
   "execution_count": 9,
   "metadata": {},
   "outputs": [
    {
     "name": "stdout",
     "output_type": "stream",
     "text": [
      " C ����̺��� �������� �̸��� �����ϴ�.\n",
      " ���� �Ϸ� ��ȣ: 7C6C-FC35\n",
      "\n",
      " C:\\Users\\User\\.ipython\\profile_default\\startup ���͸�\n",
      "\n",
      "2022-08-01  ���� 10:03    <DIR>          .\n",
      "2022-08-01  ���� 10:03    <DIR>          ..\n",
      "2022-08-01  ���� 10:03               371 README\n",
      "               1�� ����                 371 ����Ʈ\n",
      "               2�� ���͸�  109,541,969,920 ����Ʈ ����\n"
     ]
    }
   ],
   "source": [
    "!dir C:\\Users\\User\\.ipython\\profile_default\\startup"
   ]
  },
  {
   "cell_type": "code",
   "execution_count": null,
   "metadata": {},
   "outputs": [],
   "source": []
  },
  {
   "cell_type": "markdown",
   "metadata": {},
   "source": [
    "### selenium\n",
    " : 브라우저의 자동화 목적으로 만들어진 다양한 브라우저와 언어를 지원하는 라이브러리"
   ]
  },
  {
   "cell_type": "code",
   "execution_count": null,
   "metadata": {},
   "outputs": [],
   "source": [
    "from selenium import webdriver\n",
    "from selenium.webdriver.common.by import By\n",
    "\n",
    "driver_path = 'C:/Users/User/Desktop/driver/chromedriver.exe'\n",
    "# chrome 실행\n",
    "\n",
    "# 브라우저 화면 없는 데이터 수집\n",
    "options = webdriver.ChromeOptions()\n",
    "options.add_argument('headless')\n",
    "\n",
    "driver = webdriver.Chrome(driver_path, options=options)\n",
    "\n",
    "# 페이지 이동\n",
    "driver.get(\"https://daum.net\")\n",
    "\n",
    "# 페이지 사이즈\n",
    "driver.set_window_size(200,600)\n",
    "\n",
    "# 페이지 스크롤 조절 : 자바스크립트 코드\n",
    "driver.execute_script(\"window.scrollTo(200,300)\") \n",
    "\n",
    "# alert\n",
    "# driver.execute_script(\"alert('hellow selenium!'\")\n",
    "\n",
    "driver.execute_script(\"window.scrollTo(0,0)\") \n",
    "\n",
    "# input 문자열 입력\n",
    "driver.find_element(By.CSS_SELECTOR, '#q').send_keys('pythone')\n",
    "\n",
    "# 검색 버튼 클릭\n",
    "driver.find_element(By.CSS_SELECTOR, '#daumSearch > fieldset > div > div > button.ico_pctop.btn_search').click()\n",
    "\n",
    "# 브라우저 종료\n",
    "driver.quit()\n",
    "\n"
   ]
  },
  {
   "cell_type": "code",
   "execution_count": null,
   "metadata": {},
   "outputs": [],
   "source": [
    "def selenium_not_quit(drivePath, url):\n",
    "    # chrome 실행\n",
    "    driver = webdriver.Chrome(drivePath)\n",
    "    # 페이지 이동\n",
    "    driver.get(url)\n",
    "\n",
    "    # By.CSS_SELECTOR\n",
    "    sub_title = driver.find_element(By.CSS_SELECTOR, '#banner-secondary').text\n",
    "    \n",
    "    driver.find_element(By.CSS_SELECTOR, \"#languages [lang='ko']\").click()\n",
    "    \n",
    "    # #shoji > div.shoji__door > div > div.main.talks-main\n",
    "    # #browse-results > div.row.row-sm-4up.row-lg-6up.row-skinny > div\n",
    "    elements = driver.find_elements(By.CSS_SELECTOR, '#browse-results > div.row.row-sm-4up.row-lg-6up.row-skinny > div')\n",
    "    \n",
    "    data = []\n",
    "    for element in elements:\n",
    "        data.append({\n",
    "            \"title\": element.find_element(By.CSS_SELECTOR, \"h4 > .ga-link\").text,\n",
    "            \"link\": element.find_element(By.CSS_SELECTOR, \"h4 > .ga-link\").get_attribute(\"href\"),\n",
    "        })\n",
    "    df = pd.DataFrame(data)\n",
    "    df.tail(2)\n",
    "    \n",
    "    print(elements)\n",
    "    \n",
    "    driver.quit()\n",
    "    \n",
    "driver_path = 'C:/Users/User/Desktop/driver/chromedriver.exe'\n",
    "url = \"https://ted.com/talks\"\n",
    "\n",
    "selenium_not_quit(driver_path, url)"
   ]
  },
  {
   "cell_type": "markdown",
   "metadata": {},
   "source": [
    "### 네이버 중고나라"
   ]
  },
  {
   "cell_type": "code",
   "execution_count": 54,
   "metadata": {},
   "outputs": [
    {
     "name": "stderr",
     "output_type": "stream",
     "text": [
      "C:\\Users\\User\\AppData\\Local\\Temp\\ipykernel_21244\\2218574169.py:42: DeprecationWarning: executable_path has been deprecated, please pass in a Service object\n",
      "  driver = webdriver.Chrome(driver_path)\n"
     ]
    },
    {
     "name": "stdout",
     "output_type": "stream",
     "text": [
      "                                          title             writer\n",
      "0    2021 맥북프로 레티나 엠원 m1pro m1max 프로 맥스 14인치 판매        topontopcom\n",
      "1        미개봉/새제품- 맥북 프로 16인치 max cto 모델 판매 합니다.           SSOOOOOZ\n",
      "2                맥북프로 13인치 20년형 / i7 / 32G / 1T             GM앵그리군\n",
      "3                        맥북프로 2016 부품용 으로 판매합니다           90735023\n",
      "4         [매입]고장난 맥북, 노트북, 컴퓨터 선입매입(개인.기업 대량매입)             다사요컴닥터\n",
      "5   2021년 애플 맥북프로 16형 m1 pro 실버 판매 / 신용확실 (미개봉)          firstpray\n",
      "6          16인치 2021 맥북프로 레티나 m1MAX M1PRO S급 판매           FRANKCOM\n",
      "7        [매입] 5분내칼답장 24시간 이온2 플렉스북2 맥북 삼성 lg삽니다  다사요24 01058355451\n",
      "8        [판/교] 맥북프로 2009년 A1286 mid를 11\" 맥북 에어로                서글퍼\n",
      "9          [판매]맥북프로 2019 16인치 i7/16GB/512GB 풀박스              리퍼노트북\n",
      "10        [매입]고장난 맥북, 노트북, 컴퓨터 선입매입(개인.기업 대량매입)             다사요컴닥터\n",
      "11          [풀박] 애플 맥북프로 2019 인텔 16인치 2.3Ghz i9              낯선그림자\n",
      "12                      맥북프로 A1278 부품용 팝니다 2010               민규만세\n",
      "13          [매입]방송출연 전국 노트북 맥북 게이밍 아이맥 등 매입 삽니다               전자마켓\n"
     ]
    }
   ],
   "source": [
    "from selenium import webdriver\n",
    "from selenium.webdriver.common.by import By\n",
    "\n",
    "\n",
    "def selenium_not_quit(driver, url):\n",
    "    driver.get(url)\n",
    "\n",
    "    # 맥북 검색 : #topLayerQueryInput\n",
    "    driver.find_element(By.CSS_SELECTOR, '#topLayerQueryInput').send_keys('맥북')\n",
    "    # 버튼 클릭\n",
    "    # driver.find_element(By.CSS_SELECTOR, '#cafe-search > form > button').click() : 버튼 element 클릭\n",
    "    driver.execute_script('searchBoard();') # 자바스크립트 클릭 이벤트\n",
    "    \n",
    "    ## iframe 검색\n",
    "    # 게시물 : ##main-area > div.article-board.result-board.m-tcol-c > table > tbody > tr:nth-child(1)\n",
    "    # driver.find_elements(By.CSS_SELECTOR, '#main-area > div.article-board.result-board.m-tcol-c > table > tbody > tr') : iframe 이라 검색 안됨\n",
    "    \n",
    "    iframe = driver.find_element(By.CSS_SELECTOR, '#cafe_main')\n",
    "    driver.switch_to.frame(iframe)\n",
    "    elements = driver.find_elements(By.CSS_SELECTOR, '.article-board > table > tbody > tr') # iframe 스위치 후 검색\n",
    "    \n",
    "    # iframe에서 돌아오기\n",
    "    # driver.switch_to.default_content()\n",
    "    \n",
    "    data = []\n",
    "    for e in elements:\n",
    "        tmp = {\n",
    "            'title': e.find_element(By.CSS_SELECTOR, '.article').text\n",
    "            , 'writer': e.find_element(By.CSS_SELECTOR, '.p-nick').text\n",
    "        }\n",
    "        data.append(tmp)\n",
    "    \n",
    "    df = pd.DataFrame(data)\n",
    "    driver.quit()\n",
    "    \n",
    "    return df\n",
    "\n",
    "\n",
    "driver_path = 'C:/Users/User/Desktop/driver/chromedriver.exe'\n",
    "url = 'https://cafe.naver.com/joonggonara'\n",
    "\n",
    "driver = webdriver.Chrome(driver_path)\n",
    "driver.get(url)\n",
    "\n",
    "print(selenium_not_quit(driver, url))\n"
   ]
  },
  {
   "cell_type": "markdown",
   "metadata": {},
   "source": [
    "### xpath"
   ]
  },
  {
   "cell_type": "code",
   "execution_count": 57,
   "metadata": {},
   "outputs": [
    {
     "name": "stdout",
     "output_type": "stream",
     "text": [
      "['삼성전자', 'kt 고객센터', 'kt 인터넷', 'ky', '환율', 'kt 대리점', 'kr', '날씨', 'SKT', 'kt 고객센터 전화번호']\n"
     ]
    }
   ],
   "source": [
    "import scrapy, requests\n",
    "from scrapy.http import TextResponse\n",
    "\n",
    "query = 'kt'\n",
    "url = f'https://search.naver.com/search.naver?where=nexearch&sm=top_hty&fbm=1&ie=utf8&query={query}'\n",
    "\n",
    "response = requests.get(url)\n",
    "doc = TextResponse(response.url, body=response.text, encoding='utf-8')\n",
    "\n",
    "data = doc.xpath('//*[@id=\"nx_footer_related_keywords\"]/div/div[2]/ul/li/a/div/text()').extract()\n",
    "### //*[@id=\"nx_footer_related_keywords\"]/div/div[2]/ul/li[1]/a\n",
    "# // : 최상위 엘리먼트\n",
    "# * : 모든 하위 엘리먼트\n",
    "# [@id=\"nx_footer_related_keywords\"] : 속성값으로 엘리먼트 선택\n",
    "# / : 한단계 하위 엘리먼트\n",
    "# [2] : n 번째 엘리먼트\n",
    "\n",
    "print(data)"
   ]
  },
  {
   "cell_type": "markdown",
   "metadata": {},
   "source": [
    "### "
   ]
  },
  {
   "cell_type": "code",
   "execution_count": 67,
   "metadata": {},
   "outputs": [
    {
     "data": {
      "text/plain": [
       "1"
      ]
     },
     "execution_count": 67,
     "metadata": {},
     "output_type": "execute_result"
    }
   ],
   "source": [
    "class Fibo:\n",
    "    def __init__(self):\n",
    "        self.prev = 0\n",
    "        self.curr = 1\n",
    "        \n",
    "    def __iter__(self):\n",
    "        return self\n",
    "    \n",
    "    def __next__(self):\n",
    "        value = self.curr\n",
    "        self.curr += self.prev\n",
    "        self.prev = value\n",
    "        \n",
    "        return value\n",
    "    "
   ]
  },
  {
   "cell_type": "code",
   "execution_count": 68,
   "metadata": {},
   "outputs": [
    {
     "data": {
      "text/plain": [
       "1"
      ]
     },
     "execution_count": 68,
     "metadata": {},
     "output_type": "execute_result"
    }
   ],
   "source": [
    "fibo = Fibo()\n",
    "type(fibo)"
   ]
  },
  {
   "cell_type": "code",
   "execution_count": 73,
   "metadata": {},
   "outputs": [
    {
     "data": {
      "text/plain": [
       "8"
      ]
     },
     "execution_count": 73,
     "metadata": {},
     "output_type": "execute_result"
    }
   ],
   "source": [
    "next(fibo)"
   ]
  },
  {
   "cell_type": "code",
   "execution_count": 74,
   "metadata": {},
   "outputs": [
    {
     "name": "stdout",
     "output_type": "stream",
     "text": [
      "New Scrapy project 'gmarket', using template directory 'C:\\Users\\User\\AppData\\Local\\Programs\\Python\\Python39\\lib\\site-packages\\scrapy\\templates\\project', created in:\n",
      "    c:\\Users\\User\\Desktop\\python\\Class\\gmarket\n",
      "\n",
      "You can start your first spider with:\n",
      "    cd gmarket\n",
      "    scrapy genspider example example.com\n"
     ]
    }
   ],
   "source": [
    "# !scrapy startproject gmarket"
   ]
  },
  {
   "cell_type": "code",
   "execution_count": 75,
   "metadata": {},
   "outputs": [],
   "source": [
    "url = 'http://corners.gmarket.co.kr/Bestsellers'\n",
    "\n",
    "request = requests.get(url)\n",
    "response = TextResponse(request.url, body=request.text, encoding='utf-8')"
   ]
  },
  {
   "cell_type": "code",
   "execution_count": 82,
   "metadata": {},
   "outputs": [
    {
     "data": {
      "text/plain": [
       "['http://item.gmarket.co.kr/Item?goodscode=2519604129&ver=637953125821156116',\n",
       " 'http://item.gmarket.co.kr/Item?goodscode=2520466046&ver=637953125821156116']"
      ]
     },
     "execution_count": 82,
     "metadata": {},
     "output_type": "execute_result"
    }
   ],
   "source": [
    "# 속성값 @ 사용\n",
    "links = response.xpath('//*[@id=\"gBestWrap\"]/div/div[3]/div/ul/li/a/@href').extract()\n",
    "links[:2]"
   ]
  },
  {
   "cell_type": "code",
   "execution_count": 92,
   "metadata": {},
   "outputs": [
    {
     "data": {
      "text/plain": [
       "('브라운 면도기 세정액 CCR5+1 ', '25030')"
      ]
     },
     "execution_count": 92,
     "metadata": {},
     "output_type": "execute_result"
    }
   ],
   "source": [
    "l = links[0]\n",
    "\n",
    "request_item = requests.get(l)\n",
    "response_item = TextResponse(request_item.url, body=request_item.text, encoding='utf-8')\n",
    "\n",
    "title = response_item.xpath('//*[@id=\"itemcase_basic\"]/div/h1/text()')[0].extract()\n",
    "price = response_item.xpath('//*[@id=\"itemcase_basic\"]/div/p/span/strong/text()')[0].extract().replace(',','')\n",
    "\n",
    "title, price"
   ]
  },
  {
   "cell_type": "code",
   "execution_count": null,
   "metadata": {},
   "outputs": [],
   "source": []
  }
 ],
 "metadata": {
  "kernelspec": {
   "display_name": "Python 3.9.13 64-bit",
   "language": "python",
   "name": "python3"
  },
  "language_info": {
   "codemirror_mode": {
    "name": "ipython",
    "version": 3
   },
   "file_extension": ".py",
   "mimetype": "text/x-python",
   "name": "python",
   "nbconvert_exporter": "python",
   "pygments_lexer": "ipython3",
   "version": "3.9.13"
  },
  "orig_nbformat": 4,
  "vscode": {
   "interpreter": {
    "hash": "cf92aa13fedf815d5c8dd192b8d835913fde3e8bc926b2a0ad6cc74ef2ba3ca2"
   }
  }
 },
 "nbformat": 4,
 "nbformat_minor": 2
}
