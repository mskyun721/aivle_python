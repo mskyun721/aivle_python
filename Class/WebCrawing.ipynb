{
 "cells": [
  {
   "cell_type": "markdown",
   "metadata": {},
   "source": [
    "# Web Crawing\n",
    " : 웹페이지 데이터 수집"
   ]
  },
  {
   "cell_type": "markdown",
   "metadata": {},
   "source": [
    "## 크롤링 방법\n",
    " - requests package\n",
    "    - json 문자열 파싱 (동적 크롤링에 주로 사용)\n",
    "    - html 문자열 파싱 (정적 크롤링에 주로 사용)"
   ]
  },
  {
   "cell_type": "code",
   "execution_count": 10,
   "metadata": {},
   "outputs": [],
   "source": [
    "import requests, json\n",
    "import pandas as pd"
   ]
  },
  {
   "cell_type": "markdown",
   "metadata": {},
   "source": [
    "##### 1. 실습 ( 웹서비스 분석 : 크롬 개발자 도구 url )\n",
    " - 코스피 url : https://m.stock.naver.com/api/index/KOSPI/price?pageSize=10&page=3"
   ]
  },
  {
   "cell_type": "code",
   "execution_count": 11,
   "metadata": {},
   "outputs": [
    {
     "name": "stdout",
     "output_type": "stream",
     "text": [
      "<Response [200]>\n"
     ]
    }
   ],
   "source": [
    "url = 'https://m.stock.naver.com/api/index/KOSPI/price?pageSize=10&page=3'\n",
    "response = requests.get(url)\n",
    "\n",
    "print(response) # <Response [200]> : response status"
   ]
  },
  {
   "cell_type": "code",
   "execution_count": 12,
   "metadata": {},
   "outputs": [
    {
     "name": "stdout",
     "output_type": "stream",
     "text": [
      "<class 'str'>\n",
      "\n",
      "[{\"localTradedAt\":\"2022-07-06\",\"closePrice\":\"2,292.01\",\"compareToPreviousClosePrice\":\"-49.77\",\"compareToPreviousPrice\":{\"code\":\"5\",\"text\":\"하락\",\"name\":\"FALLING\"},\"fluctuationsRatio\":\"-2.13\",\"openPrice\":\"2,330.11\",\"highPrice\":\"2,332.14\",\"lowPrice\":\"2,290.33\"},{\"localTradedAt\":\"2022-07-05\",\"closePrice\":\"2,341.78\",\"compareToPreviousClosePrice\":\"41.44\",\"compareToPreviousPrice\":{\"code\":\"2\",\"text\":\"상승\",\"name\":\"RISING\"},\"fluctuationsRatio\":\"1.80\",\"openPrice\":\"2,322.11\",\"highPrice\":\"2,344.08\",\"lowPrice\":\"2,309.62\"},{\"localTradedAt\":\"2022-07-04\",\"closePrice\":\"2,300.34\",\"compareToPreviousClosePrice\":\"-5.08\",\"compareToPreviousPrice\":{\"code\":\"5\",\"text\":\"하락\",\"name\":\"FALLING\"},\"fluctuationsRatio\":\"-0.22\",\"openPrice\":\"2,310.73\",\"highPrice\":\"2,318.31\",\"lowPrice\":\"2,276.63\"},{\"localTradedAt\":\"2022-07-01\",\"closePrice\":\"2,305.42\",\"compareToPreviousClosePrice\":\"-27.22\",\"compareToPreviousPrice\":{\"code\":\"5\",\"text\":\"하락\",\"name\":\"FALLING\"},\"fluctuationsRatio\":\"-1.17\",\"openPrice\":\"2,342.92\",\"highPrice\":\"2,354.97\",\"lowPrice\":\"2,291.49\"},{\"localTradedAt\":\"2022-06-30\",\"closePrice\":\"2,332.64\",\"compareToPreviousClosePrice\":\"-45.35\",\"compareToPreviousPrice\":{\"code\":\"5\",\"text\":\"하락\",\"name\":\"FALLING\"},\"fluctuationsRatio\":\"-1.91\",\"openPrice\":\"2,368.57\",\"highPrice\":\"2,368.57\",\"lowPrice\":\"2,332.59\"},{\"localTradedAt\":\"2022-06-29\",\"closePrice\":\"2,377.99\",\"compareToPreviousClosePrice\":\"-44.10\",\"compareToPreviousPrice\":{\"code\":\"5\",\"text\":\"하락\",\"name\":\"FALLING\"},\"fluctuationsRatio\":\"-1.82\",\"openPrice\":\"2,387.10\",\"highPrice\":\"2,393.25\",\"lowPrice\":\"2,375.45\"},{\"localTradedAt\":\"2022-06-28\",\"closePrice\":\"2,422.09\",\"compareToPreviousClosePrice\":\"20.17\",\"compareToPreviousPrice\":{\"code\":\"2\",\"text\":\"상승\",\"name\":\"RISING\"},\"fluctuationsRatio\":\"0.84\",\"openPrice\":\"2,405.20\",\"highPrice\":\"2,422.10\",\"lowPrice\":\"2,393.96\"},{\"localTradedAt\":\"2022-06-27\",\"closePrice\":\"2,401.92\",\"compareToPreviousClosePrice\":\"35.32\",\"compareToPreviousPrice\":{\"code\":\"2\",\"text\":\"상승\",\"name\":\"RISING\"},\"fluctuationsRatio\":\"1.49\",\"openPrice\":\"2,383.20\",\"highPrice\":\"2,418.94\",\"lowPrice\":\"2,365.86\"},{\"localTradedAt\":\"2022-06-24\",\"closePrice\":\"2,366.60\",\"compareToPreviousClosePrice\":\"52.28\",\"compareToPreviousPrice\":{\"code\":\"2\",\"text\":\"상승\",\"name\":\"RISING\"},\"fluctuationsRatio\":\"2.26\",\"openPrice\":\"2,327.11\",\"highPrice\":\"2,373.48\",\"lowPrice\":\"2,319.99\"},{\"localTradedAt\":\"2022-06-23\",\"closePrice\":\"2,314.32\",\"compareToPreviousClosePrice\":\"-28.49\",\"compareToPreviousPrice\":{\"code\":\"5\",\"text\":\"하락\",\"name\":\"FALLING\"},\"fluctuationsRatio\":\"-1.22\",\"openPrice\":\"2,347.84\",\"highPrice\":\"2,361.23\",\"lowPrice\":\"2,306.48\"}]\n",
      "\n",
      "[{\"localTradedAt\":\"2022-07-06\",\"closePrice\":\"2,292.01\",\"compareToPreviousClosePrice\":\"-49.77\",\"compareToPreviousPrice\":{\"code\":\"5\",\"text\":\"하락\",\"name\":\"FALLING\"},\"fluctuationsRatio\":\"-2.13\",\"openPrice\"\n"
     ]
    }
   ],
   "source": [
    "# request -> string (response)\n",
    "print(type(response.text)) # string\n",
    "print()\n",
    "print(response.text)\n",
    "print()\n",
    "print(response.text[:200])"
   ]
  },
  {
   "cell_type": "code",
   "execution_count": 13,
   "metadata": {},
   "outputs": [
    {
     "name": "stdout",
     "output_type": "stream",
     "text": [
      "<class 'list'>\n",
      "\n",
      "[{'localTradedAt': '2022-07-06', 'closePrice': '2,292.01', 'compareToPreviousClosePrice': '-49.77', 'compareToPreviousPrice': {'code': '5', 'text': '하락', 'name': 'FALLING'}, 'fluctuationsRatio': '-2.13', 'openPrice': '2,330.11', 'highPrice': '2,332.14', 'lowPrice': '2,290.33'}, {'localTradedAt': '2022-07-05', 'closePrice': '2,341.78', 'compareToPreviousClosePrice': '41.44', 'compareToPreviousPrice': {'code': '2', 'text': '상승', 'name': 'RISING'}, 'fluctuationsRatio': '1.80', 'openPrice': '2,322.11', 'highPrice': '2,344.08', 'lowPrice': '2,309.62'}, {'localTradedAt': '2022-07-04', 'closePrice': '2,300.34', 'compareToPreviousClosePrice': '-5.08', 'compareToPreviousPrice': {'code': '5', 'text': '하락', 'name': 'FALLING'}, 'fluctuationsRatio': '-0.22', 'openPrice': '2,310.73', 'highPrice': '2,318.31', 'lowPrice': '2,276.63'}, {'localTradedAt': '2022-07-01', 'closePrice': '2,305.42', 'compareToPreviousClosePrice': '-27.22', 'compareToPreviousPrice': {'code': '5', 'text': '하락', 'name': 'FALLING'}, 'fluctuationsRatio': '-1.17', 'openPrice': '2,342.92', 'highPrice': '2,354.97', 'lowPrice': '2,291.49'}, {'localTradedAt': '2022-06-30', 'closePrice': '2,332.64', 'compareToPreviousClosePrice': '-45.35', 'compareToPreviousPrice': {'code': '5', 'text': '하락', 'name': 'FALLING'}, 'fluctuationsRatio': '-1.91', 'openPrice': '2,368.57', 'highPrice': '2,368.57', 'lowPrice': '2,332.59'}, {'localTradedAt': '2022-06-29', 'closePrice': '2,377.99', 'compareToPreviousClosePrice': '-44.10', 'compareToPreviousPrice': {'code': '5', 'text': '하락', 'name': 'FALLING'}, 'fluctuationsRatio': '-1.82', 'openPrice': '2,387.10', 'highPrice': '2,393.25', 'lowPrice': '2,375.45'}, {'localTradedAt': '2022-06-28', 'closePrice': '2,422.09', 'compareToPreviousClosePrice': '20.17', 'compareToPreviousPrice': {'code': '2', 'text': '상승', 'name': 'RISING'}, 'fluctuationsRatio': '0.84', 'openPrice': '2,405.20', 'highPrice': '2,422.10', 'lowPrice': '2,393.96'}, {'localTradedAt': '2022-06-27', 'closePrice': '2,401.92', 'compareToPreviousClosePrice': '35.32', 'compareToPreviousPrice': {'code': '2', 'text': '상승', 'name': 'RISING'}, 'fluctuationsRatio': '1.49', 'openPrice': '2,383.20', 'highPrice': '2,418.94', 'lowPrice': '2,365.86'}, {'localTradedAt': '2022-06-24', 'closePrice': '2,366.60', 'compareToPreviousClosePrice': '52.28', 'compareToPreviousPrice': {'code': '2', 'text': '상승', 'name': 'RISING'}, 'fluctuationsRatio': '2.26', 'openPrice': '2,327.11', 'highPrice': '2,373.48', 'lowPrice': '2,319.99'}, {'localTradedAt': '2022-06-23', 'closePrice': '2,314.32', 'compareToPreviousClosePrice': '-28.49', 'compareToPreviousPrice': {'code': '5', 'text': '하락', 'name': 'FALLING'}, 'fluctuationsRatio': '-1.22', 'openPrice': '2,347.84', 'highPrice': '2,361.23', 'lowPrice': '2,306.48'}]\n"
     ]
    }
   ],
   "source": [
    "# response -> list (data)\n",
    "data = response.json()\n",
    "print(type(data)) # list\n",
    "print()\n",
    "print(data)"
   ]
  },
  {
   "cell_type": "code",
   "execution_count": null,
   "metadata": {},
   "outputs": [],
   "source": [
    "# data -> DataFrame (df)\n",
    "df = pd.DataFrame(data)[['localTradedAt', 'closePrice']]\n",
    "print(df.dtypes)\n",
    "print()\n",
    "print(df)"
   ]
  },
  {
   "cell_type": "code",
   "execution_count": null,
   "metadata": {},
   "outputs": [],
   "source": [
    "# 함수 생성\n",
    "def stock_crawling(pagesize, page, code='KOSPI'):\n",
    "    \"\"\"stock page crawling\n",
    "\n",
    "    Args:\n",
    "        pagesize (int): page size\n",
    "        page (int): page number\n",
    "        code (str, optional): KOSPI / KOSDAQ. Defaults to 'KOSPI'.\n",
    "\n",
    "    Returns:\n",
    "        DataFrame : 'localTradedAt', 'closePrice'\n",
    "    \"\"\"\n",
    "    \n",
    "    url = f'https://m.stock.naver.com/api/index/{code}/price?pageSize={pagesize}&page={page}'\n",
    "    response = requests.get(url)\n",
    "    data = response.json()\n",
    "    df = pd.DataFrame(data)[['localTradedAt', 'closePrice']]\n",
    "    \n",
    "    return df\n"
   ]
  },
  {
   "cell_type": "markdown",
   "metadata": {},
   "source": [
    " - 코스닥 url : https://m.stock.naver.com/api/index/KOSDAQ/price?pageSize=10&page=2"
   ]
  },
  {
   "cell_type": "code",
   "execution_count": null,
   "metadata": {},
   "outputs": [],
   "source": [
    "url = 'https://m.stock.naver.com/api/index/KOSDAQ/price?pageSize=10&page=2'\n",
    "response = requests.get(url)\n",
    "data = response.json()\n",
    "df = pd.DataFrame(data)[[\"localTradedAt\", \"closePrice\"]]\n",
    "\n",
    "print(df)\n",
    "\n",
    "print(stock_crawling(10,2,'KOSDAQ'))"
   ]
  },
  {
   "cell_type": "markdown",
   "metadata": {},
   "source": [
    " - 환율 ( 달러 ) url : https://api.stock.naver.com/marketindex/exchange/FX_USDKRW/prices?page=3&pageSize=10"
   ]
  },
  {
   "cell_type": "code",
   "execution_count": null,
   "metadata": {},
   "outputs": [],
   "source": [
    "url = 'https://api.stock.naver.com/marketindex/exchange/FX_USDKRW/prices?page=3&pageSize=10'\n",
    "response = requests.get(url)\n",
    "data = response.json()\n",
    "df = pd.DataFrame(data)[[\"localTradedAt\", \"closePrice\"]]\n",
    "\n",
    "print(df)\n",
    "\n",
    "def exchange_crawling(pagesize, page, code='FX_USDKRW'):\n",
    "    \"\"\"money exchange\n",
    "\n",
    "    Args:\n",
    "        pagesize (int): page size\n",
    "        page (int): page number\n",
    "        code (str, optional): FX_USDKRW, FX_EURKRW, FX_JPYKRW, FX_CNYKRW, each. Defaults to 'FX_USDKRW'.\n",
    "\n",
    "    Returns:\n",
    "        _DataFrame : 'localTradedAt', 'closePrice'\n",
    "    \"\"\"\n",
    "    \n",
    "    url = f'https://api.stock.naver.com/marketindex/exchange/{code}/prices?page={page}&pageSize={pagesize}'\n",
    "    response = requests.get(url)\n",
    "    data = response.json()\n",
    "    df = pd.DataFrame(data)[['localTradedAt', 'closePrice']]\n",
    "    \n",
    "    return df\n",
    "\n",
    "print(exchange_crawling(10,1))"
   ]
  },
  {
   "cell_type": "markdown",
   "metadata": {},
   "source": [
    "### 데이터 분석 : 상관관계\n",
    " - 피어슨 상관계수\n",
    "    - 1과 가까울수록 강한 양의 상관관계를 갖는다.\n",
    "    - -1과 가까울수록 강한 음의 상관계를 갖는다.\n",
    "    - 0과 가까울수록 관계가 없다.\n",
    "    - pandas 함수 df.corr()\n",
    "\n",
    "ex) 달러 환율과 주가 지수의 관계"
   ]
  },
  {
   "cell_type": "code",
   "execution_count": null,
   "metadata": {},
   "outputs": [],
   "source": [
    "kospi = stock_crawling(60, 1)\n",
    "kosdaq = stock_crawling(60, 1, 'KOSDAQ')\n",
    "usd = exchange_crawling(60,1)\n",
    "\n",
    "df = kospi.copy()\n",
    "df['kosdaq'] = kosdaq[\"closePrice\"]\n",
    "df['usd'] = usd[\"closePrice\"]\n",
    "df.rename(columns={'closePrice': 'kospi'},\n",
    "          inplace=True)\n",
    "\n",
    "print(df.dtypes)\n",
    "print()\n",
    "# 데이터타입 변경 str -> int\n",
    "df['kospi'] = df['kospi'].apply(lambda data:float(data.replace(',','')))\n",
    "df['kosdaq'] = df['kosdaq'].apply(lambda data:float(data.replace(',','')))\n",
    "df['usd'] = df['usd'].apply(lambda data:float(data.replace(',','')))\n",
    "print(df.dtypes)\n",
    "print()\n",
    "\n",
    "print(df[['kospi', 'kosdaq', 'usd']].corr())\n",
    "\n"
   ]
  },
  {
   "cell_type": "code",
   "execution_count": null,
   "metadata": {},
   "outputs": [],
   "source": [
    "# apply(func)\n",
    "df = pd.DataFrame([{\"age\": 23}, {\"age\": 36}, {\"age\": 27}])\n",
    "\n",
    "# 연령대 컬럼을 추가 \n",
    "def change_ages(age): \n",
    "    return age // 10 * 10\n",
    "\n",
    "df[\"ages\"] = df[\"age\"].apply(change_ages)\n",
    "print(df)\n",
    "print()"
   ]
  },
  {
   "cell_type": "code",
   "execution_count": null,
   "metadata": {},
   "outputs": [],
   "source": [
    "### lambda : 일회성 함수\n",
    "###     - 사용 이유 : 메모리 절약, 간단한 함수 (파라미터를 받아서 바로 리턴)\n",
    "\n",
    "# 함수 3개 사용 ( 메모리 3개 사용 )\n",
    "def plus(n1,n2):\n",
    "    return n1+n2\n",
    "\n",
    "def minus(n1,n2):\n",
    "    return n1-n2\n",
    "\n",
    "def calc(func, n1, n2):\n",
    "    return func(n1, n2)\n",
    "\n",
    "print('def : plus, minus, calc')\n",
    "print(calc(plus, 1,2))\n",
    "print(calc(minus, 1,2))\n",
    "print()\n",
    "\n",
    "# lambda parmeter : return\n",
    "print('lambda : calc')\n",
    "print(calc(lambda n1, n2: n1+n2, 1, 2))\n",
    "print(calc(lambda n1, n2: n1-n2, 1, 2))\n"
   ]
  },
  {
   "cell_type": "markdown",
   "metadata": {},
   "source": [
    "### API 데이터 수집\n",
    " - application programing interface\n",
    " - api를 사용해서 데이터를 수집하는 것은 서비스에 데이터를 제공하는 공식적인 방법으로 데이터 수집\n",
    "\n",
    "ex) naver api( 파파고 )"
   ]
  },
  {
   "cell_type": "code",
   "execution_count": 67,
   "metadata": {},
   "outputs": [
    {
     "name": "stdout",
     "output_type": "stream",
     "text": [
      "<Response [200]>\n",
      "\n",
      "Hello. Nice to meet you. Thank you.\n"
     ]
    }
   ],
   "source": [
    "import pandas as pd\n",
    "import requests, json\n",
    "\n",
    "# 1. app 등록 > app_key(request_token)\n",
    "# https://developers.naver.com\n",
    "CLIENT_ID, CLIENT_SECRET = \"Y7kkW5s3waqiGemisIDm\", \"O0iVtJhKyp\"\n",
    "\n",
    "# 2. Naver API document 확인 > URL\n",
    "# https://openapi.naver.com/v1/papago/n2mt\n",
    "url = 'https://openapi.naver.com/v1/papago/n2mt'\n",
    "txt = '안녕하세요. 반갑습니다. 감사합니다.'\n",
    "params = {\n",
    "    'source': 'ko',\n",
    "    'target': 'en',\n",
    "    'text':txt\n",
    "}\n",
    "headers = {\n",
    "    \"Content-Type\": \"application/json\",\n",
    "    \"X-Naver-Client-Id\": CLIENT_ID,\n",
    "    \"X-Naver-Client-Secret\": CLIENT_SECRET\n",
    "}\n",
    "# 3. request(url, app_key) > json(str)\n",
    "ppg_response = requests.post(url, json.dumps(params), headers=headers)\n",
    "print(ppg_response)\n",
    "print()\n",
    "\n",
    "# 4. json > list, dict > dataframe\n",
    "txt_en = ppg_response.json()[\"message\"][\"result\"][\"translatedText\"]\n",
    "print(txt_en)"
   ]
  },
  {
   "cell_type": "markdown",
   "metadata": {},
   "source": [
    "- selenium"
   ]
  },
  {
   "cell_type": "code",
   "execution_count": 68,
   "metadata": {},
   "outputs": [
    {
     "name": "stdout",
     "output_type": "stream",
     "text": [
      "Crawling study\n"
     ]
    }
   ],
   "source": [
    "# 파파고 함수\n",
    "def ppg_translate(id,pw,txt,fromNa='ko', toNa='en'):\n",
    "    \"\"\"naver papago translate api\n",
    "\n",
    "    Args:\n",
    "        id (str): naver api id\n",
    "        pw (str): naver api secret_\n",
    "        txt (str): befor translate text\n",
    "        fromNa (str, optional): . Defaults to 'ko'.\n",
    "        toNa (str, optional): . Defaults to 'en'.\n",
    "\n",
    "    Returns:\n",
    "        _type_: DataFrame, after translate text\n",
    "    \"\"\"\n",
    "    \n",
    "    params = {\n",
    "        'source': fromNa,\n",
    "        'target': toNa,\n",
    "        'text':txt\n",
    "    }\n",
    "    \n",
    "    headers = {\n",
    "        \"Content-Type\": \"application/json\",\n",
    "        \"X-Naver-Client-Id\": id,\n",
    "        \"X-Naver-Client-Secret\": pw\n",
    "    }\n",
    "    response = requests.post('https://openapi.naver.com/v1/papago/n2mt', json.dumps(params), headers=headers)\n",
    "    \n",
    "    return response.json()[\"message\"][\"result\"][\"translatedText\"]\n",
    "\n",
    "print(ppg_translate(CLIENT_ID, CLIENT_SECRET, '크롤링 공부'))"
   ]
  },
  {
   "cell_type": "code",
   "execution_count": 8,
   "metadata": {},
   "outputs": [
    {
     "name": "stdout",
     "output_type": "stream",
     "text": [
      "   category                                title  \\\n",
      "0       101    SK바이오사이언스, 코로나19 백신 임상 3상 시험계획 제출   \n",
      "1       102             고양시 노래연습장 코로나19 누적확진 41명   \n",
      "2       103        코로나19 신규 감염, 28일 오후 9시까지 542명   \n",
      "3       103            프로야구 수도권 구단서 코로나19 확진자 발생   \n",
      "4       104    \"코로나 확진자 '0명'인 날은 절대 오지 않는다\" 美전문가   \n",
      "5       104  올림픽 다가오는데 도쿄 코로나 확산 빨라져...일주일새 25％↑   \n",
      "\n",
      "                                                  en  \n",
      "0  SK Bioscience Submits Phase III Clinical Trial...  \n",
      "1  41 cumulative COVID-19 confirmed patients at G...  \n",
      "2  New COVID-19 infections, 542 people by 9 p.m. ...  \n",
      "3  Covid-19 confirmed cases in professional baseb...  \n",
      "4  \"The day when there are zero confirmed cases o...  \n",
      "5  As the Olympics are approaching, the spread of...  \n"
     ]
    }
   ],
   "source": [
    "### covid 번역\n",
    "CLIENT_ID, CLIENT_SECRET = \"Y7kkW5s3waqiGemisIDm\", \"O0iVtJhKyp\"\n",
    "\n",
    "def ppg_translate_txt(txt):\n",
    "    \"\"\"naver papago translate api\n",
    "\n",
    "    Args:\n",
    "        txt (str): befor translate text\n",
    "\n",
    "    Returns:\n",
    "        _type_: DataFrame, after translate text\n",
    "    \"\"\"\n",
    "    \n",
    "    params = {\n",
    "        'source': 'ko',\n",
    "        'target': 'en',\n",
    "        'text':txt\n",
    "    }\n",
    "    headers = {\n",
    "        \"Content-Type\": \"application/json\",\n",
    "        \"X-Naver-Client-Id\": CLIENT_ID,\n",
    "        \"X-Naver-Client-Secret\": CLIENT_SECRET\n",
    "    }\n",
    "    \n",
    "    response = requests.post('https://openapi.naver.com/v1/papago/n2mt', json.dumps(params), headers=headers)\n",
    "    \n",
    "    return response.json()[\"message\"][\"result\"][\"translatedText\"]\n",
    "\n",
    "covid = pd.read_excel(\"../excel/covid.xlsx\")[[\"category\", \"title\"]]\n",
    "covid['en'] = covid['title'].apply(ppg_translate_txt)\n",
    "print(covid)\n",
    "# 엑셀 파일 만들기\n",
    "# covid.to_excel('../excel/covid_en.xlsx', index=False, encoding='utf-8-sig')"
   ]
  },
  {
   "cell_type": "code",
   "execution_count": null,
   "metadata": {},
   "outputs": [],
   "source": []
  }
 ],
 "metadata": {
  "kernelspec": {
   "display_name": "Python 3.9.12 ('base')",
   "language": "python",
   "name": "python3"
  },
  "language_info": {
   "codemirror_mode": {
    "name": "ipython",
    "version": 3
   },
   "file_extension": ".py",
   "mimetype": "text/x-python",
   "name": "python",
   "nbconvert_exporter": "python",
   "pygments_lexer": "ipython3",
   "version": "3.9.12"
  },
  "orig_nbformat": 4,
  "vscode": {
   "interpreter": {
    "hash": "5f7678e3cf7566e35dc0bd53f9a2e61d18c90ac4f700ab60c30179035bddd9e2"
   }
  }
 },
 "nbformat": 4,
 "nbformat_minor": 2
}
