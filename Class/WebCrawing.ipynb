{
 "cells": [
  {
   "cell_type": "markdown",
   "metadata": {},
   "source": [
    "# Web Crawing\n",
    " : 웹페이지 데이터 수집"
   ]
  },
  {
   "cell_type": "markdown",
   "metadata": {},
   "source": [
    "## 크롤링 방법"
   ]
  },
  {
   "cell_type": "markdown",
   "metadata": {},
   "source": [
    "##### 크롤링 정책\n",
    "    - robots.txt 파일에 크롤링 정책 설명 : https://www.해당 주소.com/robots.txt\n",
    "    - 크롤링에 대한 법적 제제 없음\n",
    "    - 과도한 크롤링으로 서비스에 영향을 주는 경우 문제가 될 수 있음\n",
    "        - 영업방해, 지적재산권 침해 등 다른 법률에 의해 제재\n",
    "            ex) 사람인/잡코리아(2008 ~ 2018)\n",
    "    - 크롤링을 할때는 되도록 api를 사용"
   ]
  },
  {
   "cell_type": "markdown",
   "metadata": {},
   "source": [
    "- requests package\n",
    "    - json 문자열 파싱 (동적 크롤링에 주로 사용)\n",
    "    - html 문자열 파싱 (정적 크롤링에 주로 사용)"
   ]
  },
  {
   "cell_type": "code",
   "execution_count": null,
   "metadata": {},
   "outputs": [],
   "source": [
    "import requests, json\n",
    "import pandas as pd"
   ]
  },
  {
   "cell_type": "markdown",
   "metadata": {},
   "source": [
    "##### 1. 실습 ( 웹서비스 분석 : 크롬 개발자 도구 url )\n",
    " - 코스피 url : https://m.stock.naver.com/api/index/KOSPI/price?pageSize=10&page=3"
   ]
  },
  {
   "cell_type": "code",
   "execution_count": null,
   "metadata": {},
   "outputs": [],
   "source": [
    "url = 'https://m.stock.naver.com/api/index/KOSPI/price?pageSize=10&page=3'\n",
    "response = requests.get(url)\n",
    "\n",
    "print(response) # <Response [200]> : response status"
   ]
  },
  {
   "cell_type": "code",
   "execution_count": null,
   "metadata": {},
   "outputs": [],
   "source": [
    "# request -> string (response)\n",
    "print(type(response.text)) # string\n",
    "print()\n",
    "print(response.text)\n",
    "print()\n",
    "print(response.text[:200])"
   ]
  },
  {
   "cell_type": "code",
   "execution_count": null,
   "metadata": {},
   "outputs": [],
   "source": [
    "# response -> list (data)\n",
    "data = response.json()\n",
    "print(type(data)) # list\n",
    "print()\n",
    "print(data)"
   ]
  },
  {
   "cell_type": "code",
   "execution_count": null,
   "metadata": {},
   "outputs": [],
   "source": [
    "# data -> DataFrame (df)\n",
    "df = pd.DataFrame(data)[['localTradedAt', 'closePrice']]\n",
    "print(df.dtypes)\n",
    "print()\n",
    "print(df)"
   ]
  },
  {
   "cell_type": "code",
   "execution_count": null,
   "metadata": {},
   "outputs": [],
   "source": [
    "# 함수 생성\n",
    "def stock_crawling(pagesize, page, code='KOSPI'):\n",
    "    \"\"\"stock page crawling\n",
    "\n",
    "    Args:\n",
    "        pagesize (int): page size\n",
    "        page (int): page number\n",
    "        code (str, optional): KOSPI / KOSDAQ. Defaults to 'KOSPI'.\n",
    "\n",
    "    Returns:\n",
    "        DataFrame : 'localTradedAt', 'closePrice'\n",
    "    \"\"\"\n",
    "    \n",
    "    url = f'https://m.stock.naver.com/api/index/{code}/price?pageSize={pagesize}&page={page}'\n",
    "    response = requests.get(url)\n",
    "    data = response.json()\n",
    "    df = pd.DataFrame(data)[['localTradedAt', 'closePrice']]\n",
    "    \n",
    "    return df\n"
   ]
  },
  {
   "cell_type": "markdown",
   "metadata": {},
   "source": [
    " - 코스닥 url : https://m.stock.naver.com/api/index/KOSDAQ/price?pageSize=10&page=2"
   ]
  },
  {
   "cell_type": "code",
   "execution_count": null,
   "metadata": {},
   "outputs": [],
   "source": [
    "url = 'https://m.stock.naver.com/api/index/KOSDAQ/price?pageSize=10&page=2'\n",
    "response = requests.get(url)\n",
    "data = response.json()\n",
    "df = pd.DataFrame(data)[[\"localTradedAt\", \"closePrice\"]]\n",
    "\n",
    "print(df)\n",
    "\n",
    "print(stock_crawling(10,2,'KOSDAQ'))"
   ]
  },
  {
   "cell_type": "markdown",
   "metadata": {},
   "source": [
    " - 환율 ( 달러 ) url : https://api.stock.naver.com/marketindex/exchange/FX_USDKRW/prices?page=3&pageSize=10"
   ]
  },
  {
   "cell_type": "code",
   "execution_count": null,
   "metadata": {},
   "outputs": [],
   "source": [
    "url = 'https://api.stock.naver.com/marketindex/exchange/FX_USDKRW/prices?page=3&pageSize=10'\n",
    "response = requests.get(url)\n",
    "data = response.json()\n",
    "df = pd.DataFrame(data)[[\"localTradedAt\", \"closePrice\"]]\n",
    "\n",
    "print(df)\n",
    "\n",
    "def exchange_crawling(pagesize, page, code='FX_USDKRW'):\n",
    "    \"\"\"money exchange\n",
    "\n",
    "    Args:\n",
    "        pagesize (int): page size\n",
    "        page (int): page number\n",
    "        code (str, optional): FX_USDKRW, FX_EURKRW, FX_JPYKRW, FX_CNYKRW, each. Defaults to 'FX_USDKRW'.\n",
    "\n",
    "    Returns:\n",
    "        _DataFrame : 'localTradedAt', 'closePrice'\n",
    "    \"\"\"\n",
    "    \n",
    "    url = f'https://api.stock.naver.com/marketindex/exchange/{code}/prices?page={page}&pageSize={pagesize}'\n",
    "    response = requests.get(url)\n",
    "    data = response.json()\n",
    "    df = pd.DataFrame(data)[['localTradedAt', 'closePrice']]\n",
    "    \n",
    "    return df\n",
    "\n",
    "print(exchange_crawling(10,1))"
   ]
  },
  {
   "cell_type": "markdown",
   "metadata": {},
   "source": [
    "### 데이터 분석 : 상관관계\n",
    " - 피어슨 상관계수\n",
    "    - 1과 가까울수록 강한 양의 상관관계를 갖는다.\n",
    "    - -1과 가까울수록 강한 음의 상관계를 갖는다.\n",
    "    - 0과 가까울수록 관계가 없다.\n",
    "    - pandas 함수 df.corr()\n",
    "\n",
    "ex) 달러 환율과 주가 지수의 관계"
   ]
  },
  {
   "cell_type": "code",
   "execution_count": null,
   "metadata": {},
   "outputs": [],
   "source": [
    "kospi = stock_crawling(60, 1)\n",
    "kosdaq = stock_crawling(60, 1, 'KOSDAQ')\n",
    "usd = exchange_crawling(60,1)\n",
    "\n",
    "df = kospi.copy()\n",
    "df['kosdaq'] = kosdaq[\"closePrice\"]\n",
    "df['usd'] = usd[\"closePrice\"]\n",
    "df.rename(columns={'closePrice': 'kospi'},\n",
    "          inplace=True)\n",
    "\n",
    "print(df.dtypes)\n",
    "print()\n",
    "# 데이터타입 변경 str -> int\n",
    "df['kospi'] = df['kospi'].apply(lambda data:float(data.replace(',','')))\n",
    "df['kosdaq'] = df['kosdaq'].apply(lambda data:float(data.replace(',','')))\n",
    "df['usd'] = df['usd'].apply(lambda data:float(data.replace(',','')))\n",
    "print(df.dtypes)\n",
    "print()\n",
    "\n",
    "print(df[['kospi', 'kosdaq', 'usd']].corr())\n",
    "\n"
   ]
  },
  {
   "cell_type": "code",
   "execution_count": null,
   "metadata": {},
   "outputs": [],
   "source": [
    "# apply(func)\n",
    "df = pd.DataFrame([{\"age\": 23}, {\"age\": 36}, {\"age\": 27}])\n",
    "\n",
    "# 연령대 컬럼을 추가 \n",
    "def change_ages(age): \n",
    "    return age // 10 * 10\n",
    "\n",
    "df[\"ages\"] = df[\"age\"].apply(change_ages)\n",
    "print(df)\n",
    "print()"
   ]
  },
  {
   "cell_type": "code",
   "execution_count": null,
   "metadata": {},
   "outputs": [],
   "source": [
    "### lambda : 일회성 함수\n",
    "###     - 사용 이유 : 메모리 절약, 간단한 함수 (파라미터를 받아서 바로 리턴)\n",
    "\n",
    "# 함수 3개 사용 ( 메모리 3개 사용 )\n",
    "def plus(n1,n2):\n",
    "    return n1+n2\n",
    "\n",
    "def minus(n1,n2):\n",
    "    return n1-n2\n",
    "\n",
    "def calc(func, n1, n2):\n",
    "    return func(n1, n2)\n",
    "\n",
    "print('def : plus, minus, calc')\n",
    "print(calc(plus, 1,2))\n",
    "print(calc(minus, 1,2))\n",
    "print()\n",
    "\n",
    "# lambda parmeter : return\n",
    "print('lambda : calc')\n",
    "print(calc(lambda n1, n2: n1+n2, 1, 2))\n",
    "print(calc(lambda n1, n2: n1-n2, 1, 2))\n"
   ]
  },
  {
   "cell_type": "markdown",
   "metadata": {},
   "source": [
    "### API 데이터 수집\n",
    " - application programing interface\n",
    " - api를 사용해서 데이터를 수집하는 것은 서비스에 데이터를 제공하는 공식적인 방법으로 데이터 수집\n",
    "\n",
    "ex) naver api( 파파고 )"
   ]
  },
  {
   "cell_type": "code",
   "execution_count": null,
   "metadata": {},
   "outputs": [],
   "source": [
    "import pandas as pd\n",
    "import requests, json\n",
    "\n",
    "# 1. app 등록 > app_key(request_token)\n",
    "# https://developers.naver.com\n",
    "CLIENT_ID, CLIENT_SECRET = \"Y7kkW5s3waqiGemisIDm\", \"O0iVtJhKyp\"\n",
    "\n",
    "# 2. Naver API document 확인 > URL\n",
    "# https://openapi.naver.com/v1/papago/n2mt\n",
    "url = 'https://openapi.naver.com/v1/papago/n2mt'\n",
    "txt = '안녕하세요. 반갑습니다. 감사합니다.'\n",
    "params = {\n",
    "    'source': 'ko',\n",
    "    'target': 'en',\n",
    "    'text':txt\n",
    "}\n",
    "headers = {\n",
    "    \"Content-Type\": \"application/json\",\n",
    "    \"X-Naver-Client-Id\": CLIENT_ID,\n",
    "    \"X-Naver-Client-Secret\": CLIENT_SECRET\n",
    "}\n",
    "# 3. request(url, app_key) > json(str)\n",
    "ppg_response = requests.post(url, json.dumps(params), headers=headers)\n",
    "print(ppg_response)\n",
    "print()\n",
    "\n",
    "# 4. json > list, dict > dataframe\n",
    "txt_en = ppg_response.json()[\"message\"][\"result\"][\"translatedText\"]\n",
    "print(txt_en)"
   ]
  },
  {
   "cell_type": "code",
   "execution_count": null,
   "metadata": {},
   "outputs": [],
   "source": [
    "# 파파고 함수\n",
    "def ppg_translate(id,pw,txt,fromNa='ko', toNa='en'):\n",
    "    \"\"\"naver papago translate api\n",
    "\n",
    "    Args:\n",
    "        id (str): naver api id\n",
    "        pw (str): naver api secret_\n",
    "        txt (str): befor translate text\n",
    "        fromNa (str, optional): . Defaults to 'ko'.\n",
    "        toNa (str, optional): . Defaults to 'en'.\n",
    "\n",
    "    Returns:\n",
    "        _type_: DataFrame, after translate text\n",
    "    \"\"\"\n",
    "    \n",
    "    params = {\n",
    "        'source': fromNa,\n",
    "        'target': toNa,\n",
    "        'text':txt\n",
    "    }\n",
    "    \n",
    "    headers = {\n",
    "        \"Content-Type\": \"application/json\",\n",
    "        \"X-Naver-Client-Id\": id,\n",
    "        \"X-Naver-Client-Secret\": pw\n",
    "    }\n",
    "    response = requests.post('https://openapi.naver.com/v1/papago/n2mt', json.dumps(params), headers=headers)\n",
    "    \n",
    "    return response.json()[\"message\"][\"result\"][\"translatedText\"]\n",
    "\n",
    "print(ppg_translate(CLIENT_ID, CLIENT_SECRET, '크롤링 공부'))"
   ]
  },
  {
   "cell_type": "code",
   "execution_count": null,
   "metadata": {},
   "outputs": [],
   "source": [
    "### covid 번역\n",
    "CLIENT_ID, CLIENT_SECRET = \"Y7kkW5s3waqiGemisIDm\", \"O0iVtJhKyp\"\n",
    "\n",
    "def ppg_translate_txt(txt):\n",
    "    \"\"\"naver papago translate api\n",
    "\n",
    "    Args:\n",
    "        txt (str): befor translate text\n",
    "\n",
    "    Returns:\n",
    "        _type_: DataFrame, after translate text\n",
    "    \"\"\"\n",
    "    \n",
    "    params = {\n",
    "        'source': 'ko',\n",
    "        'target': 'en',\n",
    "        'text':txt\n",
    "    }\n",
    "    headers = {\n",
    "        \"Content-Type\": \"application/json\",\n",
    "        \"X-Naver-Client-Id\": CLIENT_ID,\n",
    "        \"X-Naver-Client-Secret\": CLIENT_SECRET\n",
    "    }\n",
    "    \n",
    "    response = requests.post('https://openapi.naver.com/v1/papago/n2mt', json.dumps(params), headers=headers)\n",
    "    \n",
    "    return response.json()[\"message\"][\"result\"][\"translatedText\"]\n",
    "\n",
    "covid = pd.read_excel(\"../excel/covid.xlsx\")[[\"category\", \"title\"]]\n",
    "covid['en'] = covid['title'].apply(ppg_translate_txt)\n",
    "print(covid)\n",
    "# 엑셀 파일 만들기\n",
    "# covid.to_excel('../excel/covid_en.xlsx', index=False, encoding='utf-8-sig')"
   ]
  },
  {
   "cell_type": "markdown",
   "metadata": {},
   "source": [
    "ex) naver dataLab"
   ]
  },
  {
   "cell_type": "code",
   "execution_count": null,
   "metadata": {},
   "outputs": [],
   "source": [
    "# datalab.naver.com\n",
    "import pandas as pd\n",
    "import requests, json\n",
    "\n",
    "id, secret = 'Y7kkW5s3waqiGemisIDm', 'O0iVtJhKyp'\n",
    "url = 'https://openapi.naver.com/v1/datalab/search'\n",
    "headers = {\n",
    "    'X-Naver-Client-Id': id,\n",
    "    'X-Naver-Client-Secret':secret,\n",
    "    'Content-Type': 'application/json'\n",
    "}\n",
    "\n",
    "data = {\n",
    "    \"startDate\": \"2018-01-01\",\n",
    "    \"endDate\": \"2022-08-04\",\n",
    "    \"timeUnit\": \"month\",\n",
    "    \"keywordGroups\": [\n",
    "                    {\n",
    "                        \"groupName\": \"트위터\",\n",
    "                        \"keywords\": [\"트위터\", \"트윗\",'twitter']\n",
    "                    },\n",
    "                    {\n",
    "                        \"groupName\": \"페이스북\",\n",
    "                        \"keywords\": [\"페이스북\",\"페북\", 'facebook']\n",
    "                    },\n",
    "                    {\n",
    "                        \"groupName\": \"인스타그램\",\n",
    "                        \"keywords\": [\"인스타그램\",\"인스타\", 'insta', 'instagram']\n",
    "                    }\n",
    "                    ]\n",
    "}\n",
    "dtLab = requests.post(url=url, data=json.dumps(data) ,headers=headers)\n",
    "\n",
    "print(dtLab)\n",
    "# print(dtLab.text)\n"
   ]
  },
  {
   "cell_type": "code",
   "execution_count": null,
   "metadata": {},
   "outputs": [],
   "source": [
    "dt = dtLab.json()[\"results\"]\n",
    "print([i['ratio'] for i in dt[0]['data']])\n",
    "print(type(data['keywordGroups'][0]['keywords'][-1]))\n",
    "print()\n",
    "\n",
    "df = pd.DataFrame(dt[0]['data'])['period']\n",
    "# print(period)\n",
    "for i in range(len(data['keywordGroups'])):\n",
    "    df_ = pd.DataFrame(dt[i]['data'])['ratio']\n",
    "    df = pd.concat([df,df_], axis=1)\n",
    "    \n",
    "    df.rename(columns={'ratio':data['keywordGroups'][i]['keywords'][-1]}\n",
    "              , inplace=True)\n",
    "    \n",
    "\n",
    "print(df)\n",
    "\n",
    "# df = pd.DataFrame({\n",
    "#     \"date\": [period[\"period\"] for period in dt[0][\"data\"]],\n",
    "#     \"twitter\": [ratio[\"ratio\"] for ratio in dt[0][\"data\"]],\n",
    "#     \"facebook\": [ratio[\"ratio\"] for ratio in dt[1][\"data\"]],\n",
    "#     \"instagram\": [ratio[\"ratio\"] for ratio in dt[2][\"data\"]],\n",
    "# })\n"
   ]
  },
  {
   "cell_type": "code",
   "execution_count": null,
   "metadata": {},
   "outputs": [],
   "source": [
    "# visualizations\n",
    "df.plot(figsize=(20, 5))"
   ]
  },
  {
   "cell_type": "markdown",
   "metadata": {},
   "source": [
    "##### 직방 매물정보 수집\n",
    "1. 지역 검색\n",
    "2. 위도, 경도 확인\n",
    "3. 매물 아이디 확인\n",
    "4. 매물 정보 확인"
   ]
  },
  {
   "cell_type": "code",
   "execution_count": null,
   "metadata": {},
   "outputs": [],
   "source": [
    "# 위도,경도 hash 패키지\n",
    "import geohash2\n",
    "\n",
    "# 1. 지역 검색\n",
    "addr = '주례동'\n",
    "url = f'https://apis.zigbang.com/v2/search?leaseYn=N&q={addr}&serviceType=원룸'\n",
    "\n",
    "response = requests.get(url)\n",
    "data = response.json()['items'][0]\n",
    "print(response.json())\n",
    "\n",
    "lat, lng = data['lat'],data['lng']\n",
    "\n",
    "# print(response.text)\n",
    "# print()\n",
    "# print(data)\n",
    "# print()\n",
    "# print(lat,lng)"
   ]
  },
  {
   "cell_type": "code",
   "execution_count": null,
   "metadata": {},
   "outputs": [],
   "source": [
    "# 2. 위도, 경도 확인\n",
    "geohash = geohash2.encode(lat, lng, precision=5)\n",
    "\n",
    "print(geohash)"
   ]
  },
  {
   "cell_type": "code",
   "execution_count": null,
   "metadata": {},
   "outputs": [],
   "source": [
    "# 3. 매물 아이디 확인\n",
    "itm_url = f'https://apis.zigbang.com/v2/items?deposit_gteq=0&domain=zigbang&geohash={geohash}&needHasNoFiltered=true&rent_gteq=0&sales_type_in=전세|월세&service_type_eq=원룸'\n",
    "\n",
    "itm_respon = requests.get(itm_url)\n",
    "print(itm_respon)\n",
    "\n",
    "items = itm_respon.json()[\"items\"] \n",
    "print(len(items), items[:2])\n",
    "print()\n",
    "\n",
    "ids = [item['item_id'] for item in items]\n",
    "print(ids)"
   ]
  },
  {
   "cell_type": "code",
   "execution_count": null,
   "metadata": {},
   "outputs": [],
   "source": [
    "# 4. 매물 정보 확인\n",
    "room_url = 'https://apis.zigbang.com/v2/items/list'\n",
    "params = {\n",
    "    'domain': 'zigbang',\n",
    "    'item_ids':ids,\n",
    "    'withCoalition': 'true'\n",
    "}\n",
    "\n",
    "room_respon = requests.post(url=room_url, params=params)\n",
    "\n",
    "room = room_respon.json()['items']\n",
    "columns = [\"item_id\", \"sales_type\", \"deposit\", \"rent\", \"size_m2\", \"address1\", \"manage_cost\"]\n",
    "\n",
    "df = pd.DataFrame(room)[columns]\n",
    "print(df)"
   ]
  },
  {
   "cell_type": "code",
   "execution_count": 219,
   "metadata": {},
   "outputs": [
    {
     "name": "stdout",
     "output_type": "stream",
     "text": [
      "50 60\n"
     ]
    }
   ],
   "source": [
    "# max row, max column 설정\n",
    "print(pd.options.display.max_columns, pd.options.display.max_rows)\n",
    "pd.options.display.max_rows = 200"
   ]
  },
  {
   "cell_type": "code",
   "execution_count": null,
   "metadata": {},
   "outputs": [],
   "source": [
    "# 직방 함수\n",
    "import pandas as pd\n",
    "import geohash2, json, requests\n",
    "\n",
    "\n",
    "def zigbang(addr):\n",
    "    \"\"\"zigbang room search\n",
    "\n",
    "    Args:\n",
    "        addr (str): address\n",
    "\n",
    "    Returns:\n",
    "        DataFrame: columns - [\"item_id\", \"sales_type\", \"deposit\", \"rent\", \"size_m2\", \"address1\", \"manage_cost\"]\n",
    "    \"\"\"\n",
    "    \n",
    "    url1 = f'https://apis.zigbang.com/v2/search?leaseYn=N&q={addr}&serviceType=원룸'\n",
    "    \n",
    "    dt1 = requests.get(url1).json()['items'][0]\n",
    "    lat, lng = dt1['lat'],dt1['lng']\n",
    "    geohash = geohash2.encode(lat, lng, precision=5)\n",
    "    \n",
    "    url2 = f'https://apis.zigbang.com/v2/items?deposit_gteq=0&domain=zigbang&geohash={geohash}&needHasNoFiltered=true&rent_gteq=0&sales_type_in=전세|월세&service_type_eq=원룸'\n",
    "    \n",
    "    dt2 = requests.get(url2).json()[\"items\"]\n",
    "    idx = [item['item_id'] for item in dt2]\n",
    "    \n",
    "    url3 = 'https://apis.zigbang.com/v2/items/list'\n",
    "    \n",
    "    params = {\n",
    "        'domain': 'zigbang',\n",
    "        'item_ids':idx,\n",
    "        'withCoalition': 'true'\n",
    "    }\n",
    "    dt3 = requests.post(url=url3, params=params).json()['items']\n",
    "    columns = [\"item_id\", \"sales_type\", \"deposit\", \"rent\", \"size_m2\", \"address1\", \"manage_cost\"]\n",
    "    df = pd.DataFrame(dt3)[columns]\n",
    "    \n",
    "    \n",
    "    return df\n",
    "\n",
    "print(zigbang('주례동'))"
   ]
  },
  {
   "cell_type": "markdown",
   "metadata": {},
   "source": [
    "### html\n",
    " - 웹 문서를 작성하는 언어\n",
    " - 구성요소\n",
    "    - Document : 한페이지를 나타내는 코드\n",
    "    - Element : 하나의 레이아웃, Element가 모여서 Document를 만든다.\n",
    "    - Tag : Element의 종류 정의, 시작/끝 태그가 모여서 Element를 만든다.\n",
    "    - Attribute : Tag의 속성. 시작 태그에서 태그의 기능을 정의\n",
    "        - id : 페이지 내 유일한 값\n",
    "        - class : 페이지 내 중복 가능한 값\n",
    "        - attr : 속성값\n",
    "    - Text : 시작과 끝 태그 사이의 내용\n",
    " - Element는 계층적 구조를 갖는다.\n",
    " \n",
    "\n"
   ]
  },
  {
   "cell_type": "markdown",
   "metadata": {},
   "source": [
    "%%html\n",
    "\n",
    "<div class='wrapper'>\n",
    "    <button id='b1' clas='btn' value='1'>html1</button>\n",
    "    <button id='b2' clas='btn' value='2'>html1</button>\n",
    "</div>\n"
   ]
  },
  {
   "cell_type": "code",
   "execution_count": null,
   "metadata": {},
   "outputs": [],
   "source": [
    "# 파이썬 부동 소숫점 오류\n",
    "a, b = 0.1, 0.2\n",
    "a+b # 0.3 x"
   ]
  },
  {
   "cell_type": "code",
   "execution_count": null,
   "metadata": {},
   "outputs": [],
   "source": [
    "(a+b) == 0.3"
   ]
  },
  {
   "cell_type": "code",
   "execution_count": null,
   "metadata": {},
   "outputs": [],
   "source": [
    "# 해결 : 반올림 사용\n",
    "round(a+b,1) == 0.3"
   ]
  },
  {
   "cell_type": "code",
   "execution_count": null,
   "metadata": {},
   "outputs": [],
   "source": [
    "# 해결 : 고정소수점 연산\n",
    "from decimal import Decimal\n",
    "float(Decimal(str(a)) + Decimal(str(b))) == 0.3\n"
   ]
  },
  {
   "cell_type": "markdown",
   "metadata": {},
   "source": [
    "### 정적페이지 데이터 수집\n",
    " - 네이버 연관 검색어 수집\n",
    " - bs4 : BeautifulSoup, HTML > CSS selector 를 이용하여 수집"
   ]
  },
  {
   "cell_type": "code",
   "execution_count": null,
   "metadata": {},
   "outputs": [],
   "source": [
    "import pandas as pd\n",
    "import requests\n",
    "from bs4 import BeautifulSoup\n",
    "\n",
    "# 1. 웹 서비스 분석 : url\n",
    "url = 'https://search.naver.com/search.naver?sm=tab_hty.top&where=nexearch&query=kt&oquery=%EC%A1%B4%EB%B0%94%EB%B0%94%ED%86%A0%EC%8A%A4&tqi=hXWxYsprvmsss79TtHossssstaN-185816'\n",
    "\n",
    "response = requests.get(url)\n",
    "print(response)"
   ]
  },
  {
   "cell_type": "code",
   "execution_count": null,
   "metadata": {},
   "outputs": [],
   "source": [
    "doc = BeautifulSoup(response.text, 'html.parser')\n",
    "\n",
    "elements = doc.select('.lst_related_srch > .item')\n",
    "elements"
   ]
  },
  {
   "cell_type": "code",
   "execution_count": null,
   "metadata": {},
   "outputs": [],
   "source": [
    "dt = [e.select_one('.tit').text for e in elements]\n",
    "dt"
   ]
  },
  {
   "cell_type": "markdown",
   "metadata": {},
   "source": [
    "### Gmarket 베트스 상품 수집"
   ]
  },
  {
   "cell_type": "code",
   "execution_count": null,
   "metadata": {},
   "outputs": [],
   "source": [
    "import pandas as pd\n",
    "import requests\n",
    "from bs4 import BeautifulSoup\n",
    "\n",
    "url = 'http://corners.gmarket.co.kr/Bestsellers'\n",
    "\n",
    "response = requests.get(url)\n",
    "response"
   ]
  },
  {
   "cell_type": "code",
   "execution_count": 221,
   "metadata": {},
   "outputs": [
    {
     "ename": "TypeError",
     "evalue": "int() argument must be a string, a bytes-like object or a number, not 'dict'",
     "output_type": "error",
     "traceback": [
      "\u001b[1;31m---------------------------------------------------------------------------\u001b[0m",
      "\u001b[1;31mTypeError\u001b[0m                                 Traceback (most recent call last)",
      "\u001b[1;32mc:\\Users\\User\\Desktop\\python\\Class\\WebCrawing.ipynb 셀 47\u001b[0m in \u001b[0;36m<cell line: 29>\u001b[1;34m()\u001b[0m\n\u001b[0;32m     <a href='vscode-notebook-cell:/c%3A/Users/User/Desktop/python/Class/WebCrawing.ipynb#ch0000059?line=23'>24</a>\u001b[0m         \u001b[39mreturn\u001b[39;00m \u001b[39mint\u001b[39m(data)\n\u001b[0;32m     <a href='vscode-notebook-cell:/c%3A/Users/User/Desktop/python/Class/WebCrawing.ipynb#ch0000059?line=27'>28</a>\u001b[0m \u001b[39m# df['o-price'] = df['o-price'].apply(typeInt(data))\u001b[39;00m\n\u001b[1;32m---> <a href='vscode-notebook-cell:/c%3A/Users/User/Desktop/python/Class/WebCrawing.ipynb#ch0000059?line=28'>29</a>\u001b[0m df[\u001b[39m'\u001b[39m\u001b[39ms-price\u001b[39m\u001b[39m'\u001b[39m] \u001b[39m=\u001b[39m df[\u001b[39m'\u001b[39m\u001b[39ms-price\u001b[39m\u001b[39m'\u001b[39m]\u001b[39m.\u001b[39mapply(typeInt(data))\n\u001b[0;32m     <a href='vscode-notebook-cell:/c%3A/Users/User/Desktop/python/Class/WebCrawing.ipynb#ch0000059?line=30'>31</a>\u001b[0m df[[\u001b[39m'\u001b[39m\u001b[39mo-price\u001b[39m\u001b[39m'\u001b[39m, \u001b[39m'\u001b[39m\u001b[39ms-price\u001b[39m\u001b[39m'\u001b[39m]]\n",
      "\u001b[1;32mc:\\Users\\User\\Desktop\\python\\Class\\WebCrawing.ipynb 셀 47\u001b[0m in \u001b[0;36mtypeInt\u001b[1;34m(data)\u001b[0m\n\u001b[0;32m     <a href='vscode-notebook-cell:/c%3A/Users/User/Desktop/python/Class/WebCrawing.ipynb#ch0000059?line=21'>22</a>\u001b[0m     \u001b[39mreturn\u001b[39;00m \u001b[39m0\u001b[39m\n\u001b[0;32m     <a href='vscode-notebook-cell:/c%3A/Users/User/Desktop/python/Class/WebCrawing.ipynb#ch0000059?line=22'>23</a>\u001b[0m \u001b[39melse\u001b[39;00m:\n\u001b[1;32m---> <a href='vscode-notebook-cell:/c%3A/Users/User/Desktop/python/Class/WebCrawing.ipynb#ch0000059?line=23'>24</a>\u001b[0m     \u001b[39mreturn\u001b[39;00m \u001b[39mint\u001b[39;49m(data)\n",
      "\u001b[1;31mTypeError\u001b[0m: int() argument must be a string, a bytes-like object or a number, not 'dict'"
     ]
    }
   ],
   "source": [
    "dt = BeautifulSoup(response.text, 'html.parser')\n",
    "dt\n",
    "\n",
    "elements = dt.select('#gBestWrap > div > div:nth-child(5) > div > ul > li')\n",
    "\n",
    "items = []\n",
    "for e in elements:\n",
    "    item = {\n",
    "        'title': e.select_one('.itemname').text\n",
    "        , 'o-price': e.select_one('.o-price').text.replace(',','').replace('원','')\n",
    "        , 's-price': e.select_one('.s-price > strong').text.replace(',','').replace('원','')\n",
    "        , 'img': 'http:' + e.select_one('img').get('data-original')\n",
    "    }\n",
    "    \n",
    "    items.append(item)\n",
    "    \n",
    "df = pd.DataFrame(items)\n",
    "\n",
    "\n",
    "def typeInt(data):\n",
    "    if data == '':\n",
    "        return 0\n",
    "    else:\n",
    "        return int(data)\n",
    "    \n",
    "    \n",
    "\n",
    "# df['o-price'] = df['o-price'].apply(typeInt(data))\n",
    "df['s-price'] = df['s-price'].apply(lambda data:int(data))\n",
    "\n",
    "\n",
    "df[['o-price', 's-price']]"
   ]
  },
  {
   "cell_type": "code",
   "execution_count": null,
   "metadata": {},
   "outputs": [],
   "source": []
  }
 ],
 "metadata": {
  "kernelspec": {
   "display_name": "Python 3.9.12 ('base')",
   "language": "python",
   "name": "python3"
  },
  "language_info": {
   "codemirror_mode": {
    "name": "ipython",
    "version": 3
   },
   "file_extension": ".py",
   "mimetype": "text/x-python",
   "name": "python",
   "nbconvert_exporter": "python",
   "pygments_lexer": "ipython3",
   "version": "3.9.12"
  },
  "orig_nbformat": 4,
  "vscode": {
   "interpreter": {
    "hash": "5f7678e3cf7566e35dc0bd53f9a2e61d18c90ac4f700ab60c30179035bddd9e2"
   }
  }
 },
 "nbformat": 4,
 "nbformat_minor": 2
}
