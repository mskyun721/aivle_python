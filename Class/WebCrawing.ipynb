{
 "cells": [
  {
   "cell_type": "markdown",
   "metadata": {},
   "source": [
    "# Web Crawing\n",
    " : 웹페이지 데이터 수집"
   ]
  },
  {
   "cell_type": "markdown",
   "metadata": {},
   "source": [
    "## 크롤링 방법\n",
    " - requests package\n",
    "    - json 문자열 파싱 (동적 크롤링에 주로 사용)\n",
    "    - html 문자열 파싱 (정적 크롤링에 주로 사용)"
   ]
  },
  {
   "cell_type": "code",
   "execution_count": 47,
   "metadata": {},
   "outputs": [],
   "source": [
    "import requests\n",
    "import pandas as pd"
   ]
  },
  {
   "cell_type": "markdown",
   "metadata": {},
   "source": [
    "##### 1. 실습 ( 웹서비스 분석 : 크롬 개발자 도구 url )\n",
    " - 코스피 url : https://m.stock.naver.com/api/index/KOSPI/price?pageSize=10&page=3"
   ]
  },
  {
   "cell_type": "code",
   "execution_count": null,
   "metadata": {},
   "outputs": [],
   "source": [
    "url = 'https://m.stock.naver.com/api/index/KOSPI/price?pageSize=10&page=3'\n",
    "response = requests.get(url)\n",
    "\n",
    "print(response) # <Response [200]> : response status"
   ]
  },
  {
   "cell_type": "code",
   "execution_count": null,
   "metadata": {},
   "outputs": [],
   "source": [
    "# request -> string (response)\n",
    "print(type(response.text)) # string\n",
    "print()\n",
    "print(response.text)\n",
    "print()\n",
    "print(response.text[:200])"
   ]
  },
  {
   "cell_type": "code",
   "execution_count": null,
   "metadata": {},
   "outputs": [],
   "source": [
    "# response -> list (data)\n",
    "data = response.json()\n",
    "print(type(data)) # list\n",
    "print()\n",
    "print(data)"
   ]
  },
  {
   "cell_type": "code",
   "execution_count": null,
   "metadata": {},
   "outputs": [],
   "source": [
    "# data -> DataFrame (df)\n",
    "df = pd.DataFrame(data)[['localTradedAt', 'closePrice']]\n",
    "print(df.dtypes)\n",
    "print()\n",
    "print(df)"
   ]
  },
  {
   "cell_type": "code",
   "execution_count": null,
   "metadata": {},
   "outputs": [],
   "source": [
    "# 함수 생성\n",
    "def stock_crawling(pagesize, page, code='KOSPI'):\n",
    "    \"\"\"stock page crawling\n",
    "\n",
    "    Args:\n",
    "        pagesize (int): page size\n",
    "        page (int): page number\n",
    "        code (str, optional): KOSPI / KOSDAQ. Defaults to 'KOSPI'.\n",
    "\n",
    "    Returns:\n",
    "        DataFrame : 'localTradedAt', 'closePrice'\n",
    "    \"\"\"\n",
    "    \n",
    "    url = f'https://m.stock.naver.com/api/index/{code}/price?pageSize={pagesize}&page={page}'\n",
    "    response = requests.get(url)\n",
    "    data = response.json()\n",
    "    df = pd.DataFrame(data)[['localTradedAt', 'closePrice']]\n",
    "    \n",
    "    return df\n"
   ]
  },
  {
   "cell_type": "markdown",
   "metadata": {},
   "source": [
    " - 코스닥 url : https://m.stock.naver.com/api/index/KOSDAQ/price?pageSize=10&page=2"
   ]
  },
  {
   "cell_type": "code",
   "execution_count": null,
   "metadata": {},
   "outputs": [],
   "source": [
    "url = 'https://m.stock.naver.com/api/index/KOSDAQ/price?pageSize=10&page=2'\n",
    "response = requests.get(url)\n",
    "data = response.json()\n",
    "df = pd.DataFrame(data)[[\"localTradedAt\", \"closePrice\"]]\n",
    "\n",
    "print(df)\n",
    "\n",
    "print(stock_crawling(10,2,'KOSDAQ'))"
   ]
  },
  {
   "cell_type": "markdown",
   "metadata": {},
   "source": [
    " - 환율 ( 달러 ) url : https://api.stock.naver.com/marketindex/exchange/FX_USDKRW/prices?page=3&pageSize=10"
   ]
  },
  {
   "cell_type": "code",
   "execution_count": null,
   "metadata": {},
   "outputs": [],
   "source": [
    "url = 'https://api.stock.naver.com/marketindex/exchange/FX_USDKRW/prices?page=3&pageSize=10'\n",
    "response = requests.get(url)\n",
    "data = response.json()\n",
    "df = pd.DataFrame(data)[[\"localTradedAt\", \"closePrice\"]]\n",
    "\n",
    "print(df)\n",
    "\n",
    "def exchange_crawling(pagesize, page, code='FX_USDKRW'):\n",
    "    \"\"\"money exchange\n",
    "\n",
    "    Args:\n",
    "        pagesize (int): page size\n",
    "        page (int): page number\n",
    "        code (str, optional): FX_USDKRW, FX_EURKRW, FX_JPYKRW, FX_CNYKRW, each. Defaults to 'FX_USDKRW'.\n",
    "\n",
    "    Returns:\n",
    "        _DataFrame : 'localTradedAt', 'closePrice'\n",
    "    \"\"\"\n",
    "    \n",
    "    url = f'https://api.stock.naver.com/marketindex/exchange/{code}/prices?page={page}&pageSize={pagesize}'\n",
    "    response = requests.get(url)\n",
    "    data = response.json()\n",
    "    df = pd.DataFrame(data)[['localTradedAt', 'closePrice']]\n",
    "    \n",
    "    return df\n",
    "\n",
    "print(exchange_crawling(10,1))"
   ]
  },
  {
   "cell_type": "markdown",
   "metadata": {},
   "source": [
    "### 데이터 분석 : 상관관계\n",
    " - 피어슨 상관계수\n",
    "    - 1과 가까울수록 강한 양의 상관관계를 갖는다.\n",
    "    - -1과 가까울수록 강한 음의 상관계를 갖는다.\n",
    "    - 0과 가까울수록 관계가 없다.\n",
    "    - pandas 함수 df.corr()\n",
    "\n",
    "ex) 달러 환율과 주가 지수의 관계"
   ]
  },
  {
   "cell_type": "code",
   "execution_count": null,
   "metadata": {},
   "outputs": [],
   "source": [
    "kospi = stock_crawling(60, 1)\n",
    "kosdaq = stock_crawling(60, 1, 'KOSDAQ')\n",
    "usd = exchange_crawling(60,1)\n",
    "\n",
    "df = kospi.copy()\n",
    "df['kosdaq'] = kosdaq[\"closePrice\"]\n",
    "df['usd'] = usd[\"closePrice\"]\n",
    "df.rename(columns={'closePrice': 'kospi'},\n",
    "          inplace=True)\n",
    "\n",
    "print(df.dtypes)\n",
    "print()\n",
    "# 데이터타입 변경 str -> int\n",
    "df['kospi'] = df['kospi'].apply(lambda data:float(data.replace(',','')))\n",
    "df['kosdaq'] = df['kosdaq'].apply(lambda data:float(data.replace(',','')))\n",
    "df['usd'] = df['usd'].apply(lambda data:float(data.replace(',','')))\n",
    "print(df.dtypes)\n",
    "print()\n",
    "\n",
    "print(df[['kospi', 'kosdaq', 'usd']].corr())\n",
    "\n"
   ]
  },
  {
   "cell_type": "code",
   "execution_count": null,
   "metadata": {},
   "outputs": [],
   "source": [
    "# apply(func)\n",
    "df = pd.DataFrame([{\"age\": 23}, {\"age\": 36}, {\"age\": 27}])\n",
    "\n",
    "# 연령대 컬럼을 추가 \n",
    "def change_ages(age): \n",
    "    return age // 10 * 10\n",
    "\n",
    "df[\"ages\"] = df[\"age\"].apply(change_ages)\n",
    "print(df)\n",
    "print()"
   ]
  },
  {
   "cell_type": "code",
   "execution_count": null,
   "metadata": {},
   "outputs": [],
   "source": [
    "### lambda : 일회성 함수\n",
    "###     - 사용 이유 : 메모리 절약, 간단한 함수 (파라미터를 받아서 바로 리턴)\n",
    "\n",
    "# 함수 3개 사용 ( 메모리 3개 사용 )\n",
    "def plus(n1,n2):\n",
    "    return n1+n2\n",
    "\n",
    "def minus(n1,n2):\n",
    "    return n1-n2\n",
    "\n",
    "def calc(func, n1, n2):\n",
    "    return func(n1, n2)\n",
    "\n",
    "print('def : plus, minus, calc')\n",
    "print(calc(plus, 1,2))\n",
    "print(calc(minus, 1,2))\n",
    "print()\n",
    "\n",
    "# lambda parmeter : return\n",
    "print('lambda : calc')\n",
    "print(calc(lambda n1, n2: n1+n2, 1, 2))\n",
    "print(calc(lambda n1, n2: n1-n2, 1, 2))\n"
   ]
  },
  {
   "cell_type": "markdown",
   "metadata": {},
   "source": [
    "### API 데이터 수집\n",
    " - application programing interface\n",
    " - api를 사용해서 데이터를 수집하는 것은 서비스에 데이터를 제공하는 공식적인 방법으로 데이터 수집\n",
    "\n",
    "ex) naver api( 파파고 )"
   ]
  },
  {
   "cell_type": "code",
   "execution_count": 67,
   "metadata": {},
   "outputs": [
    {
     "name": "stdout",
     "output_type": "stream",
     "text": [
      "<Response [200]>\n",
      "\n",
      "Hello. Nice to meet you. Thank you.\n"
     ]
    }
   ],
   "source": [
    "import pandas as pd\n",
    "import requests, json\n",
    "\n",
    "# 1. app 등록 > app_key(request_token)\n",
    "# https://developers.naver.com\n",
    "CLIENT_ID, CLIENT_SECRET = \"Y7kkW5s3waqiGemisIDm\", \"O0iVtJhKyp\"\n",
    "\n",
    "# 2. Naver API document 확인 > URL\n",
    "# https://openapi.naver.com/v1/papago/n2mt\n",
    "url = 'https://openapi.naver.com/v1/papago/n2mt'\n",
    "txt = '안녕하세요. 반갑습니다. 감사합니다.'\n",
    "params = {\n",
    "    'source': 'ko',\n",
    "    'target': 'en',\n",
    "    'text':txt\n",
    "}\n",
    "headers = {\n",
    "    \"Content-Type\": \"application/json\",\n",
    "    \"X-Naver-Client-Id\": CLIENT_ID,\n",
    "    \"X-Naver-Client-Secret\": CLIENT_SECRET\n",
    "}\n",
    "# 3. request(url, app_key) > json(str)\n",
    "ppg_response = requests.post(url, json.dumps(params), headers=headers)\n",
    "print(ppg_response)\n",
    "print()\n",
    "\n",
    "# 4. json > list, dict > dataframe\n",
    "txt_en = ppg_response.json()[\"message\"][\"result\"][\"translatedText\"]\n",
    "print(txt_en)"
   ]
  },
  {
   "cell_type": "markdown",
   "metadata": {},
   "source": [
    "- selenium"
   ]
  },
  {
   "cell_type": "code",
   "execution_count": 68,
   "metadata": {},
   "outputs": [
    {
     "name": "stdout",
     "output_type": "stream",
     "text": [
      "Crawling study\n"
     ]
    }
   ],
   "source": [
    "# 파파고 함수\n",
    "def ppg_translate(id,pw,txt,fromNa='ko', toNa='en'):\n",
    "    \"\"\"naver papago translate api\n",
    "\n",
    "    Args:\n",
    "        id (str): naver api id\n",
    "        pw (str): naver api secret_\n",
    "        txt (str): befor translate text\n",
    "        fromNa (str, optional): . Defaults to 'ko'.\n",
    "        toNa (str, optional): . Defaults to 'en'.\n",
    "\n",
    "    Returns:\n",
    "        _type_: DataFrame, after translate text\n",
    "    \"\"\"\n",
    "    \n",
    "    params = {\n",
    "        'source': fromNa,\n",
    "        'target': toNa,\n",
    "        'text':txt\n",
    "    }\n",
    "    \n",
    "    headers = {\n",
    "        \"Content-Type\": \"application/json\",\n",
    "        \"X-Naver-Client-Id\": id,\n",
    "        \"X-Naver-Client-Secret\": pw\n",
    "    }\n",
    "    response = requests.post('https://openapi.naver.com/v1/papago/n2mt', json.dumps(params), headers=headers)\n",
    "    \n",
    "    return response.json()[\"message\"][\"result\"][\"translatedText\"]\n",
    "\n",
    "print(ppg_translate(CLIENT_ID, CLIENT_SECRET, '크롤링 공부'))"
   ]
  },
  {
   "cell_type": "code",
   "execution_count": 72,
   "metadata": {},
   "outputs": [
    {
     "ename": "ImportError",
     "evalue": "Missing optional dependency 'openpyxl'.  Use pip or conda to install openpyxl.",
     "output_type": "error",
     "traceback": [
      "\u001b[1;31m---------------------------------------------------------------------------\u001b[0m",
      "\u001b[1;31mModuleNotFoundError\u001b[0m                       Traceback (most recent call last)",
      "File \u001b[1;32mc:\\Users\\User\\AppData\\Local\\Programs\\Python\\Python39\\lib\\site-packages\\pandas\\compat\\_optional.py:138\u001b[0m, in \u001b[0;36mimport_optional_dependency\u001b[1;34m(name, extra, errors, min_version)\u001b[0m\n\u001b[0;32m    137\u001b[0m \u001b[39mtry\u001b[39;00m:\n\u001b[1;32m--> 138\u001b[0m     module \u001b[39m=\u001b[39m importlib\u001b[39m.\u001b[39;49mimport_module(name)\n\u001b[0;32m    139\u001b[0m \u001b[39mexcept\u001b[39;00m \u001b[39mImportError\u001b[39;00m:\n",
      "File \u001b[1;32mc:\\Users\\User\\AppData\\Local\\Programs\\Python\\Python39\\lib\\importlib\\__init__.py:127\u001b[0m, in \u001b[0;36mimport_module\u001b[1;34m(name, package)\u001b[0m\n\u001b[0;32m    126\u001b[0m         level \u001b[39m+\u001b[39m\u001b[39m=\u001b[39m \u001b[39m1\u001b[39m\n\u001b[1;32m--> 127\u001b[0m \u001b[39mreturn\u001b[39;00m _bootstrap\u001b[39m.\u001b[39;49m_gcd_import(name[level:], package, level)\n",
      "File \u001b[1;32m<frozen importlib._bootstrap>:1030\u001b[0m, in \u001b[0;36m_gcd_import\u001b[1;34m(name, package, level)\u001b[0m\n",
      "File \u001b[1;32m<frozen importlib._bootstrap>:1007\u001b[0m, in \u001b[0;36m_find_and_load\u001b[1;34m(name, import_)\u001b[0m\n",
      "File \u001b[1;32m<frozen importlib._bootstrap>:984\u001b[0m, in \u001b[0;36m_find_and_load_unlocked\u001b[1;34m(name, import_)\u001b[0m\n",
      "\u001b[1;31mModuleNotFoundError\u001b[0m: No module named 'openpyxl'",
      "\nDuring handling of the above exception, another exception occurred:\n",
      "\u001b[1;31mImportError\u001b[0m                               Traceback (most recent call last)",
      "\u001b[1;32mc:\\Users\\User\\Desktop\\python\\Class\\WebCrawing.ipynb 셀 22\u001b[0m in \u001b[0;36m<cell line: 31>\u001b[1;34m()\u001b[0m\n\u001b[0;32m     <a href='vscode-notebook-cell:/c%3A/Users/User/Desktop/python/Class/WebCrawing.ipynb#ch0000031?line=26'>27</a>\u001b[0m     response \u001b[39m=\u001b[39m requests\u001b[39m.\u001b[39mpost(\u001b[39m'\u001b[39m\u001b[39mhttps://openapi.naver.com/v1/papago/n2mt\u001b[39m\u001b[39m'\u001b[39m, json\u001b[39m.\u001b[39mdumps(params), headers\u001b[39m=\u001b[39mheaders)\n\u001b[0;32m     <a href='vscode-notebook-cell:/c%3A/Users/User/Desktop/python/Class/WebCrawing.ipynb#ch0000031?line=28'>29</a>\u001b[0m     \u001b[39mreturn\u001b[39;00m response\u001b[39m.\u001b[39mjson()[\u001b[39m\"\u001b[39m\u001b[39mmessage\u001b[39m\u001b[39m\"\u001b[39m][\u001b[39m\"\u001b[39m\u001b[39mresult\u001b[39m\u001b[39m\"\u001b[39m][\u001b[39m\"\u001b[39m\u001b[39mtranslatedText\u001b[39m\u001b[39m\"\u001b[39m]\n\u001b[1;32m---> <a href='vscode-notebook-cell:/c%3A/Users/User/Desktop/python/Class/WebCrawing.ipynb#ch0000031?line=30'>31</a>\u001b[0m covid \u001b[39m=\u001b[39m pd\u001b[39m.\u001b[39;49mread_excel(\u001b[39m'\u001b[39;49m\u001b[39m../excel/covid.xlsx\u001b[39;49m\u001b[39m'\u001b[39;49m)[[\u001b[39m'\u001b[39m\u001b[39mcategory\u001b[39m\u001b[39m'\u001b[39m, \u001b[39m'\u001b[39m\u001b[39mtitle\u001b[39m\u001b[39m'\u001b[39m]]\u001b[39m.\u001b[39mapply(ppg_translate_txt)\n\u001b[0;32m     <a href='vscode-notebook-cell:/c%3A/Users/User/Desktop/python/Class/WebCrawing.ipynb#ch0000031?line=31'>32</a>\u001b[0m covid\n",
      "File \u001b[1;32mc:\\Users\\User\\AppData\\Local\\Programs\\Python\\Python39\\lib\\site-packages\\pandas\\util\\_decorators.py:311\u001b[0m, in \u001b[0;36mdeprecate_nonkeyword_arguments.<locals>.decorate.<locals>.wrapper\u001b[1;34m(*args, **kwargs)\u001b[0m\n\u001b[0;32m    305\u001b[0m \u001b[39mif\u001b[39;00m \u001b[39mlen\u001b[39m(args) \u001b[39m>\u001b[39m num_allow_args:\n\u001b[0;32m    306\u001b[0m     warnings\u001b[39m.\u001b[39mwarn(\n\u001b[0;32m    307\u001b[0m         msg\u001b[39m.\u001b[39mformat(arguments\u001b[39m=\u001b[39marguments),\n\u001b[0;32m    308\u001b[0m         \u001b[39mFutureWarning\u001b[39;00m,\n\u001b[0;32m    309\u001b[0m         stacklevel\u001b[39m=\u001b[39mstacklevel,\n\u001b[0;32m    310\u001b[0m     )\n\u001b[1;32m--> 311\u001b[0m \u001b[39mreturn\u001b[39;00m func(\u001b[39m*\u001b[39margs, \u001b[39m*\u001b[39m\u001b[39m*\u001b[39mkwargs)\n",
      "File \u001b[1;32mc:\\Users\\User\\AppData\\Local\\Programs\\Python\\Python39\\lib\\site-packages\\pandas\\io\\excel\\_base.py:457\u001b[0m, in \u001b[0;36mread_excel\u001b[1;34m(io, sheet_name, header, names, index_col, usecols, squeeze, dtype, engine, converters, true_values, false_values, skiprows, nrows, na_values, keep_default_na, na_filter, verbose, parse_dates, date_parser, thousands, decimal, comment, skipfooter, convert_float, mangle_dupe_cols, storage_options)\u001b[0m\n\u001b[0;32m    455\u001b[0m \u001b[39mif\u001b[39;00m \u001b[39mnot\u001b[39;00m \u001b[39misinstance\u001b[39m(io, ExcelFile):\n\u001b[0;32m    456\u001b[0m     should_close \u001b[39m=\u001b[39m \u001b[39mTrue\u001b[39;00m\n\u001b[1;32m--> 457\u001b[0m     io \u001b[39m=\u001b[39m ExcelFile(io, storage_options\u001b[39m=\u001b[39;49mstorage_options, engine\u001b[39m=\u001b[39;49mengine)\n\u001b[0;32m    458\u001b[0m \u001b[39melif\u001b[39;00m engine \u001b[39mand\u001b[39;00m engine \u001b[39m!=\u001b[39m io\u001b[39m.\u001b[39mengine:\n\u001b[0;32m    459\u001b[0m     \u001b[39mraise\u001b[39;00m \u001b[39mValueError\u001b[39;00m(\n\u001b[0;32m    460\u001b[0m         \u001b[39m\"\u001b[39m\u001b[39mEngine should not be specified when passing \u001b[39m\u001b[39m\"\u001b[39m\n\u001b[0;32m    461\u001b[0m         \u001b[39m\"\u001b[39m\u001b[39man ExcelFile - ExcelFile already has the engine set\u001b[39m\u001b[39m\"\u001b[39m\n\u001b[0;32m    462\u001b[0m     )\n",
      "File \u001b[1;32mc:\\Users\\User\\AppData\\Local\\Programs\\Python\\Python39\\lib\\site-packages\\pandas\\io\\excel\\_base.py:1419\u001b[0m, in \u001b[0;36mExcelFile.__init__\u001b[1;34m(self, path_or_buffer, engine, storage_options)\u001b[0m\n\u001b[0;32m   1416\u001b[0m \u001b[39mself\u001b[39m\u001b[39m.\u001b[39mengine \u001b[39m=\u001b[39m engine\n\u001b[0;32m   1417\u001b[0m \u001b[39mself\u001b[39m\u001b[39m.\u001b[39mstorage_options \u001b[39m=\u001b[39m storage_options\n\u001b[1;32m-> 1419\u001b[0m \u001b[39mself\u001b[39m\u001b[39m.\u001b[39m_reader \u001b[39m=\u001b[39m \u001b[39mself\u001b[39;49m\u001b[39m.\u001b[39;49m_engines[engine](\u001b[39mself\u001b[39;49m\u001b[39m.\u001b[39;49m_io, storage_options\u001b[39m=\u001b[39;49mstorage_options)\n",
      "File \u001b[1;32mc:\\Users\\User\\AppData\\Local\\Programs\\Python\\Python39\\lib\\site-packages\\pandas\\io\\excel\\_openpyxl.py:524\u001b[0m, in \u001b[0;36mOpenpyxlReader.__init__\u001b[1;34m(self, filepath_or_buffer, storage_options)\u001b[0m\n\u001b[0;32m    509\u001b[0m \u001b[39mdef\u001b[39;00m \u001b[39m__init__\u001b[39m(\n\u001b[0;32m    510\u001b[0m     \u001b[39mself\u001b[39m,\n\u001b[0;32m    511\u001b[0m     filepath_or_buffer: FilePath \u001b[39m|\u001b[39m ReadBuffer[\u001b[39mbytes\u001b[39m],\n\u001b[0;32m    512\u001b[0m     storage_options: StorageOptions \u001b[39m=\u001b[39m \u001b[39mNone\u001b[39;00m,\n\u001b[0;32m    513\u001b[0m ) \u001b[39m-\u001b[39m\u001b[39m>\u001b[39m \u001b[39mNone\u001b[39;00m:\n\u001b[0;32m    514\u001b[0m     \u001b[39m\"\"\"\u001b[39;00m\n\u001b[0;32m    515\u001b[0m \u001b[39m    Reader using openpyxl engine.\u001b[39;00m\n\u001b[0;32m    516\u001b[0m \n\u001b[1;32m   (...)\u001b[0m\n\u001b[0;32m    522\u001b[0m \u001b[39m        passed to fsspec for appropriate URLs (see ``_get_filepath_or_buffer``)\u001b[39;00m\n\u001b[0;32m    523\u001b[0m \u001b[39m    \"\"\"\u001b[39;00m\n\u001b[1;32m--> 524\u001b[0m     import_optional_dependency(\u001b[39m\"\u001b[39;49m\u001b[39mopenpyxl\u001b[39;49m\u001b[39m\"\u001b[39;49m)\n\u001b[0;32m    525\u001b[0m     \u001b[39msuper\u001b[39m()\u001b[39m.\u001b[39m\u001b[39m__init__\u001b[39m(filepath_or_buffer, storage_options\u001b[39m=\u001b[39mstorage_options)\n",
      "File \u001b[1;32mc:\\Users\\User\\AppData\\Local\\Programs\\Python\\Python39\\lib\\site-packages\\pandas\\compat\\_optional.py:141\u001b[0m, in \u001b[0;36mimport_optional_dependency\u001b[1;34m(name, extra, errors, min_version)\u001b[0m\n\u001b[0;32m    139\u001b[0m \u001b[39mexcept\u001b[39;00m \u001b[39mImportError\u001b[39;00m:\n\u001b[0;32m    140\u001b[0m     \u001b[39mif\u001b[39;00m errors \u001b[39m==\u001b[39m \u001b[39m\"\u001b[39m\u001b[39mraise\u001b[39m\u001b[39m\"\u001b[39m:\n\u001b[1;32m--> 141\u001b[0m         \u001b[39mraise\u001b[39;00m \u001b[39mImportError\u001b[39;00m(msg)\n\u001b[0;32m    142\u001b[0m     \u001b[39melse\u001b[39;00m:\n\u001b[0;32m    143\u001b[0m         \u001b[39mreturn\u001b[39;00m \u001b[39mNone\u001b[39;00m\n",
      "\u001b[1;31mImportError\u001b[0m: Missing optional dependency 'openpyxl'.  Use pip or conda to install openpyxl."
     ]
    }
   ],
   "source": [
    "### covid 번역\n",
    "def ppg_translate_txt(txt):\n",
    "    \"\"\"naver papago translate api\n",
    "\n",
    "    Args:\n",
    "        id (str): naver api id\n",
    "        pw (str): naver api secret_\n",
    "        txt (str): befor translate text\n",
    "        fromNa (str, optional): . Defaults to 'ko'.\n",
    "        toNa (str, optional): . Defaults to 'en'.\n",
    "\n",
    "    Returns:\n",
    "        _type_: DataFrame, after translate text\n",
    "    \"\"\"\n",
    "    \n",
    "    params = {\n",
    "        'source': 'ko',\n",
    "        'target': 'en',\n",
    "        'text':txt\n",
    "    }\n",
    "    \n",
    "    headers = {\n",
    "        \"Content-Type\": \"application/json\",\n",
    "        \"X-Naver-Client-Id\": CLIENT_ID,\n",
    "        \"X-Naver-Client-Secret\": CLIENT_SECRET\n",
    "    }\n",
    "    response = requests.post('https://openapi.naver.com/v1/papago/n2mt', json.dumps(params), headers=headers)\n",
    "    \n",
    "    return response.json()[\"message\"][\"result\"][\"translatedText\"]\n",
    "\n",
    "covid = pd.read_excel('../excel/covid.xlsx')[['category', 'title']].apply(ppg_translate_txt)\n",
    "covid"
   ]
  },
  {
   "cell_type": "code",
   "execution_count": null,
   "metadata": {},
   "outputs": [],
   "source": []
  }
 ],
 "metadata": {
  "kernelspec": {
   "display_name": "Python 3.9.13 64-bit",
   "language": "python",
   "name": "python3"
  },
  "language_info": {
   "codemirror_mode": {
    "name": "ipython",
    "version": 3
   },
   "file_extension": ".py",
   "mimetype": "text/x-python",
   "name": "python",
   "nbconvert_exporter": "python",
   "pygments_lexer": "ipython3",
   "version": "3.9.13"
  },
  "orig_nbformat": 4,
  "vscode": {
   "interpreter": {
    "hash": "cf92aa13fedf815d5c8dd192b8d835913fde3e8bc926b2a0ad6cc74ef2ba3ca2"
   }
  }
 },
 "nbformat": 4,
 "nbformat_minor": 2
}
