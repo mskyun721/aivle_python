{
 "cells": [
  {
   "cell_type": "code",
   "execution_count": 1,
   "metadata": {},
   "outputs": [],
   "source": [
    "#기본 라이브러리들\n",
    "import numpy as np   # 수치연산\n",
    "import pandas as pd  # 데이터프레임(2차원) \n",
    "import matplotlib.pyplot as plt  # 그래프\n",
    "import seaborn as sns\n",
    "\n",
    "# 스케일링\n",
    "from sklearn.preprocessing import *\n",
    "\n",
    "# 데이터 분할\n",
    "from sklearn.model_selection import train_test_split  \n",
    "\n",
    "# 모델링\n",
    "from sklearn.linear_model import LinearRegression\n",
    "from sklearn.neighbors import KNeighborsRegressor, KNeighborsClassifier\n",
    "from sklearn.tree import DecisionTreeRegressor, DecisionTreeClassifier, plot_tree\n",
    "from sklearn.svm import SVC, SVR\n",
    "\n",
    "# 검증\n",
    "from sklearn.metrics import *\n",
    "\n",
    "# 성능\n",
    "from sklearn.model_selection import RandomizedSearchCV, GridSearchCV\n",
    "import statsmodels.api as sm"
   ]
  },
  {
   "cell_type": "markdown",
   "metadata": {},
   "source": [
    "# 1. Modeling"
   ]
  },
  {
   "cell_type": "markdown",
   "metadata": {},
   "source": [
    "- 데이터로부터 패턴을 찾아 수학식으로 정리\n",
    "- 오차가 적은 모델을 만드는 과정"
   ]
  },
  {
   "cell_type": "markdown",
   "metadata": {},
   "source": [
    "### 목적\n",
    "- 샘플을 가지고 전체를 추정"
   ]
  },
  {
   "cell_type": "markdown",
   "metadata": {},
   "source": [
    "### 패턴을 찾는 방법 ( 머신러닝 알고리즘 )\n",
    "\t- 답이 있는 문제(지도학습) : 답을 알려주면서 패턴을 찾게하기. 숫자(회귀)와 범주(분류)의 답\n",
    "\t- 답이 없는 문제(비지도학습) : 비슷한 데이터끼리 모아서 데이터 안에서 패턴을 찾기\n",
    "\n"
   ]
  },
  {
   "cell_type": "markdown",
   "metadata": {},
   "source": [
    "### 오차 : 실제 값 = 모델 + 오차\n",
    "- 자료가 벗어나는 정도 ∑(실제 값 - 모델)^2\n",
    "\n",
    "\n"
   ]
  },
  {
   "cell_type": "markdown",
   "metadata": {},
   "source": [
    "##### 평균\n",
    "- 이탈도 : 관측 값과 모형의 차이"
   ]
  },
  {
   "cell_type": "markdown",
   "metadata": {},
   "source": [
    "### 목표 : 오차의 최소화"
   ]
  },
  {
   "cell_type": "markdown",
   "metadata": {},
   "source": [
    "# 2. Linear Regression"
   ]
  },
  {
   "cell_type": "markdown",
   "metadata": {},
   "source": [
    "### 과정 : 데이터확인 및 전처리 -> 선언(설계) -> 학습(모델링) -> 검증(예측, 평가)"
   ]
  },
  {
   "cell_type": "markdown",
   "metadata": {},
   "source": [
    "##### 데이터 확인 및 전처리"
   ]
  },
  {
   "cell_type": "code",
   "execution_count": 5,
   "metadata": {},
   "outputs": [
    {
     "data": {
      "text/html": [
       "<div>\n",
       "<style scoped>\n",
       "    .dataframe tbody tr th:only-of-type {\n",
       "        vertical-align: middle;\n",
       "    }\n",
       "\n",
       "    .dataframe tbody tr th {\n",
       "        vertical-align: top;\n",
       "    }\n",
       "\n",
       "    .dataframe thead th {\n",
       "        text-align: right;\n",
       "    }\n",
       "</style>\n",
       "<table border=\"1\" class=\"dataframe\">\n",
       "  <thead>\n",
       "    <tr style=\"text-align: right;\">\n",
       "      <th></th>\n",
       "      <th>TV</th>\n",
       "      <th>Radio</th>\n",
       "      <th>Newspaper</th>\n",
       "      <th>Sales</th>\n",
       "    </tr>\n",
       "  </thead>\n",
       "  <tbody>\n",
       "    <tr>\n",
       "      <th>0</th>\n",
       "      <td>230.1</td>\n",
       "      <td>37.8</td>\n",
       "      <td>69.2</td>\n",
       "      <td>22.1</td>\n",
       "    </tr>\n",
       "    <tr>\n",
       "      <th>1</th>\n",
       "      <td>44.5</td>\n",
       "      <td>39.3</td>\n",
       "      <td>45.1</td>\n",
       "      <td>10.4</td>\n",
       "    </tr>\n",
       "    <tr>\n",
       "      <th>2</th>\n",
       "      <td>17.2</td>\n",
       "      <td>45.9</td>\n",
       "      <td>69.3</td>\n",
       "      <td>9.3</td>\n",
       "    </tr>\n",
       "    <tr>\n",
       "      <th>3</th>\n",
       "      <td>151.5</td>\n",
       "      <td>41.3</td>\n",
       "      <td>58.5</td>\n",
       "      <td>18.5</td>\n",
       "    </tr>\n",
       "    <tr>\n",
       "      <th>4</th>\n",
       "      <td>180.8</td>\n",
       "      <td>10.8</td>\n",
       "      <td>58.4</td>\n",
       "      <td>12.9</td>\n",
       "    </tr>\n",
       "  </tbody>\n",
       "</table>\n",
       "</div>"
      ],
      "text/plain": [
       "      TV  Radio  Newspaper  Sales\n",
       "0  230.1   37.8       69.2   22.1\n",
       "1   44.5   39.3       45.1   10.4\n",
       "2   17.2   45.9       69.3    9.3\n",
       "3  151.5   41.3       58.5   18.5\n",
       "4  180.8   10.8       58.4   12.9"
      ]
     },
     "execution_count": 5,
     "metadata": {},
     "output_type": "execute_result"
    }
   ],
   "source": [
    "# 깃허브에 올려 놓은 예제 데이터를 가져와서 '데이터프레임'에 저장합니다.\n",
    "path = 'https://raw.githubusercontent.com/DA4BAM/dataset/master/advertising.csv'\n",
    "data = pd.read_csv(path)\n",
    "\n",
    "# 데이터프레임을 살짝 열어 봅니다.(상위 5개 행 조회)\n",
    "data.head()"
   ]
  },
  {
   "cell_type": "markdown",
   "metadata": {},
   "source": [
    "1) 데이터를 X와 y로 나누기\n",
    "> * **X** : **features**, input, 조작변수, 요인, (독립변수)\n",
    "> * **y** : **target**, output, 결과변수, label, (종속변수) "
   ]
  },
  {
   "cell_type": "markdown",
   "metadata": {},
   "source": [
    "![image.png](data:image/png;base64,iVBORw0KGgoAAAANSUhEUgAAAeMAAAEpCAYAAACgBErqAAAgAElEQVR4Ae2debBkZ3mfG5lgh83scUjyR+IyhhpKkUBIkFQqSaUqULiyaBhGM7ITUoY/XC7tg/kDiCwWIbRhjDEKihZwbExhQwhFsKuCVYIpNDN3vzPSzNyl7yx3X3q9e9/ll3pP60zfbvXynr59+7TuPF311elzu6dPz/O9532+9ztLJ8QjPgJ/8RfSwYPSoUPS178e3/dgyxCAAAQgECuBRKxbv9o3fscdUiJRbB/5yNVOg/8/BCAAgauWADKOs+uPHSvJ+OjROL8J24YABCAAgRgJIOMY4QsZx0mfbUMAAhDoGALIOM6uQMZx0mfbEIAABDqGADKOsyuQcZz02TYEIACBjiGAjOPsCmQcJ322DQEIQKBjCCDjOLsCGcdJn21DAAIQ6BgCyDjOrkDGcdJn2xCAAAQ6hgAyjrMrkHGc9Nk2BCAAgY4hgIzj7ApkHCd9tg0BCECgYwgg4zi74s47Szf9sFti8oAABCAAgauSADKOs9s/+1np9a8vtk98Is5vwrYhAAEIQCBGAsg4Rvi6fFn6xS+k556Tksk4vwnbhgAEIACBGAkg4xjhs2kIQAACEICAEUDGxAEEIAABCEAgZgLIOOYOYPMQgAAEIAABZEwMQAACEIAABGImgIxj7gA2DwEIQAACEEDGxAAEIAABCEAgZgLIOOYOYPMQgAAEIAABZEwMQAACEIAABGImgIzj7IDTp6W//Evpu9+Vurri/CZsGwIQgAAEYiSAjGOEr09+snRv6ltvjfObsG0IQAACEIiRADKOEb7uvrsk48OH4/wmbBsCEIAABGIkgIxjhC9+QjFO+mwbAhCAQMcQQMZxdgUyjpM+24YABCDQMQSQcZxdgYzjpM+2IQABCHQMAWQcZ1cg4zjps20IQAACHUMgkPH29nbHfKH98kVcTCPK2PWZ+wUg/w8IQOBlSYA81Vy3JdbX12WNR2sJbG5uanV1tf6HRpDx2tqaNjesnzZpdRlsaGVlWVuba3Cqy2lT2i5oZWVFUgFWDVgVCqtaWzNW7H+1GWxJKu5/21u2/9k6vKozKLJaWlrS1laxGE5sbGxoeXlZ3/72t/XUU0/p6aefpu2CwZNPPhmwnJ+fl7Gt+4gg483NguZSW3rga736wh916/4/plUy+PxXuvS1JwaVSi/r745f1r0PnYRTjTj5w4dO6q9/PKpMblXf+NYZGbtKnqx364tf7Q7YDL4wp/GpfJHTV9n3qsXG5x/t0p88NahcflU/+bsL+twjxFQ1Tva3+x45pe//5IJWVpYUziQE09RDQ0O67rrrdODAAV177bW0XTAwhu95z3v0s5/9rK6HgxcjyNje/9PjE0q8+VElXvugEm94mFbJ4Fe+rDe98zGdOTulOz7zUyVecT+MKhmF69fcrw/f+gMNjc7o7dc9rsSvfBlWIZudy9c/pMSrv6zHvtWrZ44ng+cJ+9vO9/C8yOOXH9BbD/wPjY7N6WO3/0SJVz0Ap1qx8cov6UNHf/jiDN6LlbEl+eHhYd144426/vrrdcMNN9B2wcAYvv/979fx48ejyfjIkQbv39Yzv5jUNW//qhJvfkSJf/AVWiWDX31Y//Dab+r5c1O6595nioKpfA/rxbj5+1/Wf/rYDzWcnNE/vfEJJX71YeKpWmy89dFAKN/8sz49+4uxolzsb9Xee7X/7fUP6R9f/7iSF+b08bv/VonXPQSnWjHxmgf1H/7rj7S5YYcyK2R80003BRXd+973PtGaZ2BV8Qc+8AGfjG+/vXQHroMHXTJ+5T/6YyXe8qgSv/ZHtEoGb3xEb//njwcyPvaHzyjx6gdhVMkoXH/Ng/rP/60o439205NKvPERWIVsdi7f9hUl3vSIHv9fL8r4TY8oYX/b+R6eF3m84WH9k/f8z0DGn7jnb4sDPNhUj5XXPaT/+DFkvKeDjUgy/slPFNyFy+5RbT8WUfdRrIyRcZ1BCDKuvuNXS4jI2McKGfs4WYwhYz8rZNx8xeudLYgk47ryrXwRGTesRpCxPxkgYx8rZOzjhIz9nIwVMkbGDYVWrYp6ufwNGfsTAjL2sULGPk7I2M8JGe+9iK16pjKuM42811JHxv6EgIx9rJCxjxMy9nNCxsh4X1fFFuDI2J8QkLGPFTL2cULGfk7IGBkj4xirdtsBO6khY19/IGMfJ2Ts54SMkXFHyWAvxERl7E8IyNjHChn7OCFjPydkjIyRcYdVp3sxIPF+JjL2JU9k7OOEjP2ckDEyRsbI+EoMIGNf8kTGPk7I2M8JGXegjO0Xc+bnpYUFaWmp8sLiinWuM74iEgvmao1p6upcqrFCxj5WyNjHyWKMm374WXGd8d4LOdKlTV/9qnTdddL110uf/WyFfCtXkXFVAe8UDTL2JwNk7GOFjH2ckLGfk7FCxh0mY+5NHS2Ad4q32nNk7OeJjH2skLGPEzL2c0LGey/iyDf9iPQTilTGVMY1puerDUwa/Q0Z+5InMvZxQsZ+TsgYGTeUWaME3umvUxn7EwIy9rFCxj5OyNjPCRkjY2Tcwsqy0wcmjb4fMvYlT2Ts44SM/ZyQMTJGxsj4SgwgY1/yRMY+TsjYzwkZI+MridiCYT82pqn9/YqMfayQsY8TMvZzQsbIeF8KeOegAhn7EwIy9rFCxj5OyNjPCRkjY2S8T2cEdg5IvM+RsS95ImMfJ2Ts54SMkTEyRsZXYgAZ+5InMvZxQsZ+TsgYGV9JxBYM+7ExTe3vV2TsY4WMfZyQsZ8TMu5AGXMHrmgB3GgAgYz9PJGxjxUy9nFCxn5OyLgDZfzww9Jv/qb0zndKn/pU5c2oK9a5A1fDah4Z+xMCMvaxQsY+TsjYzwkZd6CMFxeliQlpclLKZivkW7mKjJFxCw8vIGNf8kTGPk7I2M8JGXegjCt9W3cdGSNjZNwwBizRtbIhYz9PfkLRz4pfbdp7IUf6CcW68q18ERk3TLJMU/uTAZWxjxUy9nGiMvZzojLeexFH/tWmSt/WXUfGyLiFVR8y9iVPZOzjhIz9nJAxMm4oMwuSl3OjMvb3HzL2sULGPk7I2M8JGSPjl7VoPYMEZOxPCMjYxwoZ+zghYz8nZIyMkfHLvPL3DEi870HGvuSJjH2ckLGfEzJGxsgYGV+JAWTsS57I2McJGfs51ZPx+fPnde211+pd73qX3v3ud9N2wcAYXnfddXr22Wfrno7VzIv/7+cTSrzxESVe/WUlXv8QrZLBqx7QG97xDZ05O6nbP/1TJRJfhFElo3A98UV96Oj3NTQ6o1+79ptKvOoBWIVsdi5f+6ASv/yAvvF0j545ngyeJ+xvO9/D8yKPv/clvfldj2l0bE7/5bb/q8QrvwSnWrFxzf3690f+t7Y2VyVtBzpIbG9v6+LFizpy5IgOHTqkw4cP03bBwBjeeuut6u3tlbGt+/jpT6V775Xuu0/64Q/rvnVra0un+ud07b/9Mx34l0/rwL/+Fq2SwQee0r+5+XuBYB78kxM68N4nYFTJKFy/4YlgwDJ2aU4fPPLXOvCBp2AVstm5/Fff0oF/8ZS+93+e16ney8HzA/a3ne/heZHH+5/Uvzv0PV26PK///uDPdeCmJ+FUKzbe94Ru+/QzKqyvlGS8tramzc1NLS0t0VrIwMy6smKg6zzuuENKJIrtIx+p80ZpddVGUNLy8iKtHoOlReXzeS0twqlRrCy9yGp5CVaNWC0u5mWt0fuu+tfD/Y+Yahgra2urQa4Ki7YEMt6bQYiJs6GM77mnJOMjR1wytgQaJE+WVTmEglk0GcOoLoOQFTHVOFYCGefzdXkSb4sKY4r9r3FMIeMWVr/1ZhNcMj52rCTjo0fdMraAp9VmYJWxJQMY1WdgjIJZBOKpYayYjGFVP57C/Y39z8fJZjuNVVllvLGxobm5OVoLGRjTcGq5pmUjynhra1tzcynNzqWCpT2nlRgEXObTyuVySqezmp0tvQanchbGJpXKKJ/La34+TUzV2ZcsrjKZrLK5HJwacLJYyuXyQWyRp8r3uZ05yNhkc8XB8BUZmzRsqnpgYED9/f20FjAYHBwMhFAoFGp6OHghgowL6+taWS2orz+p7t5R9fbRKhl0945oYPBCkAguXJhWV/cwnGrESVf3iIaGJwLJnD5zQcaukifrxX3M2ExOzmluPgWnGvFksWKcBs9cCGJqdHRS3T3EVK19yNiMjc1qeXmpVBmHMu7r61NPT09wFrCdCUxrjoExtEFNNptVS2VcWNfySkHdPaM61TUiS6a0cganuobV1z8WyHhsbEonTp6HUY04OXlqWOfOjyudyWpgcEzGjngqj6eQx6muIU1MFGVsz8O/syznZTHUPzAWyHhkZFIWYzAqZxTyMDbJ0RktLy+/VMYmEBOwSZnWPANjaLMMeyXjnt7RIMBtZEUrZ2CVsCUDm341GZ88NQSjGnFiifP8UFHGg6fHglkE4qk8nkIeFlehjO15+HeW5byMjQ3sbErfZGwxBqNyRiEPY5NMIuM9HWwg4+rBFwbhXi6RsZ89MvazQsY+VsjYx8lyIDJuQ9WPjP0B2WoxI2M/e2TsZ4WMfayQsY8TMm6DiG16Hxn7AxIZx8cKGfvZI2MfK2Ts44SMO1HGd99dus74llvqnnldePEELo4Z1w54SwYcM67NZ+fgBxn7OBkzZOxjhYx9nJBxJ8o4wh24kHHjQEfGjRmFQkbGflbI2McKGfs4IeNOlHFPj/TEE9KTT0rHj1MZ1zjzNxRIoyUyjpYMOJvaxwsZ+zlxNrWPlQ2GOZt6j6Uc6ZhxXf2Wv0hl3DjIkXFjRuGAhsrYzwoZ+1gZJ2TsY4WM91jEkU/gKvdt3TVk3DjIkXFjRsjYzyhkhYx9zJCxj5PFFTJGxvv6InxkHC0ZME3t44WM/ZyojH2skDEyRsa7PC4dVksv9yXT1L6kaf2MjH2sqIx9nKiM2yBipqn9wbgXMqMy9vNHxn5WyNjHChn7OCFjZLyvq+KwguE6Y19CQMY+TmFccW/qxryQcWNGYRHCNHUbhMzZ1P6ADAOzVUsqYz97ZOxnRWXsY4WMfZws3yFjZLyvq2NkHC0ZcAKXjxcy9nPiBC4fK2TcaTKenpb6+6WBAWl8nEubdnlyFTL2JYJwZI6MfbyQsZ8TMvaxQsadJuP77pPe8hbprW+Vfu/3kDEybtvMBdPUvqRpAxdk7GNlnJCxjxUy7jQZ33ln6YciDh1CxsgYGe8yBlp1/sHOz0HGPsEgYx+ncGaK22HusZAjncB17FhJxkePIuNdJmJLBpxN7UsIVMY+TlTG0ThRGft4URnvsYgjX2eMjFtaCSJjXyIIR+YcM/bxojL2c0LGPlbIGBm3VH47p/I64Tky9iUCZOznZKyQsY+XcULGPlbIGBkj411OhXfCoKMV34Fpal/SRMbROCFjHy9kjIyRMTIOYgAZ+5ImMo7GCRn7eCFjZIyMkTEyjhgDTFP7BMM0tY+TDfCQMTJGxhETcSumhDvxM6iM/YkTGftYIWMfJ2TcBhFzNrU/GPdCUJYMuLTJ1wfI2MfJ4hQZ+1ghYx8nZIyM93VVHCZNZOxLCMjYxymMK361qTEvZNyYkcUTMu5EGd92W+mmHzffzE0/djmFTGUcLRlwnbGPF5WxnxMncPlYccy4DUKOdAeup5+WPvxh6bd+S3r0UWSMjNs2e0Fl7EuaVMbROCFjHy9k3Gky3t6WCgVpY0Pa2kLGyBgZ7zIGwmnAVi6pjH2CYZrax4lp6jaIOPIJXHX1W/5iobCu5ZWCenpH1dXt7/RWJqVO/yymqf1xQWXsZ4WMfayQsY8TMkbGbau64pI2Mo6WDDhm7OOFjP2cmKb2sao7TW1VXU9Pj+yYJ615Bsawv79f2WxWBZuCbtEjrIzDUZUlCFo5g1NdQ+rrTyqVyiiZnNKJk+dhVCNOTp4a0rnz40pnshoYTMrYEU/l8RTyMDbh2dRwqs7IWBmb/oGkMpmshocnZTEWMmRZzs3YjI7OaHl5Wdt2uFJSwoSxtram06dPa3BwMFjac1pzDIzhmTNnlM/ntb6+3iIVS4X1da2ubgQ3YjfhWNDTyhn09Y/qzPMXlU5ndPHiTDClD6NyRiGP3r5RjYxOBonz+RcuytiFr7EsZ2b729TUvOYX0sFgDz7lfEIeFkMWSyZjGwxbjIWvsSxnZmwuXJzT8vJSScYm4o2NDaXTaVoLGWxtbWl1dbVlMrZ+sgFUOp0NZGPCoVVhkMkGA6FsNgefBjGSyRZZWfIklqrE0hV+WeVyOeVyefa/K0yq87JYskKE/a86n5372eLSkhYX8yUZW/Vm4kDGrR2M2ACnlTK2zyrKOKd0KqcU7SUMjEs6nbuSDGBUP04ymSIrY0ZM1WZlbLLZfFHG7Hcv2e/C/Wzn/mexRUzVjiljtrS0osXFxZKMbZraZDw9PU1rEYOZmZlg6r+V09RWGdvVT9PTGU1NpWk1GExPp4OkmUplNTkJp1qxYmzm5qziy2tmhpiqxSn8uw1YrNoL11lW37csliym5uaIqXoxYvtfNruspSWbpi5e1hocMzYZm0BorWEwOzu7ZzK2YDfh0KozmJkpydh2BjhVZ2Bs5ueLMp6dJaYaxUko40bvu9pft1gyGc/PE1P1YsH2P2TchkGHW8bf+Y50+LB0yy3Sn/5p3ePLYWWMjKvLJQx8ZFyfT8gJGfs4hbyQsY8XMvZxQsZtELHNLrhlHOHe1MjYF+TI2McJGfs4IeNonJCxjxcy7jQZHztW+qGIo0epjFsw/Y6M/cmAaWofKxMylbGPFTL2cULGyHjfH0NFxv5kgIx9rJCxnxMy9rFCxsgYGbeg+g6nLl/OS6apfUkz7GMqYx8vZOzjhIyRMTJGxkEMIGNf0kTG0TghYx8vZIyMkTEyRsZNxACVsU8yyNjHCRkjY2TcRCIOq6P9tKQy9iXNsM+RsY8XMvZxQsbIGBkjYyrjJmIAGfskg4x9nJAxMkbGTSTisDraT0sqY1/SDPscGft4IWMfJ2SMjJExMqYybiIGkLFPMsjYxwkZd5qM77yzdNOPj36Um340kSTDyiVccp2xPxlwnbGPlcUWMvaxQsY+Tsi402T8mc9Ir32t9LrXSR//ODJGxm2buWCa2pc0w0EeMvbxQsY+Tsi402R86ZL0859Lx49LIyPIGBkj4xbEQCjQVi6RsU8yyNjHCRl3mozr6rf8RX4owhfkTFP7OFEZ+ziFQkfGPl7I2McJGSPjtlVeYRJr9xIZ+5MBx4x9rCyGkbGPFTL2cULGyBgZd+g0aLsHLVTGvqQZ9gsy9vFCxj5OyBgZI2NkHMQAMvYlTWQcjRMy9vFCxsgYGSNjZNxEDFAZ+ySDjH2ckDEyRsZNJOKwOtpPSypjX9IM+xwZ+3ghYx8nZIyMkTEypjJuIgaQsU8yyNjHCRkjY2TcRCIOq6P9tKQy9iXNsM+RsY8XMvZxQsadJuPnn5e+9z3pr/5K6ukpv7C4Yo3rjH1BzqVNPk7I2McJGUfjhIx9vJBxp8n4D/5AesUrpGuukX77tyv0W76KjH1Bjox9nJCxjxMyjsYJGft4IeNOk/Hdd5d+KOLw4XL7VqwhY1+QI2MfJ2Ts44SMo3FCxj5eyLjTZHzsWEnGR49W6Ld8FRn7ghwZ+zghYx8nZByNEzL28ULGyJgTuDiBi7Opm4gBTuDySQYZ+zghY2SMjJtIxGF1tJ+WVMa+pBn2OTL28ULGPk7IGBkjY2RMZdxEDCBjn2SQsY8TMkbGyLiJRBxWR/tpSWXsS5phnyNjHy9k7OOEjJExMkbGVMZNxAAy9kkGGfs4IWNkjIybSMRhdbSfllTGvqQZ9jky9vFCxj5OyBgZI2NkTGXcRAwgY59kkLGPEzJGxsi4iUQcVkf7aUll7EuaYZ8jYx8vZOzjVFXG6+vr2tra0uzsLK1FDObm5mRcrdV93H576aYfBw/Wfavd9GN7W5qdzWpmJkOrwWB2Nq1cLq9UKqvpaTjVihVjs7CQDVjNzRFTtTiFfw9lHK6zrL5vWSzZ/rewUP11uJW45HLLWlpa0rYldkmJ1dVVbW5uKp/P01rIwACvrKzUFax+/GPprrskuy3md75T973WT/awfrJgp1VnkM+V4hhG1RmFXMJ9PlxnWZsXrGqzqYybkJXti5WvsV5kYozMD7a8IuNCoRBUcMlkUqOjo7QWMBgbGwtAWzXbqsf6+poKG1saGZ3U8MiERmgvYWBckskpZbM5TU3Na2ho/CXvgVsxdoaGJ3R5fFbZXE5jF6aIqTr7k8XV3Fxa6XQWTg04JcemlMvlNDExp+Fh8lStfGNs7BBIWWW8sbEhk0Zvb6+6urrU09ND2wUDY9jX16dMJiMb6LTqUSisa2m5oFNdwzpxckgnT9EqGZw4eV69fUmlUhklk5P6xXPn4FQjTp47cV5nz11WOpNV/0BSxq6SJ+vFfczYjI/PanYuBaca8WSxYpz6+pPKZLIaGpqQxRgxVD1PG5uRkWktLy+XKuNQxv39/YGQTSS05hnYoGZgYEDZbLblMl5eKaind1Rd3SPq7qFVMujqHlb/wFgg47GxqSARVL6H9WLc2KDu/NB4IOPB02MydrCpvk8ZG6v05uZTcKqTd4zTwOBYIOORkcmgcCCmqseU7X/J5Awy3svBBjKuHnzt2CmRsZ89MvazQsY+VsjYx8lyITJuQ9WPjP0B2WpBI2M/e2TsZ4WMfayQsY8TMm6DiK3iRsb+gETG8bFCxn72yNjHChn7OCFjZLzvjwlaMuCYsS8hIGMfJ0ucyNjHChn7OCFjZIyM65x80uoqvdM/Dxn7Eycy9rFCxj5OyLgTZWw38kilpHRaanCDELu0ibOp6we7JQMq4/qMwkECMvZxMl7I2McKGfs4IeNOlPHXvia9973SDTdI995b95JkZNw40JFxY0bI2M8oZIWMfcyQsY8TMu5EGe+8N/XNNyPjXU4jI+NoyYDrjH28kLGfE9cZ+1jZzBTXGe+xlCOdTX3sWOmHIo4eRcbIuG3H9Zmm9iVNq2KQsY8VlbGPE5XxHks4vJEIMvYHZDgN2KollbGfPTL2s0LGPlbI2McJGSPjtlVdrZJr1M9BxtGSAdPUPl7I2M+JaWofK6ap2yBkKmNfMEYVref9yNjPnsrYzwoZ+1gZJ2TsY4WMkfG+ro6RsS8R2MAGGftZIWMfK2Ts4xTuf5zAtcdCpjL2B6Sn2o3yHmTsZ4+M/ayQsY8VMvZxQsZ7LGFO4PIHYhTBRnkvMvb3ATL2s0LGPlbI2McJGSPjfT1FbQGOjKMlA07g8vFCxn5OHDP2seKYcRuEzDS1LxijVLze9yJjP3sqYz8rZOxjZZyQsY8VMu40Ge+8A9fBg9z0g5t+tG32Ahn7kmY44zIxMae5+VQw++IdHF5t70PG/phCxp0m44cekn7jN6R3vEP65CeRMTJGxruMgb0QIJWxTzLI2MfJYhQZd5qMcznp8mVpfFzKZJDxLhOxJQN+tcmXEKiMfZwscSJjHytk7OOEjNsgYjujOtIx47r6LX+RX21qHOjIuDGjsHJExn5WyNjHChn7OCFjZNy2KdAw4bd7iYyjJQPOpvbxQsZ+TpzA5WPFNHUbhExl7AvGvRA1MvazpzL2s0LGPlbGCRn7WCFjZLyvq2Nk7EsE4TQZlbGPFzL2c0LGPlbIGBkj412eJLYXFX0cn0ll7Eua1jfI2MeKytjHKRwMc2/qPRYy09T+gGy1hKiM/eyRsZ8VMvaxQsY+Tsh4jyXc1L2py0+YrrvG2dSNAx0ZN2YUDoCQsZ8VMvaxQsY+TsgYGe/rKWoLcGQcLRlwzNjHCxn7OXHM2MeKY8ZtEHKkaepnnpE+/3npC1+QfvQjKuNdHs9Fxr5EEI7MkbGPFzL2c0LGPlbIuNNkfOedUiJRbIcOIWNk3LbZC6apfUkznHHh3tSNedmgBRk35hQOhjmBa4+FHKkyvueekoyPHEHGyBgZ7zIGLNG1ulEZ+5giYx8nZLzHEm7qBK5jx0oyPnoUGe8ykVoy4N7UvoRAZezjZIkTGftYIWMfJ2SMjFteMbS6Atnt5yHjaMmAY8Y+XsjYz4lpah+ruseMrbLr7u4OfujAplppzTEwhv39/cpkMioUCnWrXUWojDc21rW0UlBX94hOnhoOfoLLOpRWYnDy1JD6+pNKpTJKJqf03Inz8KkRIydODunc+ctKZ7IaGEzK2BFLpVjaycLYjI8Xf88YTtUZGS9j0z+QVCaT1fDwpCzGdnLkeYmdsRkdndbKyoq2t7cDTyRMGOvr63rhhRd05swZPf/887RdMDCGZ8+e1eLiYktlbH20urah02cuavD0BVoVBjYqf+HsJaXTWV26NBMkBlhVjxVjNZqcDBLn2XOXghNvYFWD1ekxTU3Na34hrYHTY+x7VfY9i51w/zMZX7gwTUzV4BSyunRpTktLSyUZr62taXNzU+l0mtYiBlYVb21tBaOeuqVxhMp4dXU1+CgTTTqdoVVhkArYZJXP55XJ5mBUhdHO2LGkaaysOi6yI6528gmfG5tcLhc0ONWOkZ37XzZrMVX7vSHbq3m5uLQc7H9XKmOTsYljYWGB1iIGqVQqqIqNbd1HBBmvra3KZjMWFnKan8/SajBYWLDEmVcmA6dGcZJO54JkYMwavfdqfz2bNRnn4VRjvwvjw2LJBnipFDEVMqm1zOdXghnUKzLe2NgIZDwzMyNaaxjMzs7KRGxTy3UfkWRsgyZpZiajqak0rQaDmZl0kDQtGUxOwqlWrBgbSxImmNlZYqoWp/DvNnAxIYfrLKvvWxZLxUELMVUvRmz/y2aXX5ym3go0ERwztsoYEbdGxMZxr2U8PZ0WrTqDnTK2nQFO1RkYm50yhlN1TiGXUMbhOsvqvHbKGEbVGRkX2/+QcRtmANwyvvvu0nXGt9xSt4guHk4oVsYEee0gR8a12eyMG2Ts4xQyQ8Y+XsjYxwkZt0HEkSrjnSC6ALUAAA4mSURBVHfgQsYtqWKRsT8ZUBn7WJmQkbGPFTL2cULGnSbjri7pm9+UHn9c+tnPqIxbMP2OjP3JABn7WCFjPydk7GOFjDtNxnX1W/4i09S+IEfGPk5MU/s4MU0djRMy9vFCxsi4JVPBYYLqxCUy9icDKmMfKypjPydk7GOFjJExMm7BVHgnDkKificqY1/SDLlyzNjHCxn7OCFjZIyMkXEQA8jYlzSRcTROyNjHCxkjY2SMjJFxEzFAZeyTDDL2cULGyBgZN5GIw+poPy2pjH1JM+xzZOzjhYx9nJAxMkbGyJjKuIkYQMY+ySBjHydkjIyRcROJOKyO9tOSytiXNMM+R8Y+XsjYxwkZd5qMZ2elwUHp9GlpcrL8wuKKNa4z9gU5lzb5OCFjHydkHI0TMvbxQsadJuPPfU5629uK7fd/v0K/5avI2BfkyNjHCRn7OCHjaJyQsY8XMu40Gd9xR+mHIg4dKrdvxRoy9gU5MvZxQsY+Tsg4Gidk7OOFjDtNxk3+nnGYIFi+NPCR8UuZVIsTZOzjFLLjmLGPFzL2cULGyJgTuDiBi7Opm4gBZOyTDDL2cULGyBgZN5GIw+poPy2pjH1JM+xzZOzjhYx9nJAxMkbGyJjKuIkYQMY+ySBjHydkjIyRcROJOKyO9tOSytiXNMM+R8Y+XsjYxwkZI2NkjIypjJuIAWTskwwy9nFCxsgYGTeRiMPqaD8tqYx9STPsc2Ts44WMfZyQMTJGxsiYyriJGEDGPskgYx8nZIyMkXETiTisjvbTksrYlzTDPkfGPl7I2McJGXeajG+7rXQHrptvrrjnVvkqd+DyBTk3/fBxQsY+Tsg4Gidk7OOFjDtNxk8+KX3wg9KHPiQ9/HC5fSvWkLEvyJGxjxMy9nFCxtE4IWMfL2TcaTLe2pLW14ttc7NCv+WryNgX5MjYxwkZ+zgh42ickLGPFzLuNBmX+7buGjL2BTky9nFCxj5OyDgaJ2Ts44WMkTEncHECF2dTNxEDnMDlkwwy9nFCxsgYGTeRiMPqaD8tqYx9STPsc2Ts44WMfZyQMTJGxsiYyriJGEDGPskgYx8nZIyMkXETiTisjvbTksrYlzTDPkfGPl7I2McJGSNjZIyMqYybiAFk7JMMMvZxQsbIGBk3kYjD6mg/LamMfUkz7HNk7OOFjH2c6sp4enpatNYwmJmZkV2KtG7XELfoEV7aND2dkXUkrToDS565XF6pVFaTk9XfA7t0wGZ+PhuwmpkhphrFRCjjRu+72l+3WLL9b36emKoXC5abstllLS0taXt7K7BEwoSxtbWl+fl5WosYLCwsqFAoBEKu6+Lvflc6elS69VbpscfqvtVkvL0tWQKl1WeQz+eVyeQ0N1f/fVczR2OTSuVkrBYW4NQoFrLZ/IuSgVU9VhZLFlM2GK73vqv9Ndv/8vmVchlbkt/c3FQuV9wxDSRt9wy2t7e1srJSV7CKcG/q1dXV4LPCvsnl86JVMMgV10NGtoRRdQY7GQWcXmQHr/q84FOdT8DFYihXyp2wqs3K9jnzw+Liora2toPcnrAKzqrj4eFhDQ0N0VrAYGRkRMvLy42nqY8dK/1QhFXIdR7WR+uFTZ0fGte585dpVRicPXdZwyMTymSympiY0wtnL8GpCieLn7PnLunipWllsjmNjE7I2BFX1RmcPX9ZMzMLSqXSsudwqs4g3P+y2ZzGx2eDGINVLVaXNDm58GJl/KKMNzY2gunU3t5edXd3q6enh7YLBsawr69PmUwmmKqu41cpgowLhXUtLRfU1T2ik6eGdaqLVsng5Kkh9fYllUpllExO6rkT5+FUI05OnBwKpJLOZNU/kJSxq+TJenEfMzbj43Oam0/BqUY8WawYp77+ZDAYHh6ekMUYMVQ9Txub0dHpoGizWVR7JEIZ9/f3y4RsIqE1z8AYDgwMKJvNtlzGyysF9fSOBkLu7hkRrZxBV/ew+gfGAhmPjU0FyQFG5YxCHpYkbZbFZDx4ekzGLnyNZTkzY2MzLSZjOJWz2RkrxmZgcCyQ8cjIZCDina/zvMTO9r9kcgYZ7+VgAxmXAq7dO58lA2Ts44+MfZwshpGxjxUy9nGymELGbaj6kbE/IFsta2TsZ4+M/ayQsY8VMvZxQsZtELFV3MjYH5DIOD5WyNjPHhn7WCFjHydkjIz3/TFBSwZMU/sSAjL2cbLEiYx9rJCxjxMyRsbImJPersQAMvYnTmTsY4WMfZyQMTK+kogtGPZjs2RAZezrW2Ts42T7CTL2sULGPk7IuBNlfNddpZt+fPSjdS9JtuuMubSpfrAj4/p8dg7AkLGfFTL2sULGPk7IuBNl/OlPS69+tfSa10i/+7vIeJcVOzKOlgy4ztjHCxn7OXGdsY+VDYa5zniPpRzpbOoLF6Rnny22oSFkjIzbdviAytiXNJmmjsYJGft4IeM9FnHkS5vq6rf8RaapGwc5lXFjRuFUNTL2s6Iy9rEyTsjYxwoZI+O2VV5h0m/nEhn7EoH1CTL2s0LGPlbI2Mcp3P+Ypt5jIUeapi4vfuuuURk3DnRk3JhRODhCxn5WyNjHChn7OCHjPZZweL9rZOwPyFAMrVoiYz97ZOxnhYx9rJCxjxMyRsb7eoraAhwZR0sGnE3t44WM/Zw4ZuxjxTHjNgiZytgXjK2qhnd+DjL2s6cy9rNCxj5WxgkZ+1ghY2S8r6tjZOxLBOE0GZWxjxcy9nNCxj5WyBgZI+NdXsu8sxJ/OT+nMvYlTetjZOxjRWXs4xQOhjmbeo+FHGma+uxZ6fvfl37wA6mvj7OpdylKKuNoyYDK2McLGfs5URn7WFEZ77GII9/041Ofkq65RvqlX5J+53eQMTJu28wFlbEvaVIZR+OEjH28kHGnyXjnD0UcPoyMkTEy3mUM7MWhAypjn2CYpvZxYpq6DSKOXBkfO1b61aajR5HxLhMx09TRkgHT1D5eyNjPicrYx4rKuA1CjnTMGBm3tBJExr5EEI7MkbGPFzL2c0LGPlbIGBm3VH57MSW4m89Exr5EgIz9nIwVMvbxMk7I2McKGSNjZLzLqfDdDBY66d9aMqAy9iVOZOznhIx9rJAxMkbGyDiIAWTsS5pUxtE4IWMfL2SMjJExMkbGEWOAytgnGKapfZxsgIeMkTEyjpiIO2lquZXfhcrYnziRsY8VMvZxQsZtEDGXNvmDsZViCT/LkkH/wJhSqYzGxqZ08tTQvh58hP/vZpbI2B+ryNjHChn7ONn+SmXcBiFzaZM/IJuRSL1/g4z97JGxnxUy9rFCxj5OyLgNIo5cGd9+e+mmHwcPctOPXU4hI+NoyYCzqX28kLGfEydw+VhRGbdByJEq4x/9SLrtNsmk/Od/joyRcdum1amMfUnTqhhk7GNFZezjRGXcBhFHrozr6rf8xUJhXcsrBfX0jqqr29/p9aZ199trVMb+uEDGflbI2McKGfs4IWNk3LaqKy7JI+NoyYBpah8vZOznxDS1j1XdaWqbXu3u7lZPTw9tFwyMoVXImUxGhUKhvLzdxZpVxkvLhaAqPnlqODgbzzqUVmJgZ0/39iWDs6mTyUk9d+I8fGrEyImTQzp3/rLSmaz6B5LBmefEUimWdrKwuBofn9PcfApONeLJeBmnvv6kMpmshocnZDG2kyPPS/FlbEZHp7W8vKzt7e3ADAkTxtbWlkZGRjQ8PExrAYPR0VGtra1pfX19F/ot/6fr62va3JKGhid17vykzg/RKhmcOz+hkdFp5fNLmppK6YWz43CqESdnz03o8vi8FpeWNJqclrGr5Ml6cR8zNvPzWWVzeTjViCeLFeNkgllaWtLExILOnSOmau1Dtv9NT2cDVuZfeyRMGpubm8rlcsrn87QWMDCWBnhlZaXcqLtYW11dDUZQ9tm5XJ5Wh4HFMYx8DAJW8GoYL2FuJK4axxWsGjOyOFpeXtHi4mKpMjYRh80EQmsNA2Majnh24eAr/7S8j4qfTV9V9lWRy8bGRhDT29uVr7MexkyRzaaM1daWcSOmQjYvXRY5lVgRRy9lVGRieSrc/2q9h7+X4sdYhY9E+IQlBCAAAQhAAALxEEDG8XBnqxCAAAQgAIErBJDxFRQxPFlbkzIZKZuVVldj+AJsEgIQgAAEOoEAMo6zF77+denGG6WbbpLuuy/Ob8K2IQABCEAgRgLIOEb4wa0wE4ni/alvvjnOb8K2IQABCEAgRgLIOEb4Onas9EMRR4/G+U3YNgQgAAEIxEgAGccIHxnHCZ9tQwACEOgcAsg4zr6gMo6TPtuGAAQg0DEEkHGcXYGM46TPtiEAAQh0DAFkHGdXIOM46bNtCEAAAh1DABnH2RXIOE76bBsCEIBAxxBAxnF2BTKOkz7bhgAEINAxBJBxnF2BjOOkz7YhAAEIdAwBZBxnVyDjOOmzbQhAAAIdQwAZx9kVt99euunHwYNxfhO2DQEIQAACMRJAxjHC14MPSr/+68VmVTIPCEAAAhC4Kgkg4zi73X6t6eJF6dIlKZWK85uwbQhAAAIQiJEAMo4RPpuGAAQgAAEIGAFkTBxAAAIQgAAEYiaAjGPuADYPAQhAAAIQQMbEAAQgAAEIQCBmAsg45g5g8xCAAAQgAAFkTAxAAAIQgAAEYiaAjGPuADYPAQhAAAIQQMbEAAQgAAEIQCBmAsg4zg549lnp/vulL31J+vGP4/wmbBsCEIAABGIkgIxjhK877yzdm/rQoTi/CduGAAQgAIEYCSDjGOHrrrtKMj58OM5vwrYhAAEIQCBGAsg4RvjiJxTjpM+2IQABCHQMAWQcZ1cMDUl/8zfFdvp0nN+EbUMAAhCAQIwEkHGM8Nk0BCAAAQhAwAj8fyj1il6V4VORAAAAAElFTkSuQmCC)"
   ]
  },
  {
   "cell_type": "code",
   "execution_count": 6,
   "metadata": {},
   "outputs": [],
   "source": [
    "# 1) 먼저 x와 y로 분할\n",
    "target = 'Sales'\n",
    "x = data.drop(target, axis=1) # .drop(   , inplace = True)\n",
    "y = data.loc[:, target] # : 처음부터 끝까지  data['Sales']"
   ]
  },
  {
   "cell_type": "markdown",
   "metadata": {},
   "source": [
    "2. 데이터 train, validation 분리"
   ]
  },
  {
   "cell_type": "markdown",
   "metadata": {},
   "source": [
    "![image.png](data:image/png;base64,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)"
   ]
  },
  {
   "cell_type": "code",
   "execution_count": 7,
   "metadata": {},
   "outputs": [],
   "source": [
    "# 2) 전체에서 train : test = 7 : 3 으로 나눕니다.\n",
    "x_train, x_test, y_train, y_test = train_test_split(x, y, test_size=0.3)"
   ]
  },
  {
   "cell_type": "markdown",
   "metadata": {},
   "source": [
    "##### 선언(설계)"
   ]
  },
  {
   "cell_type": "code",
   "execution_count": 8,
   "metadata": {},
   "outputs": [],
   "source": [
    "# 알고리즘 불러오기 : 선형회귀\n",
    "from sklearn.linear_model import LinearRegression\n",
    "\n",
    "# 회귀 모델 평가 함수 불러오기\n",
    "from sklearn.metrics import mean_absolute_error #평균 오차 의미"
   ]
  },
  {
   "cell_type": "code",
   "execution_count": 9,
   "metadata": {},
   "outputs": [],
   "source": [
    "# 모델 선언 : 알고리즘을 어떻게 사용할지 설정\n",
    "model = LinearRegression()"
   ]
  },
  {
   "cell_type": "markdown",
   "metadata": {},
   "source": [
    "##### 학습"
   ]
  },
  {
   "cell_type": "code",
   "execution_count": 10,
   "metadata": {},
   "outputs": [
    {
     "data": {
      "text/html": [
       "<style>#sk-container-id-1 {color: black;background-color: white;}#sk-container-id-1 pre{padding: 0;}#sk-container-id-1 div.sk-toggleable {background-color: white;}#sk-container-id-1 label.sk-toggleable__label {cursor: pointer;display: block;width: 100%;margin-bottom: 0;padding: 0.3em;box-sizing: border-box;text-align: center;}#sk-container-id-1 label.sk-toggleable__label-arrow:before {content: \"▸\";float: left;margin-right: 0.25em;color: #696969;}#sk-container-id-1 label.sk-toggleable__label-arrow:hover:before {color: black;}#sk-container-id-1 div.sk-estimator:hover label.sk-toggleable__label-arrow:before {color: black;}#sk-container-id-1 div.sk-toggleable__content {max-height: 0;max-width: 0;overflow: hidden;text-align: left;background-color: #f0f8ff;}#sk-container-id-1 div.sk-toggleable__content pre {margin: 0.2em;color: black;border-radius: 0.25em;background-color: #f0f8ff;}#sk-container-id-1 input.sk-toggleable__control:checked~div.sk-toggleable__content {max-height: 200px;max-width: 100%;overflow: auto;}#sk-container-id-1 input.sk-toggleable__control:checked~label.sk-toggleable__label-arrow:before {content: \"▾\";}#sk-container-id-1 div.sk-estimator input.sk-toggleable__control:checked~label.sk-toggleable__label {background-color: #d4ebff;}#sk-container-id-1 div.sk-label input.sk-toggleable__control:checked~label.sk-toggleable__label {background-color: #d4ebff;}#sk-container-id-1 input.sk-hidden--visually {border: 0;clip: rect(1px 1px 1px 1px);clip: rect(1px, 1px, 1px, 1px);height: 1px;margin: -1px;overflow: hidden;padding: 0;position: absolute;width: 1px;}#sk-container-id-1 div.sk-estimator {font-family: monospace;background-color: #f0f8ff;border: 1px dotted black;border-radius: 0.25em;box-sizing: border-box;margin-bottom: 0.5em;}#sk-container-id-1 div.sk-estimator:hover {background-color: #d4ebff;}#sk-container-id-1 div.sk-parallel-item::after {content: \"\";width: 100%;border-bottom: 1px solid gray;flex-grow: 1;}#sk-container-id-1 div.sk-label:hover label.sk-toggleable__label {background-color: #d4ebff;}#sk-container-id-1 div.sk-serial::before {content: \"\";position: absolute;border-left: 1px solid gray;box-sizing: border-box;top: 0;bottom: 0;left: 50%;z-index: 0;}#sk-container-id-1 div.sk-serial {display: flex;flex-direction: column;align-items: center;background-color: white;padding-right: 0.2em;padding-left: 0.2em;position: relative;}#sk-container-id-1 div.sk-item {position: relative;z-index: 1;}#sk-container-id-1 div.sk-parallel {display: flex;align-items: stretch;justify-content: center;background-color: white;position: relative;}#sk-container-id-1 div.sk-item::before, #sk-container-id-1 div.sk-parallel-item::before {content: \"\";position: absolute;border-left: 1px solid gray;box-sizing: border-box;top: 0;bottom: 0;left: 50%;z-index: -1;}#sk-container-id-1 div.sk-parallel-item {display: flex;flex-direction: column;z-index: 1;position: relative;background-color: white;}#sk-container-id-1 div.sk-parallel-item:first-child::after {align-self: flex-end;width: 50%;}#sk-container-id-1 div.sk-parallel-item:last-child::after {align-self: flex-start;width: 50%;}#sk-container-id-1 div.sk-parallel-item:only-child::after {width: 0;}#sk-container-id-1 div.sk-dashed-wrapped {border: 1px dashed gray;margin: 0 0.4em 0.5em 0.4em;box-sizing: border-box;padding-bottom: 0.4em;background-color: white;}#sk-container-id-1 div.sk-label label {font-family: monospace;font-weight: bold;display: inline-block;line-height: 1.2em;}#sk-container-id-1 div.sk-label-container {text-align: center;}#sk-container-id-1 div.sk-container {/* jupyter's `normalize.less` sets `[hidden] { display: none; }` but bootstrap.min.css set `[hidden] { display: none !important; }` so we also need the `!important` here to be able to override the default hidden behavior on the sphinx rendered scikit-learn.org. See: https://github.com/scikit-learn/scikit-learn/issues/21755 */display: inline-block !important;position: relative;}#sk-container-id-1 div.sk-text-repr-fallback {display: none;}</style><div id=\"sk-container-id-1\" class=\"sk-top-container\"><div class=\"sk-text-repr-fallback\"><pre>LinearRegression()</pre><b>In a Jupyter environment, please rerun this cell to show the HTML representation or trust the notebook. <br />On GitHub, the HTML representation is unable to render, please try loading this page with nbviewer.org.</b></div><div class=\"sk-container\" hidden><div class=\"sk-item\"><div class=\"sk-estimator sk-toggleable\"><input class=\"sk-toggleable__control sk-hidden--visually\" id=\"sk-estimator-id-1\" type=\"checkbox\" checked><label for=\"sk-estimator-id-1\" class=\"sk-toggleable__label sk-toggleable__label-arrow\">LinearRegression</label><div class=\"sk-toggleable__content\"><pre>LinearRegression()</pre></div></div></div></div></div>"
      ],
      "text/plain": [
       "LinearRegression()"
      ]
     },
     "execution_count": 10,
     "metadata": {},
     "output_type": "execute_result"
    }
   ],
   "source": [
    "# 학습 : .fit   ==> 학습은 x와 y의 패턴을 찾아내는 과정입니다.\n",
    "model.fit(x_train, y_train)"
   ]
  },
  {
   "cell_type": "markdown",
   "metadata": {},
   "source": [
    "##### 검증(예측/평가)"
   ]
  },
  {
   "cell_type": "markdown",
   "metadata": {},
   "source": [
    "1) 예측"
   ]
  },
  {
   "cell_type": "code",
   "execution_count": 14,
   "metadata": {},
   "outputs": [
    {
     "data": {
      "text/plain": [
       "array([24.19396049, 19.12986636, 12.4826001 , 17.14216039, 10.59587729,\n",
       "       13.82334734, 12.80053862, 14.82462606, 16.34857047,  4.3408442 ,\n",
       "       12.7149372 , 11.51162367,  9.73043167, 16.2454592 ,  6.67809292,\n",
       "       19.29258861, 12.71368786, 10.07505702, 14.34236075,  5.70079193,\n",
       "       12.09514938, 15.04540452,  9.62885121, 13.1721766 ,  9.97359504,\n",
       "       14.86530968, 12.76051446, 23.26339042,  9.69021272,  8.07312433,\n",
       "       15.02840605, 15.52931492, 14.01104775, 16.81218595, 17.76298947,\n",
       "        8.90988994, 24.84362053, 12.0999319 , 14.26039044,  6.2715349 ,\n",
       "       12.37727054, 23.28690023, 12.07367443, 16.72275206,  7.63999683,\n",
       "       22.91577102,  8.66753811, 19.83600808, 18.56645858,  3.48408941,\n",
       "       18.23306767, 19.1106743 , 15.39227713, 12.83114284, 18.69043696,\n",
       "       13.37365818,  6.98827356, 17.32549755, 17.43604812, 19.14212243])"
      ]
     },
     "execution_count": 14,
     "metadata": {},
     "output_type": "execute_result"
    }
   ],
   "source": [
    "pred = model.predict(x_test)\n",
    "pred"
   ]
  },
  {
   "cell_type": "code",
   "execution_count": 36,
   "metadata": {},
   "outputs": [
    {
     "data": {
      "text/plain": [
       "array([10719.30670627,   483.86188093,   -39.84532359,  -342.7979994 ,\n",
       "        5344.6536906 , -9455.63332121,   118.96952747,   410.03267944,\n",
       "         522.72151155,   307.82467057,   -64.64680997,  -137.32563382,\n",
       "        -461.4160821 ,  -834.58980956, -1401.65204197, -1845.48567121,\n",
       "        5703.41165818,  3851.50746182,  3029.9583108 ,  4798.30982767,\n",
       "        4460.96655763,  5261.88472966,  4950.34233068])"
      ]
     },
     "execution_count": 36,
     "metadata": {},
     "output_type": "execute_result"
    }
   ],
   "source": [
    "# 기울기(회귀계수)\n",
    "model.coef_"
   ]
  },
  {
   "cell_type": "code",
   "execution_count": 49,
   "metadata": {},
   "outputs": [
    {
     "data": {
      "text/plain": [
       "43.061640908221634"
      ]
     },
     "execution_count": 49,
     "metadata": {},
     "output_type": "execute_result"
    }
   ],
   "source": [
    "# 절편\n",
    "model.intercept_"
   ]
  },
  {
   "cell_type": "markdown",
   "metadata": {},
   "source": [
    "모델 = 기울기 * x + 절편"
   ]
  },
  {
   "cell_type": "code",
   "execution_count": 38,
   "metadata": {},
   "outputs": [
    {
     "data": {
      "text/plain": [
       "0.917662802612522"
      ]
     },
     "execution_count": 38,
     "metadata": {},
     "output_type": "execute_result"
    }
   ],
   "source": [
    "# train 점수\n",
    "model.score(x_train, y_train)"
   ]
  },
  {
   "cell_type": "code",
   "execution_count": 40,
   "metadata": {},
   "outputs": [
    {
     "data": {
      "text/plain": [
       "0.9122504288757546"
      ]
     },
     "execution_count": 40,
     "metadata": {},
     "output_type": "execute_result"
    }
   ],
   "source": [
    "# test 점수\n",
    "model.score(x_test, y_test)"
   ]
  },
  {
   "cell_type": "code",
   "execution_count": 41,
   "metadata": {},
   "outputs": [
    {
     "data": {
      "text/plain": [
       "23"
      ]
     },
     "execution_count": 41,
     "metadata": {},
     "output_type": "execute_result"
    }
   ],
   "source": [
    "model.rank_"
   ]
  },
  {
   "cell_type": "markdown",
   "metadata": {},
   "source": [
    "2) 평가"
   ]
  },
  {
   "cell_type": "code",
   "execution_count": 15,
   "metadata": {},
   "outputs": [
    {
     "data": {
      "text/plain": [
       "1.133469913777749"
      ]
     },
     "execution_count": 15,
     "metadata": {},
     "output_type": "execute_result"
    }
   ],
   "source": [
    "# 평균 오차 (실제 값, 에측 값) - 학습 시 x의 구조와 예측 시 x 의 구조는 같아야 한다.\n",
    "mean_absolute_error(y_test, pred)"
   ]
  },
  {
   "cell_type": "markdown",
   "metadata": {},
   "source": [
    "### 실습 : Diamond Price"
   ]
  },
  {
   "cell_type": "code",
   "execution_count": 16,
   "metadata": {},
   "outputs": [
    {
     "data": {
      "text/html": [
       "<div>\n",
       "<style scoped>\n",
       "    .dataframe tbody tr th:only-of-type {\n",
       "        vertical-align: middle;\n",
       "    }\n",
       "\n",
       "    .dataframe tbody tr th {\n",
       "        vertical-align: top;\n",
       "    }\n",
       "\n",
       "    .dataframe thead th {\n",
       "        text-align: right;\n",
       "    }\n",
       "</style>\n",
       "<table border=\"1\" class=\"dataframe\">\n",
       "  <thead>\n",
       "    <tr style=\"text-align: right;\">\n",
       "      <th></th>\n",
       "      <th>carat</th>\n",
       "      <th>cut</th>\n",
       "      <th>color</th>\n",
       "      <th>clarity</th>\n",
       "      <th>depth</th>\n",
       "      <th>table</th>\n",
       "      <th>price</th>\n",
       "      <th>x</th>\n",
       "      <th>y</th>\n",
       "      <th>z</th>\n",
       "    </tr>\n",
       "  </thead>\n",
       "  <tbody>\n",
       "    <tr>\n",
       "      <th>50989</th>\n",
       "      <td>0.31</td>\n",
       "      <td>Ideal</td>\n",
       "      <td>G</td>\n",
       "      <td>VS2</td>\n",
       "      <td>61.6</td>\n",
       "      <td>55.0</td>\n",
       "      <td>544</td>\n",
       "      <td>4.37</td>\n",
       "      <td>4.39</td>\n",
       "      <td>2.70</td>\n",
       "    </tr>\n",
       "    <tr>\n",
       "      <th>42221</th>\n",
       "      <td>0.33</td>\n",
       "      <td>Ideal</td>\n",
       "      <td>E</td>\n",
       "      <td>IF</td>\n",
       "      <td>62.1</td>\n",
       "      <td>55.0</td>\n",
       "      <td>1289</td>\n",
       "      <td>4.43</td>\n",
       "      <td>4.46</td>\n",
       "      <td>2.76</td>\n",
       "    </tr>\n",
       "    <tr>\n",
       "      <th>42307</th>\n",
       "      <td>0.41</td>\n",
       "      <td>Ideal</td>\n",
       "      <td>F</td>\n",
       "      <td>VVS1</td>\n",
       "      <td>62.1</td>\n",
       "      <td>57.0</td>\n",
       "      <td>1295</td>\n",
       "      <td>4.75</td>\n",
       "      <td>4.79</td>\n",
       "      <td>2.96</td>\n",
       "    </tr>\n",
       "    <tr>\n",
       "      <th>27207</th>\n",
       "      <td>2.02</td>\n",
       "      <td>Very Good</td>\n",
       "      <td>F</td>\n",
       "      <td>SI1</td>\n",
       "      <td>62.7</td>\n",
       "      <td>59.0</td>\n",
       "      <td>17530</td>\n",
       "      <td>7.97</td>\n",
       "      <td>8.03</td>\n",
       "      <td>5.02</td>\n",
       "    </tr>\n",
       "    <tr>\n",
       "      <th>22207</th>\n",
       "      <td>1.50</td>\n",
       "      <td>Good</td>\n",
       "      <td>H</td>\n",
       "      <td>VS1</td>\n",
       "      <td>63.4</td>\n",
       "      <td>59.0</td>\n",
       "      <td>10256</td>\n",
       "      <td>7.20</td>\n",
       "      <td>7.29</td>\n",
       "      <td>4.59</td>\n",
       "    </tr>\n",
       "  </tbody>\n",
       "</table>\n",
       "</div>"
      ],
      "text/plain": [
       "       carat        cut color clarity  depth  table  price     x     y     z\n",
       "50989   0.31      Ideal     G     VS2   61.6   55.0    544  4.37  4.39  2.70\n",
       "42221   0.33      Ideal     E      IF   62.1   55.0   1289  4.43  4.46  2.76\n",
       "42307   0.41      Ideal     F    VVS1   62.1   57.0   1295  4.75  4.79  2.96\n",
       "27207   2.02  Very Good     F     SI1   62.7   59.0  17530  7.97  8.03  5.02\n",
       "22207   1.50       Good     H     VS1   63.4   59.0  10256  7.20  7.29  4.59"
      ]
     },
     "execution_count": 16,
     "metadata": {},
     "output_type": "execute_result"
    }
   ],
   "source": [
    "path = 'https://raw.githubusercontent.com/DA4BAM/dataset/master/diamonds.csv'\n",
    "data = pd.read_csv(path)\n",
    "data = data.sample(2000, random_state=2022)\n",
    "data.head()"
   ]
  },
  {
   "cell_type": "code",
   "execution_count": 25,
   "metadata": {},
   "outputs": [],
   "source": [
    "target = 'price'\n",
    "x = data.drop(target, axis=1)\n",
    "y = data[target]"
   ]
  },
  {
   "cell_type": "code",
   "execution_count": 27,
   "metadata": {},
   "outputs": [
    {
     "data": {
      "text/plain": [
       "50989      544\n",
       "42221     1289\n",
       "42307     1295\n",
       "27207    17530\n",
       "22207    10256\n",
       "         ...  \n",
       "42904     1362\n",
       "14229     5766\n",
       "26568    16273\n",
       "19055     7839\n",
       "5512      3848\n",
       "Name: price, Length: 2000, dtype: int64"
      ]
     },
     "execution_count": 27,
     "metadata": {},
     "output_type": "execute_result"
    }
   ],
   "source": [
    "y"
   ]
  },
  {
   "cell_type": "code",
   "execution_count": 28,
   "metadata": {},
   "outputs": [],
   "source": [
    "col_x = ['cut','color','clarity']\n",
    "x = pd.get_dummies(x, columns=col_x, drop_first=True)"
   ]
  },
  {
   "cell_type": "code",
   "execution_count": 29,
   "metadata": {},
   "outputs": [],
   "source": [
    "x_train, x_test, y_train, y_test = train_test_split(x,y, test_size=0.3)"
   ]
  },
  {
   "cell_type": "code",
   "execution_count": 31,
   "metadata": {},
   "outputs": [
    {
     "data": {
      "text/html": [
       "<style>#sk-container-id-2 {color: black;background-color: white;}#sk-container-id-2 pre{padding: 0;}#sk-container-id-2 div.sk-toggleable {background-color: white;}#sk-container-id-2 label.sk-toggleable__label {cursor: pointer;display: block;width: 100%;margin-bottom: 0;padding: 0.3em;box-sizing: border-box;text-align: center;}#sk-container-id-2 label.sk-toggleable__label-arrow:before {content: \"▸\";float: left;margin-right: 0.25em;color: #696969;}#sk-container-id-2 label.sk-toggleable__label-arrow:hover:before {color: black;}#sk-container-id-2 div.sk-estimator:hover label.sk-toggleable__label-arrow:before {color: black;}#sk-container-id-2 div.sk-toggleable__content {max-height: 0;max-width: 0;overflow: hidden;text-align: left;background-color: #f0f8ff;}#sk-container-id-2 div.sk-toggleable__content pre {margin: 0.2em;color: black;border-radius: 0.25em;background-color: #f0f8ff;}#sk-container-id-2 input.sk-toggleable__control:checked~div.sk-toggleable__content {max-height: 200px;max-width: 100%;overflow: auto;}#sk-container-id-2 input.sk-toggleable__control:checked~label.sk-toggleable__label-arrow:before {content: \"▾\";}#sk-container-id-2 div.sk-estimator input.sk-toggleable__control:checked~label.sk-toggleable__label {background-color: #d4ebff;}#sk-container-id-2 div.sk-label input.sk-toggleable__control:checked~label.sk-toggleable__label {background-color: #d4ebff;}#sk-container-id-2 input.sk-hidden--visually {border: 0;clip: rect(1px 1px 1px 1px);clip: rect(1px, 1px, 1px, 1px);height: 1px;margin: -1px;overflow: hidden;padding: 0;position: absolute;width: 1px;}#sk-container-id-2 div.sk-estimator {font-family: monospace;background-color: #f0f8ff;border: 1px dotted black;border-radius: 0.25em;box-sizing: border-box;margin-bottom: 0.5em;}#sk-container-id-2 div.sk-estimator:hover {background-color: #d4ebff;}#sk-container-id-2 div.sk-parallel-item::after {content: \"\";width: 100%;border-bottom: 1px solid gray;flex-grow: 1;}#sk-container-id-2 div.sk-label:hover label.sk-toggleable__label {background-color: #d4ebff;}#sk-container-id-2 div.sk-serial::before {content: \"\";position: absolute;border-left: 1px solid gray;box-sizing: border-box;top: 0;bottom: 0;left: 50%;z-index: 0;}#sk-container-id-2 div.sk-serial {display: flex;flex-direction: column;align-items: center;background-color: white;padding-right: 0.2em;padding-left: 0.2em;position: relative;}#sk-container-id-2 div.sk-item {position: relative;z-index: 1;}#sk-container-id-2 div.sk-parallel {display: flex;align-items: stretch;justify-content: center;background-color: white;position: relative;}#sk-container-id-2 div.sk-item::before, #sk-container-id-2 div.sk-parallel-item::before {content: \"\";position: absolute;border-left: 1px solid gray;box-sizing: border-box;top: 0;bottom: 0;left: 50%;z-index: -1;}#sk-container-id-2 div.sk-parallel-item {display: flex;flex-direction: column;z-index: 1;position: relative;background-color: white;}#sk-container-id-2 div.sk-parallel-item:first-child::after {align-self: flex-end;width: 50%;}#sk-container-id-2 div.sk-parallel-item:last-child::after {align-self: flex-start;width: 50%;}#sk-container-id-2 div.sk-parallel-item:only-child::after {width: 0;}#sk-container-id-2 div.sk-dashed-wrapped {border: 1px dashed gray;margin: 0 0.4em 0.5em 0.4em;box-sizing: border-box;padding-bottom: 0.4em;background-color: white;}#sk-container-id-2 div.sk-label label {font-family: monospace;font-weight: bold;display: inline-block;line-height: 1.2em;}#sk-container-id-2 div.sk-label-container {text-align: center;}#sk-container-id-2 div.sk-container {/* jupyter's `normalize.less` sets `[hidden] { display: none; }` but bootstrap.min.css set `[hidden] { display: none !important; }` so we also need the `!important` here to be able to override the default hidden behavior on the sphinx rendered scikit-learn.org. See: https://github.com/scikit-learn/scikit-learn/issues/21755 */display: inline-block !important;position: relative;}#sk-container-id-2 div.sk-text-repr-fallback {display: none;}</style><div id=\"sk-container-id-2\" class=\"sk-top-container\"><div class=\"sk-text-repr-fallback\"><pre>LinearRegression()</pre><b>In a Jupyter environment, please rerun this cell to show the HTML representation or trust the notebook. <br />On GitHub, the HTML representation is unable to render, please try loading this page with nbviewer.org.</b></div><div class=\"sk-container\" hidden><div class=\"sk-item\"><div class=\"sk-estimator sk-toggleable\"><input class=\"sk-toggleable__control sk-hidden--visually\" id=\"sk-estimator-id-2\" type=\"checkbox\" checked><label for=\"sk-estimator-id-2\" class=\"sk-toggleable__label sk-toggleable__label-arrow\">LinearRegression</label><div class=\"sk-toggleable__content\"><pre>LinearRegression()</pre></div></div></div></div></div>"
      ],
      "text/plain": [
       "LinearRegression()"
      ]
     },
     "execution_count": 31,
     "metadata": {},
     "output_type": "execute_result"
    }
   ],
   "source": [
    "model = LinearRegression()\n",
    "model.fit(x_train, y_train)"
   ]
  },
  {
   "cell_type": "code",
   "execution_count": 33,
   "metadata": {},
   "outputs": [
    {
     "data": {
      "text/plain": [
       "array([ 3.14363152e+03,  9.30052122e+03,  4.00014038e+03,  5.86586693e+03,\n",
       "        2.41527141e+03,  5.16560715e+03,  1.02412721e+03,  2.01218534e+03,\n",
       "        5.76402636e+03,  8.18654186e+03,  5.96035668e+02,  5.07462125e+03,\n",
       "        6.15433851e+03,  6.16522071e+02,  2.47219326e+03,  7.14338492e+03,\n",
       "        1.30590930e+04,  5.61826089e+03,  5.18299046e+02, -4.98749523e+02,\n",
       "        6.41832934e+03,  4.11232129e+03,  9.94880056e+02,  6.31769746e+03,\n",
       "        6.44430853e+02,  3.46955104e+02,  7.75226827e+03,  1.44041336e+03,\n",
       "       -6.72593198e+01,  2.11364125e+03,  1.61928678e+04,  5.13620762e+03,\n",
       "        2.94003907e+03,  2.66408985e+03,  6.45038578e+03,  1.31071305e+03,\n",
       "        5.34696051e+03,  4.62958797e+03,  5.03998037e+03,  3.74581210e+03,\n",
       "        4.61228841e+03,  2.41198128e+03,  2.54885820e+03,  7.21587617e+03,\n",
       "        1.39161176e+04,  1.17875143e+04,  7.93813955e+03,  3.12769448e+02,\n",
       "        8.83720091e+03,  3.42732487e+03,  9.54388849e+02,  1.62034298e+03,\n",
       "        9.66240597e+03,  2.71209594e+03,  1.35418207e+03,  9.72370180e+02,\n",
       "        6.54840098e+03, -1.26009012e+02,  6.50273461e+03,  2.10362307e+03,\n",
       "        7.24479552e+03,  5.99887816e+02,  5.81314758e+03, -8.94272729e+01,\n",
       "        2.28454078e+03,  8.40110938e+03,  8.19971505e+03,  4.20569536e+03,\n",
       "        2.25665204e+03,  1.55815806e+04,  4.32450787e+03,  1.12674974e+04,\n",
       "        1.88436331e+02, -8.67557061e+02,  1.10958551e+04,  2.41139798e+03,\n",
       "       -3.42795816e+02,  4.33585012e+03,  1.51750131e+03,  3.94506547e+03,\n",
       "        9.98048570e+03,  1.15667342e+04,  2.52816676e+03,  6.86871678e+03,\n",
       "        5.28541618e+03,  2.72379867e+03, -1.98044807e+03,  2.24639364e+03,\n",
       "        4.78353444e+03, -7.77901674e+02,  3.48892888e+03,  3.54457079e+03,\n",
       "        1.32495317e+04,  3.50781109e+03,  8.94099702e+03, -1.41805370e+02,\n",
       "        1.39394730e+03,  1.17609587e+02,  2.84589091e+03,  6.03970075e+03,\n",
       "        3.26102091e+03,  1.39701201e+03,  2.39597473e+03,  1.08539637e+04,\n",
       "        4.69941316e+02,  1.51852665e+03,  7.99778809e+02,  2.02989233e+03,\n",
       "        2.29106760e+03, -3.30391729e+02,  2.49702822e+03,  4.29997872e+02,\n",
       "        2.82035338e+03,  1.75026116e+03,  7.42609287e+03,  2.42140528e+03,\n",
       "        5.56320734e+02,  1.41790418e+04,  1.99772505e+03,  5.61185385e+01,\n",
       "        5.72134270e+03,  4.53562321e+03,  1.88017382e+03,  1.04108210e+04,\n",
       "        3.38476038e+03,  1.37381795e+04,  8.17261813e+03,  2.16601262e+03,\n",
       "        4.34546012e+03,  6.39484966e+02,  5.97295440e+03,  2.22547003e+03,\n",
       "       -5.58911342e+01,  3.07018731e+03,  4.91867648e+03,  1.59374032e+04,\n",
       "        9.54678994e+02,  4.24084531e+03,  3.97395497e+03,  1.80117812e+03,\n",
       "        4.06657491e+03,  1.32917223e+03,  3.11028259e+03, -5.30352559e+02,\n",
       "        3.15959738e+02, -4.50310227e+01,  1.71175858e+03,  8.37089547e+02,\n",
       "        5.93597403e+03,  2.87674017e+03,  7.40093911e+03,  1.51240268e+04,\n",
       "        1.93300439e+03,  5.55563415e+03,  5.72476373e+03,  4.36973428e+03,\n",
       "        1.69416132e+03,  3.71130065e+03,  5.93296983e+02,  2.03042190e+03,\n",
       "        1.06114022e+04,  4.79503820e+03,  1.89341036e+03,  6.60728868e+03,\n",
       "        1.47867429e+04,  1.89080629e+03,  1.92718476e+03,  5.23865870e+03,\n",
       "        2.71244495e+03,  3.98889156e+03,  7.72579854e+03,  1.48721342e+04,\n",
       "        1.84407624e+03,  2.72044177e+03,  8.58168885e+03,  4.63411723e+03,\n",
       "        6.72593918e+03,  2.89566523e+01,  1.88926608e+03,  8.23655288e+03,\n",
       "        3.39250861e+02,  4.02720810e+03,  5.44074396e+03,  7.66285870e+03,\n",
       "        7.72843371e+02,  3.07014720e+03,  1.11008296e+03,  6.70287740e+03,\n",
       "        2.17561051e+03,  9.37477613e+03,  6.78206720e+02,  1.09781967e+04,\n",
       "        1.28631646e+03,  4.79232842e+03,  7.66347520e+03,  5.51426410e+02,\n",
       "        1.04180356e+04,  6.23465403e+03,  8.57066808e+03,  4.20300148e+03,\n",
       "        5.60475034e+03,  2.24952981e+03,  5.74979994e+03,  8.42345947e+03,\n",
       "        7.86996116e+02,  1.00763299e+04, -8.17596175e+02,  1.52795894e+03,\n",
       "        3.09418778e+03,  4.91979761e+03,  1.06727960e+03,  4.90026921e+03,\n",
       "        1.80300626e+03, -9.84080616e+02,  7.35597596e+03,  2.19359017e+03,\n",
       "        1.10563608e+04,  4.75751716e+03,  6.99874685e+03,  4.20274223e+03,\n",
       "        1.07097338e+04,  7.77126255e+03,  5.67386021e+02,  8.60830492e+01,\n",
       "        1.86726857e+02,  2.03896535e+03, -3.62365989e+02,  2.29381787e+03,\n",
       "        3.01147048e+03,  5.72486239e+03,  9.56792657e+03,  1.69267320e+04,\n",
       "        5.42332015e+03,  4.48093090e+02,  6.86451849e+03,  4.60590476e+02,\n",
       "        3.16242840e+03,  8.26652512e+03,  7.49384917e+03,  2.48003943e+03,\n",
       "        1.92619461e+03,  6.78243693e+02,  7.75026017e+03,  5.19242207e+03,\n",
       "        2.15697028e+03,  2.16503721e+02,  2.25823730e+03,  6.53612138e+03,\n",
       "       -1.54426792e+03,  7.85140080e+03,  9.32754603e+02,  6.40848871e+03,\n",
       "        1.14496750e+03,  9.77895392e+02,  9.36712970e+03,  1.69088884e+02,\n",
       "        2.46336401e+03,  1.40701721e+04,  6.31640034e+02,  2.23242453e+03,\n",
       "        9.76652855e+03,  2.65533690e+03, -5.43231976e+02,  7.26700627e+03,\n",
       "        5.43095943e+03,  5.49269310e+03, -1.65086011e+03,  2.58955768e+03,\n",
       "        2.11702561e+03,  5.22498225e+03,  9.07698220e+02,  2.22319626e+03,\n",
       "        1.32759990e+04,  1.88082568e+04,  3.24432502e+03,  2.08021431e+03,\n",
       "        2.56102706e+03,  7.24314263e+02,  3.62069843e+03,  7.17432485e+03,\n",
       "        3.13655831e+03,  4.44481095e+03,  2.46836174e+03,  1.84119293e+03,\n",
       "        1.04568995e+04, -8.38101944e+02,  1.48158237e+03,  3.46863238e+02,\n",
       "       -2.78843937e+02,  1.20330385e+03,  1.93663414e+03,  7.29144830e+03,\n",
       "       -1.46749795e+02,  3.94155362e+03,  1.41648005e+04,  4.86879575e+03,\n",
       "        6.84475628e+02,  1.01241020e+03,  4.24041754e+03,  1.02745118e+04,\n",
       "        1.44346353e+03,  2.36502521e+02,  7.74404120e+03,  1.38952641e+04,\n",
       "        5.60499708e+02,  6.43954503e+03,  3.49003842e+03,  6.59443247e+03,\n",
       "        1.02997832e+02,  1.52637272e+04,  3.08605885e+03,  5.76499713e+03,\n",
       "        2.54546037e+03,  8.63840049e+03,  5.68973024e+03,  5.82394746e+02,\n",
       "        8.06959533e+03,  2.11995044e+02,  1.33690822e+03,  7.87786949e+03,\n",
       "        4.73176994e+03,  1.54646653e+03,  3.55291516e+03,  4.33190597e+03,\n",
       "        2.47029264e+03, -4.64429182e+02,  2.97335859e+03,  1.14503872e+04,\n",
       "        2.58373718e+03,  4.60731472e+03,  1.21356023e+04,  3.24833788e+03,\n",
       "        1.66137716e+03,  1.30557766e+03,  1.06889454e+04,  1.04807567e+03,\n",
       "       -3.91758039e+01, -5.04484353e+01,  3.43328271e+03,  7.59103037e+02,\n",
       "        4.19092865e+03,  1.12275599e+04,  6.81962549e+02,  4.21008384e+03,\n",
       "        2.94330962e+03,  9.69807136e+03,  3.29079860e+02,  1.68955587e+03,\n",
       "        9.66253133e+02, -2.20237342e+02,  1.72439525e+03,  6.98178310e+02,\n",
       "        2.29015209e+03,  7.65757615e+02,  9.32846111e+03,  3.39581457e+03,\n",
       "        6.16077308e+03,  8.28868368e+03,  7.08222847e+02,  6.20493917e+03,\n",
       "        5.20988343e+03,  1.84637066e+03,  1.82708518e+03,  3.39153247e+03,\n",
       "        3.48565587e+03,  1.95649432e+03,  3.71381928e+03,  3.63315535e+03,\n",
       "        1.44567957e+03,  6.33394028e+03,  1.04273552e+04,  9.14343583e+03,\n",
       "        7.55689444e+02,  5.42700341e+03,  4.53985567e+02,  8.67297082e+03,\n",
       "        6.83897053e+03,  1.45872671e+03,  1.14398157e+04,  4.28287482e+03,\n",
       "        4.36996597e+03,  3.67404862e+03,  1.96841828e+03, -2.29978810e+03,\n",
       "        1.34923844e+04,  8.46915626e+03,  7.61311215e+03,  2.57807414e+03,\n",
       "        4.11296998e+03,  4.54921432e+03,  6.50414474e+03,  5.31989385e+03,\n",
       "        1.37267688e+03,  1.96530584e+03,  3.37090443e+03,  4.94819959e+03,\n",
       "        5.53352169e+02,  1.78786919e+03,  3.26419628e+02,  9.23857550e+02,\n",
       "        1.06437515e+03,  1.86749303e+03,  9.04791065e+03,  4.81721125e+03,\n",
       "        9.38048016e+03,  7.13517537e+03,  1.25350137e+03,  1.71679123e+03,\n",
       "        6.86031521e+01,  5.71817405e+03,  1.45261605e+03,  8.69051427e+02,\n",
       "        8.48016283e+02,  1.19991945e+03,  4.69640908e+01,  1.10694641e+04,\n",
       "        1.26122631e+03,  1.77643976e+03,  5.00053507e+03,  1.05956208e+04,\n",
       "       -8.29633960e+01,  1.02345031e+03,  1.84066312e+03,  1.59237338e+03,\n",
       "        2.79097911e+03,  3.88338260e+03,  6.81167981e+03,  6.86412854e+03,\n",
       "        6.58924603e+03,  2.64667468e+03,  8.33554620e+03,  3.25062207e+03,\n",
       "        2.67693878e+03,  3.74611849e+03,  7.93914883e+03,  1.71897195e+04,\n",
       "        5.67861189e+03,  2.74987887e+02,  4.11025108e+03, -2.58597396e+01,\n",
       "        8.69851699e+02,  2.70525851e+03,  5.77700763e+03,  3.77380311e+03,\n",
       "        1.40267337e+03, -3.40409303e+02,  9.37898064e+03,  2.29944441e+03,\n",
       "        3.32191532e+01,  5.44742817e+03, -8.56585733e+02,  4.42581298e+03,\n",
       "        2.98285245e+03,  6.82097383e+03,  4.64969697e+03,  6.20618905e+03,\n",
       "       -7.03247420e+02,  3.62600284e+03,  8.83665203e+03,  6.38087281e+03,\n",
       "        8.78286194e+03,  2.08964547e+03,  7.91532500e+03,  8.97323872e+02,\n",
       "        2.18380339e+03,  2.87208412e+03,  1.16045762e+03,  4.86463888e+03,\n",
       "        1.39990159e+04,  5.32291465e+02,  1.00732363e+02,  3.61464897e+03,\n",
       "        4.17785814e+03,  1.55621808e+03,  4.16833428e+03,  1.10776472e+04,\n",
       "        2.85352495e+02,  1.93198131e+03,  3.53786858e+02,  1.94787134e+03,\n",
       "        1.44447074e+03,  6.74700223e+03,  7.09489591e+03,  7.91756794e+03,\n",
       "        8.79949016e+03,  4.04042459e+03,  8.20292867e+03, -2.86282097e+02,\n",
       "        3.08896692e+03,  1.94761353e+02,  1.38947639e+03,  9.19524637e+03,\n",
       "        2.38422943e+03,  1.19316943e+03,  5.32040613e+02,  8.34734014e+03,\n",
       "        1.02338707e+04,  3.68839229e+03,  3.95041301e+03,  5.34872170e+03,\n",
       "        2.40394051e+03,  2.63408122e+02,  1.79902520e+03,  1.53210777e+03,\n",
       "        1.61619378e+03,  7.19365577e+03,  1.44243914e+04,  7.17729852e+03,\n",
       "        7.27699371e+03,  4.52641546e+03,  8.23771510e+03,  2.01744919e+03,\n",
       "        1.75875944e+03,  8.26820118e+03,  2.49301792e+03,  1.00200226e+04,\n",
       "        1.16024889e+03,  1.36006731e+04,  2.58652156e+03,  6.43729143e+03,\n",
       "        2.18765627e+03,  4.12515032e+00,  1.09554335e+04,  3.19028695e+03,\n",
       "       -1.58001446e+02,  4.03498448e+03,  2.26406323e+03,  1.31776245e+03,\n",
       "        6.50114445e+03,  4.28091688e+03,  2.72611674e+03,  1.34265811e+03,\n",
       "        4.41681997e+03,  7.67827494e+03,  7.81732494e+03,  5.69326330e+02,\n",
       "        1.67745962e+03, -5.42612269e+02,  5.91646186e+02,  1.85240595e+03,\n",
       "       -1.82525592e+02,  2.42949341e+03,  4.87002410e+03,  1.04948389e+04,\n",
       "        3.12872611e+03,  7.01409974e+03,  3.56066653e+03,  2.25847422e+03,\n",
       "       -1.24980052e+02,  3.77236409e+03,  1.42961368e+04,  3.78793319e+02,\n",
       "        5.83261623e+03,  1.58975522e+03,  1.55661239e+03,  5.03710201e+03,\n",
       "        5.75451341e+03,  1.62751162e+03,  5.65218769e+02,  1.16864624e+04,\n",
       "        4.19791462e+03,  1.64533037e+03, -2.48517841e+02,  1.04744321e+04,\n",
       "        9.24466357e+03,  2.15375231e+03,  5.12416318e+03,  3.27887458e+03,\n",
       "        4.64262806e+03,  5.66461270e+02,  4.83307224e+03,  1.89793959e+03,\n",
       "       -8.37106168e+02,  1.33817168e+04,  4.48642675e+03,  6.80460686e+03,\n",
       "        1.44946938e+04,  3.07855211e+03,  6.47487181e+03,  9.11216538e+03,\n",
       "        3.22932621e+03,  1.81138797e+03,  3.91857539e+03,  6.10756007e+02,\n",
       "        1.62017965e+03,  1.30273857e+04,  7.69497890e+03,  8.15716487e+03,\n",
       "        4.22132487e+03,  9.77438375e+02,  1.34292785e+02, -1.60054708e+02,\n",
       "        4.17388299e+00,  6.90432419e+03, -7.79269946e+02,  6.73112250e+03,\n",
       "       -5.49396401e+02,  8.60040065e+02,  5.00463397e+02,  9.97410000e+02])"
      ]
     },
     "execution_count": 33,
     "metadata": {},
     "output_type": "execute_result"
    }
   ],
   "source": [
    "pred = model.predict(x_test)\n",
    "pred"
   ]
  },
  {
   "cell_type": "code",
   "execution_count": 34,
   "metadata": {},
   "outputs": [
    {
     "data": {
      "text/plain": [
       "840.9983174791433"
      ]
     },
     "execution_count": 34,
     "metadata": {},
     "output_type": "execute_result"
    }
   ],
   "source": [
    "mean_absolute_error(y_test, pred)"
   ]
  },
  {
   "cell_type": "markdown",
   "metadata": {},
   "source": [
    "### 실습 : 보스턴"
   ]
  },
  {
   "cell_type": "code",
   "execution_count": 42,
   "metadata": {},
   "outputs": [
    {
     "data": {
      "text/html": [
       "<div>\n",
       "<style scoped>\n",
       "    .dataframe tbody tr th:only-of-type {\n",
       "        vertical-align: middle;\n",
       "    }\n",
       "\n",
       "    .dataframe tbody tr th {\n",
       "        vertical-align: top;\n",
       "    }\n",
       "\n",
       "    .dataframe thead th {\n",
       "        text-align: right;\n",
       "    }\n",
       "</style>\n",
       "<table border=\"1\" class=\"dataframe\">\n",
       "  <thead>\n",
       "    <tr style=\"text-align: right;\">\n",
       "      <th></th>\n",
       "      <th>crim</th>\n",
       "      <th>indus</th>\n",
       "      <th>chas</th>\n",
       "      <th>nox</th>\n",
       "      <th>rm</th>\n",
       "      <th>dis</th>\n",
       "      <th>tax</th>\n",
       "      <th>ptratio</th>\n",
       "      <th>lstat</th>\n",
       "      <th>medv</th>\n",
       "    </tr>\n",
       "  </thead>\n",
       "  <tbody>\n",
       "    <tr>\n",
       "      <th>0</th>\n",
       "      <td>0.00632</td>\n",
       "      <td>2.31</td>\n",
       "      <td>0</td>\n",
       "      <td>0.538</td>\n",
       "      <td>6.575</td>\n",
       "      <td>4.0900</td>\n",
       "      <td>296</td>\n",
       "      <td>15.3</td>\n",
       "      <td>4.98</td>\n",
       "      <td>24.0</td>\n",
       "    </tr>\n",
       "    <tr>\n",
       "      <th>1</th>\n",
       "      <td>0.02731</td>\n",
       "      <td>7.07</td>\n",
       "      <td>0</td>\n",
       "      <td>0.469</td>\n",
       "      <td>6.421</td>\n",
       "      <td>4.9671</td>\n",
       "      <td>242</td>\n",
       "      <td>17.8</td>\n",
       "      <td>9.14</td>\n",
       "      <td>21.6</td>\n",
       "    </tr>\n",
       "    <tr>\n",
       "      <th>2</th>\n",
       "      <td>0.02729</td>\n",
       "      <td>7.07</td>\n",
       "      <td>0</td>\n",
       "      <td>0.469</td>\n",
       "      <td>7.185</td>\n",
       "      <td>4.9671</td>\n",
       "      <td>242</td>\n",
       "      <td>17.8</td>\n",
       "      <td>4.03</td>\n",
       "      <td>34.7</td>\n",
       "    </tr>\n",
       "    <tr>\n",
       "      <th>3</th>\n",
       "      <td>0.03237</td>\n",
       "      <td>2.18</td>\n",
       "      <td>0</td>\n",
       "      <td>0.458</td>\n",
       "      <td>6.998</td>\n",
       "      <td>6.0622</td>\n",
       "      <td>222</td>\n",
       "      <td>18.7</td>\n",
       "      <td>2.94</td>\n",
       "      <td>33.4</td>\n",
       "    </tr>\n",
       "    <tr>\n",
       "      <th>4</th>\n",
       "      <td>0.06905</td>\n",
       "      <td>2.18</td>\n",
       "      <td>0</td>\n",
       "      <td>0.458</td>\n",
       "      <td>7.147</td>\n",
       "      <td>6.0622</td>\n",
       "      <td>222</td>\n",
       "      <td>18.7</td>\n",
       "      <td>5.33</td>\n",
       "      <td>36.2</td>\n",
       "    </tr>\n",
       "  </tbody>\n",
       "</table>\n",
       "</div>"
      ],
      "text/plain": [
       "      crim  indus  chas    nox     rm     dis  tax  ptratio  lstat  medv\n",
       "0  0.00632   2.31     0  0.538  6.575  4.0900  296     15.3   4.98  24.0\n",
       "1  0.02731   7.07     0  0.469  6.421  4.9671  242     17.8   9.14  21.6\n",
       "2  0.02729   7.07     0  0.469  7.185  4.9671  242     17.8   4.03  34.7\n",
       "3  0.03237   2.18     0  0.458  6.998  6.0622  222     18.7   2.94  33.4\n",
       "4  0.06905   2.18     0  0.458  7.147  6.0622  222     18.7   5.33  36.2"
      ]
     },
     "execution_count": 42,
     "metadata": {},
     "output_type": "execute_result"
    }
   ],
   "source": [
    "path = 'https://raw.githubusercontent.com/DA4BAM/dataset/master/boston.csv'\n",
    "cols = ['crim','indus','chas','nox','rm', 'dis', 'tax','ptratio','lstat','medv']\n",
    "data = pd.read_csv(path, usecols = cols)\n",
    "data.head()"
   ]
  },
  {
   "cell_type": "code",
   "execution_count": 43,
   "metadata": {},
   "outputs": [],
   "source": [
    "target = 'medv'\n",
    "x = data.drop(target, axis=1)\n",
    "y = data[target]"
   ]
  },
  {
   "cell_type": "code",
   "execution_count": 44,
   "metadata": {},
   "outputs": [],
   "source": [
    "x_train, x_test, y_train, y_test = train_test_split(x,y, test_size=0.3)"
   ]
  },
  {
   "cell_type": "code",
   "execution_count": 46,
   "metadata": {},
   "outputs": [
    {
     "data": {
      "text/html": [
       "<style>#sk-container-id-3 {color: black;background-color: white;}#sk-container-id-3 pre{padding: 0;}#sk-container-id-3 div.sk-toggleable {background-color: white;}#sk-container-id-3 label.sk-toggleable__label {cursor: pointer;display: block;width: 100%;margin-bottom: 0;padding: 0.3em;box-sizing: border-box;text-align: center;}#sk-container-id-3 label.sk-toggleable__label-arrow:before {content: \"▸\";float: left;margin-right: 0.25em;color: #696969;}#sk-container-id-3 label.sk-toggleable__label-arrow:hover:before {color: black;}#sk-container-id-3 div.sk-estimator:hover label.sk-toggleable__label-arrow:before {color: black;}#sk-container-id-3 div.sk-toggleable__content {max-height: 0;max-width: 0;overflow: hidden;text-align: left;background-color: #f0f8ff;}#sk-container-id-3 div.sk-toggleable__content pre {margin: 0.2em;color: black;border-radius: 0.25em;background-color: #f0f8ff;}#sk-container-id-3 input.sk-toggleable__control:checked~div.sk-toggleable__content {max-height: 200px;max-width: 100%;overflow: auto;}#sk-container-id-3 input.sk-toggleable__control:checked~label.sk-toggleable__label-arrow:before {content: \"▾\";}#sk-container-id-3 div.sk-estimator input.sk-toggleable__control:checked~label.sk-toggleable__label {background-color: #d4ebff;}#sk-container-id-3 div.sk-label input.sk-toggleable__control:checked~label.sk-toggleable__label {background-color: #d4ebff;}#sk-container-id-3 input.sk-hidden--visually {border: 0;clip: rect(1px 1px 1px 1px);clip: rect(1px, 1px, 1px, 1px);height: 1px;margin: -1px;overflow: hidden;padding: 0;position: absolute;width: 1px;}#sk-container-id-3 div.sk-estimator {font-family: monospace;background-color: #f0f8ff;border: 1px dotted black;border-radius: 0.25em;box-sizing: border-box;margin-bottom: 0.5em;}#sk-container-id-3 div.sk-estimator:hover {background-color: #d4ebff;}#sk-container-id-3 div.sk-parallel-item::after {content: \"\";width: 100%;border-bottom: 1px solid gray;flex-grow: 1;}#sk-container-id-3 div.sk-label:hover label.sk-toggleable__label {background-color: #d4ebff;}#sk-container-id-3 div.sk-serial::before {content: \"\";position: absolute;border-left: 1px solid gray;box-sizing: border-box;top: 0;bottom: 0;left: 50%;z-index: 0;}#sk-container-id-3 div.sk-serial {display: flex;flex-direction: column;align-items: center;background-color: white;padding-right: 0.2em;padding-left: 0.2em;position: relative;}#sk-container-id-3 div.sk-item {position: relative;z-index: 1;}#sk-container-id-3 div.sk-parallel {display: flex;align-items: stretch;justify-content: center;background-color: white;position: relative;}#sk-container-id-3 div.sk-item::before, #sk-container-id-3 div.sk-parallel-item::before {content: \"\";position: absolute;border-left: 1px solid gray;box-sizing: border-box;top: 0;bottom: 0;left: 50%;z-index: -1;}#sk-container-id-3 div.sk-parallel-item {display: flex;flex-direction: column;z-index: 1;position: relative;background-color: white;}#sk-container-id-3 div.sk-parallel-item:first-child::after {align-self: flex-end;width: 50%;}#sk-container-id-3 div.sk-parallel-item:last-child::after {align-self: flex-start;width: 50%;}#sk-container-id-3 div.sk-parallel-item:only-child::after {width: 0;}#sk-container-id-3 div.sk-dashed-wrapped {border: 1px dashed gray;margin: 0 0.4em 0.5em 0.4em;box-sizing: border-box;padding-bottom: 0.4em;background-color: white;}#sk-container-id-3 div.sk-label label {font-family: monospace;font-weight: bold;display: inline-block;line-height: 1.2em;}#sk-container-id-3 div.sk-label-container {text-align: center;}#sk-container-id-3 div.sk-container {/* jupyter's `normalize.less` sets `[hidden] { display: none; }` but bootstrap.min.css set `[hidden] { display: none !important; }` so we also need the `!important` here to be able to override the default hidden behavior on the sphinx rendered scikit-learn.org. See: https://github.com/scikit-learn/scikit-learn/issues/21755 */display: inline-block !important;position: relative;}#sk-container-id-3 div.sk-text-repr-fallback {display: none;}</style><div id=\"sk-container-id-3\" class=\"sk-top-container\"><div class=\"sk-text-repr-fallback\"><pre>LinearRegression()</pre><b>In a Jupyter environment, please rerun this cell to show the HTML representation or trust the notebook. <br />On GitHub, the HTML representation is unable to render, please try loading this page with nbviewer.org.</b></div><div class=\"sk-container\" hidden><div class=\"sk-item\"><div class=\"sk-estimator sk-toggleable\"><input class=\"sk-toggleable__control sk-hidden--visually\" id=\"sk-estimator-id-3\" type=\"checkbox\" checked><label for=\"sk-estimator-id-3\" class=\"sk-toggleable__label sk-toggleable__label-arrow\">LinearRegression</label><div class=\"sk-toggleable__content\"><pre>LinearRegression()</pre></div></div></div></div></div>"
      ],
      "text/plain": [
       "LinearRegression()"
      ]
     },
     "execution_count": 46,
     "metadata": {},
     "output_type": "execute_result"
    }
   ],
   "source": [
    "model = LinearRegression()\n",
    "model.fit(x_train, y_train)"
   ]
  },
  {
   "cell_type": "code",
   "execution_count": 47,
   "metadata": {},
   "outputs": [
    {
     "data": {
      "text/plain": [
       "array([15.75440314, 30.52433888, 27.06646423, 11.86627218, 27.32435331,\n",
       "       15.0990756 , 35.83180912, 18.25617674, 22.2072204 , 18.71928909,\n",
       "       18.00866862, 23.10276566, 31.38548357, 19.23280265, 34.81058456,\n",
       "       25.0041037 , 21.21034382, 22.6483805 , 19.90353221, 37.5063875 ,\n",
       "       21.16718878, 18.48789011, 18.01174142, 17.03431048, 26.03466988,\n",
       "       35.96516392, 12.56999168, 23.17525844, 23.67644702, 19.10636443,\n",
       "       20.52788832, 24.72944709, 19.88643942,  7.06006695, 18.35183178,\n",
       "       22.89136737, 37.22581792, 11.95534917, 23.81911947, 21.71332694,\n",
       "       30.29595109, 24.58228176, 27.15980143, 24.14660684, 20.8640087 ,\n",
       "       10.71191226, 38.49527332, 19.39870377, 22.31688347, 20.43635262,\n",
       "       32.20900703, 39.32779018, 21.54608499, 37.87079595, 14.76407842,\n",
       "       20.1200282 , 31.52856181, 23.2788469 , 34.54039744, 17.14759248,\n",
       "       29.4022085 , 17.47933002, 19.8259621 , 30.11428112, 26.14557416,\n",
       "       25.07638726, 21.14034772, 11.79608287, 29.34228185, 22.10547264,\n",
       "       29.17192254, 11.13032625, 25.69283726, 25.42403072, 17.5187879 ,\n",
       "       23.07508026, 27.76196151, 20.88746519, 23.67305445, 23.83163741,\n",
       "       11.74373716, 16.44699569, 28.00153288, 12.60536157, 15.50679679,\n",
       "       18.95415826, 23.23702537, 24.83698498, 15.29224587, 25.48246624,\n",
       "       16.20110751, 31.25169892, 23.51584611, 24.0311945 , 31.0832934 ,\n",
       "       21.01750895, 13.32785609, 20.29658441, 28.21288438, 24.6097742 ,\n",
       "       21.57559809, 23.43453386, 22.64770266, 24.95273239, 18.6988595 ,\n",
       "       34.76963077, 17.59592629, 43.88416759, 30.06726875, 28.50854525,\n",
       "       20.8245715 , 15.76748369, 33.46465261, 17.69152725, 23.73360204,\n",
       "       20.53951508, 24.42258815, 30.9792072 , 25.12242429, 27.90047312,\n",
       "       19.12967331, 34.98526037, 11.88830193, 14.8688587 , 21.29012901,\n",
       "       34.18212633, 32.04388186, 24.9943481 , 18.91132589, 26.26893779,\n",
       "       24.26889431, 20.23985675, 22.98068797, 22.83520747, 24.97594084,\n",
       "       19.95400974, 29.13699811, 27.8521386 , 25.09035322, 22.28356634,\n",
       "       29.12021766, 26.49814527, 22.3280975 , 17.02977175, 25.82629419,\n",
       "       26.46080302, 28.22290361, 26.12020833, 24.11084382, 38.71263601,\n",
       "       24.37623424, 17.72286542])"
      ]
     },
     "execution_count": 47,
     "metadata": {},
     "output_type": "execute_result"
    }
   ],
   "source": [
    "pred = model.predict(x_test)\n",
    "pred"
   ]
  },
  {
   "cell_type": "code",
   "execution_count": 48,
   "metadata": {},
   "outputs": [
    {
     "data": {
      "text/plain": [
       "3.687991137979064"
      ]
     },
     "execution_count": 48,
     "metadata": {},
     "output_type": "execute_result"
    }
   ],
   "source": [
    "mean_absolute_error(y_test, pred)"
   ]
  },
  {
   "cell_type": "markdown",
   "metadata": {},
   "source": [
    "### 데이터 분할 - train_test_split"
   ]
  },
  {
   "cell_type": "markdown",
   "metadata": {},
   "source": [
    "train / validation / test"
   ]
  },
  {
   "cell_type": "markdown",
   "metadata": {},
   "source": [
    "train_test_split : 데이터를 랜덤으로 스필릿 해주는 함수"
   ]
  },
  {
   "cell_type": "markdown",
   "metadata": {},
   "source": [
    "<pre>train : \n",
    "validation : train과 함께 분할 병합을 반복하여 모델을 만들고 검증\n",
    "test : 처음부터 분할 후 검토하지 않는 데이터. 최종 테스트용</pre>\n"
   ]
  },
  {
   "cell_type": "code",
   "execution_count": 84,
   "metadata": {},
   "outputs": [],
   "source": [
    "x_train, x_val, y_train, y_val = train_test_split(x, y, test_size = .3, random_state = 2022)"
   ]
  },
  {
   "cell_type": "code",
   "execution_count": 85,
   "metadata": {},
   "outputs": [],
   "source": [
    "# 학습에 사용할 변수를 지정합니다.\n",
    "features = ['lstat']\n",
    "\n",
    "# 지정된 변수로 데이터셋을 만듭니다. \n",
    "# 학습과 검증시 아래 데이터셋 이름을 사용합니다.\n",
    "x_train1 = x_train[features]\n",
    "x_val1 = x_val[features]"
   ]
  },
  {
   "cell_type": "code",
   "execution_count": 86,
   "metadata": {},
   "outputs": [
    {
     "data": {
      "text/html": [
       "<div>\n",
       "<style scoped>\n",
       "    .dataframe tbody tr th:only-of-type {\n",
       "        vertical-align: middle;\n",
       "    }\n",
       "\n",
       "    .dataframe tbody tr th {\n",
       "        vertical-align: top;\n",
       "    }\n",
       "\n",
       "    .dataframe thead th {\n",
       "        text-align: right;\n",
       "    }\n",
       "</style>\n",
       "<table border=\"1\" class=\"dataframe\">\n",
       "  <thead>\n",
       "    <tr style=\"text-align: right;\">\n",
       "      <th></th>\n",
       "      <th>lstat</th>\n",
       "    </tr>\n",
       "  </thead>\n",
       "  <tbody>\n",
       "    <tr>\n",
       "      <th>257</th>\n",
       "      <td>5.12</td>\n",
       "    </tr>\n",
       "    <tr>\n",
       "      <th>371</th>\n",
       "      <td>9.53</td>\n",
       "    </tr>\n",
       "    <tr>\n",
       "      <th>253</th>\n",
       "      <td>3.54</td>\n",
       "    </tr>\n",
       "    <tr>\n",
       "      <th>332</th>\n",
       "      <td>7.83</td>\n",
       "    </tr>\n",
       "    <tr>\n",
       "      <th>454</th>\n",
       "      <td>18.71</td>\n",
       "    </tr>\n",
       "  </tbody>\n",
       "</table>\n",
       "</div>"
      ],
      "text/plain": [
       "     lstat\n",
       "257   5.12\n",
       "371   9.53\n",
       "253   3.54\n",
       "332   7.83\n",
       "454  18.71"
      ]
     },
     "execution_count": 86,
     "metadata": {},
     "output_type": "execute_result"
    }
   ],
   "source": [
    "x_train1.head()"
   ]
  },
  {
   "cell_type": "code",
   "execution_count": 87,
   "metadata": {},
   "outputs": [],
   "source": [
    "# 회귀모델 평가용\n",
    "from sklearn.metrics import r2_score, mean_squared_error, mean_absolute_error, mean_absolute_percentage_error"
   ]
  },
  {
   "cell_type": "code",
   "execution_count": 88,
   "metadata": {},
   "outputs": [
    {
     "data": {
      "text/plain": [
       "array([22.87821089, 12.34322304, 23.72024443, 28.88726844, 21.18457524,\n",
       "       15.21379193, 27.55723819, 18.87855156,  9.18559725, 14.4483069 ,\n",
       "       22.13186297, 25.96885673, 24.67710073, 16.48641081, 20.92622404,\n",
       "       29.57620498,  4.06641605, 15.46257457, 27.605081  , 24.60055223,\n",
       "       17.52938418, 16.82131052,  5.36774062, 30.15031876, 31.10717506,\n",
       "       27.55723819, 29.71016486, 17.3954243 , 19.95023061, 30.17902445,\n",
       "       25.22250882, 28.67676006, 12.58243711, 20.22771894, 15.75920003,\n",
       "       15.24249762,  1.40635554, 16.35245093, 17.6537755 , 29.61447923,\n",
       "       11.33852392, 18.30443778, 19.96936774,  8.47752359, 17.32844436,\n",
       "       30.06420169, 23.67240162, 12.43890867, 16.14194254, 15.10853774,\n",
       "       23.84463575, 12.0944404 , 27.16492711, 27.47112112, 25.7966226 ,\n",
       "       23.07915071, 25.91144535, 28.73417144, 27.8634322 , 19.17517701,\n",
       "       18.15134077, 15.74963146, 17.11793597, 30.37039571, 27.605081  ,\n",
       "       18.31400634, 30.41823852, 23.15569921, 25.63395703, 18.44796622,\n",
       "        5.37730918, 20.62003002,  9.99892511, 22.30409711, 28.11221484,\n",
       "        1.75082381,  6.2767541 , 13.83591886,  5.99926578, 26.97355585,\n",
       "       18.22788928, 28.47582024, 24.96415762, 24.67710073, 16.72562489,\n",
       "       10.1041793 , 30.04506457, 23.06958215, 15.23292906, 26.92571303,\n",
       "       28.95424838, 27.9686864 , 26.46642201,  8.16176101, 20.30426744,\n",
       "       26.8300274 , 30.33212146, 19.56748809, 20.160739  , 28.79158281,\n",
       "       30.02592744, 20.160739  , 31.70042596, 27.40414118, 24.7632178 ,\n",
       "       18.5053776 , 30.89666667, 30.48521846, 11.74040357, 31.26984063,\n",
       "       17.32844436, 11.63514938, 12.68769131, 21.91178603, 29.86326187,\n",
       "       27.56680675, 25.28948876, 21.18457524, 25.98799386, 30.1407502 ,\n",
       "       27.44241543, 27.62421813, 25.54783996, 22.78252526, 27.33716124,\n",
       "       25.85403398,  9.36739995, 28.10264628, 17.9886752 , 19.14647132,\n",
       "       23.16526778, 11.55860087, 22.23711717, 27.65292382, 28.8202885 ,\n",
       "       31.70042596, 25.6148199 ,  2.12399777, 28.05480346, 17.40499286,\n",
       "       28.38013461, 30.92537236, 30.69572685, 20.51477583,  5.19550649,\n",
       "       30.31298433, 20.63916715, 12.91733682, 16.76389914, 24.57184654,\n",
       "       18.80200306, 32.78167358])"
      ]
     },
     "execution_count": 88,
     "metadata": {},
     "output_type": "execute_result"
    }
   ],
   "source": [
    "model1 = LinearRegression()\n",
    "model1.fit(x_train1, y_train)\n",
    "pred1 = model1.predict(x_val1)\n",
    "pred1"
   ]
  },
  {
   "cell_type": "code",
   "execution_count": 89,
   "metadata": {},
   "outputs": [
    {
     "data": {
      "text/plain": [
       "4.138380487348265"
      ]
     },
     "execution_count": 89,
     "metadata": {},
     "output_type": "execute_result"
    }
   ],
   "source": [
    "# 평균오차\n",
    "mean_absolute_error(y_val   , pred1   )"
   ]
  },
  {
   "cell_type": "markdown",
   "metadata": {},
   "source": [
    "### R2 Score"
   ]
  },
  {
   "cell_type": "code",
   "execution_count": 90,
   "metadata": {},
   "outputs": [
    {
     "data": {
      "text/plain": [
       "21.28092105263158"
      ]
     },
     "execution_count": 90,
     "metadata": {},
     "output_type": "execute_result"
    }
   ],
   "source": [
    "# 실제와 예측 데이터 5건씩 저장\n",
    "tmp_y = y_val\n",
    "tmp_p = pred1\n",
    "\n",
    "# 실제값의 평균오차 저장\n",
    "tmp_y_mean = tmp_y.mean()\n",
    "tmp_y_mean"
   ]
  },
  {
   "cell_type": "code",
   "execution_count": 91,
   "metadata": {},
   "outputs": [
    {
     "data": {
      "text/plain": [
       "13020.754671052631"
      ]
     },
     "execution_count": 91,
     "metadata": {},
     "output_type": "execute_result"
    }
   ],
   "source": [
    "# SST : 평균 모델과 실제 값의 차이\n",
    "sst = np.sum(np.power(tmp_y - tmp_y_mean, 2))\n",
    "sst"
   ]
  },
  {
   "cell_type": "code",
   "execution_count": 92,
   "metadata": {},
   "outputs": [
    {
     "data": {
      "text/plain": [
       "4797.625819131855"
      ]
     },
     "execution_count": 92,
     "metadata": {},
     "output_type": "execute_result"
    }
   ],
   "source": [
    "# SSE : 회귀 모델과 실제 값의 차이\n",
    "sse = np.sum(np.power(tmp_y - tmp_p, 2))\n",
    "sse"
   ]
  },
  {
   "cell_type": "code",
   "execution_count": 93,
   "metadata": {},
   "outputs": [
    {
     "data": {
      "text/plain": [
       "8605.887559451967"
      ]
     },
     "execution_count": 93,
     "metadata": {},
     "output_type": "execute_result"
    }
   ],
   "source": [
    "# SSR : 회귀 모델과 평균 모델의 차이\n",
    "ssr = np.sum(np.power(tmp_p - tmp_y_mean, 2))\n",
    "ssr"
   ]
  },
  {
   "cell_type": "code",
   "execution_count": 94,
   "metadata": {},
   "outputs": [
    {
     "data": {
      "text/plain": [
       "0.6315401111275217"
      ]
     },
     "execution_count": 94,
     "metadata": {},
     "output_type": "execute_result"
    }
   ],
   "source": [
    "# R2 Score = 1- SSE/SST\n",
    "1 - (sse/sst)"
   ]
  },
  {
   "cell_type": "code",
   "execution_count": 95,
   "metadata": {},
   "outputs": [
    {
     "data": {
      "text/plain": [
       "0.6315401111275217"
      ]
     },
     "execution_count": 95,
     "metadata": {},
     "output_type": "execute_result"
    }
   ],
   "source": [
    "r2_score(y_val, pred1)"
   ]
  },
  {
   "cell_type": "markdown",
   "metadata": {},
   "source": [
    "##### 오차의 양과 율"
   ]
  },
  {
   "cell_type": "code",
   "execution_count": 96,
   "metadata": {},
   "outputs": [
    {
     "data": {
      "text/plain": [
       "31.563327757446412"
      ]
     },
     "execution_count": 96,
     "metadata": {},
     "output_type": "execute_result"
    }
   ],
   "source": [
    "# MSE : 오차 제곱 평균\n",
    "mean_squared_error( y_val   , pred1   )"
   ]
  },
  {
   "cell_type": "code",
   "execution_count": 97,
   "metadata": {},
   "outputs": [
    {
     "data": {
      "text/plain": [
       "5.618124932523877"
      ]
     },
     "execution_count": 97,
     "metadata": {},
     "output_type": "execute_result"
    }
   ],
   "source": [
    "# RMSE : 오차 제곱 평균의 루트\n",
    "mean_squared_error( y_val   , pred1  , squared = False)"
   ]
  },
  {
   "cell_type": "code",
   "execution_count": 98,
   "metadata": {},
   "outputs": [
    {
     "data": {
      "text/plain": [
       "4.138380487348265"
      ]
     },
     "execution_count": 98,
     "metadata": {},
     "output_type": "execute_result"
    }
   ],
   "source": [
    "# MAE : 오차 절대값 평균\n",
    "mean_absolute_error(y_val   , pred1   )"
   ]
  },
  {
   "cell_type": "code",
   "execution_count": 99,
   "metadata": {},
   "outputs": [
    {
     "data": {
      "text/plain": [
       "0.22398686231166276"
      ]
     },
     "execution_count": 99,
     "metadata": {},
     "output_type": "execute_result"
    }
   ],
   "source": [
    "# MAPE : 오차 절대값 평균율\n",
    "mean_absolute_percentage_error(y_val   , pred1  )"
   ]
  },
  {
   "cell_type": "code",
   "execution_count": 100,
   "metadata": {},
   "outputs": [
    {
     "data": {
      "text/plain": [
       "0.7760131376883372"
      ]
     },
     "execution_count": 100,
     "metadata": {},
     "output_type": "execute_result"
    }
   ],
   "source": [
    "# 1 - MAPE : 회귀모델의 정확도\n",
    "1 -  mean_absolute_percentage_error(y_val   , pred1   )"
   ]
  },
  {
   "cell_type": "markdown",
   "metadata": {},
   "source": [
    "### 연습문제"
   ]
  },
  {
   "cell_type": "code",
   "execution_count": 101,
   "metadata": {},
   "outputs": [
    {
     "name": "stdout",
     "output_type": "stream",
     "text": [
      "['rm']\n",
      "회귀계수 :  [9.51840075]\n",
      "절편 :  -36.98251509832555\n",
      "medv = [9.51840075]*crim + -36.98251509832555\n",
      "\n",
      "pred2 : [21.71746233  2.40462721 19.22364134 32.18770316 16.77741234 21.04165588\n",
      " 22.13627197 16.31101071 13.50308249 14.32166495 22.30760318 18.92857091\n",
      " 22.5455632  19.89944779 18.89049731 31.04549507 10.60948866 12.08484077\n",
      " 24.98227379 20.26114702 19.66148777 18.56687169  4.59385938 33.05387763\n",
      " 26.62895712 41.99165593 23.8686209  18.06239645 24.23032013 26.12448188\n",
      " 19.75667178 26.58136512 13.88381852 16.02545868 13.93141052 23.97332331\n",
      "  9.71475899 21.76505434 23.37366406 46.5890435  19.13797573 17.39610839\n",
      " 18.90953411 15.66375946 21.88879355 31.12164228 17.31996119 26.3053315\n",
      " 23.98284171 23.71632649 23.95428651 15.71135146 30.48390943 28.20901165\n",
      " 25.52482263 10.72370947 21.15587669 22.13627197 -3.08749002 16.33956591\n",
      " 22.95485443 28.23756685 17.28188758 27.05728516 25.35349142 20.16596301\n",
      " 30.93127426 21.80312794 21.49853912 23.31655366  9.46728057 16.05401389\n",
      " 27.5712788  22.31712158 21.50805752 10.79033827 11.49469993 22.25049278\n",
      " 18.7191661  27.03824835 17.20574038 27.6854996  22.27904798 15.93979308\n",
      " 20.61332785 10.95215108 27.45705799 16.39667631 23.39270087 31.60708071\n",
      " 21.2891343  30.22691261 21.3367263  19.65196937 24.03995212 23.98284171\n",
      " 26.17207389 17.35803479 21.96494075 23.09763044 29.47495895 22.10771676\n",
      " 33.9676441  23.12618565 23.7639185  19.57582216 41.5157359  25.87700346\n",
      " 14.55010657 31.05501347 25.1250498  23.74488169 17.11055637 18.90001571\n",
      " 27.74261001 21.66987033 21.08924788 21.2891343  21.2700975  30.03654459\n",
      " 36.92786673 25.89604026 26.13400028 20.24211022 27.5617604  19.43304615\n",
      " 21.57468632 23.70680809 27.25717157 22.99292803 18.98568132 21.78409114\n",
      " 18.7572397  23.29751686 24.07802572 35.45251462 21.86023835 19.50919336\n",
      " 28.31371405 24.51587215 36.22350508 36.17591307 27.99008843 19.06182852\n",
      " 13.24608567 25.42012023 20.0327054  27.97105163 21.47950232 19.12845733\n",
      " 22.21241917 29.87473178]\n",
      "\n",
      "mean_absolute_error : 5.125361125703807\n",
      "\n",
      "sst : 13020.754671052631\n",
      "sse : 7980.7963520981575\n",
      "r2_score : 0.38707113729430487\n",
      "\n",
      "mse : 52.50523915854051\n",
      "rmse : 7.246049900362301\n",
      "mae : 5.125361125703807\n",
      "mape : 0.35602062132221046\n",
      "----------------------------------------------------------------------------------------------------\n",
      "['crim']\n",
      "회귀계수 :  [-0.3570669]\n",
      "절편 :  24.214633238567504\n",
      "medv = [-0.3570669]*crim + 24.214633238567504\n",
      "\n",
      "pred2 : [24.1647867  16.8175639  22.48797554 24.1772519  19.9126198  23.6387486\n",
      " 24.15773106 23.91450423 14.95210358 24.11122666 19.09654339 24.18468604\n",
      " 24.16381905 22.54754858 24.18999919 24.18997777 16.14595676 13.98259553\n",
      " 23.70580576 24.20351775 24.1751095  24.15350339 17.04298023 24.03187569\n",
      " 22.19007105 24.00812717 24.16908221 24.12465595 24.09843296 24.20172527\n",
      " 24.1579453  24.16845735 24.05905562 24.15113603 15.35876707 20.7883228\n",
      " 20.24829839 24.16301922 21.96937157 22.97408284 18.55144506 21.72867991\n",
      " 24.16800744  9.38593048 20.88352398 24.18212944 24.12409536 18.75579445\n",
      " 22.11791854 24.13433246 23.33998715 20.93425247 24.21139821 24.1970227\n",
      " 24.08280414 23.81236881 24.09329119 24.20436757 22.58788285 24.13616065\n",
      " 22.39710201 19.0591942  23.80339215 24.20853097 24.1954516  24.15391758\n",
      " 24.20828459 24.16765038 24.19003847 24.01546846 19.09654339 24.16495095\n",
      " 20.34609902 24.20761687 24.15948426 23.6330998  24.14055614 17.83502603\n",
      " 20.67376146 24.0546994  24.12209935 24.17550228 24.1444446  23.94268395\n",
      " 22.32466028 20.08054836 24.16912863 19.94729099 19.13135742 24.01822145\n",
      " 23.93240399 22.1682257  24.18512166 23.71902795 20.25568968 24.20059337\n",
      " 24.0386064  23.4472322  21.12787557 24.10627415 24.17892655 19.24661861\n",
      " 24.20914155 24.19824387 24.0710852  24.09942917 24.09627627 24.20949505\n",
      " 24.14915788 24.18647494 22.51771921 20.88002472 -0.03763635 23.36532462\n",
      " 24.20682419 24.20233228 23.17056962 23.62311621 24.19846882 24.19477675\n",
      " 24.19110967 24.18159741 24.02875135 24.1831078  24.17381335 24.17775537\n",
      " 18.79535746 24.14979346 21.81595777 21.44656849 23.38841614 24.11076248\n",
      " 24.1078131  24.19062406 24.09284129 24.20685989 24.14392685 19.33063646\n",
      " 24.19091685 19.06544287 24.13540723 24.10815946 24.19275575 24.20977713\n",
      " 18.21169591 24.16971779 23.93462137 19.99685188 23.77455899 24.20377483\n",
      " 22.19136006 24.20263936]\n",
      "\n",
      "mean_absolute_error : 6.480426640219394\n",
      "\n",
      "sst : 13020.754671052631\n",
      "sse : 10418.111059726109\n",
      "r2_score : 0.19988423690315316\n",
      "\n",
      "mse : 68.54020434030335\n",
      "rmse : 8.278901155364965\n",
      "mae : 6.480426640219394\n",
      "mape : 0.40490343077615576\n",
      "----------------------------------------------------------------------------------------------------\n"
     ]
    }
   ],
   "source": [
    "# 학습에 사용할 변수를 지정합니다.\n",
    "features = [['rm'], ['crim']]\n",
    "model2 = LinearRegression()\n",
    "for f in features:\n",
    "    print(f)\n",
    "    x_train2 = x_train[f]\n",
    "    x_val2 = x_val[f]\n",
    "    \n",
    "    model2.fit(x_train2, y_train)\n",
    "    \n",
    "    print('회귀계수 : ', model2.coef_)\n",
    "    print('절편 : ', model2.intercept_)\n",
    "    print(f'medv = {model2.coef_}*crim + {model2.intercept_}')\n",
    "    print()\n",
    "    \n",
    "    pred2 = model2.predict(x_val2)\n",
    "    print(f'pred2 : {pred2}')\n",
    "    print()\n",
    "    print(f'mean_absolute_error : {mean_absolute_error(y_val, pred2)}')\n",
    "    print()\n",
    "    \n",
    "    tmp_mean = y_val.mean()\n",
    "    sst = np.sum(np.power(y_val - tmp_mean, 2))\n",
    "    print(f'sst : {sst}')\n",
    "    \n",
    "    sse = np.sum(np.power(y_val - pred2, 2))\n",
    "    print(f'sse : {sse}')\n",
    "    \n",
    "    print(f'r2_score : {r2_score(y_val, pred2)}')\n",
    "    print()\n",
    "    \n",
    "    print(f'mse : {mean_squared_error(y_val, pred2)}')\n",
    "    print(f'rmse : {mean_squared_error(y_val, pred2, squared=False)}')\n",
    "    print(f'mae : {mean_absolute_error(y_val, pred2)}')\n",
    "    print(f'mape : {mean_absolute_percentage_error(y_val, pred2)}')\n",
    "    print('-----' * 20)\n",
    "    \n",
    "    "
   ]
  },
  {
   "cell_type": "markdown",
   "metadata": {},
   "source": [
    "### 다중회귀"
   ]
  },
  {
   "cell_type": "code",
   "execution_count": 102,
   "metadata": {},
   "outputs": [],
   "source": [
    "features = ['lstat', 'ptratio']\n",
    "x_train3 = x_train[features]\n",
    "x_val3 = x_val[features]"
   ]
  },
  {
   "cell_type": "code",
   "execution_count": 110,
   "metadata": {},
   "outputs": [
    {
     "name": "stdout",
     "output_type": "stream",
     "text": [
      "회귀계수 : [-0.82877003 -1.25776375]\n",
      "편차 : 56.23176330467861\n",
      "\n",
      "pred3 : [19.72576653 11.48144318 21.33551878 29.08106266 19.13927821 12.96154226\n",
      " 27.5517432  16.13573145  8.7465021  14.56250098 19.95976054 25.16977396\n",
      " 25.1829218  15.07001739 20.29905043 28.29423696  4.31258246 14.18323346\n",
      " 31.6180257  23.85885645 20.75287896 14.47965227  5.4397097  30.42659185\n",
      " 27.73362338 33.71478558 31.05156864 17.86977091 16.81240113 28.1874802\n",
      " 23.89445147 30.91115526 13.70105769 19.56827194 14.44015217 13.99261636\n",
      "  2.00860179 21.24280833 16.08111682 26.44074214 10.61123465 16.64468044\n",
      " 21.10537328  8.13321228 15.79933501 29.84889705 23.55805503 11.56432018\n",
      " 14.77166018 20.1654073  28.3609595  11.26596297 30.48213324 26.84827203\n",
      " 25.39792448 27.69794348 24.61694226 28.19380121 24.92409299 20.29171778\n",
      " 16.51207723 14.43186447 14.61079461 31.12031445 29.98293283 22.94178688\n",
      " 31.16175295 23.86517746 26.01169183 15.51123219  5.4479974  23.1782534\n",
      "  9.45095662 22.62446664 25.76845507  1.04919525  6.35281759 12.77432442\n",
      "  5.98669791 27.67507536 15.32061509 24.44829481 23.79645994 31.2201878\n",
      " 15.2772099   9.54212132 29.70654527 20.77195516 13.98432866 33.16779736\n",
      " 28.13286557 25.01525769 28.9966965   6.85350717 18.37680979 27.04765436\n",
      " 29.3262944  24.65635749 18.25249429 26.48265816 31.95394462 18.25249429\n",
      " 33.65584491 29.05423287 24.50285286 15.56095839 31.07303247 32.98063611\n",
      " 11.08509444 29.13227803 15.79933501 10.86815336 11.77980039 19.76914343\n",
      " 32.44193559 31.5848749  29.61240224 26.05697883 22.29349274 33.6884899\n",
      " 27.57806718 29.24484998 26.44020803 26.8121429  23.58783485 23.81255781\n",
      "  8.9039684  25.88594375 16.37118633 17.37399806 27.77253279  9.54408801\n",
      " 22.06334724 28.89238396 26.50752126 35.16516141 24.98890543  2.63017931\n",
      " 29.61779649 15.86563661 27.3840508  31.09789557 30.64743801 17.42715182\n",
      "  5.29053109 33.334563   17.6606683  11.9787052  14.3041497  22.0731241\n",
      " 17.07564085 31.57372204]\n",
      "\n",
      "sst : 13020.754671052631\n",
      "sse : 4582.225049219069\n",
      "r2_score : 0.6480829901967096\n",
      "\n",
      "mse : 30.14621742907282\n",
      "rmse : 5.4905571146353465\n",
      "mae : 4.039846424031539\n",
      "mape : 0.2117438799715261\n"
     ]
    }
   ],
   "source": [
    "model3 = LinearRegression()\n",
    "model3.fit(x_train3, y_train)\n",
    "\n",
    "print(f'회귀계수 : {model3.coef_}')\n",
    "print(f'편차 : {model3.intercept_}')\n",
    "print()\n",
    "pred3 = model3.predict(x_val3)\n",
    "print(f'pred3 : {pred3}')\n",
    "print()\n",
    "tmp_mean = y_val.mean()\n",
    "sst = np.sum(np.power(y_val - tmp_mean, 2))\n",
    "sse = np.sum(np.power(y_val - pred3, 2))\n",
    "\n",
    "print(f'sst : {sst}')\n",
    "print(f'sse : {sse}')\n",
    "print(f'r2_score : {r2_score(y_val, pred3)}')\n",
    "print()\n",
    "\n",
    "print(f'mse : {mean_squared_error(y_val, pred3)}')\n",
    "print(f'rmse : {mean_squared_error(y_val, pred3, squared=False)}')\n",
    "print(f'mae : {mean_absolute_error(y_val, pred3)}')\n",
    "print(f'mape : {mean_absolute_percentage_error(y_val, pred3)}')"
   ]
  },
  {
   "cell_type": "code",
   "execution_count": 107,
   "metadata": {},
   "outputs": [],
   "source": [
    "features = ['lstat', 'ptratio', 'crim']\n",
    "x_train4 = x_train[features]\n",
    "x_val4 = x_val[features]"
   ]
  },
  {
   "cell_type": "code",
   "execution_count": 108,
   "metadata": {},
   "outputs": [
    {
     "name": "stdout",
     "output_type": "stream",
     "text": [
      "회귀계수 : [-0.82488373 -1.252952   -0.00844337]\n",
      "편차 : 56.12327702981514\n",
      "\n",
      "pred4 : [19.76458518 11.38594594 21.32789863 29.07989137 19.08105871 13.01953235\n",
      " 27.55695578 16.18535769  8.61971811 14.62611139 19.8783963  25.18592458\n",
      " 25.19949491 15.09318631 20.33773215 28.29586138  4.23482053 14.00802996\n",
      " 31.59695993 23.88149094 20.7920132  14.54280435  5.37787383 30.41589066\n",
      " 27.68895666 33.69288297 31.04205019 17.91884204 16.86298633 28.18933992\n",
      " 23.91540694 30.90293218 13.76812565 19.60935285 14.29628549 13.97923801\n",
      "  2.03864958 21.28066272 16.08587262 26.42067713 10.56081816 16.64110206\n",
      " 21.14116599  7.8776839  15.77973571 29.84402329 23.58065647 11.51426659\n",
      " 14.78606894 20.20763553 28.34651655 11.26882125 30.47769768 26.85716935\n",
      " 25.41092196 27.69777971 24.63308959 28.19677996 24.90200764 20.33046422\n",
      " 16.52492647 14.37553863 14.66494422 31.11097199 29.97970072 22.97145915\n",
      " 31.15221035 23.88802037 26.02499863 15.56595706  5.43468215 23.20555704\n",
      "  9.44841813 22.65363812 25.78011621  1.16269427  6.45464106 12.69682393\n",
      "  6.00815219 27.67781637 15.37875524 24.4651132  23.81766429 31.20843543\n",
      " 15.29413672  9.53287601 29.701923   20.70689952 13.93180782 33.1486984\n",
      " 28.12948185 24.98282145 28.99784481  6.94203757 18.33027807 27.05635289\n",
      " 29.31982573 24.66182223 18.22716961 26.48982063 31.9409706  18.18268455\n",
      " 33.63582201 29.05476996 24.51977042 15.61743545 31.06082282 32.96411363\n",
      " 11.16493057 29.12934676 15.81837863 10.87159476 11.2843384  19.78961457\n",
      " 32.42787605 31.57570567 29.58808486 26.06003477 22.32095857 33.66916905\n",
      " 27.58405422 29.24409959 26.44812603 26.82435642 23.60875682 23.83382265\n",
      "  8.86732533 25.89693342 16.37095424 17.36032881 27.76199427  9.62904755\n",
      " 22.09235545 28.89317395 26.5142495  35.13931045 25.00504899  2.63561293\n",
      " 29.61551764 15.80273524 27.38876151 31.08585032 30.63928823 17.47759583\n",
      "  5.25703074 33.31587476 17.70361945 11.95605506 14.35905543 22.10261772\n",
      " 17.08098234 31.56070208]\n",
      "\n",
      "sst : 13020.754671052631\n",
      "sse : 4572.461443662765\n",
      "r2_score : 0.6488328396334715\n",
      "\n",
      "mse : 30.081983181991877\n",
      "rmse : 5.484704475356159\n",
      "mae : 4.037551451496665\n",
      "mape : 0.21112168445263693\n"
     ]
    }
   ],
   "source": [
    "model4= LinearRegression()\n",
    "model4.fit(x_train4, y_train)\n",
    "\n",
    "print(f'회귀계수 : {model4.coef_}')\n",
    "print(f'편차 : {model4.intercept_}')\n",
    "print()\n",
    "pred4 = model4.predict(x_val4)\n",
    "print(f'pred4 : {pred4}')\n",
    "print()\n",
    "tmp_mean = y_val.mean()\n",
    "sst = np.sum(np.power(y_val - tmp_mean, 2))\n",
    "sse = np.sum(np.power(y_val - pred4, 2))\n",
    "\n",
    "print(f'sst : {sst}')\n",
    "print(f'sse : {sse}')\n",
    "print(f'r2_score : {r2_score(y_val, pred4)}')\n",
    "print()\n",
    "\n",
    "print(f'mse : {mean_squared_error(y_val, pred4)}')\n",
    "print(f'rmse : {mean_squared_error(y_val, pred4, squared=False)}')\n",
    "print(f'mae : {mean_absolute_error(y_val, pred4)}')\n",
    "print(f'mape : {mean_absolute_percentage_error(y_val, pred4)}')"
   ]
  },
  {
   "cell_type": "code",
   "execution_count": 111,
   "metadata": {},
   "outputs": [
    {
     "name": "stdout",
     "output_type": "stream",
     "text": [
      "회귀계수 : [-8.51379209e-02 -3.39854413e-02  3.52144822e+00 -1.39316453e+01\n",
      "  4.78862938e+00 -1.10153570e+00  2.00163767e-03 -9.48117605e-01\n",
      " -5.41641770e-01]\n",
      "편차 : 28.37939126749565\n",
      "\n",
      "pred4 : [19.76458518 11.38594594 21.32789863 29.07989137 19.08105871 13.01953235\n",
      " 27.55695578 16.18535769  8.61971811 14.62611139 19.8783963  25.18592458\n",
      " 25.19949491 15.09318631 20.33773215 28.29586138  4.23482053 14.00802996\n",
      " 31.59695993 23.88149094 20.7920132  14.54280435  5.37787383 30.41589066\n",
      " 27.68895666 33.69288297 31.04205019 17.91884204 16.86298633 28.18933992\n",
      " 23.91540694 30.90293218 13.76812565 19.60935285 14.29628549 13.97923801\n",
      "  2.03864958 21.28066272 16.08587262 26.42067713 10.56081816 16.64110206\n",
      " 21.14116599  7.8776839  15.77973571 29.84402329 23.58065647 11.51426659\n",
      " 14.78606894 20.20763553 28.34651655 11.26882125 30.47769768 26.85716935\n",
      " 25.41092196 27.69777971 24.63308959 28.19677996 24.90200764 20.33046422\n",
      " 16.52492647 14.37553863 14.66494422 31.11097199 29.97970072 22.97145915\n",
      " 31.15221035 23.88802037 26.02499863 15.56595706  5.43468215 23.20555704\n",
      "  9.44841813 22.65363812 25.78011621  1.16269427  6.45464106 12.69682393\n",
      "  6.00815219 27.67781637 15.37875524 24.4651132  23.81766429 31.20843543\n",
      " 15.29413672  9.53287601 29.701923   20.70689952 13.93180782 33.1486984\n",
      " 28.12948185 24.98282145 28.99784481  6.94203757 18.33027807 27.05635289\n",
      " 29.31982573 24.66182223 18.22716961 26.48982063 31.9409706  18.18268455\n",
      " 33.63582201 29.05476996 24.51977042 15.61743545 31.06082282 32.96411363\n",
      " 11.16493057 29.12934676 15.81837863 10.87159476 11.2843384  19.78961457\n",
      " 32.42787605 31.57570567 29.58808486 26.06003477 22.32095857 33.66916905\n",
      " 27.58405422 29.24409959 26.44812603 26.82435642 23.60875682 23.83382265\n",
      "  8.86732533 25.89693342 16.37095424 17.36032881 27.76199427  9.62904755\n",
      " 22.09235545 28.89317395 26.5142495  35.13931045 25.00504899  2.63561293\n",
      " 29.61551764 15.80273524 27.38876151 31.08585032 30.63928823 17.47759583\n",
      "  5.25703074 33.31587476 17.70361945 11.95605506 14.35905543 22.10261772\n",
      " 17.08098234 31.56070208]\n",
      "\n",
      "sst : 13020.754671052631\n",
      "sse : 3695.0521936045916\n",
      "r2_score : 0.7162182771311001\n",
      "\n",
      "mse : 24.309553905293367\n",
      "rmse : 4.930471975916035\n",
      "mae : 3.6704956206063897\n",
      "mape : 0.2154919736703178\n"
     ]
    }
   ],
   "source": [
    "model5= LinearRegression()\n",
    "model5.fit(x_train, y_train)\n",
    "\n",
    "print(f'회귀계수 : {model5.coef_}')\n",
    "print(f'편차 : {model5.intercept_}')\n",
    "print()\n",
    "pred5 = model5.predict(x_val)\n",
    "print(f'pred4 : {pred4}')\n",
    "print()\n",
    "tmp_mean = y_val.mean()\n",
    "sst = np.sum(np.power(y_val - tmp_mean, 2))\n",
    "sse = np.sum(np.power(y_val - pred5, 2))\n",
    "\n",
    "print(f'sst : {sst}')\n",
    "print(f'sse : {sse}')\n",
    "print(f'r2_score : {r2_score(y_val, pred5)}')\n",
    "print()\n",
    "\n",
    "print(f'mse : {mean_squared_error(y_val, pred5)}')\n",
    "print(f'rmse : {mean_squared_error(y_val, pred5, squared=False)}')\n",
    "print(f'mae : {mean_absolute_error(y_val, pred5)}')\n",
    "print(f'mape : {mean_absolute_percentage_error(y_val, pred5)}')"
   ]
  },
  {
   "cell_type": "code",
   "execution_count": 112,
   "metadata": {},
   "outputs": [
    {
     "data": {
      "text/html": [
       "<div>\n",
       "<style scoped>\n",
       "    .dataframe tbody tr th:only-of-type {\n",
       "        vertical-align: middle;\n",
       "    }\n",
       "\n",
       "    .dataframe tbody tr th {\n",
       "        vertical-align: top;\n",
       "    }\n",
       "\n",
       "    .dataframe thead th {\n",
       "        text-align: right;\n",
       "    }\n",
       "</style>\n",
       "<table border=\"1\" class=\"dataframe\">\n",
       "  <thead>\n",
       "    <tr style=\"text-align: right;\">\n",
       "      <th></th>\n",
       "      <th>model_no</th>\n",
       "      <th>rmse</th>\n",
       "      <th>mae</th>\n",
       "      <th>mape</th>\n",
       "    </tr>\n",
       "  </thead>\n",
       "  <tbody>\n",
       "    <tr>\n",
       "      <th>0</th>\n",
       "      <td>1</td>\n",
       "      <td>5.618125</td>\n",
       "      <td>4.138380</td>\n",
       "      <td>0.223987</td>\n",
       "    </tr>\n",
       "    <tr>\n",
       "      <th>1</th>\n",
       "      <td>2</td>\n",
       "      <td>8.278901</td>\n",
       "      <td>6.480427</td>\n",
       "      <td>0.404903</td>\n",
       "    </tr>\n",
       "    <tr>\n",
       "      <th>2</th>\n",
       "      <td>3</td>\n",
       "      <td>5.490557</td>\n",
       "      <td>4.039846</td>\n",
       "      <td>0.211744</td>\n",
       "    </tr>\n",
       "    <tr>\n",
       "      <th>3</th>\n",
       "      <td>4</td>\n",
       "      <td>5.484704</td>\n",
       "      <td>4.037551</td>\n",
       "      <td>0.211122</td>\n",
       "    </tr>\n",
       "    <tr>\n",
       "      <th>4</th>\n",
       "      <td>5</td>\n",
       "      <td>4.930472</td>\n",
       "      <td>3.670496</td>\n",
       "      <td>0.215492</td>\n",
       "    </tr>\n",
       "  </tbody>\n",
       "</table>\n",
       "</div>"
      ],
      "text/plain": [
       "   model_no      rmse       mae      mape\n",
       "0         1  5.618125  4.138380  0.223987\n",
       "1         2  8.278901  6.480427  0.404903\n",
       "2         3  5.490557  4.039846  0.211744\n",
       "3         4  5.484704  4.037551  0.211122\n",
       "4         5  4.930472  3.670496  0.215492"
      ]
     },
     "execution_count": 112,
     "metadata": {},
     "output_type": "execute_result"
    }
   ],
   "source": [
    "model_no, rmse, mae, mape = [],[],[],[] \n",
    "pred = [pred1, pred2, pred3, pred4, pred5] \n",
    "for i,p in enumerate(pred): \n",
    "    model_no.append(i+1)\n",
    "    rmse.append(mean_squared_error(y_val, p, squared = False)) \n",
    "    mae.append(mean_absolute_error(y_val, p)) \n",
    "    mape.append(mean_absolute_percentage_error(y_val, p)) \n",
    "    \n",
    "result = pd.DataFrame({'model_no':model_no, 'rmse':rmse, 'mae':mae, 'mape':mape}) \n",
    "result"
   ]
  },
  {
   "cell_type": "markdown",
   "metadata": {},
   "source": [
    "### 변수 중요도(6과)"
   ]
  },
  {
   "cell_type": "code",
   "execution_count": 114,
   "metadata": {},
   "outputs": [],
   "source": [
    "import seaborn as sns"
   ]
  },
  {
   "cell_type": "code",
   "execution_count": 115,
   "metadata": {},
   "outputs": [],
   "source": [
    "def plot_feature_importance(importance, names):\n",
    "    feature_importance = np.array(importance)\n",
    "    feature_names = np.array(names)\n",
    "\n",
    "    data={'feature_names':feature_names,'feature_importance':feature_importance}\n",
    "    fi_df = pd.DataFrame(data)\n",
    "\n",
    "    fi_df.sort_values(by=['feature_importance'], ascending=False,inplace=True)\n",
    "    fi_df.reset_index(drop=True, inplace = True)\n",
    "\n",
    "    plt.figure(figsize=(10,8))\n",
    "    sns.barplot(x='feature_importance', y='feature_names', data = fi_df)\n",
    "\n",
    "    plt.xlabel('FEATURE IMPORTANCE')\n",
    "    plt.ylabel('FEATURE NAMES')\n",
    "    plt.grid()\n",
    "\n",
    "    return fi_df"
   ]
  },
  {
   "cell_type": "markdown",
   "metadata": {},
   "source": [
    "##### 과정 요약\n",
    "0. 데이터 불러오기 및 정리\n",
    "1. 데이터분할(test)\n",
    "2. 데이터분석(EDA & CDA)\n",
    "3. Nan 결측치\n",
    "4. 데이터분할(x, y)\n",
    "5. FeatureEngineering\n",
    "6. 가변수화\n",
    "5. 데이터분할(train, val)\n",
    "6. 스케일링"
   ]
  },
  {
   "cell_type": "markdown",
   "metadata": {},
   "source": [
    "<pre>\n",
    "데이터 불러오기 / 데이터분할(test) / 데이터분석(EDA/CDA) 의 순서는 고정이다.\n",
    "데이터분할(x,y)는 항상 nan 행 제거 후 진행해야 한다.\n",
    "스케일링은 데이터분할(train/val) 후 진행해야 한다.\n",
    "</pre>"
   ]
  },
  {
   "cell_type": "markdown",
   "metadata": {},
   "source": [
    "# K-Nearest Neighbors\n",
    "* 예측해야 할 데이터와 주어진 데이터의 모든 거리를 계산\n",
    "* 가까운 걸의 데이터를 k개 만큼 찾은 후 평균을 계산하여 예측"
   ]
  },
  {
   "cell_type": "code",
   "execution_count": 1,
   "metadata": {},
   "outputs": [],
   "source": [
    "#라이브러리들을 불러오자.\n",
    "import numpy as np\n",
    "import pandas as pd\n",
    "import matplotlib.pyplot as plt\n",
    "\n",
    "from sklearn.model_selection import train_test_split\n",
    "from sklearn.preprocessing import *"
   ]
  },
  {
   "cell_type": "code",
   "execution_count": 2,
   "metadata": {},
   "outputs": [],
   "source": [
    "path = 'https://raw.githubusercontent.com/DA4BAM/dataset/master/boston.csv'\n",
    "data = pd.read_csv(path)"
   ]
  },
  {
   "cell_type": "code",
   "execution_count": 3,
   "metadata": {},
   "outputs": [],
   "source": [
    "data.drop(['black'], axis = 1, inplace = True)"
   ]
  },
  {
   "cell_type": "code",
   "execution_count": 4,
   "metadata": {},
   "outputs": [],
   "source": [
    "target = 'medv'\n",
    "x = data.drop(target, axis=1)\n",
    "y = data.loc[:, target]"
   ]
  },
  {
   "cell_type": "code",
   "execution_count": 5,
   "metadata": {},
   "outputs": [],
   "source": [
    "x_train, x_val, y_train, y_val = train_test_split(x, y, test_size = .3, random_state = 2022)"
   ]
  },
  {
   "cell_type": "code",
   "execution_count": 6,
   "metadata": {},
   "outputs": [
    {
     "data": {
      "text/plain": [
       "['crim',\n",
       " 'zn',\n",
       " 'indus',\n",
       " 'chas',\n",
       " 'nox',\n",
       " 'rm',\n",
       " 'age',\n",
       " 'dis',\n",
       " 'rad',\n",
       " 'tax',\n",
       " 'ptratio',\n",
       " 'lstat']"
      ]
     },
     "execution_count": 6,
     "metadata": {},
     "output_type": "execute_result"
    }
   ],
   "source": [
    "list(x_train)"
   ]
  },
  {
   "cell_type": "code",
   "execution_count": 18,
   "metadata": {},
   "outputs": [],
   "source": [
    "mm_scaler = MinMaxScaler()\n",
    "x_train_s1 = mm_scaler.fit_transform(x_train)\n",
    "x_val_s1 = mm_scaler.transform(x_val)"
   ]
  },
  {
   "cell_type": "code",
   "execution_count": 19,
   "metadata": {},
   "outputs": [],
   "source": [
    "stand_scaler = StandardScaler()\n",
    "x_train_s2 = stand_scaler.fit_transform(x_train)\n",
    "x_val_s2 = stand_scaler.transform(x_val)"
   ]
  },
  {
   "cell_type": "code",
   "execution_count": 20,
   "metadata": {},
   "outputs": [],
   "source": [
    "x_train_s1 = pd.DataFrame(x_train_s1, columns = list(x))\n",
    "x_train_s2 = pd.DataFrame(x_train_s2, columns = list(x))"
   ]
  },
  {
   "cell_type": "code",
   "execution_count": 21,
   "metadata": {},
   "outputs": [
    {
     "data": {
      "text/html": [
       "<div>\n",
       "<style scoped>\n",
       "    .dataframe tbody tr th:only-of-type {\n",
       "        vertical-align: middle;\n",
       "    }\n",
       "\n",
       "    .dataframe tbody tr th {\n",
       "        vertical-align: top;\n",
       "    }\n",
       "\n",
       "    .dataframe thead th {\n",
       "        text-align: right;\n",
       "    }\n",
       "</style>\n",
       "<table border=\"1\" class=\"dataframe\">\n",
       "  <thead>\n",
       "    <tr style=\"text-align: right;\">\n",
       "      <th></th>\n",
       "      <th>crim</th>\n",
       "      <th>zn</th>\n",
       "      <th>indus</th>\n",
       "      <th>chas</th>\n",
       "      <th>nox</th>\n",
       "      <th>rm</th>\n",
       "      <th>age</th>\n",
       "      <th>dis</th>\n",
       "      <th>rad</th>\n",
       "      <th>tax</th>\n",
       "      <th>ptratio</th>\n",
       "      <th>lstat</th>\n",
       "    </tr>\n",
       "  </thead>\n",
       "  <tbody>\n",
       "    <tr>\n",
       "      <th>count</th>\n",
       "      <td>354.000000</td>\n",
       "      <td>354.000000</td>\n",
       "      <td>354.000000</td>\n",
       "      <td>354.000000</td>\n",
       "      <td>354.000000</td>\n",
       "      <td>354.000000</td>\n",
       "      <td>354.000000</td>\n",
       "      <td>354.000000</td>\n",
       "      <td>354.000000</td>\n",
       "      <td>354.000000</td>\n",
       "      <td>354.000000</td>\n",
       "      <td>354.000000</td>\n",
       "    </tr>\n",
       "    <tr>\n",
       "      <th>mean</th>\n",
       "      <td>3.204705</td>\n",
       "      <td>11.478814</td>\n",
       "      <td>10.756073</td>\n",
       "      <td>0.070621</td>\n",
       "      <td>0.548530</td>\n",
       "      <td>6.309133</td>\n",
       "      <td>67.485311</td>\n",
       "      <td>3.900144</td>\n",
       "      <td>9.039548</td>\n",
       "      <td>397.790960</td>\n",
       "      <td>18.373164</td>\n",
       "      <td>12.129209</td>\n",
       "    </tr>\n",
       "    <tr>\n",
       "      <th>std</th>\n",
       "      <td>8.554879</td>\n",
       "      <td>22.969625</td>\n",
       "      <td>6.894126</td>\n",
       "      <td>0.256554</td>\n",
       "      <td>0.115102</td>\n",
       "      <td>0.689033</td>\n",
       "      <td>27.894307</td>\n",
       "      <td>2.113877</td>\n",
       "      <td>8.413440</td>\n",
       "      <td>163.905474</td>\n",
       "      <td>2.191546</td>\n",
       "      <td>6.739158</td>\n",
       "    </tr>\n",
       "    <tr>\n",
       "      <th>min</th>\n",
       "      <td>0.006320</td>\n",
       "      <td>0.000000</td>\n",
       "      <td>0.460000</td>\n",
       "      <td>0.000000</td>\n",
       "      <td>0.389000</td>\n",
       "      <td>3.863000</td>\n",
       "      <td>6.000000</td>\n",
       "      <td>1.129600</td>\n",
       "      <td>1.000000</td>\n",
       "      <td>188.000000</td>\n",
       "      <td>12.600000</td>\n",
       "      <td>1.730000</td>\n",
       "    </tr>\n",
       "    <tr>\n",
       "      <th>25%</th>\n",
       "      <td>0.071848</td>\n",
       "      <td>0.000000</td>\n",
       "      <td>4.935000</td>\n",
       "      <td>0.000000</td>\n",
       "      <td>0.448000</td>\n",
       "      <td>5.889500</td>\n",
       "      <td>42.950000</td>\n",
       "      <td>2.168250</td>\n",
       "      <td>4.000000</td>\n",
       "      <td>277.000000</td>\n",
       "      <td>17.000000</td>\n",
       "      <td>6.735000</td>\n",
       "    </tr>\n",
       "    <tr>\n",
       "      <th>50%</th>\n",
       "      <td>0.219655</td>\n",
       "      <td>0.000000</td>\n",
       "      <td>8.350000</td>\n",
       "      <td>0.000000</td>\n",
       "      <td>0.524000</td>\n",
       "      <td>6.209000</td>\n",
       "      <td>74.850000</td>\n",
       "      <td>3.361800</td>\n",
       "      <td>5.000000</td>\n",
       "      <td>329.500000</td>\n",
       "      <td>18.850000</td>\n",
       "      <td>10.925000</td>\n",
       "    </tr>\n",
       "    <tr>\n",
       "      <th>75%</th>\n",
       "      <td>2.588280</td>\n",
       "      <td>20.000000</td>\n",
       "      <td>18.100000</td>\n",
       "      <td>0.000000</td>\n",
       "      <td>0.614000</td>\n",
       "      <td>6.618750</td>\n",
       "      <td>93.875000</td>\n",
       "      <td>5.226975</td>\n",
       "      <td>8.000000</td>\n",
       "      <td>437.000000</td>\n",
       "      <td>20.200000</td>\n",
       "      <td>15.820000</td>\n",
       "    </tr>\n",
       "    <tr>\n",
       "      <th>max</th>\n",
       "      <td>88.976200</td>\n",
       "      <td>100.000000</td>\n",
       "      <td>27.740000</td>\n",
       "      <td>1.000000</td>\n",
       "      <td>0.871000</td>\n",
       "      <td>8.725000</td>\n",
       "      <td>100.000000</td>\n",
       "      <td>10.710300</td>\n",
       "      <td>24.000000</td>\n",
       "      <td>711.000000</td>\n",
       "      <td>22.000000</td>\n",
       "      <td>37.970000</td>\n",
       "    </tr>\n",
       "  </tbody>\n",
       "</table>\n",
       "</div>"
      ],
      "text/plain": [
       "             crim          zn       indus        chas         nox          rm  \\\n",
       "count  354.000000  354.000000  354.000000  354.000000  354.000000  354.000000   \n",
       "mean     3.204705   11.478814   10.756073    0.070621    0.548530    6.309133   \n",
       "std      8.554879   22.969625    6.894126    0.256554    0.115102    0.689033   \n",
       "min      0.006320    0.000000    0.460000    0.000000    0.389000    3.863000   \n",
       "25%      0.071848    0.000000    4.935000    0.000000    0.448000    5.889500   \n",
       "50%      0.219655    0.000000    8.350000    0.000000    0.524000    6.209000   \n",
       "75%      2.588280   20.000000   18.100000    0.000000    0.614000    6.618750   \n",
       "max     88.976200  100.000000   27.740000    1.000000    0.871000    8.725000   \n",
       "\n",
       "              age         dis         rad         tax     ptratio       lstat  \n",
       "count  354.000000  354.000000  354.000000  354.000000  354.000000  354.000000  \n",
       "mean    67.485311    3.900144    9.039548  397.790960   18.373164   12.129209  \n",
       "std     27.894307    2.113877    8.413440  163.905474    2.191546    6.739158  \n",
       "min      6.000000    1.129600    1.000000  188.000000   12.600000    1.730000  \n",
       "25%     42.950000    2.168250    4.000000  277.000000   17.000000    6.735000  \n",
       "50%     74.850000    3.361800    5.000000  329.500000   18.850000   10.925000  \n",
       "75%     93.875000    5.226975    8.000000  437.000000   20.200000   15.820000  \n",
       "max    100.000000   10.710300   24.000000  711.000000   22.000000   37.970000  "
      ]
     },
     "execution_count": 21,
     "metadata": {},
     "output_type": "execute_result"
    }
   ],
   "source": [
    "x_train.describe()"
   ]
  },
  {
   "cell_type": "code",
   "execution_count": 22,
   "metadata": {},
   "outputs": [
    {
     "data": {
      "text/html": [
       "<div>\n",
       "<style scoped>\n",
       "    .dataframe tbody tr th:only-of-type {\n",
       "        vertical-align: middle;\n",
       "    }\n",
       "\n",
       "    .dataframe tbody tr th {\n",
       "        vertical-align: top;\n",
       "    }\n",
       "\n",
       "    .dataframe thead th {\n",
       "        text-align: right;\n",
       "    }\n",
       "</style>\n",
       "<table border=\"1\" class=\"dataframe\">\n",
       "  <thead>\n",
       "    <tr style=\"text-align: right;\">\n",
       "      <th></th>\n",
       "      <th>crim</th>\n",
       "      <th>zn</th>\n",
       "      <th>indus</th>\n",
       "      <th>chas</th>\n",
       "      <th>nox</th>\n",
       "      <th>rm</th>\n",
       "      <th>age</th>\n",
       "      <th>dis</th>\n",
       "      <th>rad</th>\n",
       "      <th>tax</th>\n",
       "      <th>ptratio</th>\n",
       "      <th>lstat</th>\n",
       "    </tr>\n",
       "  </thead>\n",
       "  <tbody>\n",
       "    <tr>\n",
       "      <th>count</th>\n",
       "      <td>354.000000</td>\n",
       "      <td>354.000000</td>\n",
       "      <td>354.000000</td>\n",
       "      <td>354.000000</td>\n",
       "      <td>354.000000</td>\n",
       "      <td>354.000000</td>\n",
       "      <td>354.000000</td>\n",
       "      <td>354.000000</td>\n",
       "      <td>354.000000</td>\n",
       "      <td>354.000000</td>\n",
       "      <td>354.000000</td>\n",
       "      <td>354.000000</td>\n",
       "    </tr>\n",
       "    <tr>\n",
       "      <th>mean</th>\n",
       "      <td>0.035949</td>\n",
       "      <td>0.114788</td>\n",
       "      <td>0.377422</td>\n",
       "      <td>0.070621</td>\n",
       "      <td>0.330976</td>\n",
       "      <td>0.503112</td>\n",
       "      <td>0.654099</td>\n",
       "      <td>0.289180</td>\n",
       "      <td>0.349546</td>\n",
       "      <td>0.401130</td>\n",
       "      <td>0.614166</td>\n",
       "      <td>0.286954</td>\n",
       "    </tr>\n",
       "    <tr>\n",
       "      <th>std</th>\n",
       "      <td>0.096155</td>\n",
       "      <td>0.229696</td>\n",
       "      <td>0.252717</td>\n",
       "      <td>0.256554</td>\n",
       "      <td>0.238801</td>\n",
       "      <td>0.141718</td>\n",
       "      <td>0.296748</td>\n",
       "      <td>0.220639</td>\n",
       "      <td>0.365802</td>\n",
       "      <td>0.313395</td>\n",
       "      <td>0.233143</td>\n",
       "      <td>0.185959</td>\n",
       "    </tr>\n",
       "    <tr>\n",
       "      <th>min</th>\n",
       "      <td>0.000000</td>\n",
       "      <td>0.000000</td>\n",
       "      <td>0.000000</td>\n",
       "      <td>0.000000</td>\n",
       "      <td>0.000000</td>\n",
       "      <td>0.000000</td>\n",
       "      <td>0.000000</td>\n",
       "      <td>0.000000</td>\n",
       "      <td>0.000000</td>\n",
       "      <td>0.000000</td>\n",
       "      <td>0.000000</td>\n",
       "      <td>0.000000</td>\n",
       "    </tr>\n",
       "    <tr>\n",
       "      <th>25%</th>\n",
       "      <td>0.000737</td>\n",
       "      <td>0.000000</td>\n",
       "      <td>0.164040</td>\n",
       "      <td>0.000000</td>\n",
       "      <td>0.122407</td>\n",
       "      <td>0.416804</td>\n",
       "      <td>0.393085</td>\n",
       "      <td>0.108411</td>\n",
       "      <td>0.130435</td>\n",
       "      <td>0.170172</td>\n",
       "      <td>0.468085</td>\n",
       "      <td>0.138107</td>\n",
       "    </tr>\n",
       "    <tr>\n",
       "      <th>50%</th>\n",
       "      <td>0.002398</td>\n",
       "      <td>0.000000</td>\n",
       "      <td>0.289223</td>\n",
       "      <td>0.000000</td>\n",
       "      <td>0.280083</td>\n",
       "      <td>0.482517</td>\n",
       "      <td>0.732447</td>\n",
       "      <td>0.232989</td>\n",
       "      <td>0.173913</td>\n",
       "      <td>0.270554</td>\n",
       "      <td>0.664894</td>\n",
       "      <td>0.253725</td>\n",
       "    </tr>\n",
       "    <tr>\n",
       "      <th>75%</th>\n",
       "      <td>0.029021</td>\n",
       "      <td>0.200000</td>\n",
       "      <td>0.646628</td>\n",
       "      <td>0.000000</td>\n",
       "      <td>0.466805</td>\n",
       "      <td>0.566794</td>\n",
       "      <td>0.934840</td>\n",
       "      <td>0.427670</td>\n",
       "      <td>0.304348</td>\n",
       "      <td>0.476099</td>\n",
       "      <td>0.808511</td>\n",
       "      <td>0.388797</td>\n",
       "    </tr>\n",
       "    <tr>\n",
       "      <th>max</th>\n",
       "      <td>1.000000</td>\n",
       "      <td>1.000000</td>\n",
       "      <td>1.000000</td>\n",
       "      <td>1.000000</td>\n",
       "      <td>1.000000</td>\n",
       "      <td>1.000000</td>\n",
       "      <td>1.000000</td>\n",
       "      <td>1.000000</td>\n",
       "      <td>1.000000</td>\n",
       "      <td>1.000000</td>\n",
       "      <td>1.000000</td>\n",
       "      <td>1.000000</td>\n",
       "    </tr>\n",
       "  </tbody>\n",
       "</table>\n",
       "</div>"
      ],
      "text/plain": [
       "             crim          zn       indus        chas         nox          rm  \\\n",
       "count  354.000000  354.000000  354.000000  354.000000  354.000000  354.000000   \n",
       "mean     0.035949    0.114788    0.377422    0.070621    0.330976    0.503112   \n",
       "std      0.096155    0.229696    0.252717    0.256554    0.238801    0.141718   \n",
       "min      0.000000    0.000000    0.000000    0.000000    0.000000    0.000000   \n",
       "25%      0.000737    0.000000    0.164040    0.000000    0.122407    0.416804   \n",
       "50%      0.002398    0.000000    0.289223    0.000000    0.280083    0.482517   \n",
       "75%      0.029021    0.200000    0.646628    0.000000    0.466805    0.566794   \n",
       "max      1.000000    1.000000    1.000000    1.000000    1.000000    1.000000   \n",
       "\n",
       "              age         dis         rad         tax     ptratio       lstat  \n",
       "count  354.000000  354.000000  354.000000  354.000000  354.000000  354.000000  \n",
       "mean     0.654099    0.289180    0.349546    0.401130    0.614166    0.286954  \n",
       "std      0.296748    0.220639    0.365802    0.313395    0.233143    0.185959  \n",
       "min      0.000000    0.000000    0.000000    0.000000    0.000000    0.000000  \n",
       "25%      0.393085    0.108411    0.130435    0.170172    0.468085    0.138107  \n",
       "50%      0.732447    0.232989    0.173913    0.270554    0.664894    0.253725  \n",
       "75%      0.934840    0.427670    0.304348    0.476099    0.808511    0.388797  \n",
       "max      1.000000    1.000000    1.000000    1.000000    1.000000    1.000000  "
      ]
     },
     "execution_count": 22,
     "metadata": {},
     "output_type": "execute_result"
    }
   ],
   "source": [
    "x_train_s1.describe()"
   ]
  },
  {
   "cell_type": "code",
   "execution_count": 23,
   "metadata": {},
   "outputs": [
    {
     "data": {
      "text/html": [
       "<div>\n",
       "<style scoped>\n",
       "    .dataframe tbody tr th:only-of-type {\n",
       "        vertical-align: middle;\n",
       "    }\n",
       "\n",
       "    .dataframe tbody tr th {\n",
       "        vertical-align: top;\n",
       "    }\n",
       "\n",
       "    .dataframe thead th {\n",
       "        text-align: right;\n",
       "    }\n",
       "</style>\n",
       "<table border=\"1\" class=\"dataframe\">\n",
       "  <thead>\n",
       "    <tr style=\"text-align: right;\">\n",
       "      <th></th>\n",
       "      <th>crim</th>\n",
       "      <th>zn</th>\n",
       "      <th>indus</th>\n",
       "      <th>chas</th>\n",
       "      <th>nox</th>\n",
       "      <th>rm</th>\n",
       "      <th>age</th>\n",
       "      <th>dis</th>\n",
       "      <th>rad</th>\n",
       "      <th>tax</th>\n",
       "      <th>ptratio</th>\n",
       "      <th>lstat</th>\n",
       "    </tr>\n",
       "  </thead>\n",
       "  <tbody>\n",
       "    <tr>\n",
       "      <th>count</th>\n",
       "      <td>3.540000e+02</td>\n",
       "      <td>3.540000e+02</td>\n",
       "      <td>3.540000e+02</td>\n",
       "      <td>3.540000e+02</td>\n",
       "      <td>3.540000e+02</td>\n",
       "      <td>3.540000e+02</td>\n",
       "      <td>3.540000e+02</td>\n",
       "      <td>3.540000e+02</td>\n",
       "      <td>3.540000e+02</td>\n",
       "      <td>3.540000e+02</td>\n",
       "      <td>3.540000e+02</td>\n",
       "      <td>3.540000e+02</td>\n",
       "    </tr>\n",
       "    <tr>\n",
       "      <th>mean</th>\n",
       "      <td>-2.007183e-17</td>\n",
       "      <td>3.763468e-17</td>\n",
       "      <td>1.154130e-16</td>\n",
       "      <td>-2.508979e-17</td>\n",
       "      <td>-3.129951e-16</td>\n",
       "      <td>-6.322626e-16</td>\n",
       "      <td>-2.308260e-16</td>\n",
       "      <td>7.777834e-17</td>\n",
       "      <td>-2.634428e-17</td>\n",
       "      <td>-7.526936e-17</td>\n",
       "      <td>3.111133e-16</td>\n",
       "      <td>2.057362e-16</td>\n",
       "    </tr>\n",
       "    <tr>\n",
       "      <th>std</th>\n",
       "      <td>1.001415e+00</td>\n",
       "      <td>1.001415e+00</td>\n",
       "      <td>1.001415e+00</td>\n",
       "      <td>1.001415e+00</td>\n",
       "      <td>1.001415e+00</td>\n",
       "      <td>1.001415e+00</td>\n",
       "      <td>1.001415e+00</td>\n",
       "      <td>1.001415e+00</td>\n",
       "      <td>1.001415e+00</td>\n",
       "      <td>1.001415e+00</td>\n",
       "      <td>1.001415e+00</td>\n",
       "      <td>1.001415e+00</td>\n",
       "    </tr>\n",
       "    <tr>\n",
       "      <th>min</th>\n",
       "      <td>-3.743960e-01</td>\n",
       "      <td>-5.004462e-01</td>\n",
       "      <td>-1.495570e+00</td>\n",
       "      <td>-2.756589e-01</td>\n",
       "      <td>-1.387952e+00</td>\n",
       "      <td>-3.555120e+00</td>\n",
       "      <td>-2.207344e+00</td>\n",
       "      <td>-1.312501e+00</td>\n",
       "      <td>-9.569127e-01</td>\n",
       "      <td>-1.281763e+00</td>\n",
       "      <td>-2.638016e+00</td>\n",
       "      <td>-1.545286e+00</td>\n",
       "    </tr>\n",
       "    <tr>\n",
       "      <th>25%</th>\n",
       "      <td>-3.667255e-01</td>\n",
       "      <td>-5.004462e-01</td>\n",
       "      <td>-8.455478e-01</td>\n",
       "      <td>-2.756589e-01</td>\n",
       "      <td>-8.746373e-01</td>\n",
       "      <td>-6.098789e-01</td>\n",
       "      <td>-8.808263e-01</td>\n",
       "      <td>-8.204568e-01</td>\n",
       "      <td>-5.998357e-01</td>\n",
       "      <td>-7.379981e-01</td>\n",
       "      <td>-6.274599e-01</td>\n",
       "      <td>-8.015607e-01</td>\n",
       "    </tr>\n",
       "    <tr>\n",
       "      <th>50%</th>\n",
       "      <td>-3.494235e-01</td>\n",
       "      <td>-5.004462e-01</td>\n",
       "      <td>-3.494974e-01</td>\n",
       "      <td>-2.756589e-01</td>\n",
       "      <td>-2.134189e-01</td>\n",
       "      <td>-1.455293e-01</td>\n",
       "      <td>2.643949e-01</td>\n",
       "      <td>-2.550316e-01</td>\n",
       "      <td>-4.808100e-01</td>\n",
       "      <td>-4.172382e-01</td>\n",
       "      <td>2.178877e-01</td>\n",
       "      <td>-1.789413e-01</td>\n",
       "    </tr>\n",
       "    <tr>\n",
       "      <th>75%</th>\n",
       "      <td>-7.215742e-02</td>\n",
       "      <td>3.715014e-01</td>\n",
       "      <td>1.066752e+00</td>\n",
       "      <td>-2.756589e-01</td>\n",
       "      <td>5.696029e-01</td>\n",
       "      <td>4.499863e-01</td>\n",
       "      <td>9.473991e-01</td>\n",
       "      <td>6.285651e-01</td>\n",
       "      <td>-1.237329e-01</td>\n",
       "      <td>2.395560e-01</td>\n",
       "      <td>8.347630e-01</td>\n",
       "      <td>5.484387e-01</td>\n",
       "    </tr>\n",
       "    <tr>\n",
       "      <th>max</th>\n",
       "      <td>1.004022e+01</td>\n",
       "      <td>3.859292e+00</td>\n",
       "      <td>2.467023e+00</td>\n",
       "      <td>3.627671e+00</td>\n",
       "      <td>2.805565e+00</td>\n",
       "      <td>3.511133e+00</td>\n",
       "      <td>1.167289e+00</td>\n",
       "      <td>3.226202e+00</td>\n",
       "      <td>1.780678e+00</td>\n",
       "      <td>1.913617e+00</td>\n",
       "      <td>1.657263e+00</td>\n",
       "      <td>3.839852e+00</td>\n",
       "    </tr>\n",
       "  </tbody>\n",
       "</table>\n",
       "</div>"
      ],
      "text/plain": [
       "               crim            zn         indus          chas           nox  \\\n",
       "count  3.540000e+02  3.540000e+02  3.540000e+02  3.540000e+02  3.540000e+02   \n",
       "mean  -2.007183e-17  3.763468e-17  1.154130e-16 -2.508979e-17 -3.129951e-16   \n",
       "std    1.001415e+00  1.001415e+00  1.001415e+00  1.001415e+00  1.001415e+00   \n",
       "min   -3.743960e-01 -5.004462e-01 -1.495570e+00 -2.756589e-01 -1.387952e+00   \n",
       "25%   -3.667255e-01 -5.004462e-01 -8.455478e-01 -2.756589e-01 -8.746373e-01   \n",
       "50%   -3.494235e-01 -5.004462e-01 -3.494974e-01 -2.756589e-01 -2.134189e-01   \n",
       "75%   -7.215742e-02  3.715014e-01  1.066752e+00 -2.756589e-01  5.696029e-01   \n",
       "max    1.004022e+01  3.859292e+00  2.467023e+00  3.627671e+00  2.805565e+00   \n",
       "\n",
       "                 rm           age           dis           rad           tax  \\\n",
       "count  3.540000e+02  3.540000e+02  3.540000e+02  3.540000e+02  3.540000e+02   \n",
       "mean  -6.322626e-16 -2.308260e-16  7.777834e-17 -2.634428e-17 -7.526936e-17   \n",
       "std    1.001415e+00  1.001415e+00  1.001415e+00  1.001415e+00  1.001415e+00   \n",
       "min   -3.555120e+00 -2.207344e+00 -1.312501e+00 -9.569127e-01 -1.281763e+00   \n",
       "25%   -6.098789e-01 -8.808263e-01 -8.204568e-01 -5.998357e-01 -7.379981e-01   \n",
       "50%   -1.455293e-01  2.643949e-01 -2.550316e-01 -4.808100e-01 -4.172382e-01   \n",
       "75%    4.499863e-01  9.473991e-01  6.285651e-01 -1.237329e-01  2.395560e-01   \n",
       "max    3.511133e+00  1.167289e+00  3.226202e+00  1.780678e+00  1.913617e+00   \n",
       "\n",
       "            ptratio         lstat  \n",
       "count  3.540000e+02  3.540000e+02  \n",
       "mean   3.111133e-16  2.057362e-16  \n",
       "std    1.001415e+00  1.001415e+00  \n",
       "min   -2.638016e+00 -1.545286e+00  \n",
       "25%   -6.274599e-01 -8.015607e-01  \n",
       "50%    2.178877e-01 -1.789413e-01  \n",
       "75%    8.347630e-01  5.484387e-01  \n",
       "max    1.657263e+00  3.839852e+00  "
      ]
     },
     "execution_count": 23,
     "metadata": {},
     "output_type": "execute_result"
    }
   ],
   "source": [
    "x_train_s2.describe()"
   ]
  },
  {
   "cell_type": "code",
   "execution_count": 98,
   "metadata": {},
   "outputs": [],
   "source": [
    "from sklearn.neighbors import KNeighborsRegressor\n",
    "from sklearn.metrics import *\n",
    "from sklearn.linear_model import LinearRegression"
   ]
  },
  {
   "cell_type": "code",
   "execution_count": 63,
   "metadata": {},
   "outputs": [],
   "source": [
    "### 모델 선언 : default k = 5\n",
    "# n_neighbors : int\n",
    "# metric : euclidean / manhattan\n",
    "\n",
    "k = int(y_val.count() ** 0.5)\n",
    "model_mm = KNeighborsRegressor(n_neighbors=k, metric='euclidean')\n",
    "model_st = KNeighborsRegressor(n_neighbors=k)"
   ]
  },
  {
   "cell_type": "code",
   "execution_count": 64,
   "metadata": {},
   "outputs": [
    {
     "data": {
      "text/html": [
       "<style>#sk-container-id-5 {color: black;background-color: white;}#sk-container-id-5 pre{padding: 0;}#sk-container-id-5 div.sk-toggleable {background-color: white;}#sk-container-id-5 label.sk-toggleable__label {cursor: pointer;display: block;width: 100%;margin-bottom: 0;padding: 0.3em;box-sizing: border-box;text-align: center;}#sk-container-id-5 label.sk-toggleable__label-arrow:before {content: \"▸\";float: left;margin-right: 0.25em;color: #696969;}#sk-container-id-5 label.sk-toggleable__label-arrow:hover:before {color: black;}#sk-container-id-5 div.sk-estimator:hover label.sk-toggleable__label-arrow:before {color: black;}#sk-container-id-5 div.sk-toggleable__content {max-height: 0;max-width: 0;overflow: hidden;text-align: left;background-color: #f0f8ff;}#sk-container-id-5 div.sk-toggleable__content pre {margin: 0.2em;color: black;border-radius: 0.25em;background-color: #f0f8ff;}#sk-container-id-5 input.sk-toggleable__control:checked~div.sk-toggleable__content {max-height: 200px;max-width: 100%;overflow: auto;}#sk-container-id-5 input.sk-toggleable__control:checked~label.sk-toggleable__label-arrow:before {content: \"▾\";}#sk-container-id-5 div.sk-estimator input.sk-toggleable__control:checked~label.sk-toggleable__label {background-color: #d4ebff;}#sk-container-id-5 div.sk-label input.sk-toggleable__control:checked~label.sk-toggleable__label {background-color: #d4ebff;}#sk-container-id-5 input.sk-hidden--visually {border: 0;clip: rect(1px 1px 1px 1px);clip: rect(1px, 1px, 1px, 1px);height: 1px;margin: -1px;overflow: hidden;padding: 0;position: absolute;width: 1px;}#sk-container-id-5 div.sk-estimator {font-family: monospace;background-color: #f0f8ff;border: 1px dotted black;border-radius: 0.25em;box-sizing: border-box;margin-bottom: 0.5em;}#sk-container-id-5 div.sk-estimator:hover {background-color: #d4ebff;}#sk-container-id-5 div.sk-parallel-item::after {content: \"\";width: 100%;border-bottom: 1px solid gray;flex-grow: 1;}#sk-container-id-5 div.sk-label:hover label.sk-toggleable__label {background-color: #d4ebff;}#sk-container-id-5 div.sk-serial::before {content: \"\";position: absolute;border-left: 1px solid gray;box-sizing: border-box;top: 0;bottom: 0;left: 50%;z-index: 0;}#sk-container-id-5 div.sk-serial {display: flex;flex-direction: column;align-items: center;background-color: white;padding-right: 0.2em;padding-left: 0.2em;position: relative;}#sk-container-id-5 div.sk-item {position: relative;z-index: 1;}#sk-container-id-5 div.sk-parallel {display: flex;align-items: stretch;justify-content: center;background-color: white;position: relative;}#sk-container-id-5 div.sk-item::before, #sk-container-id-5 div.sk-parallel-item::before {content: \"\";position: absolute;border-left: 1px solid gray;box-sizing: border-box;top: 0;bottom: 0;left: 50%;z-index: -1;}#sk-container-id-5 div.sk-parallel-item {display: flex;flex-direction: column;z-index: 1;position: relative;background-color: white;}#sk-container-id-5 div.sk-parallel-item:first-child::after {align-self: flex-end;width: 50%;}#sk-container-id-5 div.sk-parallel-item:last-child::after {align-self: flex-start;width: 50%;}#sk-container-id-5 div.sk-parallel-item:only-child::after {width: 0;}#sk-container-id-5 div.sk-dashed-wrapped {border: 1px dashed gray;margin: 0 0.4em 0.5em 0.4em;box-sizing: border-box;padding-bottom: 0.4em;background-color: white;}#sk-container-id-5 div.sk-label label {font-family: monospace;font-weight: bold;display: inline-block;line-height: 1.2em;}#sk-container-id-5 div.sk-label-container {text-align: center;}#sk-container-id-5 div.sk-container {/* jupyter's `normalize.less` sets `[hidden] { display: none; }` but bootstrap.min.css set `[hidden] { display: none !important; }` so we also need the `!important` here to be able to override the default hidden behavior on the sphinx rendered scikit-learn.org. See: https://github.com/scikit-learn/scikit-learn/issues/21755 */display: inline-block !important;position: relative;}#sk-container-id-5 div.sk-text-repr-fallback {display: none;}</style><div id=\"sk-container-id-5\" class=\"sk-top-container\"><div class=\"sk-text-repr-fallback\"><pre>KNeighborsRegressor(n_neighbors=12)</pre><b>In a Jupyter environment, please rerun this cell to show the HTML representation or trust the notebook. <br />On GitHub, the HTML representation is unable to render, please try loading this page with nbviewer.org.</b></div><div class=\"sk-container\" hidden><div class=\"sk-item\"><div class=\"sk-estimator sk-toggleable\"><input class=\"sk-toggleable__control sk-hidden--visually\" id=\"sk-estimator-id-5\" type=\"checkbox\" checked><label for=\"sk-estimator-id-5\" class=\"sk-toggleable__label sk-toggleable__label-arrow\">KNeighborsRegressor</label><div class=\"sk-toggleable__content\"><pre>KNeighborsRegressor(n_neighbors=12)</pre></div></div></div></div></div>"
      ],
      "text/plain": [
       "KNeighborsRegressor(n_neighbors=12)"
      ]
     },
     "execution_count": 64,
     "metadata": {},
     "output_type": "execute_result"
    }
   ],
   "source": [
    "# 학습\n",
    "model_mm.fit(x_train_s1, y_train)\n",
    "model_st.fit(x_train_s2, y_train)"
   ]
  },
  {
   "cell_type": "code",
   "execution_count": 65,
   "metadata": {},
   "outputs": [
    {
     "name": "stderr",
     "output_type": "stream",
     "text": [
      "c:\\Users\\User\\AppData\\Local\\Programs\\Python\\Python39\\lib\\site-packages\\sklearn\\base.py:450: UserWarning: X does not have valid feature names, but KNeighborsRegressor was fitted with feature names\n",
      "  warnings.warn(\n",
      "c:\\Users\\User\\AppData\\Local\\Programs\\Python\\Python39\\lib\\site-packages\\sklearn\\base.py:450: UserWarning: X does not have valid feature names, but KNeighborsRegressor was fitted with feature names\n",
      "  warnings.warn(\n"
     ]
    }
   ],
   "source": [
    "# 예측\n",
    "pred_mm = model_mm.predict(x_val_s1)\n",
    "pred_st = model_st.predict(x_val_s2)"
   ]
  },
  {
   "cell_type": "code",
   "execution_count": 66,
   "metadata": {},
   "outputs": [
    {
     "data": {
      "text/plain": [
       "4.832377259115352"
      ]
     },
     "execution_count": 66,
     "metadata": {},
     "output_type": "execute_result"
    }
   ],
   "source": [
    "# 검증\n",
    "mean_squared_error(y_val, pred_mm, squared=False)\n"
   ]
  },
  {
   "cell_type": "code",
   "execution_count": 67,
   "metadata": {},
   "outputs": [
    {
     "data": {
      "text/plain": [
       "4.273866755425192"
      ]
     },
     "execution_count": 67,
     "metadata": {},
     "output_type": "execute_result"
    }
   ],
   "source": [
    "mean_squared_error(y_val, pred_st, squared=False)"
   ]
  },
  {
   "cell_type": "code",
   "execution_count": 68,
   "metadata": {},
   "outputs": [
    {
     "data": {
      "text/plain": [
       "3.4795504385964913"
      ]
     },
     "execution_count": 68,
     "metadata": {},
     "output_type": "execute_result"
    }
   ],
   "source": [
    "mean_absolute_error(y_val, pred_mm)"
   ]
  },
  {
   "cell_type": "code",
   "execution_count": 69,
   "metadata": {},
   "outputs": [
    {
     "data": {
      "text/plain": [
       "3.1201206140350877"
      ]
     },
     "execution_count": 69,
     "metadata": {},
     "output_type": "execute_result"
    }
   ],
   "source": [
    "mean_absolute_error(y_val, pred_st)"
   ]
  },
  {
   "cell_type": "code",
   "execution_count": 70,
   "metadata": {},
   "outputs": [
    {
     "data": {
      "text/plain": [
       "0.1884393125851166"
      ]
     },
     "execution_count": 70,
     "metadata": {},
     "output_type": "execute_result"
    }
   ],
   "source": [
    "mean_absolute_percentage_error(y_val, pred_mm)"
   ]
  },
  {
   "cell_type": "code",
   "execution_count": 71,
   "metadata": {},
   "outputs": [
    {
     "data": {
      "text/plain": [
       "0.17772604142268134"
      ]
     },
     "execution_count": 71,
     "metadata": {},
     "output_type": "execute_result"
    }
   ],
   "source": [
    "mean_absolute_percentage_error(y_val, pred_st)"
   ]
  },
  {
   "cell_type": "code",
   "execution_count": 72,
   "metadata": {},
   "outputs": [
    {
     "data": {
      "text/plain": [
       "0.7273979638060286"
      ]
     },
     "execution_count": 72,
     "metadata": {},
     "output_type": "execute_result"
    }
   ],
   "source": [
    "r2_score(y_val, pred_mm)"
   ]
  },
  {
   "cell_type": "code",
   "execution_count": 73,
   "metadata": {},
   "outputs": [
    {
     "data": {
      "text/plain": [
       "0.7867694691515832"
      ]
     },
     "execution_count": 73,
     "metadata": {},
     "output_type": "execute_result"
    }
   ],
   "source": [
    "r2_score(y_val, pred_st)"
   ]
  },
  {
   "cell_type": "code",
   "execution_count": null,
   "metadata": {},
   "outputs": [],
   "source": []
  },
  {
   "cell_type": "markdown",
   "metadata": {},
   "source": [
    "# 회귀모델(Regression / KNN) 실습"
   ]
  },
  {
   "cell_type": "markdown",
   "metadata": {},
   "source": [
    "### Care Seat sales"
   ]
  },
  {
   "cell_type": "code",
   "execution_count": 187,
   "metadata": {},
   "outputs": [],
   "source": [
    "data_path = 'https://raw.githubusercontent.com/DA4BAM/dataset/master/Carseats.csv'\n",
    "data = pd.read_csv(data_path)"
   ]
  },
  {
   "cell_type": "code",
   "execution_count": 188,
   "metadata": {},
   "outputs": [
    {
     "data": {
      "text/plain": [
       "Sales          0\n",
       "CompPrice      0\n",
       "Income         0\n",
       "Advertising    0\n",
       "Population     0\n",
       "Price          0\n",
       "ShelveLoc      0\n",
       "Age            0\n",
       "Education      0\n",
       "Urban          0\n",
       "US             0\n",
       "dtype: int64"
      ]
     },
     "execution_count": 188,
     "metadata": {},
     "output_type": "execute_result"
    }
   ],
   "source": [
    "data.isna().sum()"
   ]
  },
  {
   "cell_type": "code",
   "execution_count": 189,
   "metadata": {},
   "outputs": [
    {
     "name": "stdout",
     "output_type": "stream",
     "text": [
      "<class 'pandas.core.frame.DataFrame'>\n",
      "RangeIndex: 400 entries, 0 to 399\n",
      "Data columns (total 11 columns):\n",
      " #   Column       Non-Null Count  Dtype  \n",
      "---  ------       --------------  -----  \n",
      " 0   Sales        400 non-null    float64\n",
      " 1   CompPrice    400 non-null    int64  \n",
      " 2   Income       400 non-null    int64  \n",
      " 3   Advertising  400 non-null    int64  \n",
      " 4   Population   400 non-null    int64  \n",
      " 5   Price        400 non-null    int64  \n",
      " 6   ShelveLoc    400 non-null    object \n",
      " 7   Age          400 non-null    int64  \n",
      " 8   Education    400 non-null    int64  \n",
      " 9   Urban        400 non-null    object \n",
      " 10  US           400 non-null    object \n",
      "dtypes: float64(1), int64(7), object(3)\n",
      "memory usage: 34.5+ KB\n"
     ]
    }
   ],
   "source": [
    "data.info()"
   ]
  },
  {
   "cell_type": "code",
   "execution_count": 190,
   "metadata": {},
   "outputs": [
    {
     "data": {
      "text/plain": [
       "array([17, 10, 12, 14, 13, 16, 15, 18, 11], dtype=int64)"
      ]
     },
     "execution_count": 190,
     "metadata": {},
     "output_type": "execute_result"
    }
   ],
   "source": [
    "data['Education'].unique()"
   ]
  },
  {
   "cell_type": "code",
   "execution_count": 191,
   "metadata": {},
   "outputs": [],
   "source": [
    "target = 'Sales'"
   ]
  },
  {
   "cell_type": "code",
   "execution_count": 209,
   "metadata": {},
   "outputs": [],
   "source": [
    "x = data.drop(target, axis=1)\n",
    "# x = data.drop([target, 'Education'], axis=1)\n",
    "y = data[target]"
   ]
  },
  {
   "cell_type": "code",
   "execution_count": 210,
   "metadata": {},
   "outputs": [],
   "source": [
    "x = pd.get_dummies(x, columns=['ShelveLoc', 'Urban', 'US', 'Education'], drop_first=True)\n",
    "# x = pd.get_dummies(x, columns=['ShelveLoc', 'Urban', 'US'], drop_first=True)"
   ]
  },
  {
   "cell_type": "code",
   "execution_count": 194,
   "metadata": {},
   "outputs": [
    {
     "name": "stdout",
     "output_type": "stream",
     "text": [
      "<class 'pandas.core.frame.DataFrame'>\n",
      "RangeIndex: 400 entries, 0 to 399\n",
      "Data columns (total 10 columns):\n",
      " #   Column            Non-Null Count  Dtype\n",
      "---  ------            --------------  -----\n",
      " 0   CompPrice         400 non-null    int64\n",
      " 1   Income            400 non-null    int64\n",
      " 2   Advertising       400 non-null    int64\n",
      " 3   Population        400 non-null    int64\n",
      " 4   Price             400 non-null    int64\n",
      " 5   Age               400 non-null    int64\n",
      " 6   ShelveLoc_Good    400 non-null    uint8\n",
      " 7   ShelveLoc_Medium  400 non-null    uint8\n",
      " 8   Urban_Yes         400 non-null    uint8\n",
      " 9   US_Yes            400 non-null    uint8\n",
      "dtypes: int64(6), uint8(4)\n",
      "memory usage: 20.4 KB\n"
     ]
    }
   ],
   "source": [
    "x.info()"
   ]
  },
  {
   "cell_type": "code",
   "execution_count": 211,
   "metadata": {},
   "outputs": [],
   "source": [
    "x_train, x_val, y_train, y_val = train_test_split(x, y, test_size=.3, random_state=2022)"
   ]
  },
  {
   "cell_type": "code",
   "execution_count": 212,
   "metadata": {},
   "outputs": [],
   "source": [
    "scaler_mm = MinMaxScaler()\n",
    "x_train_mm = scaler_mm.fit_transform(x_train)\n",
    "x_val_mm = scaler_mm.fit_transform(x_val)"
   ]
  },
  {
   "cell_type": "code",
   "execution_count": 213,
   "metadata": {},
   "outputs": [],
   "source": [
    "scaler_st = StandardScaler()\n",
    "x_train_st = scaler_st.fit_transform(x_train)\n",
    "x_val_st = scaler_st.fit_transform(x_val)"
   ]
  },
  {
   "cell_type": "code",
   "execution_count": 214,
   "metadata": {},
   "outputs": [],
   "source": [
    "x_train_mm = pd.DataFrame(x_train_mm, columns = list(x))\n",
    "x_train_st = pd.DataFrame(x_train_st, columns = list(x))\n",
    "x_val_mm = pd.DataFrame(x_val_mm, columns = list(x))\n",
    "x_val_st = pd.DataFrame(x_val_st, columns = list(x))"
   ]
  },
  {
   "cell_type": "code",
   "execution_count": 215,
   "metadata": {},
   "outputs": [],
   "source": [
    "model_linear = LinearRegression()\n",
    "model_linear.fit(x_train, y_train)\n",
    "pred_linear = model_linear.predict(x_val)"
   ]
  },
  {
   "cell_type": "code",
   "execution_count": 217,
   "metadata": {},
   "outputs": [],
   "source": [
    "k = int(y_train.count() ** 0.5) # 16\n",
    "k\n",
    "k = 5\n",
    "k = 10"
   ]
  },
  {
   "cell_type": "code",
   "execution_count": 218,
   "metadata": {},
   "outputs": [],
   "source": [
    "model_knn_mm_e = KNeighborsRegressor(n_neighbors=k, metric='euclidean')\n",
    "model_knn_mm_e.fit(x_train_mm, y_train)\n",
    "pred_mm_e = model_knn_mm_e.predict(x_val_mm)\n",
    "\n",
    "model_knn_mm_m = KNeighborsRegressor(n_neighbors=k, metric='manhattan')\n",
    "model_knn_mm_m.fit(x_train_mm, y_train)\n",
    "pred_mm_m = model_knn_mm_m.predict(x_val_mm)\n",
    "\n",
    "model_knn_st_e = KNeighborsRegressor(n_neighbors=k, metric='euclidean')\n",
    "model_knn_st_e.fit(x_train_st, y_train)\n",
    "pred_st_e = model_knn_st_e.predict(x_val_st)\n",
    "\n",
    "model_knn_st_m = KNeighborsRegressor(n_neighbors=k, metric='manhattan')\n",
    "model_knn_st_m.fit(x_train_st, y_train)\n",
    "pred_st_m = model_knn_st_m.predict(x_val_st)"
   ]
  },
  {
   "cell_type": "code",
   "execution_count": 219,
   "metadata": {},
   "outputs": [
    {
     "name": "stdout",
     "output_type": "stream",
     "text": [
      "LinearRegression\n",
      "rmse : 1.04172092875423\n",
      "mae : 0.8291702856537112\n",
      "mape : 0.21735487590453026\n",
      "r2 : 0.8752579913475848\n"
     ]
    }
   ],
   "source": [
    "print('LinearRegression')\n",
    "print(f'rmse : {mean_squared_error(y_val, pred_linear, squared=False)}')\n",
    "print(f'mae : {mean_absolute_error(y_val, pred_linear)}')\n",
    "print(f'mape : {mean_absolute_percentage_error(y_val, pred_linear)}')\n",
    "print(f'r2 : {r2_score(y_val, pred_linear)}')\n"
   ]
  },
  {
   "cell_type": "code",
   "execution_count": 220,
   "metadata": {},
   "outputs": [
    {
     "name": "stdout",
     "output_type": "stream",
     "text": [
      "KNN_MinMax_euclidean\n",
      "rmse : 2.4597394323383117\n",
      "mae : 2.031108333333333\n",
      "mape : 0.8130981603748142\n",
      "r2 : 0.30451437039526774\n",
      "******************************\n",
      "KNN_MinMax_manhattan\n",
      "rmse : 2.445888640487679\n",
      "mae : 1.9946083333333333\n",
      "mape : 0.7644573234131703\n",
      "r2 : 0.31232487648349205\n"
     ]
    }
   ],
   "source": [
    "print('KNN_MinMax_euclidean')\n",
    "print(f'rmse : {mean_squared_error(y_val, pred_mm_e, squared=False)}')\n",
    "print(f'mae : {mean_absolute_error(y_val, pred_mm_e)}')\n",
    "print(f'mape : {mean_absolute_percentage_error(y_val, pred_mm_e)}')\n",
    "print(f'r2 : {r2_score(y_val, pred_mm_e)}')\n",
    "print('***' * 10)\n",
    "print('KNN_MinMax_manhattan')\n",
    "print(f'rmse : {mean_squared_error(y_val, pred_mm_m, squared=False)}')\n",
    "print(f'mae : {mean_absolute_error(y_val, pred_mm_m)}')\n",
    "print(f'mape : {mean_absolute_percentage_error(y_val, pred_mm_m)}')\n",
    "print(f'r2 : {r2_score(y_val, pred_mm_m)}')"
   ]
  },
  {
   "cell_type": "code",
   "execution_count": 221,
   "metadata": {},
   "outputs": [
    {
     "name": "stdout",
     "output_type": "stream",
     "text": [
      "KNN_Standard_euclidean\n",
      "rmse : 2.4191351484914327\n",
      "mae : 1.985666666666667\n",
      "mape : 0.7423295733300812\n",
      "r2 : 0.3272863854970399\n",
      "******************************\n",
      "KNN_Standard_manhattan\n",
      "rmse : 2.3760259398135086\n",
      "mae : 1.9682166666666667\n",
      "mape : 0.7464737761605029\n",
      "r2 : 0.351048397251293\n"
     ]
    }
   ],
   "source": [
    "print('KNN_Standard_euclidean')\n",
    "print(f'rmse : {mean_squared_error(y_val, pred_st_e, squared=False)}')\n",
    "print(f'mae : {mean_absolute_error(y_val, pred_st_e)}')\n",
    "print(f'mape : {mean_absolute_percentage_error(y_val, pred_st_e)}')\n",
    "print(f'r2 : {r2_score(y_val, pred_st_e)}')\n",
    "print('***' * 10)\n",
    "print('KNN_Standard_manhattan')\n",
    "print(f'rmse : {mean_squared_error(y_val, pred_st_m, squared=False)}')\n",
    "print(f'mae : {mean_absolute_error(y_val, pred_st_m)}')\n",
    "print(f'mape : {mean_absolute_percentage_error(y_val, pred_st_m)}')\n",
    "print(f'r2 : {r2_score(y_val, pred_st_m)}')"
   ]
  },
  {
   "cell_type": "markdown",
   "metadata": {},
   "source": [
    "# 분류 모델"
   ]
  },
  {
   "cell_type": "markdown",
   "metadata": {},
   "source": [
    "1. 재현율(recall) : 실제 대비 맞춘 수\n",
    "2. 정밀도(precision) : 예측 대비 맞춘 수\n",
    "3. 정분류(accuracy) : 전체 대비 맞춘 수\n",
    "4. fi : recall과 precision의 조화 평균  \n",
    "        2\\*recall\\*precision / recall + precision\n"
   ]
  },
  {
   "cell_type": "markdown",
   "metadata": {},
   "source": [
    "# Decision Tree"
   ]
  },
  {
   "cell_type": "code",
   "execution_count": null,
   "metadata": {},
   "outputs": [],
   "source": [
    "#라이브러리들을 불러오자.\n",
    "import numpy as np\n",
    "import pandas as pd\n",
    "import matplotlib.pyplot as plt\n",
    "import seaborn as sns\n",
    "\n",
    "from sklearn.model_selection import train_test_split\n",
    "from sklearn.metrics import *\n",
    "from sklearn.tree import *\n"
   ]
  },
  {
   "cell_type": "code",
   "execution_count": null,
   "metadata": {},
   "outputs": [],
   "source": [
    "path = \"https://raw.githubusercontent.com/DA4BAM/dataset/master/Attrition_simple2.CSV\"\n",
    "data = pd.read_csv(path)\n",
    "data.head()"
   ]
  },
  {
   "cell_type": "markdown",
   "metadata": {},
   "source": [
    "# SVM(Support Vector Machine)"
   ]
  },
  {
   "cell_type": "code",
   "execution_count": 1,
   "metadata": {},
   "outputs": [],
   "source": [
    "#라이브러리들을 불러오자.\n",
    "import numpy as np\n",
    "import pandas as pd\n",
    "import matplotlib.pyplot as plt\n",
    "import seaborn as sns\n",
    "\n",
    "from sklearn.model_selection import train_test_split\n",
    "from sklearn.datasets import make_moons, make_classification\n",
    "\n",
    "from sklearn.svm import SVC, SVR\n",
    "\n",
    "import warnings    # 경고메시지 제외\n",
    "warnings.filterwarnings(action='ignore')"
   ]
  },
  {
   "cell_type": "markdown",
   "metadata": {},
   "source": [
    "# 성능 튜닝"
   ]
  },
  {
   "cell_type": "markdown",
   "metadata": {},
   "source": [
    "### 선형모델(선형회귀, 로지스틱 회귀) 성능 \n",
    "두 모델은 변수 선택에 따라 성능의 영향을 많이 맏음"
   ]
  },
  {
   "cell_type": "code",
   "execution_count": null,
   "metadata": {},
   "outputs": [],
   "source": []
  },
  {
   "cell_type": "code",
   "execution_count": null,
   "metadata": {},
   "outputs": [],
   "source": []
  }
 ],
 "metadata": {
  "kernelspec": {
   "display_name": "Python 3.9.12 ('base')",
   "language": "python",
   "name": "python3"
  },
  "language_info": {
   "codemirror_mode": {
    "name": "ipython",
    "version": 3
   },
   "file_extension": ".py",
   "mimetype": "text/x-python",
   "name": "python",
   "nbconvert_exporter": "python",
   "pygments_lexer": "ipython3",
   "version": "3.9.12"
  },
  "orig_nbformat": 4,
  "vscode": {
   "interpreter": {
    "hash": "5f7678e3cf7566e35dc0bd53f9a2e61d18c90ac4f700ab60c30179035bddd9e2"
   }
  }
 },
 "nbformat": 4,
 "nbformat_minor": 2
}
