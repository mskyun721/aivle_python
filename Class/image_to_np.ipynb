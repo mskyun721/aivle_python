{
 "cells": [
  {
   "cell_type": "code",
   "execution_count": 1,
   "metadata": {},
   "outputs": [],
   "source": [
    "import numpy as np\n",
    "import tensorflow as tf\n",
    "from tensorflow import keras\n",
    "from keras.preprocessing.image import ImageDataGenerator\n",
    "\n",
    "data_gen = ImageDataGenerator(rescale = 1. / 255)\n",
    "\n",
    "def generator_to_np(datagen, data_dir, img_height, img_width, batch_size):\n",
    "    data_generator = datagen.flow_from_directory(\n",
    "        data_dir,\n",
    "        target_size=(img_height, img_width),\n",
    "        batch_size=batch_size,\n",
    "        class_mode='categorical')\n",
    "    data_list = []\n",
    "    batch_index = 0\n",
    "\n",
    "    while batch_index <= data_generator.batch_index:\n",
    "        data = data_generator.next()\n",
    "        data_list.append(data[0])\n",
    "        batch_index = batch_index + 1\n",
    "\n",
    "    # now, data_array is the numeric data of whole images\n",
    "    data_array = np.asarray(data_list)\n",
    "\n",
    "    return data_array"
   ]
  },
  {
   "cell_type": "code",
   "execution_count": null,
   "metadata": {},
   "outputs": [],
   "source": [
    "from PIL import Image\n",
    "import numpy as np\n",
    "\n",
    "def image_to_array(file_path, img_width, img_height):\n",
    "    img = Image.open(file_path)\n",
    "    img = img.resize((img_width,img_height))\n",
    "    data = np.asarray(img,dtype='float32')\n",
    "    return data\n",
    "    # now data is a tensor with shape(width,height,channels)"
   ]
  },
  {
   "cell_type": "code",
   "execution_count": null,
   "metadata": {},
   "outputs": [],
   "source": []
  }
 ],
 "metadata": {
  "kernelspec": {
   "display_name": "Python 3.9.12 ('base')",
   "language": "python",
   "name": "python3"
  },
  "language_info": {
   "codemirror_mode": {
    "name": "ipython",
    "version": 3
   },
   "file_extension": ".py",
   "mimetype": "text/x-python",
   "name": "python",
   "nbconvert_exporter": "python",
   "pygments_lexer": "ipython3",
   "version": "3.9.12"
  },
  "orig_nbformat": 4,
  "vscode": {
   "interpreter": {
    "hash": "5f7678e3cf7566e35dc0bd53f9a2e61d18c90ac4f700ab60c30179035bddd9e2"
   }
  }
 },
 "nbformat": 4,
 "nbformat_minor": 2
}
