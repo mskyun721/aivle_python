{
 "cells": [
  {
   "cell_type": "markdown",
   "metadata": {},
   "source": [
    "# DeepLearning ( TensorFlow )\n",
    "* https://www.tensorflow.org/api_docs/python/tf"
   ]
  },
  {
   "cell_type": "markdown",
   "metadata": {},
   "source": [
    "## Sequential"
   ]
  },
  {
   "cell_type": "markdown",
   "metadata": {},
   "source": [
    "### Linear Regression"
   ]
  },
  {
   "cell_type": "code",
   "execution_count": 24,
   "metadata": {},
   "outputs": [],
   "source": [
    "import numpy as np\n",
    "import pandas as pd\n",
    "import matplotlib.pyplot as plt\n",
    "import seaborn as sns\n",
    "\n",
    "# tensorflow\n",
    "import tensorflow as tf\n",
    "from tensorflow import keras\n"
   ]
  },
  {
   "cell_type": "code",
   "execution_count": 25,
   "metadata": {},
   "outputs": [
    {
     "data": {
      "text/plain": [
       "(array([ 0,  1,  2,  3,  4,  5,  6,  7,  8,  9, 10, 11, 12, 13, 14, 15, 16,\n",
       "        17, 18, 19]),\n",
       " array([-1,  1,  3,  5,  7,  9, 11, 13, 15, 17, 19, 21, 23, 25, 27, 29, 31,\n",
       "        33, 35, 37]))"
      ]
     },
     "execution_count": 25,
     "metadata": {},
     "output_type": "execute_result"
    }
   ],
   "source": [
    "x = np.array(range(0,20))\n",
    "y = x * 2 - 1\n",
    "\n",
    "x, y"
   ]
  },
  {
   "cell_type": "code",
   "execution_count": 26,
   "metadata": {},
   "outputs": [
    {
     "data": {
      "text/plain": [
       "((20,), (20,))"
      ]
     },
     "execution_count": 26,
     "metadata": {},
     "output_type": "execute_result"
    }
   ],
   "source": [
    "x.shape, y.shape"
   ]
  },
  {
   "cell_type": "code",
   "execution_count": 27,
   "metadata": {},
   "outputs": [],
   "source": [
    "# kears 모델 클리어\n",
    "keras.backend.clear_session()\n",
    "\n",
    "# keras 모델 선언\n",
    "model = keras.models.Sequential()"
   ]
  },
  {
   "cell_type": "code",
   "execution_count": 28,
   "metadata": {},
   "outputs": [],
   "source": [
    "# 모델 노드 조립\n",
    "model.add(keras.layers.Input(shape=(1,)))\n",
    "model.add(keras.layers.Dense(1))\n",
    "\n",
    "# 컴파일\n",
    "# loss : 예측값 평가 기준 \n",
    "# optimizer : \n",
    "model.compile(loss='mse'\n",
    "              , optimizer='adam')"
   ]
  },
  {
   "cell_type": "code",
   "execution_count": 29,
   "metadata": {},
   "outputs": [
    {
     "name": "stdout",
     "output_type": "stream",
     "text": [
      "Epoch 1/10\n",
      "1/1 [==============================] - 1s 559ms/step - loss: 319.5995\n",
      "Epoch 2/10\n",
      "1/1 [==============================] - 0s 4ms/step - loss: 319.1724\n",
      "Epoch 3/10\n",
      "1/1 [==============================] - 0s 7ms/step - loss: 318.7457\n",
      "Epoch 4/10\n",
      "1/1 [==============================] - 0s 5ms/step - loss: 318.3192\n",
      "Epoch 5/10\n",
      "1/1 [==============================] - 0s 8ms/step - loss: 317.8931\n",
      "Epoch 6/10\n",
      "1/1 [==============================] - 0s 4ms/step - loss: 317.4673\n",
      "Epoch 7/10\n",
      "1/1 [==============================] - 0s 7ms/step - loss: 317.0417\n",
      "Epoch 8/10\n",
      "1/1 [==============================] - 0s 5ms/step - loss: 316.6165\n",
      "Epoch 9/10\n",
      "1/1 [==============================] - 0s 8ms/step - loss: 316.1917\n",
      "Epoch 10/10\n",
      "1/1 [==============================] - 0s 4ms/step - loss: 315.7671\n"
     ]
    },
    {
     "data": {
      "text/plain": [
       "<keras.callbacks.History at 0x1bd721909a0>"
      ]
     },
     "execution_count": 29,
     "metadata": {},
     "output_type": "execute_result"
    }
   ],
   "source": [
    "# epochs : 학습 횟수\n",
    "# verbose : 학습 과정 표현\n",
    "model.fit(x,y, epochs=10, verbose=1)"
   ]
  },
  {
   "cell_type": "code",
   "execution_count": 30,
   "metadata": {},
   "outputs": [
    {
     "name": "stdout",
     "output_type": "stream",
     "text": [
      "WARNING:tensorflow:6 out of the last 10 calls to <function Model.make_predict_function.<locals>.predict_function at 0x000001BD720BE820> triggered tf.function retracing. Tracing is expensive and the excessive number of tracings could be due to (1) creating @tf.function repeatedly in a loop, (2) passing tensors with different shapes, (3) passing Python objects instead of tensors. For (1), please define your @tf.function outside of the loop. For (2), @tf.function has reduce_retracing=True option that can avoid unnecessary retracing. For (3), please refer to https://www.tensorflow.org/guide/function#controlling_retracing and https://www.tensorflow.org/api_docs/python/tf/function for  more details.\n",
      "1/1 [==============================] - 0s 89ms/step\n"
     ]
    },
    {
     "data": {
      "text/plain": [
       "array([[0.00999773],\n",
       "       [0.33507058],\n",
       "       [0.66014344],\n",
       "       [0.98521626],\n",
       "       [1.3102891 ],\n",
       "       [1.635362  ],\n",
       "       [1.9604348 ],\n",
       "       [2.285508  ],\n",
       "       [2.6105807 ],\n",
       "       [2.9356534 ],\n",
       "       [3.2607265 ],\n",
       "       [3.5857992 ],\n",
       "       [3.910872  ],\n",
       "       [4.2359447 ],\n",
       "       [4.561018  ],\n",
       "       [4.8860908 ],\n",
       "       [5.2111635 ],\n",
       "       [5.5362363 ],\n",
       "       [5.861309  ],\n",
       "       [6.1863823 ]], dtype=float32)"
      ]
     },
     "execution_count": 30,
     "metadata": {},
     "output_type": "execute_result"
    }
   ],
   "source": [
    "pred = model.predict(x)\n",
    "pred"
   ]
  },
  {
   "cell_type": "markdown",
   "metadata": {},
   "source": [
    "### Logistic Regression"
   ]
  },
  {
   "cell_type": "code",
   "execution_count": 31,
   "metadata": {},
   "outputs": [
    {
     "name": "stdout",
     "output_type": "stream",
     "text": [
      "[ 0  1  2  3  4  5  6  7  8  9 10 11 12 13 14 15 16 17 18 19 20 21 22 23\n",
      " 24 25 26 27 28 29 30 31 32 33 34 35 36 37 38 39]\n",
      "[0 1 0 1 0 1 0 1 0 1 0 1 0 1 0 1 0 1 0 1 0 1 0 1 0 1 0 1 0 1 0 1 0 1 0 1 0\n",
      " 1 0 1]\n"
     ]
    }
   ],
   "source": [
    "x = np.array(range(0,40)) \n",
    "y = np.array([0, 1] * 20)\n",
    "print(x)\n",
    "print(y)"
   ]
  },
  {
   "cell_type": "code",
   "execution_count": 36,
   "metadata": {},
   "outputs": [],
   "source": [
    "keras.backend.clear_session()\n",
    "\n",
    "model = keras.models.Sequential()\n",
    "model.add(keras.layers.Input(shape=(1,)))\n",
    "model.add(keras.layers.Dense(1, activation='sigmoid'))\n",
    "\n",
    "model.compile(loss='binary_crossentropy'\n",
    "              , optimizer='adam'\n",
    "              , metrics=['accuracy'])"
   ]
  },
  {
   "cell_type": "code",
   "execution_count": 39,
   "metadata": {},
   "outputs": [
    {
     "name": "stdout",
     "output_type": "stream",
     "text": [
      "Epoch 1/10\n",
      "2/2 [==============================] - 0s 4ms/step - loss: 14.9493 - accuracy: 0.4750\n",
      "Epoch 2/10\n",
      "2/2 [==============================] - 0s 2ms/step - loss: 14.9286 - accuracy: 0.4750\n",
      "Epoch 3/10\n",
      "2/2 [==============================] - 0s 5ms/step - loss: 14.9079 - accuracy: 0.4750\n",
      "Epoch 4/10\n",
      "2/2 [==============================] - 0s 3ms/step - loss: 14.8872 - accuracy: 0.4750\n",
      "Epoch 5/10\n",
      "2/2 [==============================] - 0s 4ms/step - loss: 14.8670 - accuracy: 0.4750\n",
      "Epoch 6/10\n",
      "2/2 [==============================] - 0s 5ms/step - loss: 14.8468 - accuracy: 0.4750\n",
      "Epoch 7/10\n",
      "2/2 [==============================] - 0s 4ms/step - loss: 14.8276 - accuracy: 0.4750\n",
      "Epoch 8/10\n",
      "2/2 [==============================] - 0s 4ms/step - loss: 14.8079 - accuracy: 0.4750\n",
      "Epoch 9/10\n",
      "2/2 [==============================] - 0s 4ms/step - loss: 14.7879 - accuracy: 0.4750\n",
      "Epoch 10/10\n",
      "2/2 [==============================] - 0s 3ms/step - loss: 14.7662 - accuracy: 0.4750\n"
     ]
    },
    {
     "data": {
      "text/plain": [
       "<keras.callbacks.History at 0x1bd73412b50>"
      ]
     },
     "execution_count": 39,
     "metadata": {},
     "output_type": "execute_result"
    }
   ],
   "source": [
    "model.fit(x, y, epochs=10, verbose=1)"
   ]
  },
  {
   "cell_type": "code",
   "execution_count": 40,
   "metadata": {},
   "outputs": [
    {
     "name": "stdout",
     "output_type": "stream",
     "text": [
      "2/2 [==============================] - 0s 2ms/step\n"
     ]
    },
    {
     "data": {
      "text/plain": [
       "array([[5.1455933e-01],\n",
       "       [1.9510143e-01],\n",
       "       [5.2518234e-02],\n",
       "       [1.2516676e-02],\n",
       "       [2.8901624e-03],\n",
       "       [6.6238642e-04],\n",
       "       [1.5154904e-04],\n",
       "       [3.4659632e-05],\n",
       "       [7.9260262e-06],\n",
       "       [1.8125005e-06],\n",
       "       [4.1447538e-07],\n",
       "       [9.4780553e-08],\n",
       "       [2.1674010e-08],\n",
       "       [4.9563194e-09],\n",
       "       [1.1333897e-09],\n",
       "       [2.5917868e-10],\n",
       "       [5.9267855e-11],\n",
       "       [1.3553118e-11],\n",
       "       [3.0992685e-12],\n",
       "       [7.0872735e-13],\n",
       "       [1.6206870e-13],\n",
       "       [3.7061171e-14],\n",
       "       [8.4749882e-15],\n",
       "       [1.9380201e-15],\n",
       "       [4.4317889e-16],\n",
       "       [1.0134443e-16],\n",
       "       [2.3174962e-17],\n",
       "       [5.2995402e-18],\n",
       "       [1.2118783e-18],\n",
       "       [2.7712763e-19],\n",
       "       [6.3372226e-20],\n",
       "       [1.4491660e-20],\n",
       "       [3.3138966e-21],\n",
       "       [7.5780902e-22],\n",
       "       [1.7329217e-22],\n",
       "       [3.9627626e-23],\n",
       "       [9.0618921e-24],\n",
       "       [2.0722382e-24],\n",
       "       [4.7386958e-25],\n",
       "       [1.0836225e-25]], dtype=float32)"
      ]
     },
     "execution_count": 40,
     "metadata": {},
     "output_type": "execute_result"
    }
   ],
   "source": [
    "pred = model.predict(x)\n",
    "pred"
   ]
  },
  {
   "cell_type": "code",
   "execution_count": 35,
   "metadata": {},
   "outputs": [
    {
     "name": "stdout",
     "output_type": "stream",
     "text": [
      "[0 1 0 1 0 1 0 1 0 1 0 1 0 1 0 1 0 1 0 1 0 1 0 1 0 1 0 1 0 1 0 1 0 1 0 1 0\n",
      " 1 0 1]\n"
     ]
    }
   ],
   "source": [
    "print(y)\n"
   ]
  },
  {
   "cell_type": "markdown",
   "metadata": {},
   "source": [
    "## Functional"
   ]
  },
  {
   "cell_type": "markdown",
   "metadata": {},
   "source": [
    "### Linear Regression"
   ]
  },
  {
   "cell_type": "code",
   "execution_count": 41,
   "metadata": {},
   "outputs": [
    {
     "name": "stdout",
     "output_type": "stream",
     "text": [
      "[ 0  1  2  3  4  5  6  7  8  9 10 11 12 13 14 15 16 17 18 19]\n",
      "[-1  1  3  5  7  9 11 13 15 17 19 21 23 25 27 29 31 33 35 37]\n"
     ]
    }
   ],
   "source": [
    "x = np.array(range(0,20)) \n",
    "y = x * 2 -1\n",
    "\n",
    "print(x)\n",
    "print(y)"
   ]
  },
  {
   "cell_type": "code",
   "execution_count": 42,
   "metadata": {},
   "outputs": [],
   "source": [
    "# 혹시 이미 그려둔 그래프가 있다면 날려줘!\n",
    "keras.backend.clear_session()\n",
    "\n",
    "# 레이어들을 사슬로 연결하 듯이 연결!\n",
    "input_layer = keras.layers.Input(shape=(1,))\n",
    "output_layer = keras.layers.Dense(1)(input_layer)\n",
    "\n",
    "# 모델의 시작과 끝을 지정\n",
    "model = keras.models.Model(inputs=input_layer, outputs=output_layer)\n",
    "\n",
    "# 컴파일 해주렴\n",
    "model.compile(loss = 'mse', optimizer = 'adam')"
   ]
  },
  {
   "cell_type": "code",
   "execution_count": 43,
   "metadata": {},
   "outputs": [
    {
     "name": "stdout",
     "output_type": "stream",
     "text": [
      "Epoch 1/10\n",
      "1/1 [==============================] - 1s 1s/step - loss: 249.2764\n",
      "Epoch 2/10\n",
      "1/1 [==============================] - 0s 5ms/step - loss: 248.8994\n",
      "Epoch 3/10\n",
      "1/1 [==============================] - 0s 7ms/step - loss: 248.5227\n",
      "Epoch 4/10\n",
      "1/1 [==============================] - 0s 6ms/step - loss: 248.1462\n",
      "Epoch 5/10\n",
      "1/1 [==============================] - 0s 5ms/step - loss: 247.7701\n",
      "Epoch 6/10\n",
      "1/1 [==============================] - 0s 10ms/step - loss: 247.3943\n",
      "Epoch 7/10\n",
      "1/1 [==============================] - 0s 11ms/step - loss: 247.0188\n",
      "Epoch 8/10\n",
      "1/1 [==============================] - 0s 5ms/step - loss: 246.6436\n",
      "Epoch 9/10\n",
      "1/1 [==============================] - 0s 6ms/step - loss: 246.2688\n",
      "Epoch 10/10\n",
      "1/1 [==============================] - 0s 3ms/step - loss: 245.8942\n"
     ]
    },
    {
     "data": {
      "text/plain": [
       "<keras.callbacks.History at 0x1bd7226bb80>"
      ]
     },
     "execution_count": 43,
     "metadata": {},
     "output_type": "execute_result"
    }
   ],
   "source": [
    "# 데이터를 넣어서 학습시키자!\n",
    "model.fit(x, y, epochs=10, verbose=1)"
   ]
  },
  {
   "cell_type": "code",
   "execution_count": 44,
   "metadata": {},
   "outputs": [
    {
     "name": "stdout",
     "output_type": "stream",
     "text": [
      "[-1  1  3  5  7  9 11 13 15 17 19 21 23 25 27 29 31 33 35 37]\n",
      "1/1 [==============================] - 0s 61ms/step\n",
      "[0.00999742 0.5231238  1.0362501  1.5493765  2.0625029  2.5756292\n",
      " 3.0887556  3.601882   4.1150084  4.6281347  5.141261   5.6543875\n",
      " 6.167514   6.68064    7.1937666  7.706893   8.220019   8.733146\n",
      " 9.246272   9.759398  ]\n"
     ]
    }
   ],
   "source": [
    "# 결과 출력해줘!\n",
    "print(y)\n",
    "print(model.predict(x).reshape(-1,) )"
   ]
  },
  {
   "cell_type": "markdown",
   "metadata": {},
   "source": [
    "### Logistic Regression"
   ]
  },
  {
   "cell_type": "code",
   "execution_count": 45,
   "metadata": {},
   "outputs": [
    {
     "name": "stdout",
     "output_type": "stream",
     "text": [
      "[ 0  1  2  3  4  5  6  7  8  9 10 11 12 13 14 15 16 17 18 19]\n",
      "[0 0 0 0 0 0 0 0 0 0 1 1 1 1 1 1 1 1 1 1]\n"
     ]
    }
   ],
   "source": [
    "x = np.array(range(0,20)) \n",
    "y = np.array([0]*10 + [1]*10)\n",
    "\n",
    "print(x)\n",
    "print(y)"
   ]
  },
  {
   "cell_type": "code",
   "execution_count": 46,
   "metadata": {},
   "outputs": [],
   "source": [
    "# 혹시 이미 그려둔 그래프가 있다면 날려줘!\n",
    "keras.backend.clear_session()\n",
    "\n",
    "# 레이어들을 사슬로 연결하 듯이 연결!\n",
    "input_layer = keras.layers.Input(shape=(1,))\n",
    "output_layer = keras.layers.Dense(1, activation='sigmoid')(input_layer)\n",
    "\n",
    "# 모델의 시작과 끝을 지정\n",
    "model = keras.models.Model(inputs=input_layer, outputs=output_layer)\n",
    "\n",
    "\n",
    "# 컴파일 해주렴\n",
    "model.compile(loss = 'binary_crossentropy', optimizer = 'adam', metrics=['accuracy'])"
   ]
  },
  {
   "cell_type": "code",
   "execution_count": 47,
   "metadata": {},
   "outputs": [
    {
     "name": "stdout",
     "output_type": "stream",
     "text": [
      "Epoch 1/10\n",
      "1/1 [==============================] - 1s 554ms/step - loss: 3.1299 - accuracy: 0.5500\n",
      "Epoch 2/10\n",
      "1/1 [==============================] - 0s 6ms/step - loss: 3.1272 - accuracy: 0.5500\n",
      "Epoch 3/10\n",
      "1/1 [==============================] - 0s 9ms/step - loss: 3.1245 - accuracy: 0.5500\n",
      "Epoch 4/10\n",
      "1/1 [==============================] - 0s 5ms/step - loss: 3.1219 - accuracy: 0.5500\n",
      "Epoch 5/10\n",
      "1/1 [==============================] - 0s 7ms/step - loss: 3.1192 - accuracy: 0.5500\n",
      "Epoch 6/10\n",
      "1/1 [==============================] - 0s 6ms/step - loss: 3.1165 - accuracy: 0.5500\n",
      "Epoch 7/10\n",
      "1/1 [==============================] - 0s 8ms/step - loss: 3.1138 - accuracy: 0.5500\n",
      "Epoch 8/10\n",
      "1/1 [==============================] - 0s 14ms/step - loss: 3.1111 - accuracy: 0.5500\n",
      "Epoch 9/10\n",
      "1/1 [==============================] - 0s 8ms/step - loss: 3.1084 - accuracy: 0.5500\n",
      "Epoch 10/10\n",
      "1/1 [==============================] - 0s 8ms/step - loss: 3.1057 - accuracy: 0.5500\n",
      "[0 0 0 0 0 0 0 0 0 0 1 1 1 1 1 1 1 1 1 1]\n",
      "1/1 [==============================] - 0s 95ms/step\n",
      "[0.49750012 0.7939261  0.93746835 0.98314756 0.99561435 0.9988693\n",
      " 0.9997092  0.99992526 0.9999808  0.99999505 0.99999875 0.9999997\n",
      " 0.99999994 1.         1.         1.         1.         1.\n",
      " 1.         1.        ]\n"
     ]
    }
   ],
   "source": [
    "# 데이터를 넣어서 학습시키자!\n",
    "model.fit(x, y, epochs=10, verbose=1)\n",
    "\n",
    "# 결과 출력해줘!\n",
    "print(y)\n",
    "print(model.predict(x).reshape(-1,) )"
   ]
  },
  {
   "cell_type": "code",
   "execution_count": null,
   "metadata": {},
   "outputs": [],
   "source": []
  }
 ],
 "metadata": {
  "kernelspec": {
   "display_name": "Python 3.9.13 64-bit",
   "language": "python",
   "name": "python3"
  },
  "language_info": {
   "codemirror_mode": {
    "name": "ipython",
    "version": 3
   },
   "file_extension": ".py",
   "mimetype": "text/x-python",
   "name": "python",
   "nbconvert_exporter": "python",
   "pygments_lexer": "ipython3",
   "version": "3.9.13"
  },
  "orig_nbformat": 4,
  "vscode": {
   "interpreter": {
    "hash": "cf92aa13fedf815d5c8dd192b8d835913fde3e8bc926b2a0ad6cc74ef2ba3ca2"
   }
  }
 },
 "nbformat": 4,
 "nbformat_minor": 2
}
