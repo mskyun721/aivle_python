{
 "cells": [
  {
   "cell_type": "markdown",
   "metadata": {},
   "source": [
    "# DeepLearning ( TensorFlow )\n",
    "* https://www.tensorflow.org/api_docs/python/tf"
   ]
  },
  {
   "cell_type": "markdown",
   "metadata": {},
   "source": [
    "## Sequential"
   ]
  },
  {
   "cell_type": "markdown",
   "metadata": {},
   "source": [
    "### Linear Regression"
   ]
  },
  {
   "cell_type": "code",
   "execution_count": 4,
   "metadata": {},
   "outputs": [],
   "source": [
    "import numpy as np\n",
    "import pandas as pd\n",
    "import matplotlib.pyplot as plt\n",
    "import seaborn as sns\n",
    "\n",
    "# tensorflow\n",
    "import tensorflow as tf\n",
    "from tensorflow import keras"
   ]
  },
  {
   "cell_type": "code",
   "execution_count": 25,
   "metadata": {},
   "outputs": [
    {
     "data": {
      "text/plain": [
       "(array([ 0,  1,  2,  3,  4,  5,  6,  7,  8,  9, 10, 11, 12, 13, 14, 15, 16,\n",
       "        17, 18, 19]),\n",
       " array([-1,  1,  3,  5,  7,  9, 11, 13, 15, 17, 19, 21, 23, 25, 27, 29, 31,\n",
       "        33, 35, 37]))"
      ]
     },
     "execution_count": 25,
     "metadata": {},
     "output_type": "execute_result"
    }
   ],
   "source": [
    "x = np.array(range(0,20))\n",
    "y = x * 2 - 1\n",
    "\n",
    "x, y"
   ]
  },
  {
   "cell_type": "code",
   "execution_count": 26,
   "metadata": {},
   "outputs": [
    {
     "data": {
      "text/plain": [
       "((20,), (20,))"
      ]
     },
     "execution_count": 26,
     "metadata": {},
     "output_type": "execute_result"
    }
   ],
   "source": [
    "x.shape, y.shape"
   ]
  },
  {
   "cell_type": "code",
   "execution_count": 27,
   "metadata": {},
   "outputs": [],
   "source": [
    "# kears 모델 클리어\n",
    "keras.backend.clear_session()\n",
    "\n",
    "# keras 모델 선언\n",
    "model = keras.models.Sequential()"
   ]
  },
  {
   "cell_type": "code",
   "execution_count": 28,
   "metadata": {},
   "outputs": [],
   "source": [
    "# 모델 노드 조립\n",
    "model.add(keras.layers.Input(shape=(1,)))\n",
    "model.add(keras.layers.Dense(1))\n",
    "\n",
    "# 컴파일\n",
    "# loss : 예측값 평가 기준 \n",
    "# optimizer : \n",
    "model.compile(loss='mse'\n",
    "              , optimizer='adam')"
   ]
  },
  {
   "cell_type": "code",
   "execution_count": 29,
   "metadata": {},
   "outputs": [
    {
     "name": "stdout",
     "output_type": "stream",
     "text": [
      "Epoch 1/10\n",
      "1/1 [==============================] - 1s 559ms/step - loss: 319.5995\n",
      "Epoch 2/10\n",
      "1/1 [==============================] - 0s 4ms/step - loss: 319.1724\n",
      "Epoch 3/10\n",
      "1/1 [==============================] - 0s 7ms/step - loss: 318.7457\n",
      "Epoch 4/10\n",
      "1/1 [==============================] - 0s 5ms/step - loss: 318.3192\n",
      "Epoch 5/10\n",
      "1/1 [==============================] - 0s 8ms/step - loss: 317.8931\n",
      "Epoch 6/10\n",
      "1/1 [==============================] - 0s 4ms/step - loss: 317.4673\n",
      "Epoch 7/10\n",
      "1/1 [==============================] - 0s 7ms/step - loss: 317.0417\n",
      "Epoch 8/10\n",
      "1/1 [==============================] - 0s 5ms/step - loss: 316.6165\n",
      "Epoch 9/10\n",
      "1/1 [==============================] - 0s 8ms/step - loss: 316.1917\n",
      "Epoch 10/10\n",
      "1/1 [==============================] - 0s 4ms/step - loss: 315.7671\n"
     ]
    },
    {
     "data": {
      "text/plain": [
       "<keras.callbacks.History at 0x1bd721909a0>"
      ]
     },
     "execution_count": 29,
     "metadata": {},
     "output_type": "execute_result"
    }
   ],
   "source": [
    "# epochs : 학습 횟수\n",
    "# verbose : 학습 과정 표현\n",
    "model.fit(x,y, epochs=10, verbose=1)"
   ]
  },
  {
   "cell_type": "code",
   "execution_count": 30,
   "metadata": {},
   "outputs": [
    {
     "name": "stdout",
     "output_type": "stream",
     "text": [
      "WARNING:tensorflow:6 out of the last 10 calls to <function Model.make_predict_function.<locals>.predict_function at 0x000001BD720BE820> triggered tf.function retracing. Tracing is expensive and the excessive number of tracings could be due to (1) creating @tf.function repeatedly in a loop, (2) passing tensors with different shapes, (3) passing Python objects instead of tensors. For (1), please define your @tf.function outside of the loop. For (2), @tf.function has reduce_retracing=True option that can avoid unnecessary retracing. For (3), please refer to https://www.tensorflow.org/guide/function#controlling_retracing and https://www.tensorflow.org/api_docs/python/tf/function for  more details.\n",
      "1/1 [==============================] - 0s 89ms/step\n"
     ]
    },
    {
     "data": {
      "text/plain": [
       "array([[0.00999773],\n",
       "       [0.33507058],\n",
       "       [0.66014344],\n",
       "       [0.98521626],\n",
       "       [1.3102891 ],\n",
       "       [1.635362  ],\n",
       "       [1.9604348 ],\n",
       "       [2.285508  ],\n",
       "       [2.6105807 ],\n",
       "       [2.9356534 ],\n",
       "       [3.2607265 ],\n",
       "       [3.5857992 ],\n",
       "       [3.910872  ],\n",
       "       [4.2359447 ],\n",
       "       [4.561018  ],\n",
       "       [4.8860908 ],\n",
       "       [5.2111635 ],\n",
       "       [5.5362363 ],\n",
       "       [5.861309  ],\n",
       "       [6.1863823 ]], dtype=float32)"
      ]
     },
     "execution_count": 30,
     "metadata": {},
     "output_type": "execute_result"
    }
   ],
   "source": [
    "pred = model.predict(x)\n",
    "pred"
   ]
  },
  {
   "cell_type": "markdown",
   "metadata": {},
   "source": [
    "### Logistic Regression"
   ]
  },
  {
   "cell_type": "code",
   "execution_count": 31,
   "metadata": {},
   "outputs": [
    {
     "name": "stdout",
     "output_type": "stream",
     "text": [
      "[ 0  1  2  3  4  5  6  7  8  9 10 11 12 13 14 15 16 17 18 19 20 21 22 23\n",
      " 24 25 26 27 28 29 30 31 32 33 34 35 36 37 38 39]\n",
      "[0 1 0 1 0 1 0 1 0 1 0 1 0 1 0 1 0 1 0 1 0 1 0 1 0 1 0 1 0 1 0 1 0 1 0 1 0\n",
      " 1 0 1]\n"
     ]
    }
   ],
   "source": [
    "x = np.array(range(0,40)) \n",
    "y = np.array([0, 1] * 20)\n",
    "print(x)\n",
    "print(y)"
   ]
  },
  {
   "cell_type": "code",
   "execution_count": 36,
   "metadata": {},
   "outputs": [],
   "source": [
    "keras.backend.clear_session()\n",
    "\n",
    "model = keras.models.Sequential()\n",
    "model.add(keras.layers.Input(shape=(1,)))\n",
    "model.add(keras.layers.Dense(1, activation='sigmoid'))\n",
    "\n",
    "model.compile(loss='binary_crossentropy'\n",
    "              , optimizer='adam'\n",
    "              , metrics=['accuracy'])"
   ]
  },
  {
   "cell_type": "code",
   "execution_count": 39,
   "metadata": {},
   "outputs": [
    {
     "name": "stdout",
     "output_type": "stream",
     "text": [
      "Epoch 1/10\n",
      "2/2 [==============================] - 0s 4ms/step - loss: 14.9493 - accuracy: 0.4750\n",
      "Epoch 2/10\n",
      "2/2 [==============================] - 0s 2ms/step - loss: 14.9286 - accuracy: 0.4750\n",
      "Epoch 3/10\n",
      "2/2 [==============================] - 0s 5ms/step - loss: 14.9079 - accuracy: 0.4750\n",
      "Epoch 4/10\n",
      "2/2 [==============================] - 0s 3ms/step - loss: 14.8872 - accuracy: 0.4750\n",
      "Epoch 5/10\n",
      "2/2 [==============================] - 0s 4ms/step - loss: 14.8670 - accuracy: 0.4750\n",
      "Epoch 6/10\n",
      "2/2 [==============================] - 0s 5ms/step - loss: 14.8468 - accuracy: 0.4750\n",
      "Epoch 7/10\n",
      "2/2 [==============================] - 0s 4ms/step - loss: 14.8276 - accuracy: 0.4750\n",
      "Epoch 8/10\n",
      "2/2 [==============================] - 0s 4ms/step - loss: 14.8079 - accuracy: 0.4750\n",
      "Epoch 9/10\n",
      "2/2 [==============================] - 0s 4ms/step - loss: 14.7879 - accuracy: 0.4750\n",
      "Epoch 10/10\n",
      "2/2 [==============================] - 0s 3ms/step - loss: 14.7662 - accuracy: 0.4750\n"
     ]
    },
    {
     "data": {
      "text/plain": [
       "<keras.callbacks.History at 0x1bd73412b50>"
      ]
     },
     "execution_count": 39,
     "metadata": {},
     "output_type": "execute_result"
    }
   ],
   "source": [
    "model.fit(x, y, epochs=10, verbose=1)"
   ]
  },
  {
   "cell_type": "code",
   "execution_count": 40,
   "metadata": {},
   "outputs": [
    {
     "name": "stdout",
     "output_type": "stream",
     "text": [
      "2/2 [==============================] - 0s 2ms/step\n"
     ]
    },
    {
     "data": {
      "text/plain": [
       "array([[5.1455933e-01],\n",
       "       [1.9510143e-01],\n",
       "       [5.2518234e-02],\n",
       "       [1.2516676e-02],\n",
       "       [2.8901624e-03],\n",
       "       [6.6238642e-04],\n",
       "       [1.5154904e-04],\n",
       "       [3.4659632e-05],\n",
       "       [7.9260262e-06],\n",
       "       [1.8125005e-06],\n",
       "       [4.1447538e-07],\n",
       "       [9.4780553e-08],\n",
       "       [2.1674010e-08],\n",
       "       [4.9563194e-09],\n",
       "       [1.1333897e-09],\n",
       "       [2.5917868e-10],\n",
       "       [5.9267855e-11],\n",
       "       [1.3553118e-11],\n",
       "       [3.0992685e-12],\n",
       "       [7.0872735e-13],\n",
       "       [1.6206870e-13],\n",
       "       [3.7061171e-14],\n",
       "       [8.4749882e-15],\n",
       "       [1.9380201e-15],\n",
       "       [4.4317889e-16],\n",
       "       [1.0134443e-16],\n",
       "       [2.3174962e-17],\n",
       "       [5.2995402e-18],\n",
       "       [1.2118783e-18],\n",
       "       [2.7712763e-19],\n",
       "       [6.3372226e-20],\n",
       "       [1.4491660e-20],\n",
       "       [3.3138966e-21],\n",
       "       [7.5780902e-22],\n",
       "       [1.7329217e-22],\n",
       "       [3.9627626e-23],\n",
       "       [9.0618921e-24],\n",
       "       [2.0722382e-24],\n",
       "       [4.7386958e-25],\n",
       "       [1.0836225e-25]], dtype=float32)"
      ]
     },
     "execution_count": 40,
     "metadata": {},
     "output_type": "execute_result"
    }
   ],
   "source": [
    "pred = model.predict(x)\n",
    "pred"
   ]
  },
  {
   "cell_type": "code",
   "execution_count": 35,
   "metadata": {},
   "outputs": [
    {
     "name": "stdout",
     "output_type": "stream",
     "text": [
      "[0 1 0 1 0 1 0 1 0 1 0 1 0 1 0 1 0 1 0 1 0 1 0 1 0 1 0 1 0 1 0 1 0 1 0 1 0\n",
      " 1 0 1]\n"
     ]
    }
   ],
   "source": [
    "print(y)\n"
   ]
  },
  {
   "cell_type": "markdown",
   "metadata": {},
   "source": [
    "## Functional"
   ]
  },
  {
   "cell_type": "markdown",
   "metadata": {},
   "source": [
    "### Linear Regression"
   ]
  },
  {
   "cell_type": "code",
   "execution_count": 41,
   "metadata": {},
   "outputs": [
    {
     "name": "stdout",
     "output_type": "stream",
     "text": [
      "[ 0  1  2  3  4  5  6  7  8  9 10 11 12 13 14 15 16 17 18 19]\n",
      "[-1  1  3  5  7  9 11 13 15 17 19 21 23 25 27 29 31 33 35 37]\n"
     ]
    }
   ],
   "source": [
    "x = np.array(range(0,20)) \n",
    "y = x * 2 -1\n",
    "\n",
    "print(x)\n",
    "print(y)"
   ]
  },
  {
   "cell_type": "code",
   "execution_count": 42,
   "metadata": {},
   "outputs": [],
   "source": [
    "# 혹시 이미 그려둔 그래프가 있다면 날려줘!\n",
    "keras.backend.clear_session()\n",
    "\n",
    "# 레이어들을 사슬로 연결하 듯이 연결!\n",
    "input_layer = keras.layers.Input(shape=(1,))\n",
    "output_layer = keras.layers.Dense(1)(input_layer)\n",
    "\n",
    "# 모델의 시작과 끝을 지정\n",
    "model = keras.models.Model(inputs=input_layer, outputs=output_layer)\n",
    "\n",
    "# 컴파일 해주렴\n",
    "model.compile(loss = 'mse', optimizer = 'adam')"
   ]
  },
  {
   "cell_type": "code",
   "execution_count": 43,
   "metadata": {},
   "outputs": [
    {
     "name": "stdout",
     "output_type": "stream",
     "text": [
      "Epoch 1/10\n",
      "1/1 [==============================] - 1s 1s/step - loss: 249.2764\n",
      "Epoch 2/10\n",
      "1/1 [==============================] - 0s 5ms/step - loss: 248.8994\n",
      "Epoch 3/10\n",
      "1/1 [==============================] - 0s 7ms/step - loss: 248.5227\n",
      "Epoch 4/10\n",
      "1/1 [==============================] - 0s 6ms/step - loss: 248.1462\n",
      "Epoch 5/10\n",
      "1/1 [==============================] - 0s 5ms/step - loss: 247.7701\n",
      "Epoch 6/10\n",
      "1/1 [==============================] - 0s 10ms/step - loss: 247.3943\n",
      "Epoch 7/10\n",
      "1/1 [==============================] - 0s 11ms/step - loss: 247.0188\n",
      "Epoch 8/10\n",
      "1/1 [==============================] - 0s 5ms/step - loss: 246.6436\n",
      "Epoch 9/10\n",
      "1/1 [==============================] - 0s 6ms/step - loss: 246.2688\n",
      "Epoch 10/10\n",
      "1/1 [==============================] - 0s 3ms/step - loss: 245.8942\n"
     ]
    },
    {
     "data": {
      "text/plain": [
       "<keras.callbacks.History at 0x1bd7226bb80>"
      ]
     },
     "execution_count": 43,
     "metadata": {},
     "output_type": "execute_result"
    }
   ],
   "source": [
    "# 데이터를 넣어서 학습시키자!\n",
    "model.fit(x, y, epochs=10, verbose=1)"
   ]
  },
  {
   "cell_type": "code",
   "execution_count": 44,
   "metadata": {},
   "outputs": [
    {
     "name": "stdout",
     "output_type": "stream",
     "text": [
      "[-1  1  3  5  7  9 11 13 15 17 19 21 23 25 27 29 31 33 35 37]\n",
      "1/1 [==============================] - 0s 61ms/step\n",
      "[0.00999742 0.5231238  1.0362501  1.5493765  2.0625029  2.5756292\n",
      " 3.0887556  3.601882   4.1150084  4.6281347  5.141261   5.6543875\n",
      " 6.167514   6.68064    7.1937666  7.706893   8.220019   8.733146\n",
      " 9.246272   9.759398  ]\n"
     ]
    }
   ],
   "source": [
    "# 결과 출력해줘!\n",
    "print(y)\n",
    "print(model.predict(x).reshape(-1,) )"
   ]
  },
  {
   "cell_type": "markdown",
   "metadata": {},
   "source": [
    "### Logistic Regression"
   ]
  },
  {
   "cell_type": "code",
   "execution_count": 45,
   "metadata": {},
   "outputs": [
    {
     "name": "stdout",
     "output_type": "stream",
     "text": [
      "[ 0  1  2  3  4  5  6  7  8  9 10 11 12 13 14 15 16 17 18 19]\n",
      "[0 0 0 0 0 0 0 0 0 0 1 1 1 1 1 1 1 1 1 1]\n"
     ]
    }
   ],
   "source": [
    "x = np.array(range(0,20)) \n",
    "y = np.array([0]*10 + [1]*10)\n",
    "\n",
    "print(x)\n",
    "print(y)"
   ]
  },
  {
   "cell_type": "code",
   "execution_count": 46,
   "metadata": {},
   "outputs": [],
   "source": [
    "# 혹시 이미 그려둔 그래프가 있다면 날려줘!\n",
    "keras.backend.clear_session()\n",
    "\n",
    "# 레이어들을 사슬로 연결하 듯이 연결!\n",
    "input_layer = keras.layers.Input(shape=(1,))\n",
    "output_layer = keras.layers.Dense(1, activation='sigmoid')(input_layer)\n",
    "\n",
    "# 모델의 시작과 끝을 지정\n",
    "model = keras.models.Model(inputs=input_layer, outputs=output_layer)\n",
    "\n",
    "\n",
    "# 컴파일 해주렴\n",
    "model.compile(loss = 'binary_crossentropy', optimizer = 'adam', metrics=['accuracy'])"
   ]
  },
  {
   "cell_type": "code",
   "execution_count": 47,
   "metadata": {},
   "outputs": [
    {
     "name": "stdout",
     "output_type": "stream",
     "text": [
      "Epoch 1/10\n",
      "1/1 [==============================] - 1s 554ms/step - loss: 3.1299 - accuracy: 0.5500\n",
      "Epoch 2/10\n",
      "1/1 [==============================] - 0s 6ms/step - loss: 3.1272 - accuracy: 0.5500\n",
      "Epoch 3/10\n",
      "1/1 [==============================] - 0s 9ms/step - loss: 3.1245 - accuracy: 0.5500\n",
      "Epoch 4/10\n",
      "1/1 [==============================] - 0s 5ms/step - loss: 3.1219 - accuracy: 0.5500\n",
      "Epoch 5/10\n",
      "1/1 [==============================] - 0s 7ms/step - loss: 3.1192 - accuracy: 0.5500\n",
      "Epoch 6/10\n",
      "1/1 [==============================] - 0s 6ms/step - loss: 3.1165 - accuracy: 0.5500\n",
      "Epoch 7/10\n",
      "1/1 [==============================] - 0s 8ms/step - loss: 3.1138 - accuracy: 0.5500\n",
      "Epoch 8/10\n",
      "1/1 [==============================] - 0s 14ms/step - loss: 3.1111 - accuracy: 0.5500\n",
      "Epoch 9/10\n",
      "1/1 [==============================] - 0s 8ms/step - loss: 3.1084 - accuracy: 0.5500\n",
      "Epoch 10/10\n",
      "1/1 [==============================] - 0s 8ms/step - loss: 3.1057 - accuracy: 0.5500\n",
      "[0 0 0 0 0 0 0 0 0 0 1 1 1 1 1 1 1 1 1 1]\n",
      "1/1 [==============================] - 0s 95ms/step\n",
      "[0.49750012 0.7939261  0.93746835 0.98314756 0.99561435 0.9988693\n",
      " 0.9997092  0.99992526 0.9999808  0.99999505 0.99999875 0.9999997\n",
      " 0.99999994 1.         1.         1.         1.         1.\n",
      " 1.         1.        ]\n"
     ]
    }
   ],
   "source": [
    "# 데이터를 넣어서 학습시키자!\n",
    "model.fit(x, y, epochs=10, verbose=1)\n",
    "\n",
    "# 결과 출력해줘!\n",
    "print(y)\n",
    "print(model.predict(x).reshape(-1,) )"
   ]
  },
  {
   "cell_type": "markdown",
   "metadata": {},
   "source": [
    "### ANN ( artifical Netural Network )"
   ]
  },
  {
   "cell_type": "code",
   "execution_count": 1,
   "metadata": {},
   "outputs": [],
   "source": [
    "from sklearn.datasets import load_boston"
   ]
  },
  {
   "cell_type": "code",
   "execution_count": 2,
   "metadata": {},
   "outputs": [
    {
     "name": "stderr",
     "output_type": "stream",
     "text": [
      "c:\\Users\\User\\AppData\\Local\\Programs\\Python\\Python39\\lib\\site-packages\\sklearn\\utils\\deprecation.py:87: FutureWarning: Function load_boston is deprecated; `load_boston` is deprecated in 1.0 and will be removed in 1.2.\n",
      "\n",
      "    The Boston housing prices dataset has an ethical problem. You can refer to\n",
      "    the documentation of this function for further details.\n",
      "\n",
      "    The scikit-learn maintainers therefore strongly discourage the use of this\n",
      "    dataset unless the purpose of the code is to study and educate about\n",
      "    ethical issues in data science and machine learning.\n",
      "\n",
      "    In this special case, you can fetch the dataset from the original\n",
      "    source::\n",
      "\n",
      "        import pandas as pd\n",
      "        import numpy as np\n",
      "\n",
      "        data_url = \"http://lib.stat.cmu.edu/datasets/boston\"\n",
      "        raw_df = pd.read_csv(data_url, sep=\"\\s+\", skiprows=22, header=None)\n",
      "        data = np.hstack([raw_df.values[::2, :], raw_df.values[1::2, :2]])\n",
      "        target = raw_df.values[1::2, 2]\n",
      "\n",
      "    Alternative datasets include the California housing dataset (i.e.\n",
      "    :func:`~sklearn.datasets.fetch_california_housing`) and the Ames housing\n",
      "    dataset. You can load the datasets as follows::\n",
      "\n",
      "        from sklearn.datasets import fetch_california_housing\n",
      "        housing = fetch_california_housing()\n",
      "\n",
      "    for the California housing dataset and::\n",
      "\n",
      "        from sklearn.datasets import fetch_openml\n",
      "        housing = fetch_openml(name=\"house_prices\", as_frame=True)\n",
      "\n",
      "    for the Ames housing dataset.\n",
      "  warnings.warn(msg, category=FutureWarning)\n"
     ]
    }
   ],
   "source": [
    "boston = load_boston()"
   ]
  },
  {
   "cell_type": "code",
   "execution_count": 3,
   "metadata": {},
   "outputs": [
    {
     "data": {
      "text/plain": [
       "((506, 13), (506,))"
      ]
     },
     "execution_count": 3,
     "metadata": {},
     "output_type": "execute_result"
    }
   ],
   "source": [
    "x = boston.data\n",
    "y = boston.target\n",
    "\n",
    "x.shape, y.shape"
   ]
  },
  {
   "cell_type": "code",
   "execution_count": 33,
   "metadata": {},
   "outputs": [],
   "source": [
    "keras.backend.clear_session()\n",
    "\n",
    "model_seq = keras.models.Sequential()\n",
    "model_seq.add(keras.layers.Input(shape=(13,)))\n",
    "model_seq.add(keras.layers.Dense(32, activation='relu'))\n",
    "model_seq.add(keras.layers.Dense(32, activation='relu'))\n",
    "model_seq.add(keras.layers.Dense(1))\n",
    "\n",
    "model_seq.compile(loss=keras.losses.mean_squared_error, optimizer='adam')"
   ]
  },
  {
   "cell_type": "code",
   "execution_count": 34,
   "metadata": {},
   "outputs": [
    {
     "name": "stdout",
     "output_type": "stream",
     "text": [
      "Epoch 1/10\n",
      "16/16 [==============================] - 1s 2ms/step - loss: 629.6041\n",
      "Epoch 2/10\n",
      "16/16 [==============================] - 0s 2ms/step - loss: 122.3945\n",
      "Epoch 3/10\n",
      "16/16 [==============================] - 0s 3ms/step - loss: 92.9398\n",
      "Epoch 4/10\n",
      "16/16 [==============================] - 0s 2ms/step - loss: 80.2723\n",
      "Epoch 5/10\n",
      "16/16 [==============================] - 0s 3ms/step - loss: 76.8487\n",
      "Epoch 6/10\n",
      "16/16 [==============================] - 0s 3ms/step - loss: 72.6805\n",
      "Epoch 7/10\n",
      "16/16 [==============================] - 0s 4ms/step - loss: 75.4335\n",
      "Epoch 8/10\n",
      "16/16 [==============================] - 0s 4ms/step - loss: 71.9442\n",
      "Epoch 9/10\n",
      "16/16 [==============================] - 0s 3ms/step - loss: 67.5253\n",
      "Epoch 10/10\n",
      "16/16 [==============================] - 0s 4ms/step - loss: 66.1330\n"
     ]
    },
    {
     "data": {
      "text/plain": [
       "<keras.callbacks.History at 0x13171cd3b20>"
      ]
     },
     "execution_count": 34,
     "metadata": {},
     "output_type": "execute_result"
    }
   ],
   "source": [
    "model_seq.fit(x, y, epochs=10, verbose=1)"
   ]
  },
  {
   "cell_type": "code",
   "execution_count": 35,
   "metadata": {},
   "outputs": [
    {
     "name": "stdout",
     "output_type": "stream",
     "text": [
      "16/16 [==============================] - 0s 2ms/step\n",
      "[21.256409 25.128582 23.277723 24.889427 25.631859]\n",
      "\n",
      "[24.  21.6 34.7 33.4 36.2]\n"
     ]
    }
   ],
   "source": [
    "pred_seq = model_seq.predict(x)\n",
    "\n",
    "print(pred_seq.reshape(-1)[:5])\n",
    "print()\n",
    "print(y[:5])"
   ]
  },
  {
   "cell_type": "code",
   "execution_count": 40,
   "metadata": {},
   "outputs": [],
   "source": [
    "keras.backend.clear_session()\n",
    "\n",
    "il = keras.layers.Input(shape=(13,))\n",
    "hl1 = keras.layers.Dense(32, activation='relu')(il)\n",
    "hl2 = keras.layers.Dense(32, activation='relu')(hl1)\n",
    "ol = keras.layers.Dense(1)(hl2)\n",
    "\n",
    "\n",
    "model = keras.models.Model(il, ol)\n",
    "model.compile(loss=keras.losses.mean_squared_error, optimizer='adam')"
   ]
  },
  {
   "cell_type": "code",
   "execution_count": 41,
   "metadata": {},
   "outputs": [
    {
     "name": "stdout",
     "output_type": "stream",
     "text": [
      "Epoch 1/10\n",
      "16/16 [==============================] - 1s 2ms/step - loss: 3727.6663\n",
      "Epoch 2/10\n",
      "16/16 [==============================] - 0s 2ms/step - loss: 491.2123\n",
      "Epoch 3/10\n",
      "16/16 [==============================] - 0s 2ms/step - loss: 155.7201\n",
      "Epoch 4/10\n",
      "16/16 [==============================] - 0s 2ms/step - loss: 96.5516\n",
      "Epoch 5/10\n",
      "16/16 [==============================] - 0s 3ms/step - loss: 77.1593\n",
      "Epoch 6/10\n",
      "16/16 [==============================] - 0s 2ms/step - loss: 72.1835\n",
      "Epoch 7/10\n",
      "16/16 [==============================] - 0s 2ms/step - loss: 70.1752\n",
      "Epoch 8/10\n",
      "16/16 [==============================] - 0s 3ms/step - loss: 68.8570\n",
      "Epoch 9/10\n",
      "16/16 [==============================] - 0s 3ms/step - loss: 68.1512\n",
      "Epoch 10/10\n",
      "16/16 [==============================] - 0s 3ms/step - loss: 67.4491\n"
     ]
    },
    {
     "data": {
      "text/plain": [
       "<keras.callbacks.History at 0x131764607c0>"
      ]
     },
     "execution_count": 41,
     "metadata": {},
     "output_type": "execute_result"
    }
   ],
   "source": [
    "model.fit(x, y, epochs=10, verbose=1)"
   ]
  },
  {
   "cell_type": "code",
   "execution_count": 42,
   "metadata": {},
   "outputs": [
    {
     "name": "stdout",
     "output_type": "stream",
     "text": [
      "16/16 [==============================] - 0s 2ms/step\n",
      "[27.711872 23.606653 23.933195 25.400702 25.370295]\n",
      "\n",
      "[24.  21.6 34.7 33.4 36.2]\n"
     ]
    }
   ],
   "source": [
    "pred = model.predict(x)\n",
    "\n",
    "print(pred.reshape(-1)[:5])\n",
    "print()\n",
    "print(y[:5])"
   ]
  },
  {
   "cell_type": "code",
   "execution_count": 43,
   "metadata": {},
   "outputs": [
    {
     "name": "stdout",
     "output_type": "stream",
     "text": [
      "Model: \"sequential\"\n",
      "_________________________________________________________________\n",
      " Layer (type)                Output Shape              Param #   \n",
      "=================================================================\n",
      " dense (Dense)               (None, 32)                448       \n",
      "                                                                 \n",
      " dense_1 (Dense)             (None, 32)                1056      \n",
      "                                                                 \n",
      " dense_2 (Dense)             (None, 1)                 33        \n",
      "                                                                 \n",
      "=================================================================\n",
      "Total params: 1,537\n",
      "Trainable params: 1,537\n",
      "Non-trainable params: 0\n",
      "_________________________________________________________________\n"
     ]
    },
    {
     "data": {
      "text/plain": [
       "None"
      ]
     },
     "metadata": {},
     "output_type": "display_data"
    },
    {
     "name": "stdout",
     "output_type": "stream",
     "text": [
      "***************************************************************************\n",
      "***************************************************************************\n",
      "Model: \"model\"\n",
      "_________________________________________________________________\n",
      " Layer (type)                Output Shape              Param #   \n",
      "=================================================================\n",
      " input_1 (InputLayer)        [(None, 13)]              0         \n",
      "                                                                 \n",
      " dense (Dense)               (None, 32)                448       \n",
      "                                                                 \n",
      " dense_1 (Dense)             (None, 32)                1056      \n",
      "                                                                 \n",
      " dense_2 (Dense)             (None, 1)                 33        \n",
      "                                                                 \n",
      "=================================================================\n",
      "Total params: 1,537\n",
      "Trainable params: 1,537\n",
      "Non-trainable params: 0\n",
      "_________________________________________________________________\n"
     ]
    },
    {
     "data": {
      "text/plain": [
       "None"
      ]
     },
     "metadata": {},
     "output_type": "display_data"
    }
   ],
   "source": [
    "display(model_seq.summary())\n",
    "print('*****'*15)\n",
    "print('*****'*15)\n",
    "display(model.summary())"
   ]
  },
  {
   "cell_type": "code",
   "execution_count": 75,
   "metadata": {},
   "outputs": [],
   "source": [
    "from sklearn.datasets import load_breast_cancer\n",
    "cancer = load_breast_cancer()"
   ]
  },
  {
   "cell_type": "code",
   "execution_count": 76,
   "metadata": {},
   "outputs": [
    {
     "data": {
      "text/plain": [
       "((569, 30), (569,))"
      ]
     },
     "execution_count": 76,
     "metadata": {},
     "output_type": "execute_result"
    }
   ],
   "source": [
    "x = cancer.data\n",
    "y = cancer.target\n",
    "\n",
    "x.shape, y.shape"
   ]
  },
  {
   "cell_type": "code",
   "execution_count": 77,
   "metadata": {},
   "outputs": [],
   "source": [
    "from sklearn.model_selection import train_test_split\n",
    "\n",
    "x_train, x_val, y_train, y_val = train_test_split(x, y, test_size=.1)"
   ]
  },
  {
   "cell_type": "code",
   "execution_count": 78,
   "metadata": {},
   "outputs": [],
   "source": [
    "keras.backend.clear_session()\n",
    "\n",
    "model_seq = keras.models.Sequential()\n",
    "model_seq.add(keras.layers.Input(shape=(30,)))\n",
    "model_seq.add(keras.layers.Dense(32, activation='relu'))\n",
    "model_seq.add(keras.layers.Dense(32, activation='relu'))\n",
    "model_seq.add(keras.layers.Dense(1, activation='sigmoid'))\n",
    "\n",
    "model_seq.compile(loss=keras.losses.binary_crossentropy, optimizer='adam', metrics=['accuracy'])"
   ]
  },
  {
   "cell_type": "code",
   "execution_count": 79,
   "metadata": {},
   "outputs": [
    {
     "name": "stdout",
     "output_type": "stream",
     "text": [
      "Epoch 1/10\n",
      "16/16 [==============================] - 1s 2ms/step - loss: 29.3969 - accuracy: 0.3652\n",
      "Epoch 2/10\n",
      "16/16 [==============================] - 0s 4ms/step - loss: 3.2204 - accuracy: 0.7070\n",
      "Epoch 3/10\n",
      "16/16 [==============================] - 0s 3ms/step - loss: 1.0453 - accuracy: 0.7637\n",
      "Epoch 4/10\n",
      "16/16 [==============================] - 0s 3ms/step - loss: 0.3686 - accuracy: 0.8848\n",
      "Epoch 5/10\n",
      "16/16 [==============================] - 0s 4ms/step - loss: 0.2852 - accuracy: 0.9082\n",
      "Epoch 6/10\n",
      "16/16 [==============================] - 0s 3ms/step - loss: 0.2540 - accuracy: 0.9102\n",
      "Epoch 7/10\n",
      "16/16 [==============================] - 0s 4ms/step - loss: 0.1978 - accuracy: 0.9219\n",
      "Epoch 8/10\n",
      "16/16 [==============================] - 0s 4ms/step - loss: 0.2081 - accuracy: 0.9219\n",
      "Epoch 9/10\n",
      "16/16 [==============================] - 0s 4ms/step - loss: 0.2026 - accuracy: 0.9297\n",
      "Epoch 10/10\n",
      "16/16 [==============================] - 0s 3ms/step - loss: 0.1922 - accuracy: 0.9238\n"
     ]
    },
    {
     "data": {
      "text/plain": [
       "<keras.callbacks.History at 0x13179ee7460>"
      ]
     },
     "execution_count": 79,
     "metadata": {},
     "output_type": "execute_result"
    }
   ],
   "source": [
    "model_seq.fit(x_train, y_train, epochs=10, verbose=1)"
   ]
  },
  {
   "cell_type": "code",
   "execution_count": 92,
   "metadata": {},
   "outputs": [
    {
     "name": "stdout",
     "output_type": "stream",
     "text": [
      "2/2 [==============================] - 0s 3ms/step\n",
      "[1 1 0 0 1 1 0 0 0 1 1 1 0 0 0 1 0 0 1 1 1 1 0 1 1 0 0 0 1 1 1 1 0 1 1 0 1\n",
      " 1 1 1 1 0 1 1 0 0 0 0 1 1 1 1 1 1 0 1 0]\n",
      "\n",
      "[1 0 0 0 1 1 0 0 0 1 1 1 0 0 1 1 0 0 1 1 1 1 0 1 1 0 0 0 0 1 0 1 0 1 1 0 1\n",
      " 1 1 1 1 0 1 1 0 0 0 0 1 1 1 1 1 1 0 1 0]\n"
     ]
    }
   ],
   "source": [
    "pred_seq = model_seq.predict(x_val)\n",
    "pred_seq = np.where(pred_seq >=0.5, 1, 0)\n",
    "print(pred_seq.reshape(-1))\n",
    "print()\n",
    "print(y_val)"
   ]
  },
  {
   "cell_type": "code",
   "execution_count": 81,
   "metadata": {},
   "outputs": [],
   "source": [
    "keras.backend.clear_session()\n",
    "\n",
    "il = keras.layers.Input(shape=(30,))\n",
    "hl1 = keras.layers.Dense(32, activation='relu')(il)\n",
    "hl2 = keras.layers.Dense(32, activation='relu')(hl1)\n",
    "ol = keras.layers.Dense(1, activation='sigmoid')(hl2)\n",
    "\n",
    "\n",
    "model = keras.models.Model(il, ol)\n",
    "model.compile(loss=keras.losses.binary_crossentropy, optimizer='adam', metrics=['accuracy'])"
   ]
  },
  {
   "cell_type": "code",
   "execution_count": 82,
   "metadata": {},
   "outputs": [
    {
     "name": "stdout",
     "output_type": "stream",
     "text": [
      "Epoch 1/10\n",
      "16/16 [==============================] - 1s 3ms/step - loss: 5.9995 - accuracy: 0.5078\n",
      "Epoch 2/10\n",
      "16/16 [==============================] - 0s 5ms/step - loss: 0.9481 - accuracy: 0.6992\n",
      "Epoch 3/10\n",
      "16/16 [==============================] - 0s 8ms/step - loss: 0.2766 - accuracy: 0.8848\n",
      "Epoch 4/10\n",
      "16/16 [==============================] - 0s 5ms/step - loss: 0.2624 - accuracy: 0.8809\n",
      "Epoch 5/10\n",
      "16/16 [==============================] - 0s 4ms/step - loss: 0.2102 - accuracy: 0.9199\n",
      "Epoch 6/10\n",
      "16/16 [==============================] - 0s 4ms/step - loss: 0.2326 - accuracy: 0.9043\n",
      "Epoch 7/10\n",
      "16/16 [==============================] - 0s 9ms/step - loss: 0.1857 - accuracy: 0.9258\n",
      "Epoch 8/10\n",
      "16/16 [==============================] - 0s 8ms/step - loss: 0.1991 - accuracy: 0.9141\n",
      "Epoch 9/10\n",
      "16/16 [==============================] - 0s 6ms/step - loss: 0.2343 - accuracy: 0.9180\n",
      "Epoch 10/10\n",
      "16/16 [==============================] - 0s 6ms/step - loss: 0.1972 - accuracy: 0.9199\n"
     ]
    },
    {
     "data": {
      "text/plain": [
       "<keras.callbacks.History at 0x1317afdac10>"
      ]
     },
     "execution_count": 82,
     "metadata": {},
     "output_type": "execute_result"
    }
   ],
   "source": [
    "model.fit(x_train, y_train, epochs=10, verbose=1)"
   ]
  },
  {
   "cell_type": "code",
   "execution_count": 91,
   "metadata": {},
   "outputs": [
    {
     "name": "stdout",
     "output_type": "stream",
     "text": [
      "2/2 [==============================] - 0s 3ms/step\n",
      "[1 1 0 0 1 1 0 0 0 1 1 1 0 0 0 1 0 0 1 1 0 1 0 1 1 0 0 0 1 1 1 1 0 1 1 0 1\n",
      " 1 0 1 1 0 1 1 0 0 0 0 1 1 1 1 1 1 0 1 0]\n",
      "\n",
      "[1 0 0 0 1 1 0 0 0 1 1 1 0 0 1 1 0 0 1 1 1 1 0 1 1 0 0 0 0 1 0 1 0 1 1 0 1\n",
      " 1 1 1 1 0 1 1 0 0 0 0 1 1 1 1 1 1 0 1 0]\n"
     ]
    }
   ],
   "source": [
    "pred = model.predict(x_val)\n",
    "pred = np.where(pred >=0.5, 1, 0)\n",
    "print(pred.reshape(-1))\n",
    "print()\n",
    "print(y_val)"
   ]
  },
  {
   "cell_type": "code",
   "execution_count": 71,
   "metadata": {},
   "outputs": [
    {
     "name": "stdout",
     "output_type": "stream",
     "text": [
      "Model: \"sequential\"\n",
      "_________________________________________________________________\n",
      " Layer (type)                Output Shape              Param #   \n",
      "=================================================================\n",
      " dense (Dense)               (None, 32)                992       \n",
      "                                                                 \n",
      " dense_1 (Dense)             (None, 32)                1056      \n",
      "                                                                 \n",
      " dense_2 (Dense)             (None, 1)                 33        \n",
      "                                                                 \n",
      "=================================================================\n",
      "Total params: 2,081\n",
      "Trainable params: 2,081\n",
      "Non-trainable params: 0\n",
      "_________________________________________________________________\n"
     ]
    },
    {
     "data": {
      "text/plain": [
       "None"
      ]
     },
     "metadata": {},
     "output_type": "display_data"
    },
    {
     "name": "stdout",
     "output_type": "stream",
     "text": [
      "***************************************************************************\n",
      "***************************************************************************\n",
      "Model: \"model\"\n",
      "_________________________________________________________________\n",
      " Layer (type)                Output Shape              Param #   \n",
      "=================================================================\n",
      " input_1 (InputLayer)        [(None, 30)]              0         \n",
      "                                                                 \n",
      " dense (Dense)               (None, 32)                992       \n",
      "                                                                 \n",
      " dense_1 (Dense)             (None, 32)                1056      \n",
      "                                                                 \n",
      " dense_2 (Dense)             (None, 1)                 33        \n",
      "                                                                 \n",
      "=================================================================\n",
      "Total params: 2,081\n",
      "Trainable params: 2,081\n",
      "Non-trainable params: 0\n",
      "_________________________________________________________________\n"
     ]
    },
    {
     "data": {
      "text/plain": [
       "None"
      ]
     },
     "metadata": {},
     "output_type": "display_data"
    }
   ],
   "source": [
    "display(model_seq.summary())\n",
    "print('*****'*15)\n",
    "print('*****'*15)\n",
    "display(model.summary())"
   ]
  },
  {
   "cell_type": "code",
   "execution_count": 130,
   "metadata": {},
   "outputs": [],
   "source": [
    "from sklearn.datasets import load_iris\n",
    "iris = load_iris()"
   ]
  },
  {
   "cell_type": "code",
   "execution_count": 140,
   "metadata": {},
   "outputs": [
    {
     "data": {
      "text/plain": [
       "((150, 4), (150,))"
      ]
     },
     "execution_count": 140,
     "metadata": {},
     "output_type": "execute_result"
    }
   ],
   "source": [
    "x = iris.data\n",
    "y = iris.target\n",
    "\n",
    "x.shape, y.shape"
   ]
  },
  {
   "cell_type": "code",
   "execution_count": 141,
   "metadata": {},
   "outputs": [],
   "source": [
    "x_train, x_val, y_train, y_val = train_test_split(x, y, test_size=0.1, random_state=2022)"
   ]
  },
  {
   "cell_type": "code",
   "execution_count": 142,
   "metadata": {},
   "outputs": [],
   "source": [
    "from keras.utils import to_categorical\n",
    "\n",
    "y_train = to_categorical(y_train, 3)\n",
    "y_val = to_categorical(y_val, 3)"
   ]
  },
  {
   "cell_type": "code",
   "execution_count": 146,
   "metadata": {},
   "outputs": [],
   "source": [
    "keras.backend.clear_session()\n",
    "\n",
    "model_seq = keras.models.Sequential()\n",
    "model_seq.add(keras.layers.Input(shape=(4,)))\n",
    "model_seq.add(keras.layers.Dense(32, activation='relu'))\n",
    "model_seq.add(keras.layers.Dense(32, activation='relu'))\n",
    "model_seq.add(keras.layers.Dense(3, activation='softmax'))\n",
    "\n",
    "model_seq.compile(loss=keras.losses.categorical_crossentropy, optimizer='adam', metrics=['accuracy'])"
   ]
  },
  {
   "cell_type": "code",
   "execution_count": 147,
   "metadata": {},
   "outputs": [
    {
     "name": "stdout",
     "output_type": "stream",
     "text": [
      "Epoch 1/10\n",
      "5/5 [==============================] - 1s 3ms/step - loss: 1.0698 - accuracy: 0.4667\n",
      "Epoch 2/10\n",
      "5/5 [==============================] - 0s 3ms/step - loss: 0.9759 - accuracy: 0.3333\n",
      "Epoch 3/10\n",
      "5/5 [==============================] - 0s 3ms/step - loss: 0.9132 - accuracy: 0.6667\n",
      "Epoch 4/10\n",
      "5/5 [==============================] - 0s 5ms/step - loss: 0.8628 - accuracy: 0.6667\n",
      "Epoch 5/10\n",
      "5/5 [==============================] - 0s 3ms/step - loss: 0.8220 - accuracy: 0.6963\n",
      "Epoch 6/10\n",
      "5/5 [==============================] - 0s 4ms/step - loss: 0.7856 - accuracy: 0.8296\n",
      "Epoch 7/10\n",
      "5/5 [==============================] - 0s 5ms/step - loss: 0.7512 - accuracy: 0.8963\n",
      "Epoch 8/10\n",
      "5/5 [==============================] - 0s 3ms/step - loss: 0.7192 - accuracy: 0.8667\n",
      "Epoch 9/10\n",
      "5/5 [==============================] - 0s 5ms/step - loss: 0.6888 - accuracy: 0.8889\n",
      "Epoch 10/10\n",
      "5/5 [==============================] - 0s 4ms/step - loss: 0.6569 - accuracy: 0.8370\n"
     ]
    },
    {
     "data": {
      "text/plain": [
       "<keras.callbacks.History at 0x1317ee69af0>"
      ]
     },
     "execution_count": 147,
     "metadata": {},
     "output_type": "execute_result"
    }
   ],
   "source": [
    "model_seq.fit(x_train, y_train, epochs=10, verbose=1)"
   ]
  },
  {
   "cell_type": "code",
   "execution_count": 148,
   "metadata": {},
   "outputs": [
    {
     "name": "stdout",
     "output_type": "stream",
     "text": [
      "1/1 [==============================] - 0s 116ms/step\n",
      "[2 2 0 2 0 0 1 2 0 1 2 2 2 2 2]\n",
      "\n",
      "[2 2 0 2 0 0 1 1 0 1 1 2 1 2 2]\n"
     ]
    }
   ],
   "source": [
    "pred_seq = model_seq.predict(x_val)\n",
    "\n",
    "print(pred_seq.argmax(axis=1))\n",
    "print()\n",
    "print(y_val.argmax(axis=1))"
   ]
  },
  {
   "cell_type": "code",
   "execution_count": 149,
   "metadata": {},
   "outputs": [],
   "source": [
    "keras.backend.clear_session()\n",
    "\n",
    "il = keras.layers.Input(shape=(4,))\n",
    "h1 = keras.layers.Dense(3, activation='relu')(il)\n",
    "h2 = keras.layers.Dense(3, activation='relu')(h1)\n",
    "ol = keras.layers.Dense(3, activation='softmax')(h2)\n",
    "\n",
    "model = keras.models.Model(il, ol)\n",
    "\n",
    "model.compile(loss=keras.losses.categorical_crossentropy, optimizer='adam', metrics=['accuracy'])"
   ]
  },
  {
   "cell_type": "code",
   "execution_count": 150,
   "metadata": {},
   "outputs": [
    {
     "name": "stdout",
     "output_type": "stream",
     "text": [
      "Epoch 1/10\n",
      "5/5 [==============================] - 1s 2ms/step - loss: 1.0922 - accuracy: 0.3481\n",
      "Epoch 2/10\n",
      "5/5 [==============================] - 0s 3ms/step - loss: 1.0905 - accuracy: 0.3407\n",
      "Epoch 3/10\n",
      "5/5 [==============================] - 0s 3ms/step - loss: 1.0889 - accuracy: 0.3556\n",
      "Epoch 4/10\n",
      "5/5 [==============================] - 0s 3ms/step - loss: 1.0876 - accuracy: 0.3852\n",
      "Epoch 5/10\n",
      "5/5 [==============================] - 0s 4ms/step - loss: 1.0862 - accuracy: 0.3926\n",
      "Epoch 6/10\n",
      "5/5 [==============================] - 0s 3ms/step - loss: 1.0849 - accuracy: 0.4074\n",
      "Epoch 7/10\n",
      "5/5 [==============================] - 0s 3ms/step - loss: 1.0836 - accuracy: 0.4074\n",
      "Epoch 8/10\n",
      "5/5 [==============================] - 0s 3ms/step - loss: 1.0822 - accuracy: 0.4296\n",
      "Epoch 9/10\n",
      "5/5 [==============================] - 0s 5ms/step - loss: 1.0809 - accuracy: 0.4667\n",
      "Epoch 10/10\n",
      "5/5 [==============================] - 0s 4ms/step - loss: 1.0796 - accuracy: 0.4815\n"
     ]
    },
    {
     "data": {
      "text/plain": [
       "<keras.callbacks.History at 0x1317eedc1c0>"
      ]
     },
     "execution_count": 150,
     "metadata": {},
     "output_type": "execute_result"
    }
   ],
   "source": [
    "model.fit(x_train, y_train, epochs=10, verbose=1)"
   ]
  },
  {
   "cell_type": "code",
   "execution_count": 151,
   "metadata": {},
   "outputs": [
    {
     "name": "stdout",
     "output_type": "stream",
     "text": [
      "1/1 [==============================] - 0s 84ms/step\n",
      "[0 2 0 2 0 0 0 0 0 2 2 2 0 2 0]\n",
      "\n",
      "[2 2 0 2 0 0 1 1 0 1 1 2 1 2 2]\n"
     ]
    }
   ],
   "source": [
    "pred = model.predict(x_val)\n",
    "\n",
    "print(pred.argmax(axis=1))\n",
    "print()\n",
    "print(y_val.argmax(axis=1))"
   ]
  },
  {
   "cell_type": "code",
   "execution_count": 153,
   "metadata": {},
   "outputs": [
    {
     "name": "stdout",
     "output_type": "stream",
     "text": [
      "Model: \"sequential\"\n",
      "_________________________________________________________________\n",
      " Layer (type)                Output Shape              Param #   \n",
      "=================================================================\n",
      " dense (Dense)               (None, 32)                160       \n",
      "                                                                 \n",
      " dense_1 (Dense)             (None, 32)                1056      \n",
      "                                                                 \n",
      " dense_2 (Dense)             (None, 3)                 99        \n",
      "                                                                 \n",
      "=================================================================\n",
      "Total params: 1,315\n",
      "Trainable params: 1,315\n",
      "Non-trainable params: 0\n",
      "_________________________________________________________________\n"
     ]
    },
    {
     "data": {
      "text/plain": [
       "None"
      ]
     },
     "metadata": {},
     "output_type": "display_data"
    },
    {
     "name": "stdout",
     "output_type": "stream",
     "text": [
      "*****************************************************************\n",
      "*****************************************************************\n",
      "Model: \"model\"\n",
      "_________________________________________________________________\n",
      " Layer (type)                Output Shape              Param #   \n",
      "=================================================================\n",
      " input_1 (InputLayer)        [(None, 4)]               0         \n",
      "                                                                 \n",
      " dense (Dense)               (None, 3)                 15        \n",
      "                                                                 \n",
      " dense_1 (Dense)             (None, 3)                 12        \n",
      "                                                                 \n",
      " dense_2 (Dense)             (None, 3)                 12        \n",
      "                                                                 \n",
      "=================================================================\n",
      "Total params: 39\n",
      "Trainable params: 39\n",
      "Non-trainable params: 0\n",
      "_________________________________________________________________\n"
     ]
    },
    {
     "data": {
      "text/plain": [
       "None"
      ]
     },
     "metadata": {},
     "output_type": "display_data"
    }
   ],
   "source": [
    "display(model_seq.summary())\n",
    "print('*****'*13)\n",
    "print('*****'*13)\n",
    "display(model.summary())"
   ]
  },
  {
   "cell_type": "markdown",
   "metadata": {},
   "source": [
    "### ANN & MNIST(숫자 손글씨)"
   ]
  },
  {
   "cell_type": "code",
   "execution_count": null,
   "metadata": {},
   "outputs": [],
   "source": []
  }
 ],
 "metadata": {
  "kernelspec": {
   "display_name": "Python 3.9.13 64-bit",
   "language": "python",
   "name": "python3"
  },
  "language_info": {
   "codemirror_mode": {
    "name": "ipython",
    "version": 3
   },
   "file_extension": ".py",
   "mimetype": "text/x-python",
   "name": "python",
   "nbconvert_exporter": "python",
   "pygments_lexer": "ipython3",
   "version": "3.9.13"
  },
  "orig_nbformat": 4,
  "vscode": {
   "interpreter": {
    "hash": "cf92aa13fedf815d5c8dd192b8d835913fde3e8bc926b2a0ad6cc74ef2ba3ca2"
   }
  }
 },
 "nbformat": 4,
 "nbformat_minor": 2
}
