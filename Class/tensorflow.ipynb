{
 "cells": [
  {
   "cell_type": "markdown",
   "metadata": {},
   "source": [
    "# DeepLearning ( TensorFlow )\n",
    "* https://www.tensorflow.org/api_docs/python/tf"
   ]
  },
  {
   "cell_type": "markdown",
   "metadata": {},
   "source": [
    "### Netural Network\n",
    "- features(x) -> neuron -> target(y)\n",
    "    - ex) 주택 가격  \n",
    "    features(크기, 위치, 형태, ..) -> neuron(가중치, 그래프, 관계) -> target(가격)"
   ]
  },
  {
   "cell_type": "markdown",
   "metadata": {},
   "source": [
    "## Sequential"
   ]
  },
  {
   "cell_type": "markdown",
   "metadata": {},
   "source": [
    "### Linear Regression"
   ]
  },
  {
   "cell_type": "code",
   "execution_count": 110,
   "metadata": {},
   "outputs": [],
   "source": [
    "import numpy as np\n",
    "import pandas as pd\n",
    "import matplotlib.pyplot as plt\n",
    "import seaborn as sns\n",
    "\n",
    "# tensorflow\n",
    "import tensorflow as tf\n",
    "from tensorflow import keras\n"
   ]
  },
  {
   "cell_type": "code",
   "execution_count": 111,
   "metadata": {},
   "outputs": [
    {
     "data": {
      "text/plain": [
       "(array([ 0,  1,  2,  3,  4,  5,  6,  7,  8,  9, 10, 11, 12, 13, 14, 15, 16,\n",
       "        17, 18, 19]),\n",
       " array([-1,  1,  3,  5,  7,  9, 11, 13, 15, 17, 19, 21, 23, 25, 27, 29, 31,\n",
       "        33, 35, 37]))"
      ]
     },
     "execution_count": 111,
     "metadata": {},
     "output_type": "execute_result"
    }
   ],
   "source": [
    "x = np.array(range(0,20))\n",
    "y = x * 2 - 1\n",
    "\n",
    "x, y"
   ]
  },
  {
   "cell_type": "code",
   "execution_count": 112,
   "metadata": {},
   "outputs": [
    {
     "data": {
      "text/plain": [
       "((20,), (20,))"
      ]
     },
     "execution_count": 112,
     "metadata": {},
     "output_type": "execute_result"
    }
   ],
   "source": [
    "x.shape, y.shape"
   ]
  },
  {
   "cell_type": "code",
   "execution_count": 113,
   "metadata": {},
   "outputs": [],
   "source": [
    "# kears 모델 클리어\n",
    "keras.backend.clear_session()\n",
    "\n",
    "# keras 모델 선언\n",
    "model = keras.models.Sequential()"
   ]
  },
  {
   "cell_type": "code",
   "execution_count": 114,
   "metadata": {},
   "outputs": [],
   "source": [
    "# 모델 노드 조립\n",
    "model.add(keras.layers.Input(shape=(1,)))\n",
    "model.add(keras.layers.Dense(1))\n",
    "\n",
    "# 컴파일\n",
    "# loss : 예측값 평가 기준 \n",
    "# optimizer : \n",
    "model.compile(loss='mse'\n",
    "              , optimizer='adam')"
   ]
  },
  {
   "cell_type": "code",
   "execution_count": 115,
   "metadata": {},
   "outputs": [
    {
     "name": "stdout",
     "output_type": "stream",
     "text": [
      "Epoch 1/10\n",
      "1/1 [==============================] - 1s 743ms/step - loss: 1372.7797\n",
      "Epoch 2/10\n",
      "1/1 [==============================] - 0s 10ms/step - loss: 1371.8937\n",
      "Epoch 3/10\n",
      "1/1 [==============================] - 0s 9ms/step - loss: 1371.0076\n",
      "Epoch 4/10\n",
      "1/1 [==============================] - 0s 9ms/step - loss: 1370.1223\n",
      "Epoch 5/10\n",
      "1/1 [==============================] - 0s 9ms/step - loss: 1369.2371\n",
      "Epoch 6/10\n",
      "1/1 [==============================] - 0s 10ms/step - loss: 1368.3522\n",
      "Epoch 7/10\n",
      "1/1 [==============================] - 0s 10ms/step - loss: 1367.4677\n",
      "Epoch 8/10\n",
      "1/1 [==============================] - 0s 9ms/step - loss: 1366.5833\n",
      "Epoch 9/10\n",
      "1/1 [==============================] - 0s 10ms/step - loss: 1365.6995\n",
      "Epoch 10/10\n",
      "1/1 [==============================] - 0s 9ms/step - loss: 1364.8159\n"
     ]
    },
    {
     "data": {
      "text/plain": [
       "<keras.callbacks.History at 0x216a3b06d90>"
      ]
     },
     "execution_count": 115,
     "metadata": {},
     "output_type": "execute_result"
    }
   ],
   "source": [
    "# epochs : 학습 횟수\n",
    "# verbose : 학습 과정 표현\n",
    "model.fit(x,y, epochs=10, verbose=1)"
   ]
  },
  {
   "cell_type": "code",
   "execution_count": 116,
   "metadata": {},
   "outputs": [
    {
     "name": "stdout",
     "output_type": "stream",
     "text": [
      "1/1 [==============================] - 0s 152ms/step\n"
     ]
    },
    {
     "data": {
      "text/plain": [
       "array([[ 9.99897718e-03],\n",
       "       [-1.39060831e+00],\n",
       "       [-2.79121566e+00],\n",
       "       [-4.19182348e+00],\n",
       "       [-5.59243059e+00],\n",
       "       [-6.99303770e+00],\n",
       "       [-8.39364529e+00],\n",
       "       [-9.79425240e+00],\n",
       "       [-1.11948595e+01],\n",
       "       [-1.25954666e+01],\n",
       "       [-1.39960737e+01],\n",
       "       [-1.53966818e+01],\n",
       "       [-1.67972908e+01],\n",
       "       [-1.81978970e+01],\n",
       "       [-1.95985050e+01],\n",
       "       [-2.09991112e+01],\n",
       "       [-2.23997192e+01],\n",
       "       [-2.38003273e+01],\n",
       "       [-2.52009335e+01],\n",
       "       [-2.66015415e+01]], dtype=float32)"
      ]
     },
     "execution_count": 116,
     "metadata": {},
     "output_type": "execute_result"
    }
   ],
   "source": [
    "pred = model.predict(x)\n",
    "pred"
   ]
  },
  {
   "cell_type": "markdown",
   "metadata": {},
   "source": [
    "### Logistic Regression"
   ]
  },
  {
   "cell_type": "code",
   "execution_count": 117,
   "metadata": {},
   "outputs": [
    {
     "name": "stdout",
     "output_type": "stream",
     "text": [
      "[ 0  1  2  3  4  5  6  7  8  9 10 11 12 13 14 15 16 17 18 19 20 21 22 23\n",
      " 24 25 26 27 28 29 30 31 32 33 34 35 36 37 38 39]\n",
      "[0 1 0 1 0 1 0 1 0 1 0 1 0 1 0 1 0 1 0 1 0 1 0 1 0 1 0 1 0 1 0 1 0 1 0 1 0\n",
      " 1 0 1]\n"
     ]
    }
   ],
   "source": [
    "x = np.array(range(0,40)) \n",
    "y = np.array([0, 1] * 20)\n",
    "print(x)\n",
    "print(y)"
   ]
  },
  {
   "cell_type": "code",
   "execution_count": 118,
   "metadata": {},
   "outputs": [],
   "source": [
    "keras.backend.clear_session()\n",
    "\n",
    "model = keras.models.Sequential()\n",
    "model.add(keras.layers.Input(shape=(1,)))\n",
    "model.add(keras.layers.Dense(1, activation='sigmoid'))\n",
    "\n",
    "model.compile(loss='binary_crossentropy'\n",
    "              , optimizer='adam'\n",
    "              , metrics=['accuracy'])"
   ]
  },
  {
   "cell_type": "code",
   "execution_count": 119,
   "metadata": {},
   "outputs": [
    {
     "name": "stdout",
     "output_type": "stream",
     "text": [
      "Epoch 1/10\n",
      "2/2 [==============================] - 1s 12ms/step - loss: 6.2067 - accuracy: 0.5250\n",
      "Epoch 2/10\n",
      "2/2 [==============================] - 0s 9ms/step - loss: 6.1862 - accuracy: 0.5250\n",
      "Epoch 3/10\n",
      "2/2 [==============================] - 0s 9ms/step - loss: 6.1677 - accuracy: 0.5250\n",
      "Epoch 4/10\n",
      "2/2 [==============================] - 0s 9ms/step - loss: 6.1491 - accuracy: 0.5250\n",
      "Epoch 5/10\n",
      "2/2 [==============================] - 0s 10ms/step - loss: 6.1315 - accuracy: 0.5250\n",
      "Epoch 6/10\n",
      "2/2 [==============================] - 0s 9ms/step - loss: 6.1124 - accuracy: 0.5250\n",
      "Epoch 7/10\n",
      "2/2 [==============================] - 0s 9ms/step - loss: 6.0935 - accuracy: 0.5250\n",
      "Epoch 8/10\n",
      "2/2 [==============================] - 0s 8ms/step - loss: 6.0760 - accuracy: 0.5250\n",
      "Epoch 9/10\n",
      "2/2 [==============================] - 0s 8ms/step - loss: 6.0559 - accuracy: 0.5250\n",
      "Epoch 10/10\n",
      "2/2 [==============================] - 0s 7ms/step - loss: 6.0384 - accuracy: 0.5250\n"
     ]
    },
    {
     "data": {
      "text/plain": [
       "<keras.callbacks.History at 0x216a3c888b0>"
      ]
     },
     "execution_count": 119,
     "metadata": {},
     "output_type": "execute_result"
    }
   ],
   "source": [
    "model.fit(x, y, epochs=10, verbose=1)"
   ]
  },
  {
   "cell_type": "code",
   "execution_count": 120,
   "metadata": {},
   "outputs": [
    {
     "name": "stdout",
     "output_type": "stream",
     "text": [
      "2/2 [==============================] - 0s 5ms/step\n"
     ]
    },
    {
     "data": {
      "text/plain": [
       "array([[0.49519983],\n",
       "       [0.64821047],\n",
       "       [0.7758364 ],\n",
       "       [0.86668366],\n",
       "       [0.92430526],\n",
       "       [0.9582222 ],\n",
       "       [0.97731483],\n",
       "       [0.98779327],\n",
       "       [0.99346393],\n",
       "       [0.9965096 ],\n",
       "       [0.99813867],\n",
       "       [0.99900824],\n",
       "       [0.9994717 ],\n",
       "       [0.9997187 ],\n",
       "       [0.99985015],\n",
       "       [0.99992025],\n",
       "       [0.99995756],\n",
       "       [0.99997735],\n",
       "       [0.99998796],\n",
       "       [0.99999356],\n",
       "       [0.99999654],\n",
       "       [0.9999982 ],\n",
       "       [0.99999905],\n",
       "       [0.9999995 ],\n",
       "       [0.99999976],\n",
       "       [0.9999999 ],\n",
       "       [0.9999999 ],\n",
       "       [1.        ],\n",
       "       [1.        ],\n",
       "       [1.        ],\n",
       "       [1.        ],\n",
       "       [1.        ],\n",
       "       [1.        ],\n",
       "       [1.        ],\n",
       "       [1.        ],\n",
       "       [1.        ],\n",
       "       [1.        ],\n",
       "       [1.        ],\n",
       "       [1.        ],\n",
       "       [1.        ]], dtype=float32)"
      ]
     },
     "execution_count": 120,
     "metadata": {},
     "output_type": "execute_result"
    }
   ],
   "source": [
    "pred = model.predict(x)\n",
    "pred"
   ]
  },
  {
   "cell_type": "code",
   "execution_count": 121,
   "metadata": {},
   "outputs": [
    {
     "name": "stdout",
     "output_type": "stream",
     "text": [
      "[0 1 0 1 0 1 0 1 0 1 0 1 0 1 0 1 0 1 0 1 0 1 0 1 0 1 0 1 0 1 0 1 0 1 0 1 0\n",
      " 1 0 1]\n"
     ]
    }
   ],
   "source": [
    "print(y)\n"
   ]
  },
  {
   "cell_type": "markdown",
   "metadata": {},
   "source": [
    "## Functional"
   ]
  },
  {
   "cell_type": "markdown",
   "metadata": {},
   "source": [
    "### Linear Regression"
   ]
  },
  {
   "cell_type": "code",
   "execution_count": 122,
   "metadata": {},
   "outputs": [
    {
     "name": "stdout",
     "output_type": "stream",
     "text": [
      "[ 0  1  2  3  4  5  6  7  8  9 10 11 12 13 14 15 16 17 18 19]\n",
      "[-1  1  3  5  7  9 11 13 15 17 19 21 23 25 27 29 31 33 35 37]\n"
     ]
    }
   ],
   "source": [
    "x = np.array(range(0,20)) \n",
    "y = x * 2 -1\n",
    "\n",
    "print(x)\n",
    "print(y)"
   ]
  },
  {
   "cell_type": "code",
   "execution_count": 123,
   "metadata": {},
   "outputs": [],
   "source": [
    "# 혹시 이미 그려둔 그래프가 있다면 날려줘!\n",
    "keras.backend.clear_session()\n",
    "\n",
    "# 레이어들을 사슬로 연결하 듯이 연결!\n",
    "input_layer = keras.layers.Input(shape=(1,))\n",
    "output_layer = keras.layers.Dense(1)(input_layer)\n",
    "\n",
    "# 모델의 시작과 끝을 지정\n",
    "model = keras.models.Model(inputs=input_layer, outputs=output_layer)\n",
    "\n",
    "# 컴파일 해주렴\n",
    "model.compile(loss = 'mse', optimizer = 'adam')"
   ]
  },
  {
   "cell_type": "code",
   "execution_count": 124,
   "metadata": {},
   "outputs": [
    {
     "name": "stdout",
     "output_type": "stream",
     "text": [
      "Epoch 1/10\n",
      "1/1 [==============================] - 1s 667ms/step - loss: 267.5563\n",
      "Epoch 2/10\n",
      "1/1 [==============================] - 0s 10ms/step - loss: 267.1657\n",
      "Epoch 3/10\n",
      "1/1 [==============================] - 0s 10ms/step - loss: 266.7753\n",
      "Epoch 4/10\n",
      "1/1 [==============================] - 0s 9ms/step - loss: 266.3853\n",
      "Epoch 5/10\n",
      "1/1 [==============================] - 0s 10ms/step - loss: 265.9955\n",
      "Epoch 6/10\n",
      "1/1 [==============================] - 0s 9ms/step - loss: 265.6061\n",
      "Epoch 7/10\n",
      "1/1 [==============================] - 0s 9ms/step - loss: 265.2169\n",
      "Epoch 8/10\n",
      "1/1 [==============================] - 0s 9ms/step - loss: 264.8282\n",
      "Epoch 9/10\n",
      "1/1 [==============================] - 0s 9ms/step - loss: 264.4397\n",
      "Epoch 10/10\n",
      "1/1 [==============================] - 0s 8ms/step - loss: 264.0515\n"
     ]
    },
    {
     "data": {
      "text/plain": [
       "<keras.callbacks.History at 0x216a3b13250>"
      ]
     },
     "execution_count": 124,
     "metadata": {},
     "output_type": "execute_result"
    }
   ],
   "source": [
    "# 데이터를 넣어서 학습시키자!\n",
    "model.fit(x, y, epochs=10, verbose=1)"
   ]
  },
  {
   "cell_type": "code",
   "execution_count": 125,
   "metadata": {},
   "outputs": [
    {
     "name": "stdout",
     "output_type": "stream",
     "text": [
      "[-1  1  3  5  7  9 11 13 15 17 19 21 23 25 27 29 31 33 35 37]\n",
      "1/1 [==============================] - 0s 98ms/step\n",
      "[0.00999757 0.47192705 0.9338565  1.395786   1.8577155  2.319645\n",
      " 2.7815745  3.2435038  3.7054334  4.1673627  4.629292   5.0912213\n",
      " 5.553151   6.0150805  6.47701    6.9389396  7.400869   7.862798\n",
      " 8.324728   8.786657  ]\n"
     ]
    }
   ],
   "source": [
    "# 결과 출력해줘!\n",
    "print(y)\n",
    "print(model.predict(x).reshape(-1,) )"
   ]
  },
  {
   "cell_type": "markdown",
   "metadata": {},
   "source": [
    "### Logistic Regression"
   ]
  },
  {
   "cell_type": "code",
   "execution_count": 126,
   "metadata": {},
   "outputs": [
    {
     "name": "stdout",
     "output_type": "stream",
     "text": [
      "[ 0  1  2  3  4  5  6  7  8  9 10 11 12 13 14 15 16 17 18 19]\n",
      "[0 0 0 0 0 0 0 0 0 0 1 1 1 1 1 1 1 1 1 1]\n"
     ]
    }
   ],
   "source": [
    "x = np.array(range(0,20)) \n",
    "y = np.array([0]*10 + [1]*10)\n",
    "\n",
    "print(x)\n",
    "print(y)"
   ]
  },
  {
   "cell_type": "code",
   "execution_count": 127,
   "metadata": {},
   "outputs": [],
   "source": [
    "# 혹시 이미 그려둔 그래프가 있다면 날려줘!\n",
    "keras.backend.clear_session()\n",
    "\n",
    "# 레이어들을 사슬로 연결하 듯이 연결!\n",
    "input_layer = keras.layers.Input(shape=(1,))\n",
    "output_layer = keras.layers.Dense(1, activation='sigmoid')(input_layer)\n",
    "\n",
    "# 모델의 시작과 끝을 지정\n",
    "model = keras.models.Model(inputs=input_layer, outputs=output_layer)\n",
    "\n",
    "\n",
    "# 컴파일 해주렴\n",
    "model.compile(loss = 'binary_crossentropy', optimizer = 'adam', metrics=['accuracy'])"
   ]
  },
  {
   "cell_type": "code",
   "execution_count": 128,
   "metadata": {},
   "outputs": [
    {
     "name": "stdout",
     "output_type": "stream",
     "text": [
      "Epoch 1/10\n",
      "1/1 [==============================] - 1s 894ms/step - loss: 1.7962 - accuracy: 0.5500\n",
      "Epoch 2/10\n",
      "1/1 [==============================] - 0s 9ms/step - loss: 1.7936 - accuracy: 0.5500\n",
      "Epoch 3/10\n",
      "1/1 [==============================] - 0s 10ms/step - loss: 1.7910 - accuracy: 0.5500\n",
      "Epoch 4/10\n",
      "1/1 [==============================] - 0s 9ms/step - loss: 1.7884 - accuracy: 0.5500\n",
      "Epoch 5/10\n",
      "1/1 [==============================] - 0s 10ms/step - loss: 1.7857 - accuracy: 0.5500\n",
      "Epoch 6/10\n",
      "1/1 [==============================] - 0s 10ms/step - loss: 1.7831 - accuracy: 0.5500\n",
      "Epoch 7/10\n",
      "1/1 [==============================] - 0s 11ms/step - loss: 1.7805 - accuracy: 0.5500\n",
      "Epoch 8/10\n",
      "1/1 [==============================] - 0s 10ms/step - loss: 1.7779 - accuracy: 0.5500\n",
      "Epoch 9/10\n",
      "1/1 [==============================] - 0s 11ms/step - loss: 1.7752 - accuracy: 0.5500\n",
      "Epoch 10/10\n",
      "1/1 [==============================] - 0s 9ms/step - loss: 1.7726 - accuracy: 0.5500\n",
      "[0 0 0 0 0 0 0 0 0 0 1 1 1 1 1 1 1 1 1 1]\n",
      "WARNING:tensorflow:5 out of the last 318 calls to <function Model.make_predict_function.<locals>.predict_function at 0x00000216A505F820> triggered tf.function retracing. Tracing is expensive and the excessive number of tracings could be due to (1) creating @tf.function repeatedly in a loop, (2) passing tensors with different shapes, (3) passing Python objects instead of tensors. For (1), please define your @tf.function outside of the loop. For (2), @tf.function has reduce_retracing=True option that can avoid unnecessary retracing. For (3), please refer to https://www.tensorflow.org/guide/function#controlling_retracing and https://www.tensorflow.org/api_docs/python/tf/function for  more details.\n",
      "1/1 [==============================] - 0s 96ms/step\n",
      "[0.4975002  0.6783181  0.8178883  0.90535194 0.953212   0.97747314\n",
      " 0.9892953  0.99494535 0.9976203  0.9988813  0.99947447 0.9997532\n",
      " 0.9998841  0.9999455  0.9999745  0.99998796 0.9999944  0.9999974\n",
      " 0.9999988  0.9999994 ]\n"
     ]
    }
   ],
   "source": [
    "# 데이터를 넣어서 학습시키자!\n",
    "model.fit(x, y, epochs=10, verbose=1)\n",
    "\n",
    "# 결과 출력해줘!\n",
    "print(y)\n",
    "print(model.predict(x).reshape(-1,) )"
   ]
  },
  {
   "cell_type": "markdown",
   "metadata": {},
   "source": [
    "### ANN / MNIST"
   ]
  },
  {
   "cell_type": "code",
   "execution_count": 129,
   "metadata": {},
   "outputs": [],
   "source": [
    "from sklearn.metrics import accuracy_score\n",
    "import random as rd"
   ]
  },
  {
   "cell_type": "code",
   "execution_count": 130,
   "metadata": {},
   "outputs": [],
   "source": [
    "(x_train, y_train), (x_val, y_val) = keras.datasets.mnist.load_data()"
   ]
  },
  {
   "cell_type": "code",
   "execution_count": 131,
   "metadata": {},
   "outputs": [
    {
     "data": {
      "text/plain": [
       "((60000, 28, 28), (60000,), (10000, 28, 28), (10000,))"
      ]
     },
     "execution_count": 131,
     "metadata": {},
     "output_type": "execute_result"
    }
   ],
   "source": [
    "x_train.shape, y_train.shape, x_val.shape, y_val.shape"
   ]
  },
  {
   "cell_type": "code",
   "execution_count": 132,
   "metadata": {},
   "outputs": [
    {
     "data": {
      "text/plain": [
       "array([[[0, 0, 0, ..., 0, 0, 0],\n",
       "        [0, 0, 0, ..., 0, 0, 0],\n",
       "        [0, 0, 0, ..., 0, 0, 0],\n",
       "        ...,\n",
       "        [0, 0, 0, ..., 0, 0, 0],\n",
       "        [0, 0, 0, ..., 0, 0, 0],\n",
       "        [0, 0, 0, ..., 0, 0, 0]],\n",
       "\n",
       "       [[0, 0, 0, ..., 0, 0, 0],\n",
       "        [0, 0, 0, ..., 0, 0, 0],\n",
       "        [0, 0, 0, ..., 0, 0, 0],\n",
       "        ...,\n",
       "        [0, 0, 0, ..., 0, 0, 0],\n",
       "        [0, 0, 0, ..., 0, 0, 0],\n",
       "        [0, 0, 0, ..., 0, 0, 0]],\n",
       "\n",
       "       [[0, 0, 0, ..., 0, 0, 0],\n",
       "        [0, 0, 0, ..., 0, 0, 0],\n",
       "        [0, 0, 0, ..., 0, 0, 0],\n",
       "        ...,\n",
       "        [0, 0, 0, ..., 0, 0, 0],\n",
       "        [0, 0, 0, ..., 0, 0, 0],\n",
       "        [0, 0, 0, ..., 0, 0, 0]],\n",
       "\n",
       "       ...,\n",
       "\n",
       "       [[0, 0, 0, ..., 0, 0, 0],\n",
       "        [0, 0, 0, ..., 0, 0, 0],\n",
       "        [0, 0, 0, ..., 0, 0, 0],\n",
       "        ...,\n",
       "        [0, 0, 0, ..., 0, 0, 0],\n",
       "        [0, 0, 0, ..., 0, 0, 0],\n",
       "        [0, 0, 0, ..., 0, 0, 0]],\n",
       "\n",
       "       [[0, 0, 0, ..., 0, 0, 0],\n",
       "        [0, 0, 0, ..., 0, 0, 0],\n",
       "        [0, 0, 0, ..., 0, 0, 0],\n",
       "        ...,\n",
       "        [0, 0, 0, ..., 0, 0, 0],\n",
       "        [0, 0, 0, ..., 0, 0, 0],\n",
       "        [0, 0, 0, ..., 0, 0, 0]],\n",
       "\n",
       "       [[0, 0, 0, ..., 0, 0, 0],\n",
       "        [0, 0, 0, ..., 0, 0, 0],\n",
       "        [0, 0, 0, ..., 0, 0, 0],\n",
       "        ...,\n",
       "        [0, 0, 0, ..., 0, 0, 0],\n",
       "        [0, 0, 0, ..., 0, 0, 0],\n",
       "        [0, 0, 0, ..., 0, 0, 0]]], dtype=uint8)"
      ]
     },
     "execution_count": 132,
     "metadata": {},
     "output_type": "execute_result"
    }
   ],
   "source": [
    "x_train"
   ]
  },
  {
   "cell_type": "code",
   "execution_count": 133,
   "metadata": {},
   "outputs": [
    {
     "name": "stdout",
     "output_type": "stream",
     "text": [
      "id = 1651\n",
      "다음 그림은 숫자 3 입니다.\n"
     ]
    },
    {
     "data": {
      "image/png": "[encoded data removed]",
      "text/plain": [
       "<Figure size 432x288 with 1 Axes>"
      ]
     },
     "metadata": {
      "needs_background": "light"
     },
     "output_type": "display_data"
    }
   ],
   "source": [
    "id = rd.randrange(0,10000)\n",
    "# id = 0\n",
    "\n",
    "print(f'id = {id}')\n",
    "print(f'다음 그림은 숫자 {y_train[id]} 입니다.')\n",
    "\n",
    "plt.imshow(x_train[id])\n",
    "plt.show()\n",
    "\n",
    "# print(x_train[id])"
   ]
  },
  {
   "cell_type": "code",
   "execution_count": 134,
   "metadata": {},
   "outputs": [
    {
     "data": {
      "text/plain": [
       "(60000, 10000)"
      ]
     },
     "execution_count": 134,
     "metadata": {},
     "output_type": "execute_result"
    }
   ],
   "source": [
    "x_train.shape[0], x_val.shape[0]"
   ]
  },
  {
   "cell_type": "code",
   "execution_count": 135,
   "metadata": {},
   "outputs": [],
   "source": [
    "# 3차원 -> 2차원\n",
    "x_train = x_train.reshape([x_train.shape[0],-1])\n",
    "x_val = x_val.reshape([x_val.shape[0],-1])"
   ]
  },
  {
   "cell_type": "code",
   "execution_count": 136,
   "metadata": {},
   "outputs": [
    {
     "data": {
      "text/plain": [
       "((60000, 784), (10000, 784))"
      ]
     },
     "execution_count": 136,
     "metadata": {},
     "output_type": "execute_result"
    }
   ],
   "source": [
    "x_train.shape, x_val.shape"
   ]
  },
  {
   "cell_type": "code",
   "execution_count": 137,
   "metadata": {},
   "outputs": [
    {
     "name": "stdout",
     "output_type": "stream",
     "text": [
      "max : 255 / min : 0\n"
     ]
    }
   ],
   "source": [
    "print(f'max : {x_train.max()} / min : {x_train.min()}')"
   ]
  },
  {
   "cell_type": "code",
   "execution_count": 138,
   "metadata": {},
   "outputs": [
    {
     "data": {
      "text/plain": [
       "(255, 0)"
      ]
     },
     "execution_count": 138,
     "metadata": {},
     "output_type": "execute_result"
    }
   ],
   "source": [
    "max_n, min_n = x_train.max(), x_train.min()\n",
    "\n",
    "max_n, min_n"
   ]
  },
  {
   "cell_type": "code",
   "execution_count": 139,
   "metadata": {},
   "outputs": [
    {
     "data": {
      "text/plain": [
       "array([0.        , 0.        , 0.        , 0.        , 0.        ,\n",
       "       0.        , 0.        , 0.        , 0.        , 0.        ,\n",
       "       0.        , 0.        , 0.        , 0.        , 0.        ,\n",
       "       0.        , 0.        , 0.        , 0.        , 0.        ,\n",
       "       0.        , 0.        , 0.        , 0.        , 0.        ,\n",
       "       0.        , 0.        , 0.        , 0.        , 0.        ,\n",
       "       0.        , 0.        , 0.        , 0.        , 0.        ,\n",
       "       0.        , 0.        , 0.        , 0.        , 0.        ,\n",
       "       0.        , 0.        , 0.        , 0.        , 0.        ,\n",
       "       0.        , 0.        , 0.        , 0.        , 0.        ,\n",
       "       0.        , 0.        , 0.        , 0.        , 0.        ,\n",
       "       0.        , 0.        , 0.        , 0.        , 0.        ,\n",
       "       0.        , 0.        , 0.        , 0.        , 0.        ,\n",
       "       0.        , 0.        , 0.        , 0.        , 0.        ,\n",
       "       0.        , 0.        , 0.        , 0.        , 0.        ,\n",
       "       0.        , 0.        , 0.        , 0.        , 0.        ,\n",
       "       0.        , 0.        , 0.        , 0.        , 0.        ,\n",
       "       0.        , 0.        , 0.        , 0.        , 0.        ,\n",
       "       0.        , 0.        , 0.        , 0.        , 0.        ,\n",
       "       0.        , 0.        , 0.        , 0.        , 0.        ,\n",
       "       0.        , 0.        , 0.        , 0.        , 0.        ,\n",
       "       0.        , 0.        , 0.        , 0.        , 0.        ,\n",
       "       0.        , 0.        , 0.        , 0.        , 0.        ,\n",
       "       0.        , 0.        , 0.        , 0.        , 0.        ,\n",
       "       0.        , 0.        , 0.        , 0.        , 0.        ,\n",
       "       0.        , 0.        , 0.        , 0.        , 0.        ,\n",
       "       0.        , 0.        , 0.        , 0.        , 0.        ,\n",
       "       0.        , 0.        , 0.        , 0.        , 0.        ,\n",
       "       0.        , 0.        , 0.        , 0.        , 0.        ,\n",
       "       0.        , 0.        , 0.        , 0.        , 0.        ,\n",
       "       0.        , 0.        , 0.01176471, 0.07058824, 0.07058824,\n",
       "       0.07058824, 0.49411765, 0.53333333, 0.68627451, 0.10196078,\n",
       "       0.65098039, 1.        , 0.96862745, 0.49803922, 0.        ,\n",
       "       0.        , 0.        , 0.        , 0.        , 0.        ,\n",
       "       0.        , 0.        , 0.        , 0.        , 0.        ,\n",
       "       0.        , 0.11764706, 0.14117647, 0.36862745, 0.60392157,\n",
       "       0.66666667, 0.99215686, 0.99215686, 0.99215686, 0.99215686,\n",
       "       0.99215686, 0.88235294, 0.6745098 , 0.99215686, 0.94901961,\n",
       "       0.76470588, 0.25098039, 0.        , 0.        , 0.        ,\n",
       "       0.        , 0.        , 0.        , 0.        , 0.        ,\n",
       "       0.        , 0.        , 0.        , 0.19215686, 0.93333333,\n",
       "       0.99215686, 0.99215686, 0.99215686, 0.99215686, 0.99215686,\n",
       "       0.99215686, 0.99215686, 0.99215686, 0.98431373, 0.36470588,\n",
       "       0.32156863, 0.32156863, 0.21960784, 0.15294118, 0.        ,\n",
       "       0.        , 0.        , 0.        , 0.        , 0.        ,\n",
       "       0.        , 0.        , 0.        , 0.        , 0.        ,\n",
       "       0.        , 0.07058824, 0.85882353, 0.99215686, 0.99215686,\n",
       "       0.99215686, 0.99215686, 0.99215686, 0.77647059, 0.71372549,\n",
       "       0.96862745, 0.94509804, 0.        , 0.        , 0.        ,\n",
       "       0.        , 0.        , 0.        , 0.        , 0.        ,\n",
       "       0.        , 0.        , 0.        , 0.        , 0.        ,\n",
       "       0.        , 0.        , 0.        , 0.        , 0.        ,\n",
       "       0.31372549, 0.61176471, 0.41960784, 0.99215686, 0.99215686,\n",
       "       0.80392157, 0.04313725, 0.        , 0.16862745, 0.60392157,\n",
       "       0.        , 0.        , 0.        , 0.        , 0.        ,\n",
       "       0.        , 0.        , 0.        , 0.        , 0.        ,\n",
       "       0.        , 0.        , 0.        , 0.        , 0.        ,\n",
       "       0.        , 0.        , 0.        , 0.        , 0.05490196,\n",
       "       0.00392157, 0.60392157, 0.99215686, 0.35294118, 0.        ,\n",
       "       0.        , 0.        , 0.        , 0.        , 0.        ,\n",
       "       0.        , 0.        , 0.        , 0.        , 0.        ,\n",
       "       0.        , 0.        , 0.        , 0.        , 0.        ,\n",
       "       0.        , 0.        , 0.        , 0.        , 0.        ,\n",
       "       0.        , 0.        , 0.        , 0.        , 0.54509804,\n",
       "       0.99215686, 0.74509804, 0.00784314, 0.        , 0.        ,\n",
       "       0.        , 0.        , 0.        , 0.        , 0.        ,\n",
       "       0.        , 0.        , 0.        , 0.        , 0.        ,\n",
       "       0.        , 0.        , 0.        , 0.        , 0.        ,\n",
       "       0.        , 0.        , 0.        , 0.        , 0.        ,\n",
       "       0.        , 0.        , 0.04313725, 0.74509804, 0.99215686,\n",
       "       0.2745098 , 0.        , 0.        , 0.        , 0.        ,\n",
       "       0.        , 0.        , 0.        , 0.        , 0.        ,\n",
       "       0.        , 0.        , 0.        , 0.        , 0.        ,\n",
       "       0.        , 0.        , 0.        , 0.        , 0.        ,\n",
       "       0.        , 0.        , 0.        , 0.        , 0.        ,\n",
       "       0.        , 0.1372549 , 0.94509804, 0.88235294, 0.62745098,\n",
       "       0.42352941, 0.00392157, 0.        , 0.        , 0.        ,\n",
       "       0.        , 0.        , 0.        , 0.        , 0.        ,\n",
       "       0.        , 0.        , 0.        , 0.        , 0.        ,\n",
       "       0.        , 0.        , 0.        , 0.        , 0.        ,\n",
       "       0.        , 0.        , 0.        , 0.        , 0.        ,\n",
       "       0.31764706, 0.94117647, 0.99215686, 0.99215686, 0.46666667,\n",
       "       0.09803922, 0.        , 0.        , 0.        , 0.        ,\n",
       "       0.        , 0.        , 0.        , 0.        , 0.        ,\n",
       "       0.        , 0.        , 0.        , 0.        , 0.        ,\n",
       "       0.        , 0.        , 0.        , 0.        , 0.        ,\n",
       "       0.        , 0.        , 0.        , 0.        , 0.17647059,\n",
       "       0.72941176, 0.99215686, 0.99215686, 0.58823529, 0.10588235,\n",
       "       0.        , 0.        , 0.        , 0.        , 0.        ,\n",
       "       0.        , 0.        , 0.        , 0.        , 0.        ,\n",
       "       0.        , 0.        , 0.        , 0.        , 0.        ,\n",
       "       0.        , 0.        , 0.        , 0.        , 0.        ,\n",
       "       0.        , 0.        , 0.        , 0.0627451 , 0.36470588,\n",
       "       0.98823529, 0.99215686, 0.73333333, 0.        , 0.        ,\n",
       "       0.        , 0.        , 0.        , 0.        , 0.        ,\n",
       "       0.        , 0.        , 0.        , 0.        , 0.        ,\n",
       "       0.        , 0.        , 0.        , 0.        , 0.        ,\n",
       "       0.        , 0.        , 0.        , 0.        , 0.        ,\n",
       "       0.        , 0.        , 0.        , 0.97647059, 0.99215686,\n",
       "       0.97647059, 0.25098039, 0.        , 0.        , 0.        ,\n",
       "       0.        , 0.        , 0.        , 0.        , 0.        ,\n",
       "       0.        , 0.        , 0.        , 0.        , 0.        ,\n",
       "       0.        , 0.        , 0.        , 0.        , 0.        ,\n",
       "       0.        , 0.        , 0.        , 0.18039216, 0.50980392,\n",
       "       0.71764706, 0.99215686, 0.99215686, 0.81176471, 0.00784314,\n",
       "       0.        , 0.        , 0.        , 0.        , 0.        ,\n",
       "       0.        , 0.        , 0.        , 0.        , 0.        ,\n",
       "       0.        , 0.        , 0.        , 0.        , 0.        ,\n",
       "       0.        , 0.        , 0.        , 0.        , 0.15294118,\n",
       "       0.58039216, 0.89803922, 0.99215686, 0.99215686, 0.99215686,\n",
       "       0.98039216, 0.71372549, 0.        , 0.        , 0.        ,\n",
       "       0.        , 0.        , 0.        , 0.        , 0.        ,\n",
       "       0.        , 0.        , 0.        , 0.        , 0.        ,\n",
       "       0.        , 0.        , 0.        , 0.        , 0.        ,\n",
       "       0.09411765, 0.44705882, 0.86666667, 0.99215686, 0.99215686,\n",
       "       0.99215686, 0.99215686, 0.78823529, 0.30588235, 0.        ,\n",
       "       0.        , 0.        , 0.        , 0.        , 0.        ,\n",
       "       0.        , 0.        , 0.        , 0.        , 0.        ,\n",
       "       0.        , 0.        , 0.        , 0.        , 0.        ,\n",
       "       0.        , 0.09019608, 0.25882353, 0.83529412, 0.99215686,\n",
       "       0.99215686, 0.99215686, 0.99215686, 0.77647059, 0.31764706,\n",
       "       0.00784314, 0.        , 0.        , 0.        , 0.        ,\n",
       "       0.        , 0.        , 0.        , 0.        , 0.        ,\n",
       "       0.        , 0.        , 0.        , 0.        , 0.        ,\n",
       "       0.        , 0.        , 0.07058824, 0.67058824, 0.85882353,\n",
       "       0.99215686, 0.99215686, 0.99215686, 0.99215686, 0.76470588,\n",
       "       0.31372549, 0.03529412, 0.        , 0.        , 0.        ,\n",
       "       0.        , 0.        , 0.        , 0.        , 0.        ,\n",
       "       0.        , 0.        , 0.        , 0.        , 0.        ,\n",
       "       0.        , 0.        , 0.        , 0.21568627, 0.6745098 ,\n",
       "       0.88627451, 0.99215686, 0.99215686, 0.99215686, 0.99215686,\n",
       "       0.95686275, 0.52156863, 0.04313725, 0.        , 0.        ,\n",
       "       0.        , 0.        , 0.        , 0.        , 0.        ,\n",
       "       0.        , 0.        , 0.        , 0.        , 0.        ,\n",
       "       0.        , 0.        , 0.        , 0.        , 0.        ,\n",
       "       0.        , 0.53333333, 0.99215686, 0.99215686, 0.99215686,\n",
       "       0.83137255, 0.52941176, 0.51764706, 0.0627451 , 0.        ,\n",
       "       0.        , 0.        , 0.        , 0.        , 0.        ,\n",
       "       0.        , 0.        , 0.        , 0.        , 0.        ,\n",
       "       0.        , 0.        , 0.        , 0.        , 0.        ,\n",
       "       0.        , 0.        , 0.        , 0.        , 0.        ,\n",
       "       0.        , 0.        , 0.        , 0.        , 0.        ,\n",
       "       0.        , 0.        , 0.        , 0.        , 0.        ,\n",
       "       0.        , 0.        , 0.        , 0.        , 0.        ,\n",
       "       0.        , 0.        , 0.        , 0.        , 0.        ,\n",
       "       0.        , 0.        , 0.        , 0.        , 0.        ,\n",
       "       0.        , 0.        , 0.        , 0.        , 0.        ,\n",
       "       0.        , 0.        , 0.        , 0.        , 0.        ,\n",
       "       0.        , 0.        , 0.        , 0.        , 0.        ,\n",
       "       0.        , 0.        , 0.        , 0.        , 0.        ,\n",
       "       0.        , 0.        , 0.        , 0.        , 0.        ,\n",
       "       0.        , 0.        , 0.        , 0.        , 0.        ,\n",
       "       0.        , 0.        , 0.        , 0.        , 0.        ,\n",
       "       0.        , 0.        , 0.        , 0.        , 0.        ,\n",
       "       0.        , 0.        , 0.        , 0.        , 0.        ,\n",
       "       0.        , 0.        , 0.        , 0.        , 0.        ,\n",
       "       0.        , 0.        , 0.        , 0.        ])"
      ]
     },
     "execution_count": 139,
     "metadata": {},
     "output_type": "execute_result"
    }
   ],
   "source": [
    "(x_train[0] - min_n) / (max_n - min_n)"
   ]
  },
  {
   "cell_type": "code",
   "execution_count": 140,
   "metadata": {},
   "outputs": [],
   "source": [
    "x_train = (x_train - min_n) / (max_n - min_n)\n",
    "x_val = (x_val - min_n) / (max_n - min_n)"
   ]
  },
  {
   "cell_type": "code",
   "execution_count": 141,
   "metadata": {},
   "outputs": [],
   "source": [
    "from keras.utils import to_categorical"
   ]
  },
  {
   "cell_type": "code",
   "execution_count": 142,
   "metadata": {},
   "outputs": [
    {
     "data": {
      "text/plain": [
       "((60000, 10), (10000, 10))"
      ]
     },
     "execution_count": 142,
     "metadata": {},
     "output_type": "execute_result"
    }
   ],
   "source": [
    "# one-hot encoding\n",
    "y_train = to_categorical(y_train, 10)\n",
    "y_val = to_categorical(y_val, 10)\n",
    "\n",
    "y_train.shape, y_val.shape"
   ]
  },
  {
   "cell_type": "code",
   "execution_count": 143,
   "metadata": {},
   "outputs": [],
   "source": [
    "# ### Sequential API\n",
    "# # 1. 세션 클리어\n",
    "# keras.backend.clear_session()\n",
    "\n",
    "# # 2. 모델 선언 : Sequential()\n",
    "# model = keras.models.Sequential()\n",
    "\n",
    "# # 3. 레이어 조립 : .add()\n",
    "# model.add( keras.layers.Input(shape=(784,)) )\n",
    "# model.add(keras.layers.Dense(256, activation='relu') )\n",
    "# model.add(keras.layers.Dense(256, activation='relu') )\n",
    "# model.add(keras.layers.Dense(256, activation='relu') )\n",
    "# model.add( keras.layers.Dense(10, activation='softmax') )\n",
    "\n",
    "# # 4. 컴파일\n",
    "# model.compile(loss=keras.losses.categorical_crossentropy, metrics=['accuracy'],\n",
    "#               optimizer=keras.optimizers.Adam(0.01) )"
   ]
  },
  {
   "cell_type": "code",
   "execution_count": 144,
   "metadata": {},
   "outputs": [],
   "source": [
    "### Functional API\n",
    "# 1. 세션 클리어\n",
    "keras.backend.clear_session()\n",
    "\n",
    "# 2. 레이어 사슬처럼 엮기\n",
    "il = keras.layers.Input(shape=(784,))\n",
    "hl = keras.layers.Dense(256, activation='relu')\n",
    "hl = keras.layers.Dense(256, activation='relu')\n",
    "hl = keras.layers.Dense(256, activation='relu')\n",
    "ol = keras.layers.Dense(10, activation='softmax')(il)\n",
    "\n",
    "# 3. 모델의 시작과 끝 지정\n",
    "model = keras.models.Model(il, ol)\n",
    "\n",
    "# 4. 컴파일\n",
    "model.compile(loss=keras.losses.categorical_crossentropy, metrics=['accuracy'],\n",
    "              optimizer=keras.optimizers.Adam(0.01) )"
   ]
  },
  {
   "cell_type": "code",
   "execution_count": 145,
   "metadata": {},
   "outputs": [],
   "source": [
    "from keras.callbacks import EarlyStopping"
   ]
  },
  {
   "cell_type": "code",
   "execution_count": 146,
   "metadata": {},
   "outputs": [],
   "source": [
    "es = EarlyStopping(monitor='val_loss', # 관측 대상\n",
    "                   min_delta=0,        # 최소한 나빠지지 않으면 괜찮아\n",
    "                   patience=5,         # 성능 개선되지 않는 걸 얼마나 참을래?\n",
    "                   verbose=1,\n",
    "                   restore_best_weights=True # 학습이 멈췄을 때, 최적의 가중치로 전환해줌\n",
    "                   )"
   ]
  },
  {
   "cell_type": "code",
   "execution_count": 147,
   "metadata": {},
   "outputs": [
    {
     "name": "stdout",
     "output_type": "stream",
     "text": [
      "Epoch 1/50\n",
      "1500/1500 [==============================] - 10s 6ms/step - loss: 0.3795 - accuracy: 0.8926 - val_loss: 0.3292 - val_accuracy: 0.9122\n",
      "Epoch 2/50\n",
      "1500/1500 [==============================] - 9s 6ms/step - loss: 0.3348 - accuracy: 0.9095 - val_loss: 0.3781 - val_accuracy: 0.9008\n",
      "Epoch 3/50\n",
      "1500/1500 [==============================] - 8s 6ms/step - loss: 0.3346 - accuracy: 0.9116 - val_loss: 0.3517 - val_accuracy: 0.9083\n",
      "Epoch 4/50\n",
      "1500/1500 [==============================] - 8s 6ms/step - loss: 0.3284 - accuracy: 0.9112 - val_loss: 0.3233 - val_accuracy: 0.9187\n",
      "Epoch 5/50\n",
      "1500/1500 [==============================] - 8s 6ms/step - loss: 0.3232 - accuracy: 0.9139 - val_loss: 0.3339 - val_accuracy: 0.9168\n",
      "Epoch 6/50\n",
      "1500/1500 [==============================] - 9s 6ms/step - loss: 0.3241 - accuracy: 0.9144 - val_loss: 0.3580 - val_accuracy: 0.9054\n",
      "Epoch 7/50\n",
      "1500/1500 [==============================] - 9s 6ms/step - loss: 0.3233 - accuracy: 0.9141 - val_loss: 0.3427 - val_accuracy: 0.9190\n",
      "Epoch 8/50\n",
      "1500/1500 [==============================] - 9s 6ms/step - loss: 0.3138 - accuracy: 0.9176 - val_loss: 0.3506 - val_accuracy: 0.9128\n",
      "Epoch 9/50\n",
      "1499/1500 [============================>.] - ETA: 0s - loss: 0.3186 - accuracy: 0.9164Restoring model weights from the end of the best epoch: 4.\n",
      "1500/1500 [==============================] - 10s 7ms/step - loss: 0.3187 - accuracy: 0.9163 - val_loss: 0.3397 - val_accuracy: 0.9202\n",
      "Epoch 9: early stopping\n"
     ]
    },
    {
     "data": {
      "text/plain": [
       "<keras.callbacks.History at 0x2167dd0b730>"
      ]
     },
     "execution_count": 147,
     "metadata": {},
     "output_type": "execute_result"
    }
   ],
   "source": [
    "model.fit(x_train, y_train, epochs=50, verbose=1,\n",
    "          validation_split=0.2,    # Train data의 20%를 Validation data로!\n",
    "          callbacks=[es]           # Early Stopping 적용\n",
    "          )"
   ]
  },
  {
   "cell_type": "code",
   "execution_count": 148,
   "metadata": {},
   "outputs": [
    {
     "name": "stdout",
     "output_type": "stream",
     "text": [
      "1875/1875 [==============================] - 5s 3ms/step\n",
      "313/313 [==============================] - 1s 3ms/step\n"
     ]
    }
   ],
   "source": [
    "pred_train = model.predict(x_train)\n",
    "pred_val = model.predict(x_val)\n"
   ]
  },
  {
   "cell_type": "code",
   "execution_count": 149,
   "metadata": {},
   "outputs": [
    {
     "data": {
      "text/plain": [
       "((60000, 10), (10000, 10))"
      ]
     },
     "execution_count": 149,
     "metadata": {},
     "output_type": "execute_result"
    }
   ],
   "source": [
    "pred_train.shape, pred_val.shape"
   ]
  },
  {
   "cell_type": "code",
   "execution_count": 150,
   "metadata": {},
   "outputs": [
    {
     "data": {
      "text/plain": [
       "((60000,), (10000,))"
      ]
     },
     "execution_count": 150,
     "metadata": {},
     "output_type": "execute_result"
    }
   ],
   "source": [
    "single_pred_train = pred_train.argmax(axis=1)\n",
    "single_pred_val = pred_val.argmax(axis=1)\n",
    "single_pred_train.shape, single_pred_val.shape"
   ]
  },
  {
   "cell_type": "code",
   "execution_count": 151,
   "metadata": {},
   "outputs": [
    {
     "data": {
      "text/plain": [
       "array([7, 2, 1, ..., 4, 5, 6], dtype=int64)"
      ]
     },
     "execution_count": 151,
     "metadata": {},
     "output_type": "execute_result"
    }
   ],
   "source": [
    "y_val.argmax(axis=1)"
   ]
  },
  {
   "cell_type": "code",
   "execution_count": 152,
   "metadata": {},
   "outputs": [
    {
     "data": {
      "text/plain": [
       "0.9233"
      ]
     },
     "execution_count": 152,
     "metadata": {},
     "output_type": "execute_result"
    }
   ],
   "source": [
    "logi_train_accuracy = accuracy_score(y_train.argmax(axis=1), single_pred_train)\n",
    "logi_train_accuracy"
   ]
  },
  {
   "cell_type": "code",
   "execution_count": 153,
   "metadata": {},
   "outputs": [
    {
     "data": {
      "text/plain": [
       "0.9211"
      ]
     },
     "execution_count": 153,
     "metadata": {},
     "output_type": "execute_result"
    }
   ],
   "source": [
    "logi_test_accuracy = accuracy_score(y_val.argmax(axis=1), single_pred_val)\n",
    "logi_test_accuracy"
   ]
  },
  {
   "cell_type": "code",
   "execution_count": 154,
   "metadata": {},
   "outputs": [
    {
     "data": {
      "image/png": "[encoded data removed]",
      "text/plain": [
       "<Figure size 1440x720 with 15 Axes>"
      ]
     },
     "metadata": {
      "needs_background": "light"
     },
     "output_type": "display_data"
    }
   ],
   "source": [
    "mnist_labels = ['0', '1', '2', '3', '4', '5', '6', '7', '8', '9']\n",
    "\n",
    "figure = plt.figure(figsize=(20, 10))\n",
    "\n",
    "for i, index in enumerate(np.random.choice(x_val.shape[0], size=15, replace=False)):\n",
    "    ax = figure.add_subplot(3, 5, i + 1)\n",
    "    # Display each image\n",
    "    ax.imshow(x_val[index].reshape([28,-1]), cmap='gray' )\n",
    "    \n",
    "    predict_index = pred_val[index].argmax(axis=0)\n",
    "    true_index = y_val[index].argmax(axis=0)\n",
    "    # Set the title for each image\n",
    "    ax.set_title(f\"{mnist_labels[predict_index]} ({mnist_labels[true_index]})\",\n",
    "                 color=(\"green\" if predict_index == true_index else \"red\"))"
   ]
  },
  {
   "cell_type": "code",
   "execution_count": 155,
   "metadata": {},
   "outputs": [
    {
     "name": "stdout",
     "output_type": "stream",
     "text": [
      "313/313 [==============================] - 2s 5ms/step - loss: 0.3316 - accuracy: 0.9211\n"
     ]
    },
    {
     "data": {
      "text/plain": [
       "[0.3316243290901184, 0.9211000204086304]"
      ]
     },
     "execution_count": 155,
     "metadata": {},
     "output_type": "execute_result"
    }
   ],
   "source": [
    "model.evaluate(x_val, y_val)"
   ]
  },
  {
   "cell_type": "code",
   "execution_count": null,
   "metadata": {},
   "outputs": [],
   "source": []
  },
  {
   "cell_type": "markdown",
   "metadata": {},
   "source": [
    "### 참고) 3차원 array 스케일링"
   ]
  },
  {
   "cell_type": "code",
   "execution_count": 156,
   "metadata": {},
   "outputs": [],
   "source": [
    "import numpy as np"
   ]
  },
  {
   "cell_type": "code",
   "execution_count": 157,
   "metadata": {},
   "outputs": [],
   "source": [
    "n1 = np.array(\n",
    "    [\n",
    "        [\n",
    "                       [0, 0],\n",
    "                       [2,-1],\n",
    "                       [1, 0],\n",
    "                       [2, 2],\n",
    "        ],\n",
    "        [\n",
    "                       [1, 1],\n",
    "                       [3, 3],\n",
    "                       [2,-1],\n",
    "                       [1, 1],\n",
    "        ],\n",
    "        [\n",
    "                       [2, 2],\n",
    "                       [7,-1],\n",
    "                       [8, 1],\n",
    "                       [1, 0],\n",
    "        ]\n",
    "    ])"
   ]
  },
  {
   "cell_type": "code",
   "execution_count": 158,
   "metadata": {},
   "outputs": [],
   "source": [
    "num_sample   = n1.shape[0] # 3 (3개 샘플 데이터)\n",
    "num_sequence = n1.shape[1] # 4 (4개 시계열 데이터)\n",
    "num_feature  = n1.shape[2] # 2 (2개 Feature(미세먼지, 초미세먼지 증감))"
   ]
  },
  {
   "cell_type": "code",
   "execution_count": 159,
   "metadata": {},
   "outputs": [],
   "source": [
    "from sklearn.preprocessing import MinMaxScaler\n",
    "scaler = MinMaxScaler()"
   ]
  },
  {
   "cell_type": "code",
   "execution_count": 160,
   "metadata": {},
   "outputs": [
    {
     "name": "stdout",
     "output_type": "stream",
     "text": [
      "ss 0\n",
      "[[0 0]\n",
      " [1 1]\n",
      " [2 2]]\n",
      "\n",
      "ss 1\n",
      "[[ 2 -1]\n",
      " [ 3  3]\n",
      " [ 7 -1]]\n",
      "\n",
      "ss 2\n",
      "[[ 1  0]\n",
      " [ 2 -1]\n",
      " [ 8  1]]\n",
      "\n",
      "ss 3\n",
      "[[2 2]\n",
      " [1 1]\n",
      " [1 0]]\n",
      "\n"
     ]
    }
   ],
   "source": [
    "# 시계열을 선회하면서 피팅합니다\n",
    "for ss in range(num_sequence):\n",
    "    print('ss', ss)\n",
    "    print(n1[:, ss, :])\n",
    "    print()\n",
    "    scaler.partial_fit(n1[:, ss, :])"
   ]
  },
  {
   "cell_type": "code",
   "execution_count": 161,
   "metadata": {},
   "outputs": [
    {
     "name": "stdout",
     "output_type": "stream",
     "text": [
      "[array([[[0.   , 0.25 ]],\n",
      "\n",
      "       [[0.125, 0.5  ]],\n",
      "\n",
      "       [[0.25 , 0.75 ]]]), array([[[0.25 , 0.   ]],\n",
      "\n",
      "       [[0.375, 1.   ]],\n",
      "\n",
      "       [[0.875, 0.   ]]]), array([[[0.125, 0.25 ]],\n",
      "\n",
      "       [[0.25 , 0.   ]],\n",
      "\n",
      "       [[1.   , 0.5  ]]]), array([[[0.25 , 0.75 ]],\n",
      "\n",
      "       [[0.125, 0.5  ]],\n",
      "\n",
      "       [[0.125, 0.25 ]]])]\n",
      "\n",
      "[[[0.    0.25 ]\n",
      "  [0.25  0.   ]\n",
      "  [0.125 0.25 ]\n",
      "  [0.25  0.75 ]]\n",
      "\n",
      " [[0.125 0.5  ]\n",
      "  [0.375 1.   ]\n",
      "  [0.25  0.   ]\n",
      "  [0.125 0.5  ]]\n",
      "\n",
      " [[0.25  0.75 ]\n",
      "  [0.875 0.   ]\n",
      "  [1.    0.5  ]\n",
      "  [0.125 0.25 ]]]\n"
     ]
    }
   ],
   "source": [
    "# 스케일링(변환)합니다.\n",
    "results = []\n",
    "for ss in range(num_sequence):\n",
    "    results.append(scaler.transform(n1[:, ss, :]).reshape(num_sample, 1, num_feature))\n",
    "\n",
    "print(results)\n",
    "print()\n",
    "\n",
    "n1_scaled = np.concatenate(results, axis=1)\n",
    "print(n1_scaled)"
   ]
  },
  {
   "cell_type": "markdown",
   "metadata": {},
   "source": [
    "### 참고) tensorflow GPU"
   ]
  },
  {
   "cell_type": "markdown",
   "metadata": {},
   "source": [
    "* https://afsdzvcx123.tistory.com/entry/%EC%9D%B8%EA%B3%B5%EC%A7%80%EB%8A%A5-Windows%EC%9C%88%EB%8F%84%EC%9A%B0-CUDA-cuDNN-%EC%84%A4%EC%B9%98%EB%B0%A9%EB%B2%95\n",
    "* https://doitgrow.com/28"
   ]
  },
  {
   "cell_type": "code",
   "execution_count": 162,
   "metadata": {},
   "outputs": [
    {
     "name": "stdout",
     "output_type": "stream",
     "text": [
      "[name: \"/device:CPU:0\"\n",
      "device_type: \"CPU\"\n",
      "memory_limit: 268435456\n",
      "locality {\n",
      "}\n",
      "incarnation: 8382490936418313836\n",
      "xla_global_id: -1\n",
      ", name: \"/device:GPU:0\"\n",
      "device_type: \"GPU\"\n",
      "memory_limit: 2254700544\n",
      "locality {\n",
      "  bus_id: 1\n",
      "  links {\n",
      "  }\n",
      "}\n",
      "incarnation: 2544310863419836720\n",
      "physical_device_desc: \"device: 0, name: Quadro T1000 with Max-Q Design, pci bus id: 0000:01:00.0, compute capability: 7.5\"\n",
      "xla_global_id: 416903419\n",
      "]\n"
     ]
    }
   ],
   "source": [
    "# GPU 확인\n",
    "from tensorflow.python.client import device_lib\n",
    "print(device_lib.list_local_devices())"
   ]
  },
  {
   "cell_type": "code",
   "execution_count": 163,
   "metadata": {},
   "outputs": [],
   "source": [
    "# # gpu 사용\n",
    "# import os\n",
    "# os.environ[\"CUDA_VISIBLE_DEVICES\"] = \"0\""
   ]
  },
  {
   "cell_type": "code",
   "execution_count": 164,
   "metadata": {},
   "outputs": [],
   "source": [
    "# # cpu 사용\n",
    "# import os\n",
    "# os.environ[\"CUDA_VISIBLE_DEVICES\"] = \"-1\""
   ]
  },
  {
   "cell_type": "markdown",
   "metadata": {},
   "source": [
    "### ANN 한계"
   ]
  },
  {
   "cell_type": "code",
   "execution_count": 165,
   "metadata": {},
   "outputs": [],
   "source": [
    "(train_x, train_y), (test_x, test_y) = tf.keras.datasets.cifar10.load_data()"
   ]
  },
  {
   "cell_type": "code",
   "execution_count": 166,
   "metadata": {},
   "outputs": [
    {
     "name": "stdout",
     "output_type": "stream",
     "text": [
      "(50000, 32, 32, 3) (50000, 1) (10000, 32, 32, 3) (10000, 1)\n"
     ]
    }
   ],
   "source": [
    "print(train_x.shape, train_y.shape, test_x.shape, test_y.shape)"
   ]
  },
  {
   "cell_type": "code",
   "execution_count": 167,
   "metadata": {},
   "outputs": [
    {
     "name": "stdout",
     "output_type": "stream",
     "text": [
      "{0: 'Airplane', 1: 'Automobile', 2: 'Bird', 3: 'Cat', 4: 'Deer', 5: 'Dog', 6: 'Frog', 7: 'Horse', 8: 'Ship', 9: 'Truck'}\n"
     ]
    }
   ],
   "source": [
    "labels = { 0 : 'Airplane',\n",
    "          1 : 'Automobile',\n",
    "          2 : 'Bird',\n",
    "          3 : 'Cat',\n",
    "          4 : 'Deer',\n",
    "          5 : 'Dog',\n",
    "          6 : 'Frog',\n",
    "          7 : 'Horse',\n",
    "          8 : 'Ship',\n",
    "          9 : 'Truck' }\n",
    "\n",
    "print(labels)"
   ]
  },
  {
   "cell_type": "code",
   "execution_count": 168,
   "metadata": {},
   "outputs": [
    {
     "name": "stdout",
     "output_type": "stream",
     "text": [
      "id = 2785\n",
      "다음 그림은 Deer 입니다.\n"
     ]
    },
    {
     "data": {
      "image/png": "[encoded data removed]",
      "text/plain": [
       "<Figure size 432x288 with 1 Axes>"
      ]
     },
     "metadata": {
      "needs_background": "light"
     },
     "output_type": "display_data"
    }
   ],
   "source": [
    "id = rd.randrange(0,10000)\n",
    "\n",
    "print('id = {}'.format(id))\n",
    "print('다음 그림은 {} 입니다.'.format( labels[test_y[id][0]] ))\n",
    "plt.imshow(test_x[id])\n",
    "plt.show()"
   ]
  },
  {
   "cell_type": "code",
   "execution_count": 169,
   "metadata": {},
   "outputs": [],
   "source": [
    "max_n, min_n = train_x.max(), train_x.min()\n",
    "\n",
    "train_x = (train_x - min_n) / (max_n - min_n)\n",
    "test_x = (test_x - min_n) / (max_n - min_n)"
   ]
  },
  {
   "cell_type": "code",
   "execution_count": 170,
   "metadata": {},
   "outputs": [
    {
     "data": {
      "text/plain": [
       "((50000, 32, 32, 3), (10000, 32, 32, 3))"
      ]
     },
     "execution_count": 170,
     "metadata": {},
     "output_type": "execute_result"
    }
   ],
   "source": [
    "train_x.shape, test_x.shape"
   ]
  },
  {
   "cell_type": "code",
   "execution_count": 171,
   "metadata": {},
   "outputs": [
    {
     "data": {
      "text/plain": [
       "10"
      ]
     },
     "execution_count": 171,
     "metadata": {},
     "output_type": "execute_result"
    }
   ],
   "source": [
    "class_n = len(np.unique(train_y))\n",
    "class_n"
   ]
  },
  {
   "cell_type": "code",
   "execution_count": 172,
   "metadata": {},
   "outputs": [],
   "source": [
    "train_y = to_categorical(train_y, class_n)\n",
    "test_y = to_categorical(test_y, class_n)"
   ]
  },
  {
   "cell_type": "code",
   "execution_count": 173,
   "metadata": {},
   "outputs": [
    {
     "data": {
      "text/plain": [
       "((50000, 10), (10000, 10))"
      ]
     },
     "execution_count": 173,
     "metadata": {},
     "output_type": "execute_result"
    }
   ],
   "source": [
    "train_y.shape, test_y.shape"
   ]
  },
  {
   "cell_type": "code",
   "execution_count": 174,
   "metadata": {},
   "outputs": [
    {
     "name": "stdout",
     "output_type": "stream",
     "text": [
      "Model: \"model\"\n",
      "_________________________________________________________________\n",
      " Layer (type)                Output Shape              Param #   \n",
      "=================================================================\n",
      " input_1 (InputLayer)        [(None, 32, 32, 3)]       0         \n",
      "                                                                 \n",
      " flatten (Flatten)           (None, 3072)              0         \n",
      "                                                                 \n",
      " dense (Dense)               (None, 521)               1601033   \n",
      "                                                                 \n",
      " dense_1 (Dense)             (None, 521)               271962    \n",
      "                                                                 \n",
      " dense_2 (Dense)             (None, 128)               66816     \n",
      "                                                                 \n",
      " dense_3 (Dense)             (None, 10)                1290      \n",
      "                                                                 \n",
      "=================================================================\n",
      "Total params: 1,941,101\n",
      "Trainable params: 1,941,101\n",
      "Non-trainable params: 0\n",
      "_________________________________________________________________\n"
     ]
    }
   ],
   "source": [
    "keras.backend.clear_session()\n",
    "\n",
    "il = keras.layers.Input(shape=(32,32,3))\n",
    "fl = keras.layers.Flatten()(il)\n",
    "hl = keras.layers.Dense(521, activation='relu')(fl)\n",
    "hl = keras.layers.Dense(521, activation='relu')(hl)\n",
    "hl = keras.layers.Dense(128, activation='relu')(hl)\n",
    "ol = keras.layers.Dense(10, activation='softmax')(hl)\n",
    "\n",
    "model = keras.models.Model(il, ol)\n",
    "\n",
    "model.compile(loss=keras.losses.categorical_crossentropy, metrics=['accuracy'],\n",
    "              optimizer='adam')\n",
    "\n",
    "model.summary()"
   ]
  },
  {
   "cell_type": "code",
   "execution_count": 175,
   "metadata": {},
   "outputs": [],
   "source": [
    "call = keras.callbacks.EarlyStopping(verbose=1\n",
    "                                    , patience=5\n",
    "                                    , restore_best_weights=True)"
   ]
  },
  {
   "cell_type": "code",
   "execution_count": 176,
   "metadata": {},
   "outputs": [
    {
     "name": "stdout",
     "output_type": "stream",
     "text": [
      "Epoch 1/50\n",
      "1250/1250 [==============================] - 11s 8ms/step - loss: 1.8846 - accuracy: 0.3140 - val_loss: 1.8252 - val_accuracy: 0.3449\n",
      "Epoch 2/50\n",
      "1250/1250 [==============================] - 9s 7ms/step - loss: 1.6989 - accuracy: 0.3884 - val_loss: 1.7219 - val_accuracy: 0.3796\n",
      "Epoch 3/50\n",
      "1250/1250 [==============================] - 9s 7ms/step - loss: 1.6235 - accuracy: 0.4154 - val_loss: 1.6354 - val_accuracy: 0.4104\n",
      "Epoch 4/50\n",
      "1250/1250 [==============================] - 9s 7ms/step - loss: 1.5661 - accuracy: 0.4388 - val_loss: 1.6033 - val_accuracy: 0.4274\n",
      "Epoch 5/50\n",
      "1250/1250 [==============================] - 9s 7ms/step - loss: 1.5217 - accuracy: 0.4543 - val_loss: 1.5418 - val_accuracy: 0.4436\n",
      "Epoch 6/50\n",
      "1250/1250 [==============================] - 9s 7ms/step - loss: 1.4834 - accuracy: 0.4666 - val_loss: 1.5232 - val_accuracy: 0.4583\n",
      "Epoch 7/50\n",
      "1250/1250 [==============================] - 10s 8ms/step - loss: 1.4513 - accuracy: 0.4792 - val_loss: 1.6105 - val_accuracy: 0.4352\n",
      "Epoch 8/50\n",
      "1250/1250 [==============================] - 10s 8ms/step - loss: 1.4288 - accuracy: 0.4864 - val_loss: 1.5151 - val_accuracy: 0.4671\n",
      "Epoch 9/50\n",
      "1250/1250 [==============================] - 9s 8ms/step - loss: 1.3977 - accuracy: 0.4970 - val_loss: 1.5238 - val_accuracy: 0.4638\n",
      "Epoch 10/50\n",
      "1250/1250 [==============================] - 10s 8ms/step - loss: 1.3821 - accuracy: 0.5039 - val_loss: 1.5140 - val_accuracy: 0.4650\n",
      "Epoch 11/50\n",
      "1250/1250 [==============================] - 9s 8ms/step - loss: 1.3562 - accuracy: 0.5141 - val_loss: 1.4937 - val_accuracy: 0.4768\n",
      "Epoch 12/50\n",
      "1250/1250 [==============================] - 10s 8ms/step - loss: 1.3298 - accuracy: 0.5192 - val_loss: 1.5272 - val_accuracy: 0.4637\n",
      "Epoch 13/50\n",
      "1250/1250 [==============================] - 9s 8ms/step - loss: 1.3099 - accuracy: 0.5297 - val_loss: 1.4717 - val_accuracy: 0.4804\n",
      "Epoch 14/50\n",
      "1250/1250 [==============================] - 9s 8ms/step - loss: 1.2893 - accuracy: 0.5354 - val_loss: 1.4681 - val_accuracy: 0.4844\n",
      "Epoch 15/50\n",
      "1250/1250 [==============================] - 10s 8ms/step - loss: 1.2670 - accuracy: 0.5434 - val_loss: 1.4631 - val_accuracy: 0.4902\n",
      "Epoch 16/50\n",
      "1250/1250 [==============================] - 10s 8ms/step - loss: 1.2523 - accuracy: 0.5481 - val_loss: 1.5155 - val_accuracy: 0.4793\n",
      "Epoch 17/50\n",
      "1250/1250 [==============================] - 10s 8ms/step - loss: 1.2292 - accuracy: 0.5582 - val_loss: 1.5100 - val_accuracy: 0.4786\n",
      "Epoch 18/50\n",
      "1250/1250 [==============================] - 10s 8ms/step - loss: 1.2091 - accuracy: 0.5615 - val_loss: 1.5140 - val_accuracy: 0.4855\n",
      "Epoch 19/50\n",
      "1250/1250 [==============================] - 9s 8ms/step - loss: 1.1927 - accuracy: 0.5671 - val_loss: 1.5272 - val_accuracy: 0.4781\n",
      "Epoch 20/50\n",
      "1244/1250 [============================>.] - ETA: 0s - loss: 1.1715 - accuracy: 0.5762Restoring model weights from the end of the best epoch: 15.\n",
      "1250/1250 [==============================] - 10s 8ms/step - loss: 1.1712 - accuracy: 0.5764 - val_loss: 1.5491 - val_accuracy: 0.4783\n",
      "Epoch 20: early stopping\n"
     ]
    }
   ],
   "source": [
    "history = model.fit(train_x, train_y, validation_split=0.2, callbacks=[call],\n",
    "                    epochs=50, verbose=1)"
   ]
  },
  {
   "cell_type": "code",
   "execution_count": 178,
   "metadata": {},
   "outputs": [
    {
     "name": "stdout",
     "output_type": "stream",
     "text": [
      "313/313 [==============================] - 2s 7ms/step - loss: 1.4435 - accuracy: 0.4904\n",
      "Test Loss : 1.443493,  Test Accuracy : 49.040%\n"
     ]
    }
   ],
   "source": [
    "performance_test = model.evaluate(test_x, test_y)\n",
    "\n",
    "print('Test Loss : {:.6f},  Test Accuracy : {:.3f}%'.format(performance_test[0], performance_test[1]*100))"
   ]
  },
  {
   "cell_type": "code",
   "execution_count": 185,
   "metadata": {},
   "outputs": [
    {
     "data": {
      "text/plain": [
       "dict_keys(['loss', 'accuracy', 'val_loss', 'val_accuracy'])"
      ]
     },
     "execution_count": 185,
     "metadata": {},
     "output_type": "execute_result"
    }
   ],
   "source": [
    "if not isinstance(history, dict):\n",
    "    history = history.history\n",
    "history.keys()"
   ]
  },
  {
   "cell_type": "code",
   "execution_count": 188,
   "metadata": {},
   "outputs": [
    {
     "data": {
      "image/png": "[encoded data removed]",
      "text/plain": [
       "<Figure size 432x288 with 1 Axes>"
      ]
     },
     "metadata": {
      "needs_background": "light"
     },
     "output_type": "display_data"
    }
   ],
   "source": [
    "plt.plot(history['loss'])\n",
    "plt.plot(history['accuracy'])\n",
    "plt.plot(history['val_loss'])\n",
    "plt.plot(history['val_accuracy'])\n",
    "\n",
    "plt.title('Training vs Validation')\n",
    "plt.xlabel('Epoch')\n",
    "plt.legend(history.keys(), loc=0)\n",
    "plt.show()"
   ]
  },
  {
   "cell_type": "code",
   "execution_count": 189,
   "metadata": {},
   "outputs": [
    {
     "name": "stdout",
     "output_type": "stream",
     "text": [
      "1563/1563 [==============================] - 5s 3ms/step\n",
      "313/313 [==============================] - 1s 4ms/step\n",
      "트레이닝 정확도 : 56.08%\n",
      "테스트 정확도 : 49.04%\n"
     ]
    }
   ],
   "source": [
    "pred_train = model.predict(train_x)\n",
    "pred_test = model.predict(test_x)\n",
    "\n",
    "single_pred_train = pred_train.argmax(axis=1)\n",
    "single_pred_test = pred_test.argmax(axis=1)\n",
    "\n",
    "logi_train_accuracy = accuracy_score(train_y.argmax(axis=1), single_pred_train)\n",
    "logi_test_accuracy = accuracy_score(test_y.argmax(axis=1), single_pred_test)\n",
    "\n",
    "\n",
    "print('트레이닝 정확도 : {:.2f}%'.format(logi_train_accuracy*100))\n",
    "print('테스트 정확도 : {:.2f}%'.format(logi_test_accuracy*100))"
   ]
  },
  {
   "cell_type": "code",
   "execution_count": 190,
   "metadata": {},
   "outputs": [
    {
     "name": "stdout",
     "output_type": "stream",
     "text": [
      "id = 1329\n",
      "다음 그림은 Dog 입니다.\n",
      "모델의 예측 : Bird\n",
      "모델의 카테고리별 확률 : \n",
      "{'Airplane': 4.0, 'Automobile': 0.0, 'Bird': 28.0, 'Cat': 9.0, 'Deer': 15.0, 'Dog': 14.0, 'Frog': 16.0, 'Horse': 10.0, 'Ship': 0.0, 'Truck': 1.0}\n",
      "틀렸어요\n"
     ]
    },
    {
     "data": {
      "image/png": "[encoded data removed]",
      "text/plain": [
       "<Figure size 432x288 with 1 Axes>"
      ]
     },
     "metadata": {
      "needs_background": "light"
     },
     "output_type": "display_data"
    }
   ],
   "source": [
    "id = rd.randrange(0,10000)\n",
    "\n",
    "print('id = {}'.format(id))\n",
    "print('다음 그림은 {} 입니다.'.format(labels[test_y.argmax(axis=1)[id]] ))\n",
    "print('모델의 예측 : {}'.format(labels[single_pred_test[id]] ))\n",
    "\n",
    "prob = np.floor(pred_test[id]*100).tolist()\n",
    "prob_dict = {}\n",
    "\n",
    "for idx, prob in enumerate(prob) :\n",
    "    prob_dict[ labels[idx] ] = prob\n",
    "\n",
    "print('모델의 카테고리별 확률 : ')\n",
    "print(prob_dict)\n",
    "\n",
    "if test_y.argmax(axis=1)[id] == single_pred_test[id] :\n",
    "    print('정답입니다')\n",
    "else : \n",
    "    print('틀렸어요')\n",
    "    \n",
    "plt.imshow(test_x[id].reshape([32,32,-1]))\n",
    "plt.show()"
   ]
  },
  {
   "cell_type": "markdown",
   "metadata": {},
   "source": [
    "### Multi Input Layer"
   ]
  },
  {
   "cell_type": "code",
   "execution_count": 191,
   "metadata": {},
   "outputs": [],
   "source": [
    "from sklearn.datasets import load_iris"
   ]
  },
  {
   "cell_type": "code",
   "execution_count": 192,
   "metadata": {},
   "outputs": [],
   "source": [
    "iris = load_iris()\n",
    "\n",
    "x = iris.data\n",
    "y = iris.target"
   ]
  },
  {
   "cell_type": "code",
   "execution_count": 193,
   "metadata": {},
   "outputs": [
    {
     "data": {
      "text/html": [
       "<div>\n",
       "<style scoped>\n",
       "    .dataframe tbody tr th:only-of-type {\n",
       "        vertical-align: middle;\n",
       "    }\n",
       "\n",
       "    .dataframe tbody tr th {\n",
       "        vertical-align: top;\n",
       "    }\n",
       "\n",
       "    .dataframe thead th {\n",
       "        text-align: right;\n",
       "    }\n",
       "</style>\n",
       "<table border=\"1\" class=\"dataframe\">\n",
       "  <thead>\n",
       "    <tr style=\"text-align: right;\">\n",
       "      <th></th>\n",
       "      <th>sepal length (cm)</th>\n",
       "      <th>sepal width (cm)</th>\n",
       "      <th>petal length (cm)</th>\n",
       "      <th>petal width (cm)</th>\n",
       "    </tr>\n",
       "  </thead>\n",
       "  <tbody>\n",
       "    <tr>\n",
       "      <th>0</th>\n",
       "      <td>5.1</td>\n",
       "      <td>3.5</td>\n",
       "      <td>1.4</td>\n",
       "      <td>0.2</td>\n",
       "    </tr>\n",
       "    <tr>\n",
       "      <th>1</th>\n",
       "      <td>4.9</td>\n",
       "      <td>3.0</td>\n",
       "      <td>1.4</td>\n",
       "      <td>0.2</td>\n",
       "    </tr>\n",
       "    <tr>\n",
       "      <th>2</th>\n",
       "      <td>4.7</td>\n",
       "      <td>3.2</td>\n",
       "      <td>1.3</td>\n",
       "      <td>0.2</td>\n",
       "    </tr>\n",
       "    <tr>\n",
       "      <th>3</th>\n",
       "      <td>4.6</td>\n",
       "      <td>3.1</td>\n",
       "      <td>1.5</td>\n",
       "      <td>0.2</td>\n",
       "    </tr>\n",
       "    <tr>\n",
       "      <th>4</th>\n",
       "      <td>5.0</td>\n",
       "      <td>3.6</td>\n",
       "      <td>1.4</td>\n",
       "      <td>0.2</td>\n",
       "    </tr>\n",
       "    <tr>\n",
       "      <th>...</th>\n",
       "      <td>...</td>\n",
       "      <td>...</td>\n",
       "      <td>...</td>\n",
       "      <td>...</td>\n",
       "    </tr>\n",
       "    <tr>\n",
       "      <th>145</th>\n",
       "      <td>6.7</td>\n",
       "      <td>3.0</td>\n",
       "      <td>5.2</td>\n",
       "      <td>2.3</td>\n",
       "    </tr>\n",
       "    <tr>\n",
       "      <th>146</th>\n",
       "      <td>6.3</td>\n",
       "      <td>2.5</td>\n",
       "      <td>5.0</td>\n",
       "      <td>1.9</td>\n",
       "    </tr>\n",
       "    <tr>\n",
       "      <th>147</th>\n",
       "      <td>6.5</td>\n",
       "      <td>3.0</td>\n",
       "      <td>5.2</td>\n",
       "      <td>2.0</td>\n",
       "    </tr>\n",
       "    <tr>\n",
       "      <th>148</th>\n",
       "      <td>6.2</td>\n",
       "      <td>3.4</td>\n",
       "      <td>5.4</td>\n",
       "      <td>2.3</td>\n",
       "    </tr>\n",
       "    <tr>\n",
       "      <th>149</th>\n",
       "      <td>5.9</td>\n",
       "      <td>3.0</td>\n",
       "      <td>5.1</td>\n",
       "      <td>1.8</td>\n",
       "    </tr>\n",
       "  </tbody>\n",
       "</table>\n",
       "<p>150 rows × 4 columns</p>\n",
       "</div>"
      ],
      "text/plain": [
       "     sepal length (cm)  sepal width (cm)  petal length (cm)  petal width (cm)\n",
       "0                  5.1               3.5                1.4               0.2\n",
       "1                  4.9               3.0                1.4               0.2\n",
       "2                  4.7               3.2                1.3               0.2\n",
       "3                  4.6               3.1                1.5               0.2\n",
       "4                  5.0               3.6                1.4               0.2\n",
       "..                 ...               ...                ...               ...\n",
       "145                6.7               3.0                5.2               2.3\n",
       "146                6.3               2.5                5.0               1.9\n",
       "147                6.5               3.0                5.2               2.0\n",
       "148                6.2               3.4                5.4               2.3\n",
       "149                5.9               3.0                5.1               1.8\n",
       "\n",
       "[150 rows x 4 columns]"
      ]
     },
     "execution_count": 193,
     "metadata": {},
     "output_type": "execute_result"
    }
   ],
   "source": [
    "x = pd.DataFrame(x, columns=iris.feature_names)\n",
    "x"
   ]
  },
  {
   "cell_type": "code",
   "execution_count": 194,
   "metadata": {},
   "outputs": [],
   "source": [
    "from sklearn.model_selection import train_test_split"
   ]
  },
  {
   "cell_type": "code",
   "execution_count": 195,
   "metadata": {},
   "outputs": [],
   "source": [
    "x_train, x_val, y_train, y_val = train_test_split(x, y, test_size=.1)"
   ]
  },
  {
   "cell_type": "code",
   "execution_count": 197,
   "metadata": {},
   "outputs": [
    {
     "data": {
      "text/plain": [
       "((135, 4), (15, 4), (135,), (15,))"
      ]
     },
     "execution_count": 197,
     "metadata": {},
     "output_type": "execute_result"
    }
   ],
   "source": [
    "x_train.shape, x_val.shape, y_train.shape, y_val.shape"
   ]
  },
  {
   "cell_type": "code",
   "execution_count": 198,
   "metadata": {},
   "outputs": [],
   "source": [
    "x_train_l = x_train[['sepal length (cm)', 'petal length (cm)']]\n",
    "x_train_w = x_train[['sepal width (cm)', 'petal width (cm)']]"
   ]
  },
  {
   "cell_type": "code",
   "execution_count": 220,
   "metadata": {},
   "outputs": [],
   "source": [
    "x_val_l = x_val[['sepal length (cm)', 'petal length (cm)']]\n",
    "x_val_w = x_val[['sepal width (cm)', 'petal width (cm)']]"
   ]
  },
  {
   "cell_type": "code",
   "execution_count": 203,
   "metadata": {},
   "outputs": [
    {
     "data": {
      "text/plain": [
       "3"
      ]
     },
     "execution_count": 203,
     "metadata": {},
     "output_type": "execute_result"
    }
   ],
   "source": [
    "len_y = len(set(y))\n",
    "len_y"
   ]
  },
  {
   "cell_type": "code",
   "execution_count": 204,
   "metadata": {},
   "outputs": [],
   "source": [
    "y_train = to_categorical(y_train, len_y)\n",
    "y_val = to_categorical(y_val, len_y)"
   ]
  },
  {
   "cell_type": "code",
   "execution_count": 205,
   "metadata": {},
   "outputs": [
    {
     "data": {
      "text/plain": [
       "((135, 4), (15, 4), (135, 3), (15, 3))"
      ]
     },
     "execution_count": 205,
     "metadata": {},
     "output_type": "execute_result"
    }
   ],
   "source": [
    "x_train.shape, x_val.shape, y_train.shape, y_val.shape"
   ]
  },
  {
   "cell_type": "code",
   "execution_count": 215,
   "metadata": {},
   "outputs": [
    {
     "name": "stdout",
     "output_type": "stream",
     "text": [
      "Model: \"model\"\n",
      "__________________________________________________________________________________________________\n",
      " Layer (type)                   Output Shape         Param #     Connected to                     \n",
      "==================================================================================================\n",
      " input_1 (InputLayer)           [(None, 2)]          0           []                               \n",
      "                                                                                                  \n",
      " input_2 (InputLayer)           [(None, 2)]          0           []                               \n",
      "                                                                                                  \n",
      " dense (Dense)                  (None, 2)            6           ['input_1[0][0]']                \n",
      "                                                                                                  \n",
      " dense_1 (Dense)                (None, 2)            6           ['input_2[0][0]']                \n",
      "                                                                                                  \n",
      " concatenate (Concatenate)      (None, 4)            0           ['dense[0][0]',                  \n",
      "                                                                  'dense_1[0][0]']                \n",
      "                                                                                                  \n",
      " dense_2 (Dense)                (None, 3)            15          ['concatenate[0][0]']            \n",
      "                                                                                                  \n",
      "==================================================================================================\n",
      "Total params: 27\n",
      "Trainable params: 27\n",
      "Non-trainable params: 0\n",
      "__________________________________________________________________________________________________\n"
     ]
    }
   ],
   "source": [
    "keras.backend.clear_session()\n",
    "\n",
    "il_l = keras.layers.Input(shape=(2,))\n",
    "hl_l = keras.layers.Dense(2, activation='relu')(il_l)\n",
    "\n",
    "il_w = keras.layers.Input(shape=(2,))\n",
    "hl_w = keras.layers.Dense(2, activation='relu')(il_w)\n",
    "\n",
    "# 2개의 Input 연결\n",
    "cl = keras.layers.Concatenate()([hl_l, hl_w])\n",
    "ol = keras.layers.Dense(3, activation='softmax')(cl)\n",
    "\n",
    "model = keras.models.Model([il_l, il_w], ol)\n",
    "\n",
    "model.compile(loss=keras.losses.categorical_crossentropy, metrics=['accuracy'],\n",
    "              optimizer='adam')\n",
    "\n",
    "model.summary()"
   ]
  },
  {
   "cell_type": "code",
   "execution_count": 216,
   "metadata": {},
   "outputs": [],
   "source": [
    "from tensorflow.keras.utils import plot_model"
   ]
  },
  {
   "cell_type": "code",
   "execution_count": 217,
   "metadata": {},
   "outputs": [
    {
     "name": "stdout",
     "output_type": "stream",
     "text": [
      "You must install pydot (`pip install pydot`) and install graphviz (see instructions at https://graphviz.gitlab.io/download/) for plot_model to work.\n"
     ]
    }
   ],
   "source": [
    "plot_model(model, show_shapes=True)"
   ]
  },
  {
   "cell_type": "code",
   "execution_count": 218,
   "metadata": {},
   "outputs": [],
   "source": [
    "es = keras.callbacks.EarlyStopping(patience=5,\n",
    "                                    verbose=1,\n",
    "                                    restore_best_weights=True)"
   ]
  },
  {
   "cell_type": "code",
   "execution_count": 219,
   "metadata": {},
   "outputs": [
    {
     "name": "stdout",
     "output_type": "stream",
     "text": [
      "Epoch 1/1000\n",
      "4/4 [==============================] - 1s 161ms/step - loss: 1.6106 - accuracy: 0.3636 - val_loss: 1.4019 - val_accuracy: 0.2857\n",
      "Epoch 2/1000\n",
      "4/4 [==============================] - 0s 30ms/step - loss: 1.5741 - accuracy: 0.3636 - val_loss: 1.3763 - val_accuracy: 0.2857\n",
      "Epoch 3/1000\n",
      "4/4 [==============================] - 0s 28ms/step - loss: 1.5377 - accuracy: 0.3636 - val_loss: 1.3506 - val_accuracy: 0.2857\n",
      "Epoch 4/1000\n",
      "4/4 [==============================] - 0s 30ms/step - loss: 1.5050 - accuracy: 0.3636 - val_loss: 1.3263 - val_accuracy: 0.2857\n",
      "Epoch 5/1000\n",
      "4/4 [==============================] - 0s 30ms/step - loss: 1.4752 - accuracy: 0.3636 - val_loss: 1.3050 - val_accuracy: 0.2857\n",
      "Epoch 6/1000\n",
      "4/4 [==============================] - 0s 30ms/step - loss: 1.4447 - accuracy: 0.3636 - val_loss: 1.2868 - val_accuracy: 0.2857\n",
      "Epoch 7/1000\n",
      "4/4 [==============================] - 0s 28ms/step - loss: 1.4173 - accuracy: 0.3636 - val_loss: 1.2688 - val_accuracy: 0.2857\n",
      "Epoch 8/1000\n",
      "4/4 [==============================] - 0s 29ms/step - loss: 1.3924 - accuracy: 0.3636 - val_loss: 1.2530 - val_accuracy: 0.2857\n",
      "Epoch 9/1000\n",
      "4/4 [==============================] - 0s 30ms/step - loss: 1.3679 - accuracy: 0.3636 - val_loss: 1.2382 - val_accuracy: 0.2857\n",
      "Epoch 10/1000\n",
      "4/4 [==============================] - 0s 30ms/step - loss: 1.3461 - accuracy: 0.3636 - val_loss: 1.2250 - val_accuracy: 0.2857\n",
      "Epoch 11/1000\n",
      "4/4 [==============================] - 0s 28ms/step - loss: 1.3224 - accuracy: 0.3636 - val_loss: 1.2116 - val_accuracy: 0.2857\n",
      "Epoch 12/1000\n",
      "4/4 [==============================] - 0s 31ms/step - loss: 1.3030 - accuracy: 0.3636 - val_loss: 1.2003 - val_accuracy: 0.2857\n",
      "Epoch 13/1000\n",
      "4/4 [==============================] - 0s 30ms/step - loss: 1.2810 - accuracy: 0.3636 - val_loss: 1.1893 - val_accuracy: 0.2857\n",
      "Epoch 14/1000\n",
      "4/4 [==============================] - 0s 29ms/step - loss: 1.2627 - accuracy: 0.3636 - val_loss: 1.1793 - val_accuracy: 0.2857\n",
      "Epoch 15/1000\n",
      "4/4 [==============================] - 0s 30ms/step - loss: 1.2457 - accuracy: 0.3636 - val_loss: 1.1705 - val_accuracy: 0.2857\n",
      "Epoch 16/1000\n",
      "4/4 [==============================] - 0s 29ms/step - loss: 1.2272 - accuracy: 0.3636 - val_loss: 1.1629 - val_accuracy: 0.2857\n",
      "Epoch 17/1000\n",
      "4/4 [==============================] - 0s 29ms/step - loss: 1.2128 - accuracy: 0.3636 - val_loss: 1.1552 - val_accuracy: 0.2857\n",
      "Epoch 18/1000\n",
      "4/4 [==============================] - 0s 32ms/step - loss: 1.1975 - accuracy: 0.3636 - val_loss: 1.1485 - val_accuracy: 0.2857\n",
      "Epoch 19/1000\n",
      "4/4 [==============================] - 0s 29ms/step - loss: 1.1830 - accuracy: 0.3636 - val_loss: 1.1435 - val_accuracy: 0.2857\n",
      "Epoch 20/1000\n",
      "4/4 [==============================] - 0s 29ms/step - loss: 1.1702 - accuracy: 0.3636 - val_loss: 1.1397 - val_accuracy: 0.2857\n",
      "Epoch 21/1000\n",
      "4/4 [==============================] - 0s 29ms/step - loss: 1.1587 - accuracy: 0.3636 - val_loss: 1.1359 - val_accuracy: 0.2857\n",
      "Epoch 22/1000\n",
      "4/4 [==============================] - 0s 29ms/step - loss: 1.1478 - accuracy: 0.3636 - val_loss: 1.1334 - val_accuracy: 0.2857\n",
      "Epoch 23/1000\n",
      "4/4 [==============================] - 0s 32ms/step - loss: 1.1387 - accuracy: 0.3636 - val_loss: 1.1305 - val_accuracy: 0.2857\n",
      "Epoch 24/1000\n",
      "4/4 [==============================] - 0s 31ms/step - loss: 1.1309 - accuracy: 0.3636 - val_loss: 1.1279 - val_accuracy: 0.2857\n",
      "Epoch 25/1000\n",
      "4/4 [==============================] - 0s 31ms/step - loss: 1.1228 - accuracy: 0.3636 - val_loss: 1.1263 - val_accuracy: 0.2857\n",
      "Epoch 26/1000\n",
      "4/4 [==============================] - 0s 31ms/step - loss: 1.1151 - accuracy: 0.3636 - val_loss: 1.1247 - val_accuracy: 0.2857\n",
      "Epoch 27/1000\n",
      "4/4 [==============================] - 0s 32ms/step - loss: 1.1089 - accuracy: 0.3719 - val_loss: 1.1231 - val_accuracy: 0.2857\n",
      "Epoch 28/1000\n",
      "4/4 [==============================] - 0s 31ms/step - loss: 1.1041 - accuracy: 0.3884 - val_loss: 1.1228 - val_accuracy: 0.3571\n",
      "Epoch 29/1000\n",
      "4/4 [==============================] - 0s 29ms/step - loss: 1.1007 - accuracy: 0.4132 - val_loss: 1.1232 - val_accuracy: 0.2857\n",
      "Epoch 30/1000\n",
      "4/4 [==============================] - 0s 31ms/step - loss: 1.0950 - accuracy: 0.4380 - val_loss: 1.1220 - val_accuracy: 0.2857\n",
      "Epoch 31/1000\n",
      "4/4 [==============================] - 0s 31ms/step - loss: 1.0924 - accuracy: 0.4545 - val_loss: 1.1214 - val_accuracy: 0.2857\n",
      "Epoch 32/1000\n",
      "4/4 [==============================] - 0s 30ms/step - loss: 1.0882 - accuracy: 0.4711 - val_loss: 1.1215 - val_accuracy: 0.2857\n",
      "Epoch 33/1000\n",
      "4/4 [==============================] - 0s 30ms/step - loss: 1.0865 - accuracy: 0.5041 - val_loss: 1.1205 - val_accuracy: 0.2857\n",
      "Epoch 34/1000\n",
      "4/4 [==============================] - 0s 31ms/step - loss: 1.0839 - accuracy: 0.5372 - val_loss: 1.1203 - val_accuracy: 0.2857\n",
      "Epoch 35/1000\n",
      "4/4 [==============================] - 0s 31ms/step - loss: 1.0810 - accuracy: 0.5455 - val_loss: 1.1199 - val_accuracy: 0.2857\n",
      "Epoch 36/1000\n",
      "4/4 [==============================] - 0s 30ms/step - loss: 1.0793 - accuracy: 0.5785 - val_loss: 1.1191 - val_accuracy: 0.3571\n",
      "Epoch 37/1000\n",
      "4/4 [==============================] - 0s 30ms/step - loss: 1.0774 - accuracy: 0.6033 - val_loss: 1.1183 - val_accuracy: 0.3571\n",
      "Epoch 38/1000\n",
      "4/4 [==============================] - 0s 31ms/step - loss: 1.0757 - accuracy: 0.6198 - val_loss: 1.1175 - val_accuracy: 0.3571\n",
      "Epoch 39/1000\n",
      "4/4 [==============================] - 0s 33ms/step - loss: 1.0743 - accuracy: 0.6198 - val_loss: 1.1154 - val_accuracy: 0.3571\n",
      "Epoch 40/1000\n",
      "4/4 [==============================] - 0s 29ms/step - loss: 1.0731 - accuracy: 0.5950 - val_loss: 1.1136 - val_accuracy: 0.4286\n",
      "Epoch 41/1000\n",
      "4/4 [==============================] - 0s 31ms/step - loss: 1.0713 - accuracy: 0.6116 - val_loss: 1.1134 - val_accuracy: 0.4286\n",
      "Epoch 42/1000\n",
      "4/4 [==============================] - 0s 30ms/step - loss: 1.0699 - accuracy: 0.6033 - val_loss: 1.1129 - val_accuracy: 0.4286\n",
      "Epoch 43/1000\n",
      "4/4 [==============================] - 0s 36ms/step - loss: 1.0690 - accuracy: 0.5537 - val_loss: 1.1108 - val_accuracy: 0.2857\n",
      "Epoch 44/1000\n",
      "4/4 [==============================] - 0s 32ms/step - loss: 1.0677 - accuracy: 0.4463 - val_loss: 1.1112 - val_accuracy: 0.2143\n",
      "Epoch 45/1000\n",
      "4/4 [==============================] - 0s 32ms/step - loss: 1.0661 - accuracy: 0.4132 - val_loss: 1.1108 - val_accuracy: 0.2143\n",
      "Epoch 46/1000\n",
      "4/4 [==============================] - 0s 34ms/step - loss: 1.0648 - accuracy: 0.4050 - val_loss: 1.1097 - val_accuracy: 0.2143\n",
      "Epoch 47/1000\n",
      "4/4 [==============================] - 0s 37ms/step - loss: 1.0636 - accuracy: 0.3719 - val_loss: 1.1084 - val_accuracy: 0.2143\n",
      "Epoch 48/1000\n",
      "4/4 [==============================] - 0s 28ms/step - loss: 1.0623 - accuracy: 0.3388 - val_loss: 1.1085 - val_accuracy: 0.2143\n",
      "Epoch 49/1000\n",
      "4/4 [==============================] - 0s 31ms/step - loss: 1.0610 - accuracy: 0.3967 - val_loss: 1.1074 - val_accuracy: 0.2143\n",
      "Epoch 50/1000\n",
      "4/4 [==============================] - 0s 31ms/step - loss: 1.0598 - accuracy: 0.3636 - val_loss: 1.1061 - val_accuracy: 0.2143\n",
      "Epoch 51/1000\n",
      "4/4 [==============================] - 0s 31ms/step - loss: 1.0586 - accuracy: 0.3554 - val_loss: 1.1060 - val_accuracy: 0.2143\n",
      "Epoch 52/1000\n",
      "4/4 [==============================] - 0s 31ms/step - loss: 1.0571 - accuracy: 0.3554 - val_loss: 1.1052 - val_accuracy: 0.2143\n",
      "Epoch 53/1000\n",
      "4/4 [==============================] - 0s 40ms/step - loss: 1.0559 - accuracy: 0.3884 - val_loss: 1.1048 - val_accuracy: 0.2143\n",
      "Epoch 54/1000\n",
      "4/4 [==============================] - 0s 37ms/step - loss: 1.0545 - accuracy: 0.4215 - val_loss: 1.1032 - val_accuracy: 0.2143\n",
      "Epoch 55/1000\n",
      "4/4 [==============================] - 0s 32ms/step - loss: 1.0531 - accuracy: 0.3967 - val_loss: 1.1026 - val_accuracy: 0.2143\n",
      "Epoch 56/1000\n",
      "4/4 [==============================] - 0s 30ms/step - loss: 1.0518 - accuracy: 0.4380 - val_loss: 1.1023 - val_accuracy: 0.2857\n",
      "Epoch 57/1000\n",
      "4/4 [==============================] - 0s 33ms/step - loss: 1.0504 - accuracy: 0.4545 - val_loss: 1.1004 - val_accuracy: 0.2143\n",
      "Epoch 58/1000\n",
      "4/4 [==============================] - 0s 30ms/step - loss: 1.0490 - accuracy: 0.3884 - val_loss: 1.0986 - val_accuracy: 0.2143\n",
      "Epoch 59/1000\n",
      "4/4 [==============================] - 0s 31ms/step - loss: 1.0477 - accuracy: 0.3636 - val_loss: 1.0972 - val_accuracy: 0.2143\n",
      "Epoch 60/1000\n",
      "4/4 [==============================] - 0s 30ms/step - loss: 1.0461 - accuracy: 0.3636 - val_loss: 1.0977 - val_accuracy: 0.2143\n",
      "Epoch 61/1000\n",
      "4/4 [==============================] - 0s 29ms/step - loss: 1.0447 - accuracy: 0.4215 - val_loss: 1.0976 - val_accuracy: 0.2857\n",
      "Epoch 62/1000\n",
      "4/4 [==============================] - 0s 32ms/step - loss: 1.0431 - accuracy: 0.4876 - val_loss: 1.0972 - val_accuracy: 0.2857\n",
      "Epoch 63/1000\n",
      "4/4 [==============================] - 0s 31ms/step - loss: 1.0418 - accuracy: 0.5455 - val_loss: 1.0963 - val_accuracy: 0.2857\n",
      "Epoch 64/1000\n",
      "4/4 [==============================] - 0s 34ms/step - loss: 1.0404 - accuracy: 0.6033 - val_loss: 1.0963 - val_accuracy: 0.3571\n",
      "Epoch 65/1000\n",
      "4/4 [==============================] - 0s 30ms/step - loss: 1.0389 - accuracy: 0.6281 - val_loss: 1.0948 - val_accuracy: 0.4286\n",
      "Epoch 66/1000\n",
      "4/4 [==============================] - 0s 30ms/step - loss: 1.0372 - accuracy: 0.6281 - val_loss: 1.0937 - val_accuracy: 0.4286\n",
      "Epoch 67/1000\n",
      "4/4 [==============================] - 0s 31ms/step - loss: 1.0357 - accuracy: 0.6529 - val_loss: 1.0929 - val_accuracy: 0.4286\n",
      "Epoch 68/1000\n",
      "4/4 [==============================] - 0s 34ms/step - loss: 1.0341 - accuracy: 0.6446 - val_loss: 1.0917 - val_accuracy: 0.4286\n",
      "Epoch 69/1000\n",
      "4/4 [==============================] - 0s 32ms/step - loss: 1.0328 - accuracy: 0.6612 - val_loss: 1.0907 - val_accuracy: 0.4286\n",
      "Epoch 70/1000\n",
      "4/4 [==============================] - 0s 33ms/step - loss: 1.0310 - accuracy: 0.6694 - val_loss: 1.0885 - val_accuracy: 0.4286\n",
      "Epoch 71/1000\n",
      "4/4 [==============================] - 0s 34ms/step - loss: 1.0294 - accuracy: 0.6694 - val_loss: 1.0868 - val_accuracy: 0.4286\n",
      "Epoch 72/1000\n",
      "4/4 [==============================] - 0s 29ms/step - loss: 1.0279 - accuracy: 0.6529 - val_loss: 1.0847 - val_accuracy: 0.4286\n",
      "Epoch 73/1000\n",
      "4/4 [==============================] - 0s 34ms/step - loss: 1.0261 - accuracy: 0.6612 - val_loss: 1.0841 - val_accuracy: 0.4286\n",
      "Epoch 74/1000\n",
      "4/4 [==============================] - 0s 32ms/step - loss: 1.0245 - accuracy: 0.6860 - val_loss: 1.0832 - val_accuracy: 0.4286\n",
      "Epoch 75/1000\n",
      "4/4 [==============================] - 0s 31ms/step - loss: 1.0230 - accuracy: 0.6860 - val_loss: 1.0832 - val_accuracy: 0.4286\n",
      "Epoch 76/1000\n",
      "4/4 [==============================] - 0s 36ms/step - loss: 1.0213 - accuracy: 0.6860 - val_loss: 1.0824 - val_accuracy: 0.4286\n",
      "Epoch 77/1000\n",
      "4/4 [==============================] - 0s 29ms/step - loss: 1.0195 - accuracy: 0.6860 - val_loss: 1.0807 - val_accuracy: 0.4286\n",
      "Epoch 78/1000\n",
      "4/4 [==============================] - 0s 30ms/step - loss: 1.0180 - accuracy: 0.6860 - val_loss: 1.0794 - val_accuracy: 0.4286\n",
      "Epoch 79/1000\n",
      "4/4 [==============================] - 0s 30ms/step - loss: 1.0161 - accuracy: 0.6860 - val_loss: 1.0759 - val_accuracy: 0.4286\n",
      "Epoch 80/1000\n",
      "4/4 [==============================] - 0s 33ms/step - loss: 1.0143 - accuracy: 0.6860 - val_loss: 1.0727 - val_accuracy: 0.4286\n",
      "Epoch 81/1000\n",
      "4/4 [==============================] - 0s 34ms/step - loss: 1.0128 - accuracy: 0.6694 - val_loss: 1.0695 - val_accuracy: 0.4286\n",
      "Epoch 82/1000\n",
      "4/4 [==============================] - 0s 30ms/step - loss: 1.0108 - accuracy: 0.6777 - val_loss: 1.0684 - val_accuracy: 0.4286\n",
      "Epoch 83/1000\n",
      "4/4 [==============================] - 0s 31ms/step - loss: 1.0091 - accuracy: 0.6860 - val_loss: 1.0677 - val_accuracy: 0.4286\n",
      "Epoch 84/1000\n",
      "4/4 [==============================] - 0s 34ms/step - loss: 1.0072 - accuracy: 0.6860 - val_loss: 1.0669 - val_accuracy: 0.4286\n",
      "Epoch 85/1000\n",
      "4/4 [==============================] - 0s 32ms/step - loss: 1.0054 - accuracy: 0.6860 - val_loss: 1.0662 - val_accuracy: 0.4286\n",
      "Epoch 86/1000\n",
      "4/4 [==============================] - 0s 31ms/step - loss: 1.0035 - accuracy: 0.6942 - val_loss: 1.0652 - val_accuracy: 0.4286\n",
      "Epoch 87/1000\n",
      "4/4 [==============================] - 0s 31ms/step - loss: 1.0017 - accuracy: 0.6942 - val_loss: 1.0636 - val_accuracy: 0.4286\n",
      "Epoch 88/1000\n",
      "4/4 [==============================] - 0s 29ms/step - loss: 0.9997 - accuracy: 0.6942 - val_loss: 1.0632 - val_accuracy: 0.4286\n",
      "Epoch 89/1000\n",
      "4/4 [==============================] - 0s 30ms/step - loss: 0.9978 - accuracy: 0.6942 - val_loss: 1.0621 - val_accuracy: 0.4286\n",
      "Epoch 90/1000\n",
      "4/4 [==============================] - 0s 31ms/step - loss: 0.9959 - accuracy: 0.6942 - val_loss: 1.0612 - val_accuracy: 0.4286\n",
      "Epoch 91/1000\n",
      "4/4 [==============================] - 0s 31ms/step - loss: 0.9939 - accuracy: 0.6942 - val_loss: 1.0599 - val_accuracy: 0.4286\n",
      "Epoch 92/1000\n",
      "4/4 [==============================] - 0s 29ms/step - loss: 0.9921 - accuracy: 0.6942 - val_loss: 1.0603 - val_accuracy: 0.4286\n",
      "Epoch 93/1000\n",
      "4/4 [==============================] - 0s 36ms/step - loss: 0.9900 - accuracy: 0.6942 - val_loss: 1.0583 - val_accuracy: 0.4286\n",
      "Epoch 94/1000\n",
      "4/4 [==============================] - 0s 47ms/step - loss: 0.9878 - accuracy: 0.6942 - val_loss: 1.0567 - val_accuracy: 0.4286\n",
      "Epoch 95/1000\n",
      "4/4 [==============================] - 0s 31ms/step - loss: 0.9861 - accuracy: 0.6942 - val_loss: 1.0557 - val_accuracy: 0.4286\n",
      "Epoch 96/1000\n",
      "4/4 [==============================] - 0s 33ms/step - loss: 0.9838 - accuracy: 0.6942 - val_loss: 1.0547 - val_accuracy: 0.4286\n",
      "Epoch 97/1000\n",
      "4/4 [==============================] - 0s 35ms/step - loss: 0.9818 - accuracy: 0.6942 - val_loss: 1.0536 - val_accuracy: 0.4286\n",
      "Epoch 98/1000\n",
      "4/4 [==============================] - 0s 32ms/step - loss: 0.9797 - accuracy: 0.6942 - val_loss: 1.0507 - val_accuracy: 0.4286\n",
      "Epoch 99/1000\n",
      "4/4 [==============================] - 0s 39ms/step - loss: 0.9775 - accuracy: 0.6942 - val_loss: 1.0493 - val_accuracy: 0.4286\n",
      "Epoch 100/1000\n",
      "4/4 [==============================] - 0s 29ms/step - loss: 0.9754 - accuracy: 0.6942 - val_loss: 1.0484 - val_accuracy: 0.4286\n",
      "Epoch 101/1000\n",
      "4/4 [==============================] - 0s 30ms/step - loss: 0.9731 - accuracy: 0.6942 - val_loss: 1.0472 - val_accuracy: 0.4286\n",
      "Epoch 102/1000\n",
      "4/4 [==============================] - 0s 30ms/step - loss: 0.9710 - accuracy: 0.6942 - val_loss: 1.0464 - val_accuracy: 0.4286\n",
      "Epoch 103/1000\n",
      "4/4 [==============================] - 0s 31ms/step - loss: 0.9689 - accuracy: 0.6942 - val_loss: 1.0458 - val_accuracy: 0.4286\n",
      "Epoch 104/1000\n",
      "4/4 [==============================] - 0s 30ms/step - loss: 0.9666 - accuracy: 0.6942 - val_loss: 1.0438 - val_accuracy: 0.4286\n",
      "Epoch 105/1000\n",
      "4/4 [==============================] - 0s 30ms/step - loss: 0.9644 - accuracy: 0.6942 - val_loss: 1.0414 - val_accuracy: 0.4286\n",
      "Epoch 106/1000\n",
      "4/4 [==============================] - 0s 30ms/step - loss: 0.9620 - accuracy: 0.6942 - val_loss: 1.0404 - val_accuracy: 0.4286\n",
      "Epoch 107/1000\n",
      "4/4 [==============================] - 0s 29ms/step - loss: 0.9598 - accuracy: 0.6942 - val_loss: 1.0399 - val_accuracy: 0.4286\n",
      "Epoch 108/1000\n",
      "4/4 [==============================] - 0s 30ms/step - loss: 0.9576 - accuracy: 0.6942 - val_loss: 1.0395 - val_accuracy: 0.4286\n",
      "Epoch 109/1000\n",
      "4/4 [==============================] - 0s 30ms/step - loss: 0.9553 - accuracy: 0.6942 - val_loss: 1.0378 - val_accuracy: 0.4286\n",
      "Epoch 110/1000\n",
      "4/4 [==============================] - 0s 33ms/step - loss: 0.9528 - accuracy: 0.6942 - val_loss: 1.0352 - val_accuracy: 0.5000\n",
      "Epoch 111/1000\n",
      "4/4 [==============================] - 0s 34ms/step - loss: 0.9505 - accuracy: 0.6942 - val_loss: 1.0317 - val_accuracy: 0.5000\n",
      "Epoch 112/1000\n",
      "4/4 [==============================] - 0s 32ms/step - loss: 0.9481 - accuracy: 0.6942 - val_loss: 1.0288 - val_accuracy: 0.5000\n",
      "Epoch 113/1000\n",
      "4/4 [==============================] - 0s 31ms/step - loss: 0.9460 - accuracy: 0.6942 - val_loss: 1.0274 - val_accuracy: 0.5000\n",
      "Epoch 114/1000\n",
      "4/4 [==============================] - 0s 28ms/step - loss: 0.9434 - accuracy: 0.6942 - val_loss: 1.0244 - val_accuracy: 0.5000\n",
      "Epoch 115/1000\n",
      "4/4 [==============================] - 0s 29ms/step - loss: 0.9409 - accuracy: 0.6942 - val_loss: 1.0215 - val_accuracy: 0.5000\n",
      "Epoch 116/1000\n",
      "4/4 [==============================] - 0s 31ms/step - loss: 0.9385 - accuracy: 0.6942 - val_loss: 1.0199 - val_accuracy: 0.5000\n",
      "Epoch 117/1000\n",
      "4/4 [==============================] - 0s 35ms/step - loss: 0.9359 - accuracy: 0.6942 - val_loss: 1.0174 - val_accuracy: 0.5000\n",
      "Epoch 118/1000\n",
      "4/4 [==============================] - 0s 34ms/step - loss: 0.9335 - accuracy: 0.6942 - val_loss: 1.0151 - val_accuracy: 0.5000\n",
      "Epoch 119/1000\n",
      "4/4 [==============================] - 0s 30ms/step - loss: 0.9310 - accuracy: 0.6942 - val_loss: 1.0140 - val_accuracy: 0.5000\n",
      "Epoch 120/1000\n",
      "4/4 [==============================] - 0s 29ms/step - loss: 0.9290 - accuracy: 0.6942 - val_loss: 1.0139 - val_accuracy: 0.5000\n",
      "Epoch 121/1000\n",
      "4/4 [==============================] - 0s 30ms/step - loss: 0.9260 - accuracy: 0.6942 - val_loss: 1.0110 - val_accuracy: 0.5000\n",
      "Epoch 122/1000\n",
      "4/4 [==============================] - 0s 29ms/step - loss: 0.9233 - accuracy: 0.6942 - val_loss: 1.0087 - val_accuracy: 0.5000\n",
      "Epoch 123/1000\n",
      "4/4 [==============================] - 0s 31ms/step - loss: 0.9209 - accuracy: 0.6942 - val_loss: 1.0054 - val_accuracy: 0.5000\n",
      "Epoch 124/1000\n",
      "4/4 [==============================] - 0s 29ms/step - loss: 0.9182 - accuracy: 0.6942 - val_loss: 1.0036 - val_accuracy: 0.5000\n",
      "Epoch 125/1000\n",
      "4/4 [==============================] - 0s 30ms/step - loss: 0.9157 - accuracy: 0.6942 - val_loss: 1.0004 - val_accuracy: 0.5000\n",
      "Epoch 126/1000\n",
      "4/4 [==============================] - 0s 30ms/step - loss: 0.9129 - accuracy: 0.6942 - val_loss: 0.9987 - val_accuracy: 0.5000\n",
      "Epoch 127/1000\n",
      "4/4 [==============================] - 0s 30ms/step - loss: 0.9103 - accuracy: 0.6942 - val_loss: 0.9975 - val_accuracy: 0.5000\n",
      "Epoch 128/1000\n",
      "4/4 [==============================] - 0s 30ms/step - loss: 0.9076 - accuracy: 0.6942 - val_loss: 0.9957 - val_accuracy: 0.5000\n",
      "Epoch 129/1000\n",
      "4/4 [==============================] - 0s 30ms/step - loss: 0.9050 - accuracy: 0.6942 - val_loss: 0.9943 - val_accuracy: 0.5000\n",
      "Epoch 130/1000\n",
      "4/4 [==============================] - 0s 29ms/step - loss: 0.9022 - accuracy: 0.6942 - val_loss: 0.9925 - val_accuracy: 0.5000\n",
      "Epoch 131/1000\n",
      "4/4 [==============================] - 0s 31ms/step - loss: 0.8995 - accuracy: 0.6942 - val_loss: 0.9906 - val_accuracy: 0.5000\n",
      "Epoch 132/1000\n",
      "4/4 [==============================] - 0s 30ms/step - loss: 0.8968 - accuracy: 0.6942 - val_loss: 0.9889 - val_accuracy: 0.5000\n",
      "Epoch 133/1000\n",
      "4/4 [==============================] - 0s 30ms/step - loss: 0.8941 - accuracy: 0.6942 - val_loss: 0.9881 - val_accuracy: 0.5000\n",
      "Epoch 134/1000\n",
      "4/4 [==============================] - 0s 29ms/step - loss: 0.8918 - accuracy: 0.6942 - val_loss: 0.9876 - val_accuracy: 0.5000\n",
      "Epoch 135/1000\n",
      "4/4 [==============================] - 0s 30ms/step - loss: 0.8886 - accuracy: 0.6942 - val_loss: 0.9837 - val_accuracy: 0.5000\n",
      "Epoch 136/1000\n",
      "4/4 [==============================] - 0s 30ms/step - loss: 0.8857 - accuracy: 0.6942 - val_loss: 0.9812 - val_accuracy: 0.5000\n",
      "Epoch 137/1000\n",
      "4/4 [==============================] - 0s 30ms/step - loss: 0.8829 - accuracy: 0.6942 - val_loss: 0.9783 - val_accuracy: 0.5000\n",
      "Epoch 138/1000\n",
      "4/4 [==============================] - 0s 32ms/step - loss: 0.8810 - accuracy: 0.6942 - val_loss: 0.9741 - val_accuracy: 0.5000\n",
      "Epoch 139/1000\n",
      "4/4 [==============================] - 0s 31ms/step - loss: 0.8771 - accuracy: 0.6942 - val_loss: 0.9728 - val_accuracy: 0.5000\n",
      "Epoch 140/1000\n",
      "4/4 [==============================] - 0s 29ms/step - loss: 0.8747 - accuracy: 0.6942 - val_loss: 0.9725 - val_accuracy: 0.5000\n",
      "Epoch 141/1000\n",
      "4/4 [==============================] - 0s 30ms/step - loss: 0.8716 - accuracy: 0.6942 - val_loss: 0.9709 - val_accuracy: 0.5000\n",
      "Epoch 142/1000\n",
      "4/4 [==============================] - 0s 29ms/step - loss: 0.8688 - accuracy: 0.6942 - val_loss: 0.9686 - val_accuracy: 0.5000\n",
      "Epoch 143/1000\n",
      "4/4 [==============================] - 0s 30ms/step - loss: 0.8658 - accuracy: 0.6942 - val_loss: 0.9658 - val_accuracy: 0.5000\n",
      "Epoch 144/1000\n",
      "4/4 [==============================] - 0s 28ms/step - loss: 0.8630 - accuracy: 0.6942 - val_loss: 0.9632 - val_accuracy: 0.5000\n",
      "Epoch 145/1000\n",
      "4/4 [==============================] - 0s 30ms/step - loss: 0.8602 - accuracy: 0.6942 - val_loss: 0.9593 - val_accuracy: 0.5000\n",
      "Epoch 146/1000\n",
      "4/4 [==============================] - 0s 30ms/step - loss: 0.8573 - accuracy: 0.6942 - val_loss: 0.9562 - val_accuracy: 0.5000\n",
      "Epoch 147/1000\n",
      "4/4 [==============================] - 0s 30ms/step - loss: 0.8548 - accuracy: 0.6942 - val_loss: 0.9559 - val_accuracy: 0.5000\n",
      "Epoch 148/1000\n",
      "4/4 [==============================] - 0s 32ms/step - loss: 0.8514 - accuracy: 0.6942 - val_loss: 0.9533 - val_accuracy: 0.5000\n",
      "Epoch 149/1000\n",
      "4/4 [==============================] - 0s 30ms/step - loss: 0.8485 - accuracy: 0.6942 - val_loss: 0.9508 - val_accuracy: 0.5000\n",
      "Epoch 150/1000\n",
      "4/4 [==============================] - 0s 31ms/step - loss: 0.8455 - accuracy: 0.6942 - val_loss: 0.9471 - val_accuracy: 0.5000\n",
      "Epoch 151/1000\n",
      "4/4 [==============================] - 0s 33ms/step - loss: 0.8431 - accuracy: 0.6942 - val_loss: 0.9425 - val_accuracy: 0.5000\n",
      "Epoch 152/1000\n",
      "4/4 [==============================] - 0s 34ms/step - loss: 0.8398 - accuracy: 0.6942 - val_loss: 0.9409 - val_accuracy: 0.5000\n",
      "Epoch 153/1000\n",
      "4/4 [==============================] - 0s 33ms/step - loss: 0.8368 - accuracy: 0.6942 - val_loss: 0.9386 - val_accuracy: 0.5000\n",
      "Epoch 154/1000\n",
      "4/4 [==============================] - 0s 29ms/step - loss: 0.8338 - accuracy: 0.6942 - val_loss: 0.9352 - val_accuracy: 0.5000\n",
      "Epoch 155/1000\n",
      "4/4 [==============================] - 0s 30ms/step - loss: 0.8308 - accuracy: 0.6942 - val_loss: 0.9328 - val_accuracy: 0.5000\n",
      "Epoch 156/1000\n",
      "4/4 [==============================] - 0s 32ms/step - loss: 0.8278 - accuracy: 0.6942 - val_loss: 0.9303 - val_accuracy: 0.5000\n",
      "Epoch 157/1000\n",
      "4/4 [==============================] - 0s 31ms/step - loss: 0.8252 - accuracy: 0.6942 - val_loss: 0.9304 - val_accuracy: 0.5000\n",
      "Epoch 158/1000\n",
      "4/4 [==============================] - 0s 30ms/step - loss: 0.8218 - accuracy: 0.6942 - val_loss: 0.9278 - val_accuracy: 0.5000\n",
      "Epoch 159/1000\n",
      "4/4 [==============================] - 0s 32ms/step - loss: 0.8188 - accuracy: 0.6942 - val_loss: 0.9257 - val_accuracy: 0.5000\n",
      "Epoch 160/1000\n",
      "4/4 [==============================] - 0s 30ms/step - loss: 0.8158 - accuracy: 0.6942 - val_loss: 0.9233 - val_accuracy: 0.5000\n",
      "Epoch 161/1000\n",
      "4/4 [==============================] - 0s 32ms/step - loss: 0.8130 - accuracy: 0.6942 - val_loss: 0.9205 - val_accuracy: 0.5000\n",
      "Epoch 162/1000\n",
      "4/4 [==============================] - 0s 32ms/step - loss: 0.8098 - accuracy: 0.6942 - val_loss: 0.9183 - val_accuracy: 0.5000\n",
      "Epoch 163/1000\n",
      "4/4 [==============================] - 0s 34ms/step - loss: 0.8068 - accuracy: 0.6942 - val_loss: 0.9151 - val_accuracy: 0.5000\n",
      "Epoch 164/1000\n",
      "4/4 [==============================] - 0s 36ms/step - loss: 0.8039 - accuracy: 0.6942 - val_loss: 0.9135 - val_accuracy: 0.5000\n",
      "Epoch 165/1000\n",
      "4/4 [==============================] - 0s 32ms/step - loss: 0.8008 - accuracy: 0.6942 - val_loss: 0.9115 - val_accuracy: 0.5000\n",
      "Epoch 166/1000\n",
      "4/4 [==============================] - 0s 32ms/step - loss: 0.7977 - accuracy: 0.6942 - val_loss: 0.9080 - val_accuracy: 0.5000\n",
      "Epoch 167/1000\n",
      "4/4 [==============================] - 0s 30ms/step - loss: 0.7947 - accuracy: 0.6942 - val_loss: 0.9047 - val_accuracy: 0.5000\n",
      "Epoch 168/1000\n",
      "4/4 [==============================] - 0s 33ms/step - loss: 0.7916 - accuracy: 0.6942 - val_loss: 0.9017 - val_accuracy: 0.5000\n",
      "Epoch 169/1000\n",
      "4/4 [==============================] - 0s 35ms/step - loss: 0.7887 - accuracy: 0.6942 - val_loss: 0.8999 - val_accuracy: 0.5000\n",
      "Epoch 170/1000\n",
      "4/4 [==============================] - 0s 37ms/step - loss: 0.7856 - accuracy: 0.6942 - val_loss: 0.8979 - val_accuracy: 0.5000\n",
      "Epoch 171/1000\n",
      "4/4 [==============================] - 0s 32ms/step - loss: 0.7828 - accuracy: 0.6942 - val_loss: 0.8954 - val_accuracy: 0.5000\n",
      "Epoch 172/1000\n",
      "4/4 [==============================] - 0s 31ms/step - loss: 0.7795 - accuracy: 0.6942 - val_loss: 0.8922 - val_accuracy: 0.5000\n",
      "Epoch 173/1000\n",
      "4/4 [==============================] - 0s 33ms/step - loss: 0.7765 - accuracy: 0.6942 - val_loss: 0.8884 - val_accuracy: 0.5000\n",
      "Epoch 174/1000\n",
      "4/4 [==============================] - 0s 31ms/step - loss: 0.7734 - accuracy: 0.6942 - val_loss: 0.8860 - val_accuracy: 0.5000\n",
      "Epoch 175/1000\n",
      "4/4 [==============================] - 0s 31ms/step - loss: 0.7705 - accuracy: 0.6942 - val_loss: 0.8828 - val_accuracy: 0.5000\n",
      "Epoch 176/1000\n",
      "4/4 [==============================] - 0s 30ms/step - loss: 0.7675 - accuracy: 0.6942 - val_loss: 0.8815 - val_accuracy: 0.5000\n",
      "Epoch 177/1000\n",
      "4/4 [==============================] - 0s 39ms/step - loss: 0.7645 - accuracy: 0.6942 - val_loss: 0.8788 - val_accuracy: 0.5000\n",
      "Epoch 178/1000\n",
      "4/4 [==============================] - 0s 37ms/step - loss: 0.7618 - accuracy: 0.6942 - val_loss: 0.8785 - val_accuracy: 0.5000\n",
      "Epoch 179/1000\n",
      "4/4 [==============================] - 0s 36ms/step - loss: 0.7583 - accuracy: 0.6942 - val_loss: 0.8758 - val_accuracy: 0.5000\n",
      "Epoch 180/1000\n",
      "4/4 [==============================] - 0s 35ms/step - loss: 0.7555 - accuracy: 0.6942 - val_loss: 0.8742 - val_accuracy: 0.5000\n",
      "Epoch 181/1000\n",
      "4/4 [==============================] - 0s 33ms/step - loss: 0.7524 - accuracy: 0.6942 - val_loss: 0.8711 - val_accuracy: 0.5000\n",
      "Epoch 182/1000\n",
      "4/4 [==============================] - 0s 31ms/step - loss: 0.7493 - accuracy: 0.6942 - val_loss: 0.8684 - val_accuracy: 0.5000\n",
      "Epoch 183/1000\n",
      "4/4 [==============================] - 0s 31ms/step - loss: 0.7464 - accuracy: 0.6942 - val_loss: 0.8657 - val_accuracy: 0.5000\n",
      "Epoch 184/1000\n",
      "4/4 [==============================] - 0s 36ms/step - loss: 0.7435 - accuracy: 0.6942 - val_loss: 0.8619 - val_accuracy: 0.5000\n",
      "Epoch 185/1000\n",
      "4/4 [==============================] - 0s 37ms/step - loss: 0.7405 - accuracy: 0.6942 - val_loss: 0.8584 - val_accuracy: 0.5000\n",
      "Epoch 186/1000\n",
      "4/4 [==============================] - 0s 35ms/step - loss: 0.7374 - accuracy: 0.6942 - val_loss: 0.8562 - val_accuracy: 0.5000\n",
      "Epoch 187/1000\n",
      "4/4 [==============================] - 0s 32ms/step - loss: 0.7346 - accuracy: 0.6942 - val_loss: 0.8529 - val_accuracy: 0.5000\n",
      "Epoch 188/1000\n",
      "4/4 [==============================] - 0s 37ms/step - loss: 0.7316 - accuracy: 0.6942 - val_loss: 0.8517 - val_accuracy: 0.5000\n",
      "Epoch 189/1000\n",
      "4/4 [==============================] - 0s 31ms/step - loss: 0.7287 - accuracy: 0.6942 - val_loss: 0.8507 - val_accuracy: 0.5000\n",
      "Epoch 190/1000\n",
      "4/4 [==============================] - 0s 31ms/step - loss: 0.7257 - accuracy: 0.6942 - val_loss: 0.8477 - val_accuracy: 0.5000\n",
      "Epoch 191/1000\n",
      "4/4 [==============================] - 0s 32ms/step - loss: 0.7227 - accuracy: 0.6942 - val_loss: 0.8444 - val_accuracy: 0.5000\n",
      "Epoch 192/1000\n",
      "4/4 [==============================] - 0s 31ms/step - loss: 0.7198 - accuracy: 0.6942 - val_loss: 0.8417 - val_accuracy: 0.5000\n",
      "Epoch 193/1000\n",
      "4/4 [==============================] - 0s 34ms/step - loss: 0.7169 - accuracy: 0.6942 - val_loss: 0.8394 - val_accuracy: 0.5000\n",
      "Epoch 194/1000\n",
      "4/4 [==============================] - 0s 31ms/step - loss: 0.7140 - accuracy: 0.6942 - val_loss: 0.8366 - val_accuracy: 0.5000\n",
      "Epoch 195/1000\n",
      "4/4 [==============================] - 0s 30ms/step - loss: 0.7113 - accuracy: 0.6942 - val_loss: 0.8333 - val_accuracy: 0.5000\n",
      "Epoch 196/1000\n",
      "4/4 [==============================] - 0s 30ms/step - loss: 0.7082 - accuracy: 0.6942 - val_loss: 0.8316 - val_accuracy: 0.5000\n",
      "Epoch 197/1000\n",
      "4/4 [==============================] - 0s 30ms/step - loss: 0.7054 - accuracy: 0.6942 - val_loss: 0.8292 - val_accuracy: 0.5000\n",
      "Epoch 198/1000\n",
      "4/4 [==============================] - 0s 33ms/step - loss: 0.7026 - accuracy: 0.6942 - val_loss: 0.8263 - val_accuracy: 0.5000\n",
      "Epoch 199/1000\n",
      "4/4 [==============================] - 0s 31ms/step - loss: 0.6997 - accuracy: 0.6942 - val_loss: 0.8247 - val_accuracy: 0.5000\n",
      "Epoch 200/1000\n",
      "4/4 [==============================] - 0s 29ms/step - loss: 0.6970 - accuracy: 0.6942 - val_loss: 0.8224 - val_accuracy: 0.5000\n",
      "Epoch 201/1000\n",
      "4/4 [==============================] - 0s 29ms/step - loss: 0.6941 - accuracy: 0.6942 - val_loss: 0.8194 - val_accuracy: 0.5000\n",
      "Epoch 202/1000\n",
      "4/4 [==============================] - 0s 32ms/step - loss: 0.6913 - accuracy: 0.6942 - val_loss: 0.8152 - val_accuracy: 0.5000\n",
      "Epoch 203/1000\n",
      "4/4 [==============================] - 0s 41ms/step - loss: 0.6886 - accuracy: 0.6942 - val_loss: 0.8121 - val_accuracy: 0.5000\n",
      "Epoch 204/1000\n",
      "4/4 [==============================] - 0s 28ms/step - loss: 0.6858 - accuracy: 0.7025 - val_loss: 0.8086 - val_accuracy: 0.5000\n",
      "Epoch 205/1000\n",
      "4/4 [==============================] - 0s 32ms/step - loss: 0.6832 - accuracy: 0.7025 - val_loss: 0.8065 - val_accuracy: 0.5000\n",
      "Epoch 206/1000\n",
      "4/4 [==============================] - 0s 30ms/step - loss: 0.6803 - accuracy: 0.7025 - val_loss: 0.8048 - val_accuracy: 0.5000\n",
      "Epoch 207/1000\n",
      "4/4 [==============================] - 0s 27ms/step - loss: 0.6775 - accuracy: 0.7025 - val_loss: 0.8029 - val_accuracy: 0.5000\n",
      "Epoch 208/1000\n",
      "4/4 [==============================] - 0s 29ms/step - loss: 0.6750 - accuracy: 0.7025 - val_loss: 0.8016 - val_accuracy: 0.5000\n",
      "Epoch 209/1000\n",
      "4/4 [==============================] - 0s 31ms/step - loss: 0.6723 - accuracy: 0.7025 - val_loss: 0.7980 - val_accuracy: 0.5000\n",
      "Epoch 210/1000\n",
      "4/4 [==============================] - 0s 29ms/step - loss: 0.6695 - accuracy: 0.7107 - val_loss: 0.7958 - val_accuracy: 0.5000\n",
      "Epoch 211/1000\n",
      "4/4 [==============================] - 0s 30ms/step - loss: 0.6671 - accuracy: 0.7107 - val_loss: 0.7913 - val_accuracy: 0.5000\n",
      "Epoch 212/1000\n",
      "4/4 [==============================] - 0s 30ms/step - loss: 0.6643 - accuracy: 0.7190 - val_loss: 0.7887 - val_accuracy: 0.5000\n",
      "Epoch 213/1000\n",
      "4/4 [==============================] - 0s 30ms/step - loss: 0.6615 - accuracy: 0.7190 - val_loss: 0.7867 - val_accuracy: 0.5000\n",
      "Epoch 214/1000\n",
      "4/4 [==============================] - 0s 29ms/step - loss: 0.6589 - accuracy: 0.7190 - val_loss: 0.7854 - val_accuracy: 0.5000\n",
      "Epoch 215/1000\n",
      "4/4 [==============================] - 0s 30ms/step - loss: 0.6564 - accuracy: 0.7107 - val_loss: 0.7835 - val_accuracy: 0.5000\n",
      "Epoch 216/1000\n",
      "4/4 [==============================] - 0s 30ms/step - loss: 0.6540 - accuracy: 0.7190 - val_loss: 0.7798 - val_accuracy: 0.5000\n",
      "Epoch 217/1000\n",
      "4/4 [==============================] - 0s 29ms/step - loss: 0.6513 - accuracy: 0.7190 - val_loss: 0.7780 - val_accuracy: 0.5000\n",
      "Epoch 218/1000\n",
      "4/4 [==============================] - 0s 28ms/step - loss: 0.6487 - accuracy: 0.7107 - val_loss: 0.7756 - val_accuracy: 0.5000\n",
      "Epoch 219/1000\n",
      "4/4 [==============================] - 0s 28ms/step - loss: 0.6462 - accuracy: 0.7190 - val_loss: 0.7732 - val_accuracy: 0.5000\n",
      "Epoch 220/1000\n",
      "4/4 [==============================] - 0s 29ms/step - loss: 0.6437 - accuracy: 0.7190 - val_loss: 0.7705 - val_accuracy: 0.5000\n",
      "Epoch 221/1000\n",
      "4/4 [==============================] - 0s 29ms/step - loss: 0.6414 - accuracy: 0.7190 - val_loss: 0.7692 - val_accuracy: 0.5000\n",
      "Epoch 222/1000\n",
      "4/4 [==============================] - 0s 28ms/step - loss: 0.6389 - accuracy: 0.7190 - val_loss: 0.7652 - val_accuracy: 0.5000\n",
      "Epoch 223/1000\n",
      "4/4 [==============================] - 0s 35ms/step - loss: 0.6365 - accuracy: 0.7190 - val_loss: 0.7624 - val_accuracy: 0.5000\n",
      "Epoch 224/1000\n",
      "4/4 [==============================] - 0s 34ms/step - loss: 0.6339 - accuracy: 0.7190 - val_loss: 0.7598 - val_accuracy: 0.5000\n",
      "Epoch 225/1000\n",
      "4/4 [==============================] - 0s 34ms/step - loss: 0.6315 - accuracy: 0.7190 - val_loss: 0.7577 - val_accuracy: 0.5000\n",
      "Epoch 226/1000\n",
      "4/4 [==============================] - 0s 29ms/step - loss: 0.6292 - accuracy: 0.7190 - val_loss: 0.7557 - val_accuracy: 0.5000\n",
      "Epoch 227/1000\n",
      "4/4 [==============================] - 0s 31ms/step - loss: 0.6267 - accuracy: 0.7190 - val_loss: 0.7535 - val_accuracy: 0.5000\n",
      "Epoch 228/1000\n",
      "4/4 [==============================] - 0s 33ms/step - loss: 0.6244 - accuracy: 0.7190 - val_loss: 0.7505 - val_accuracy: 0.5000\n",
      "Epoch 229/1000\n",
      "4/4 [==============================] - 0s 27ms/step - loss: 0.6221 - accuracy: 0.7190 - val_loss: 0.7481 - val_accuracy: 0.5000\n",
      "Epoch 230/1000\n",
      "4/4 [==============================] - 0s 29ms/step - loss: 0.6201 - accuracy: 0.7355 - val_loss: 0.7442 - val_accuracy: 0.5000\n",
      "Epoch 231/1000\n",
      "4/4 [==============================] - 0s 27ms/step - loss: 0.6175 - accuracy: 0.7355 - val_loss: 0.7436 - val_accuracy: 0.5000\n",
      "Epoch 232/1000\n",
      "4/4 [==============================] - 0s 28ms/step - loss: 0.6151 - accuracy: 0.7355 - val_loss: 0.7417 - val_accuracy: 0.5000\n",
      "Epoch 233/1000\n",
      "4/4 [==============================] - 0s 29ms/step - loss: 0.6129 - accuracy: 0.7355 - val_loss: 0.7398 - val_accuracy: 0.5000\n",
      "Epoch 234/1000\n",
      "4/4 [==============================] - 0s 28ms/step - loss: 0.6107 - accuracy: 0.7273 - val_loss: 0.7377 - val_accuracy: 0.5000\n",
      "Epoch 235/1000\n",
      "4/4 [==============================] - 0s 28ms/step - loss: 0.6085 - accuracy: 0.7355 - val_loss: 0.7350 - val_accuracy: 0.5000\n",
      "Epoch 236/1000\n",
      "4/4 [==============================] - 0s 28ms/step - loss: 0.6067 - accuracy: 0.7190 - val_loss: 0.7342 - val_accuracy: 0.5000\n",
      "Epoch 237/1000\n",
      "4/4 [==============================] - 0s 31ms/step - loss: 0.6042 - accuracy: 0.7355 - val_loss: 0.7301 - val_accuracy: 0.5000\n",
      "Epoch 238/1000\n",
      "4/4 [==============================] - 0s 29ms/step - loss: 0.6019 - accuracy: 0.7355 - val_loss: 0.7271 - val_accuracy: 0.5000\n",
      "Epoch 239/1000\n",
      "4/4 [==============================] - 0s 28ms/step - loss: 0.6000 - accuracy: 0.7438 - val_loss: 0.7232 - val_accuracy: 0.5000\n",
      "Epoch 240/1000\n",
      "4/4 [==============================] - 0s 29ms/step - loss: 0.5976 - accuracy: 0.7438 - val_loss: 0.7217 - val_accuracy: 0.5000\n",
      "Epoch 241/1000\n",
      "4/4 [==============================] - 0s 28ms/step - loss: 0.5954 - accuracy: 0.7438 - val_loss: 0.7193 - val_accuracy: 0.5000\n",
      "Epoch 242/1000\n",
      "4/4 [==============================] - 0s 28ms/step - loss: 0.5934 - accuracy: 0.7438 - val_loss: 0.7168 - val_accuracy: 0.5000\n",
      "Epoch 243/1000\n",
      "4/4 [==============================] - 0s 29ms/step - loss: 0.5913 - accuracy: 0.7438 - val_loss: 0.7150 - val_accuracy: 0.5000\n",
      "Epoch 244/1000\n",
      "4/4 [==============================] - 0s 35ms/step - loss: 0.5894 - accuracy: 0.7438 - val_loss: 0.7125 - val_accuracy: 0.5000\n",
      "Epoch 245/1000\n",
      "4/4 [==============================] - 0s 33ms/step - loss: 0.5871 - accuracy: 0.7438 - val_loss: 0.7114 - val_accuracy: 0.5000\n",
      "Epoch 246/1000\n",
      "4/4 [==============================] - 0s 27ms/step - loss: 0.5851 - accuracy: 0.7438 - val_loss: 0.7098 - val_accuracy: 0.5000\n",
      "Epoch 247/1000\n",
      "4/4 [==============================] - 0s 29ms/step - loss: 0.5831 - accuracy: 0.7438 - val_loss: 0.7092 - val_accuracy: 0.5000\n",
      "Epoch 248/1000\n",
      "4/4 [==============================] - 0s 27ms/step - loss: 0.5813 - accuracy: 0.7438 - val_loss: 0.7074 - val_accuracy: 0.5000\n",
      "Epoch 249/1000\n",
      "4/4 [==============================] - 0s 33ms/step - loss: 0.5792 - accuracy: 0.7438 - val_loss: 0.7071 - val_accuracy: 0.5000\n",
      "Epoch 250/1000\n",
      "4/4 [==============================] - 0s 31ms/step - loss: 0.5774 - accuracy: 0.7355 - val_loss: 0.7065 - val_accuracy: 0.5000\n",
      "Epoch 251/1000\n",
      "4/4 [==============================] - 0s 31ms/step - loss: 0.5753 - accuracy: 0.7355 - val_loss: 0.7038 - val_accuracy: 0.5000\n",
      "Epoch 252/1000\n",
      "4/4 [==============================] - 0s 27ms/step - loss: 0.5734 - accuracy: 0.7355 - val_loss: 0.7013 - val_accuracy: 0.5000\n",
      "Epoch 253/1000\n",
      "4/4 [==============================] - 0s 28ms/step - loss: 0.5717 - accuracy: 0.7438 - val_loss: 0.6976 - val_accuracy: 0.5000\n",
      "Epoch 254/1000\n",
      "4/4 [==============================] - 0s 29ms/step - loss: 0.5696 - accuracy: 0.7438 - val_loss: 0.6945 - val_accuracy: 0.5000\n",
      "Epoch 255/1000\n",
      "4/4 [==============================] - 0s 28ms/step - loss: 0.5678 - accuracy: 0.7438 - val_loss: 0.6914 - val_accuracy: 0.5000\n",
      "Epoch 256/1000\n",
      "4/4 [==============================] - 0s 30ms/step - loss: 0.5659 - accuracy: 0.7438 - val_loss: 0.6897 - val_accuracy: 0.5000\n",
      "Epoch 257/1000\n",
      "4/4 [==============================] - 0s 27ms/step - loss: 0.5640 - accuracy: 0.7521 - val_loss: 0.6866 - val_accuracy: 0.5714\n",
      "Epoch 258/1000\n",
      "4/4 [==============================] - 0s 28ms/step - loss: 0.5625 - accuracy: 0.7603 - val_loss: 0.6827 - val_accuracy: 0.5714\n",
      "Epoch 259/1000\n",
      "4/4 [==============================] - 0s 27ms/step - loss: 0.5606 - accuracy: 0.7603 - val_loss: 0.6816 - val_accuracy: 0.5714\n",
      "Epoch 260/1000\n",
      "4/4 [==============================] - 0s 34ms/step - loss: 0.5589 - accuracy: 0.7603 - val_loss: 0.6782 - val_accuracy: 0.6429\n",
      "Epoch 261/1000\n",
      "4/4 [==============================] - 0s 28ms/step - loss: 0.5570 - accuracy: 0.7603 - val_loss: 0.6776 - val_accuracy: 0.5714\n",
      "Epoch 262/1000\n",
      "4/4 [==============================] - 0s 27ms/step - loss: 0.5551 - accuracy: 0.7603 - val_loss: 0.6761 - val_accuracy: 0.5714\n",
      "Epoch 263/1000\n",
      "4/4 [==============================] - 0s 27ms/step - loss: 0.5535 - accuracy: 0.7603 - val_loss: 0.6738 - val_accuracy: 0.6429\n",
      "Epoch 264/1000\n",
      "4/4 [==============================] - 0s 27ms/step - loss: 0.5520 - accuracy: 0.7603 - val_loss: 0.6746 - val_accuracy: 0.5714\n",
      "Epoch 265/1000\n",
      "4/4 [==============================] - 0s 28ms/step - loss: 0.5500 - accuracy: 0.7603 - val_loss: 0.6723 - val_accuracy: 0.5714\n",
      "Epoch 266/1000\n",
      "4/4 [==============================] - 0s 26ms/step - loss: 0.5485 - accuracy: 0.7603 - val_loss: 0.6724 - val_accuracy: 0.5714\n",
      "Epoch 267/1000\n",
      "4/4 [==============================] - 0s 27ms/step - loss: 0.5468 - accuracy: 0.7521 - val_loss: 0.6714 - val_accuracy: 0.5714\n",
      "Epoch 268/1000\n",
      "4/4 [==============================] - 0s 29ms/step - loss: 0.5449 - accuracy: 0.7521 - val_loss: 0.6681 - val_accuracy: 0.5714\n",
      "Epoch 269/1000\n",
      "4/4 [==============================] - 0s 28ms/step - loss: 0.5437 - accuracy: 0.7603 - val_loss: 0.6637 - val_accuracy: 0.6429\n",
      "Epoch 270/1000\n",
      "4/4 [==============================] - 0s 28ms/step - loss: 0.5416 - accuracy: 0.7603 - val_loss: 0.6613 - val_accuracy: 0.7143\n",
      "Epoch 271/1000\n",
      "4/4 [==============================] - 0s 27ms/step - loss: 0.5401 - accuracy: 0.7603 - val_loss: 0.6594 - val_accuracy: 0.7143\n",
      "Epoch 272/1000\n",
      "4/4 [==============================] - 0s 26ms/step - loss: 0.5386 - accuracy: 0.7603 - val_loss: 0.6592 - val_accuracy: 0.6429\n",
      "Epoch 273/1000\n",
      "4/4 [==============================] - 0s 27ms/step - loss: 0.5368 - accuracy: 0.7603 - val_loss: 0.6577 - val_accuracy: 0.6429\n",
      "Epoch 274/1000\n",
      "4/4 [==============================] - 0s 27ms/step - loss: 0.5353 - accuracy: 0.7603 - val_loss: 0.6558 - val_accuracy: 0.6429\n",
      "Epoch 275/1000\n",
      "4/4 [==============================] - 0s 27ms/step - loss: 0.5337 - accuracy: 0.7603 - val_loss: 0.6544 - val_accuracy: 0.6429\n",
      "Epoch 276/1000\n",
      "4/4 [==============================] - 0s 29ms/step - loss: 0.5322 - accuracy: 0.7603 - val_loss: 0.6533 - val_accuracy: 0.6429\n",
      "Epoch 277/1000\n",
      "4/4 [==============================] - 0s 27ms/step - loss: 0.5308 - accuracy: 0.7603 - val_loss: 0.6506 - val_accuracy: 0.7143\n",
      "Epoch 278/1000\n",
      "4/4 [==============================] - 0s 28ms/step - loss: 0.5291 - accuracy: 0.7603 - val_loss: 0.6498 - val_accuracy: 0.6429\n",
      "Epoch 279/1000\n",
      "4/4 [==============================] - 0s 28ms/step - loss: 0.5277 - accuracy: 0.7603 - val_loss: 0.6489 - val_accuracy: 0.6429\n",
      "Epoch 280/1000\n",
      "4/4 [==============================] - 0s 28ms/step - loss: 0.5262 - accuracy: 0.7603 - val_loss: 0.6463 - val_accuracy: 0.7143\n",
      "Epoch 281/1000\n",
      "4/4 [==============================] - 0s 28ms/step - loss: 0.5247 - accuracy: 0.7603 - val_loss: 0.6448 - val_accuracy: 0.7143\n",
      "Epoch 282/1000\n",
      "4/4 [==============================] - 0s 28ms/step - loss: 0.5232 - accuracy: 0.7603 - val_loss: 0.6432 - val_accuracy: 0.7143\n",
      "Epoch 283/1000\n",
      "4/4 [==============================] - 0s 31ms/step - loss: 0.5217 - accuracy: 0.7603 - val_loss: 0.6414 - val_accuracy: 0.7143\n",
      "Epoch 284/1000\n",
      "4/4 [==============================] - 0s 31ms/step - loss: 0.5204 - accuracy: 0.7603 - val_loss: 0.6391 - val_accuracy: 0.7143\n",
      "Epoch 285/1000\n",
      "4/4 [==============================] - 0s 29ms/step - loss: 0.5189 - accuracy: 0.7603 - val_loss: 0.6374 - val_accuracy: 0.7143\n",
      "Epoch 286/1000\n",
      "4/4 [==============================] - 0s 27ms/step - loss: 0.5176 - accuracy: 0.7603 - val_loss: 0.6379 - val_accuracy: 0.7143\n",
      "Epoch 287/1000\n",
      "4/4 [==============================] - 0s 28ms/step - loss: 0.5161 - accuracy: 0.7603 - val_loss: 0.6366 - val_accuracy: 0.7143\n",
      "Epoch 288/1000\n",
      "4/4 [==============================] - 0s 29ms/step - loss: 0.5148 - accuracy: 0.7603 - val_loss: 0.6360 - val_accuracy: 0.6429\n",
      "Epoch 289/1000\n",
      "4/4 [==============================] - 0s 30ms/step - loss: 0.5133 - accuracy: 0.7603 - val_loss: 0.6337 - val_accuracy: 0.7143\n",
      "Epoch 290/1000\n",
      "4/4 [==============================] - 0s 28ms/step - loss: 0.5122 - accuracy: 0.7603 - val_loss: 0.6333 - val_accuracy: 0.6429\n",
      "Epoch 291/1000\n",
      "4/4 [==============================] - 0s 29ms/step - loss: 0.5108 - accuracy: 0.7603 - val_loss: 0.6296 - val_accuracy: 0.7143\n",
      "Epoch 292/1000\n",
      "4/4 [==============================] - 0s 28ms/step - loss: 0.5093 - accuracy: 0.7603 - val_loss: 0.6266 - val_accuracy: 0.7143\n",
      "Epoch 293/1000\n",
      "4/4 [==============================] - 0s 29ms/step - loss: 0.5079 - accuracy: 0.7603 - val_loss: 0.6253 - val_accuracy: 0.7143\n",
      "Epoch 294/1000\n",
      "4/4 [==============================] - 0s 29ms/step - loss: 0.5066 - accuracy: 0.7603 - val_loss: 0.6234 - val_accuracy: 0.7143\n",
      "Epoch 295/1000\n",
      "4/4 [==============================] - 0s 29ms/step - loss: 0.5053 - accuracy: 0.7603 - val_loss: 0.6228 - val_accuracy: 0.7143\n",
      "Epoch 296/1000\n",
      "4/4 [==============================] - 0s 30ms/step - loss: 0.5039 - accuracy: 0.7603 - val_loss: 0.6208 - val_accuracy: 0.7143\n",
      "Epoch 297/1000\n",
      "4/4 [==============================] - 0s 28ms/step - loss: 0.5026 - accuracy: 0.7686 - val_loss: 0.6192 - val_accuracy: 0.7143\n",
      "Epoch 298/1000\n",
      "4/4 [==============================] - 0s 27ms/step - loss: 0.5014 - accuracy: 0.7686 - val_loss: 0.6179 - val_accuracy: 0.7143\n",
      "Epoch 299/1000\n",
      "4/4 [==============================] - 0s 30ms/step - loss: 0.5001 - accuracy: 0.7686 - val_loss: 0.6165 - val_accuracy: 0.7143\n",
      "Epoch 300/1000\n",
      "4/4 [==============================] - 0s 31ms/step - loss: 0.4989 - accuracy: 0.7769 - val_loss: 0.6147 - val_accuracy: 0.7143\n",
      "Epoch 301/1000\n",
      "4/4 [==============================] - 0s 31ms/step - loss: 0.4977 - accuracy: 0.7851 - val_loss: 0.6119 - val_accuracy: 0.7143\n",
      "Epoch 302/1000\n",
      "4/4 [==============================] - 0s 28ms/step - loss: 0.4964 - accuracy: 0.7934 - val_loss: 0.6095 - val_accuracy: 0.7143\n",
      "Epoch 303/1000\n",
      "4/4 [==============================] - 0s 27ms/step - loss: 0.4952 - accuracy: 0.7934 - val_loss: 0.6088 - val_accuracy: 0.7143\n",
      "Epoch 304/1000\n",
      "4/4 [==============================] - 0s 29ms/step - loss: 0.4941 - accuracy: 0.7934 - val_loss: 0.6058 - val_accuracy: 0.7143\n",
      "Epoch 305/1000\n",
      "4/4 [==============================] - 0s 27ms/step - loss: 0.4927 - accuracy: 0.8017 - val_loss: 0.6044 - val_accuracy: 0.7143\n",
      "Epoch 306/1000\n",
      "4/4 [==============================] - 0s 30ms/step - loss: 0.4915 - accuracy: 0.8017 - val_loss: 0.6031 - val_accuracy: 0.7143\n",
      "Epoch 307/1000\n",
      "4/4 [==============================] - 0s 31ms/step - loss: 0.4903 - accuracy: 0.8017 - val_loss: 0.6022 - val_accuracy: 0.7143\n",
      "Epoch 308/1000\n",
      "4/4 [==============================] - 0s 29ms/step - loss: 0.4892 - accuracy: 0.8017 - val_loss: 0.6022 - val_accuracy: 0.7143\n",
      "Epoch 309/1000\n",
      "4/4 [==============================] - 0s 28ms/step - loss: 0.4881 - accuracy: 0.7934 - val_loss: 0.6017 - val_accuracy: 0.7143\n",
      "Epoch 310/1000\n",
      "4/4 [==============================] - 0s 29ms/step - loss: 0.4869 - accuracy: 0.7934 - val_loss: 0.5991 - val_accuracy: 0.7143\n",
      "Epoch 311/1000\n",
      "4/4 [==============================] - 0s 29ms/step - loss: 0.4859 - accuracy: 0.8017 - val_loss: 0.5961 - val_accuracy: 0.7143\n",
      "Epoch 312/1000\n",
      "4/4 [==============================] - 0s 28ms/step - loss: 0.4845 - accuracy: 0.8099 - val_loss: 0.5949 - val_accuracy: 0.7143\n",
      "Epoch 313/1000\n",
      "4/4 [==============================] - 0s 28ms/step - loss: 0.4836 - accuracy: 0.8099 - val_loss: 0.5957 - val_accuracy: 0.7143\n",
      "Epoch 314/1000\n",
      "4/4 [==============================] - 0s 27ms/step - loss: 0.4822 - accuracy: 0.8017 - val_loss: 0.5951 - val_accuracy: 0.7143\n",
      "Epoch 315/1000\n",
      "4/4 [==============================] - 0s 27ms/step - loss: 0.4812 - accuracy: 0.8017 - val_loss: 0.5935 - val_accuracy: 0.7143\n",
      "Epoch 316/1000\n",
      "4/4 [==============================] - 0s 27ms/step - loss: 0.4801 - accuracy: 0.8099 - val_loss: 0.5920 - val_accuracy: 0.7143\n",
      "Epoch 317/1000\n",
      "4/4 [==============================] - 0s 29ms/step - loss: 0.4790 - accuracy: 0.8099 - val_loss: 0.5904 - val_accuracy: 0.7143\n",
      "Epoch 318/1000\n",
      "4/4 [==============================] - 0s 28ms/step - loss: 0.4778 - accuracy: 0.8099 - val_loss: 0.5900 - val_accuracy: 0.7143\n",
      "Epoch 319/1000\n",
      "4/4 [==============================] - 0s 28ms/step - loss: 0.4769 - accuracy: 0.8017 - val_loss: 0.5897 - val_accuracy: 0.7143\n",
      "Epoch 320/1000\n",
      "4/4 [==============================] - 0s 29ms/step - loss: 0.4756 - accuracy: 0.8017 - val_loss: 0.5870 - val_accuracy: 0.7143\n",
      "Epoch 321/1000\n",
      "4/4 [==============================] - 0s 27ms/step - loss: 0.4749 - accuracy: 0.8099 - val_loss: 0.5837 - val_accuracy: 0.7143\n",
      "Epoch 322/1000\n",
      "4/4 [==============================] - 0s 30ms/step - loss: 0.4738 - accuracy: 0.8182 - val_loss: 0.5806 - val_accuracy: 0.7857\n",
      "Epoch 323/1000\n",
      "4/4 [==============================] - 0s 28ms/step - loss: 0.4725 - accuracy: 0.8347 - val_loss: 0.5798 - val_accuracy: 0.7857\n",
      "Epoch 324/1000\n",
      "4/4 [==============================] - 0s 31ms/step - loss: 0.4714 - accuracy: 0.8347 - val_loss: 0.5786 - val_accuracy: 0.7857\n",
      "Epoch 325/1000\n",
      "4/4 [==============================] - 0s 27ms/step - loss: 0.4704 - accuracy: 0.8099 - val_loss: 0.5785 - val_accuracy: 0.7143\n",
      "Epoch 326/1000\n",
      "4/4 [==============================] - 0s 28ms/step - loss: 0.4694 - accuracy: 0.8099 - val_loss: 0.5781 - val_accuracy: 0.7143\n",
      "Epoch 327/1000\n",
      "4/4 [==============================] - 0s 28ms/step - loss: 0.4686 - accuracy: 0.8264 - val_loss: 0.5752 - val_accuracy: 0.7857\n",
      "Epoch 328/1000\n",
      "4/4 [==============================] - 0s 28ms/step - loss: 0.4674 - accuracy: 0.8264 - val_loss: 0.5754 - val_accuracy: 0.7143\n",
      "Epoch 329/1000\n",
      "4/4 [==============================] - 0s 29ms/step - loss: 0.4662 - accuracy: 0.8264 - val_loss: 0.5738 - val_accuracy: 0.7857\n",
      "Epoch 330/1000\n",
      "4/4 [==============================] - 0s 28ms/step - loss: 0.4652 - accuracy: 0.8264 - val_loss: 0.5722 - val_accuracy: 0.7857\n",
      "Epoch 331/1000\n",
      "4/4 [==============================] - 0s 27ms/step - loss: 0.4644 - accuracy: 0.8264 - val_loss: 0.5720 - val_accuracy: 0.7143\n",
      "Epoch 332/1000\n",
      "4/4 [==============================] - 0s 29ms/step - loss: 0.4632 - accuracy: 0.8264 - val_loss: 0.5707 - val_accuracy: 0.7857\n",
      "Epoch 333/1000\n",
      "4/4 [==============================] - 0s 27ms/step - loss: 0.4628 - accuracy: 0.8430 - val_loss: 0.5672 - val_accuracy: 0.7857\n",
      "Epoch 334/1000\n",
      "4/4 [==============================] - 0s 28ms/step - loss: 0.4614 - accuracy: 0.8512 - val_loss: 0.5664 - val_accuracy: 0.7857\n",
      "Epoch 335/1000\n",
      "4/4 [==============================] - 0s 28ms/step - loss: 0.4605 - accuracy: 0.8347 - val_loss: 0.5653 - val_accuracy: 0.7857\n",
      "Epoch 336/1000\n",
      "4/4 [==============================] - 0s 27ms/step - loss: 0.4594 - accuracy: 0.8347 - val_loss: 0.5645 - val_accuracy: 0.7857\n",
      "Epoch 337/1000\n",
      "4/4 [==============================] - 0s 28ms/step - loss: 0.4585 - accuracy: 0.8347 - val_loss: 0.5632 - val_accuracy: 0.7857\n",
      "Epoch 338/1000\n",
      "4/4 [==============================] - 0s 28ms/step - loss: 0.4575 - accuracy: 0.8595 - val_loss: 0.5612 - val_accuracy: 0.8571\n",
      "Epoch 339/1000\n",
      "4/4 [==============================] - 0s 28ms/step - loss: 0.4565 - accuracy: 0.8595 - val_loss: 0.5593 - val_accuracy: 0.8571\n",
      "Epoch 340/1000\n",
      "4/4 [==============================] - 0s 29ms/step - loss: 0.4558 - accuracy: 0.8595 - val_loss: 0.5575 - val_accuracy: 0.8571\n",
      "Epoch 341/1000\n",
      "4/4 [==============================] - 0s 26ms/step - loss: 0.4549 - accuracy: 0.8595 - val_loss: 0.5583 - val_accuracy: 0.7857\n",
      "Epoch 342/1000\n",
      "4/4 [==============================] - 0s 27ms/step - loss: 0.4539 - accuracy: 0.8595 - val_loss: 0.5572 - val_accuracy: 0.8571\n",
      "Epoch 343/1000\n",
      "4/4 [==============================] - 0s 29ms/step - loss: 0.4529 - accuracy: 0.8595 - val_loss: 0.5546 - val_accuracy: 0.8571\n",
      "Epoch 344/1000\n",
      "4/4 [==============================] - 0s 26ms/step - loss: 0.4521 - accuracy: 0.8595 - val_loss: 0.5549 - val_accuracy: 0.8571\n",
      "Epoch 345/1000\n",
      "4/4 [==============================] - 0s 27ms/step - loss: 0.4510 - accuracy: 0.8595 - val_loss: 0.5535 - val_accuracy: 0.8571\n",
      "Epoch 346/1000\n",
      "4/4 [==============================] - 0s 27ms/step - loss: 0.4501 - accuracy: 0.8595 - val_loss: 0.5518 - val_accuracy: 0.8571\n",
      "Epoch 347/1000\n",
      "4/4 [==============================] - 0s 26ms/step - loss: 0.4492 - accuracy: 0.8595 - val_loss: 0.5513 - val_accuracy: 0.8571\n",
      "Epoch 348/1000\n",
      "4/4 [==============================] - 0s 26ms/step - loss: 0.4484 - accuracy: 0.8595 - val_loss: 0.5496 - val_accuracy: 0.8571\n",
      "Epoch 349/1000\n",
      "4/4 [==============================] - 0s 27ms/step - loss: 0.4474 - accuracy: 0.8595 - val_loss: 0.5488 - val_accuracy: 0.8571\n",
      "Epoch 350/1000\n",
      "4/4 [==============================] - 0s 26ms/step - loss: 0.4467 - accuracy: 0.8595 - val_loss: 0.5491 - val_accuracy: 0.8571\n",
      "Epoch 351/1000\n",
      "4/4 [==============================] - 0s 27ms/step - loss: 0.4457 - accuracy: 0.8595 - val_loss: 0.5485 - val_accuracy: 0.8571\n",
      "Epoch 352/1000\n",
      "4/4 [==============================] - 0s 32ms/step - loss: 0.4448 - accuracy: 0.8595 - val_loss: 0.5472 - val_accuracy: 0.8571\n",
      "Epoch 353/1000\n",
      "4/4 [==============================] - 0s 32ms/step - loss: 0.4439 - accuracy: 0.8595 - val_loss: 0.5459 - val_accuracy: 0.8571\n",
      "Epoch 354/1000\n",
      "4/4 [==============================] - 0s 31ms/step - loss: 0.4430 - accuracy: 0.8595 - val_loss: 0.5449 - val_accuracy: 0.8571\n",
      "Epoch 355/1000\n",
      "4/4 [==============================] - 0s 29ms/step - loss: 0.4422 - accuracy: 0.8595 - val_loss: 0.5437 - val_accuracy: 0.8571\n",
      "Epoch 356/1000\n",
      "4/4 [==============================] - 0s 28ms/step - loss: 0.4414 - accuracy: 0.8595 - val_loss: 0.5426 - val_accuracy: 0.8571\n",
      "Epoch 357/1000\n",
      "4/4 [==============================] - 0s 28ms/step - loss: 0.4405 - accuracy: 0.8595 - val_loss: 0.5408 - val_accuracy: 0.9286\n",
      "Epoch 358/1000\n",
      "4/4 [==============================] - 0s 28ms/step - loss: 0.4396 - accuracy: 0.8678 - val_loss: 0.5394 - val_accuracy: 0.9286\n",
      "Epoch 359/1000\n",
      "4/4 [==============================] - 0s 31ms/step - loss: 0.4389 - accuracy: 0.8678 - val_loss: 0.5392 - val_accuracy: 0.9286\n",
      "Epoch 360/1000\n",
      "4/4 [==============================] - 0s 27ms/step - loss: 0.4381 - accuracy: 0.8595 - val_loss: 0.5391 - val_accuracy: 0.8571\n",
      "Epoch 361/1000\n",
      "4/4 [==============================] - 0s 29ms/step - loss: 0.4371 - accuracy: 0.8595 - val_loss: 0.5365 - val_accuracy: 0.9286\n",
      "Epoch 362/1000\n",
      "4/4 [==============================] - 0s 28ms/step - loss: 0.4363 - accuracy: 0.8678 - val_loss: 0.5340 - val_accuracy: 0.9286\n",
      "Epoch 363/1000\n",
      "4/4 [==============================] - 0s 26ms/step - loss: 0.4360 - accuracy: 0.8678 - val_loss: 0.5342 - val_accuracy: 0.9286\n",
      "Epoch 364/1000\n",
      "4/4 [==============================] - 0s 29ms/step - loss: 0.4347 - accuracy: 0.8678 - val_loss: 0.5311 - val_accuracy: 0.9286\n",
      "Epoch 365/1000\n",
      "4/4 [==============================] - 0s 31ms/step - loss: 0.4340 - accuracy: 0.8760 - val_loss: 0.5286 - val_accuracy: 0.9286\n",
      "Epoch 366/1000\n",
      "4/4 [==============================] - 0s 32ms/step - loss: 0.4332 - accuracy: 0.8926 - val_loss: 0.5253 - val_accuracy: 0.9286\n",
      "Epoch 367/1000\n",
      "4/4 [==============================] - 0s 29ms/step - loss: 0.4330 - accuracy: 0.9008 - val_loss: 0.5226 - val_accuracy: 0.9286\n",
      "Epoch 368/1000\n",
      "4/4 [==============================] - 0s 30ms/step - loss: 0.4316 - accuracy: 0.9091 - val_loss: 0.5226 - val_accuracy: 0.9286\n",
      "Epoch 369/1000\n",
      "4/4 [==============================] - 0s 28ms/step - loss: 0.4314 - accuracy: 0.9008 - val_loss: 0.5250 - val_accuracy: 0.9286\n",
      "Epoch 370/1000\n",
      "4/4 [==============================] - 0s 27ms/step - loss: 0.4299 - accuracy: 0.8843 - val_loss: 0.5247 - val_accuracy: 0.9286\n",
      "Epoch 371/1000\n",
      "4/4 [==============================] - 0s 28ms/step - loss: 0.4291 - accuracy: 0.8843 - val_loss: 0.5237 - val_accuracy: 0.9286\n",
      "Epoch 372/1000\n",
      "4/4 [==============================] - 0s 29ms/step - loss: 0.4286 - accuracy: 0.8843 - val_loss: 0.5213 - val_accuracy: 0.9286\n",
      "Epoch 373/1000\n",
      "4/4 [==============================] - 0s 27ms/step - loss: 0.4275 - accuracy: 0.9008 - val_loss: 0.5211 - val_accuracy: 0.9286\n",
      "Epoch 374/1000\n",
      "4/4 [==============================] - 0s 26ms/step - loss: 0.4267 - accuracy: 0.8843 - val_loss: 0.5213 - val_accuracy: 0.9286\n",
      "Epoch 375/1000\n",
      "4/4 [==============================] - 0s 27ms/step - loss: 0.4259 - accuracy: 0.8843 - val_loss: 0.5209 - val_accuracy: 0.9286\n",
      "Epoch 376/1000\n",
      "4/4 [==============================] - 0s 28ms/step - loss: 0.4252 - accuracy: 0.8843 - val_loss: 0.5202 - val_accuracy: 0.9286\n",
      "Epoch 377/1000\n",
      "4/4 [==============================] - 0s 26ms/step - loss: 0.4245 - accuracy: 0.8760 - val_loss: 0.5193 - val_accuracy: 0.9286\n",
      "Epoch 378/1000\n",
      "4/4 [==============================] - 0s 28ms/step - loss: 0.4237 - accuracy: 0.8843 - val_loss: 0.5186 - val_accuracy: 0.9286\n",
      "Epoch 379/1000\n",
      "4/4 [==============================] - 0s 25ms/step - loss: 0.4232 - accuracy: 0.8760 - val_loss: 0.5198 - val_accuracy: 0.9286\n",
      "Epoch 380/1000\n",
      "4/4 [==============================] - 0s 27ms/step - loss: 0.4222 - accuracy: 0.8760 - val_loss: 0.5188 - val_accuracy: 0.9286\n",
      "Epoch 381/1000\n",
      "4/4 [==============================] - 0s 29ms/step - loss: 0.4218 - accuracy: 0.8678 - val_loss: 0.5185 - val_accuracy: 0.9286\n",
      "Epoch 382/1000\n",
      "4/4 [==============================] - 0s 30ms/step - loss: 0.4206 - accuracy: 0.8678 - val_loss: 0.5157 - val_accuracy: 0.9286\n",
      "Epoch 383/1000\n",
      "4/4 [==============================] - 0s 31ms/step - loss: 0.4199 - accuracy: 0.8926 - val_loss: 0.5129 - val_accuracy: 0.9286\n",
      "Epoch 384/1000\n",
      "4/4 [==============================] - 0s 30ms/step - loss: 0.4191 - accuracy: 0.9008 - val_loss: 0.5109 - val_accuracy: 0.9286\n",
      "Epoch 385/1000\n",
      "4/4 [==============================] - 0s 29ms/step - loss: 0.4186 - accuracy: 0.9008 - val_loss: 0.5082 - val_accuracy: 0.9286\n",
      "Epoch 386/1000\n",
      "4/4 [==============================] - 0s 27ms/step - loss: 0.4180 - accuracy: 0.9008 - val_loss: 0.5084 - val_accuracy: 0.9286\n",
      "Epoch 387/1000\n",
      "4/4 [==============================] - 0s 28ms/step - loss: 0.4170 - accuracy: 0.9008 - val_loss: 0.5078 - val_accuracy: 0.9286\n",
      "Epoch 388/1000\n",
      "4/4 [==============================] - 0s 28ms/step - loss: 0.4166 - accuracy: 0.9008 - val_loss: 0.5087 - val_accuracy: 0.9286\n",
      "Epoch 389/1000\n",
      "4/4 [==============================] - 0s 27ms/step - loss: 0.4156 - accuracy: 0.8926 - val_loss: 0.5080 - val_accuracy: 0.9286\n",
      "Epoch 390/1000\n",
      "4/4 [==============================] - 0s 30ms/step - loss: 0.4148 - accuracy: 0.9008 - val_loss: 0.5066 - val_accuracy: 0.9286\n",
      "Epoch 391/1000\n",
      "4/4 [==============================] - 0s 29ms/step - loss: 0.4141 - accuracy: 0.9008 - val_loss: 0.5053 - val_accuracy: 0.9286\n",
      "Epoch 392/1000\n",
      "4/4 [==============================] - 0s 29ms/step - loss: 0.4134 - accuracy: 0.9008 - val_loss: 0.5030 - val_accuracy: 0.9286\n",
      "Epoch 393/1000\n",
      "4/4 [==============================] - 0s 27ms/step - loss: 0.4129 - accuracy: 0.9091 - val_loss: 0.5006 - val_accuracy: 0.9286\n",
      "Epoch 394/1000\n",
      "4/4 [==============================] - 0s 26ms/step - loss: 0.4122 - accuracy: 0.9091 - val_loss: 0.5016 - val_accuracy: 0.9286\n",
      "Epoch 395/1000\n",
      "4/4 [==============================] - 0s 26ms/step - loss: 0.4113 - accuracy: 0.9008 - val_loss: 0.5014 - val_accuracy: 0.9286\n",
      "Epoch 396/1000\n",
      "4/4 [==============================] - 0s 28ms/step - loss: 0.4107 - accuracy: 0.9008 - val_loss: 0.4993 - val_accuracy: 0.9286\n",
      "Epoch 397/1000\n",
      "4/4 [==============================] - 0s 28ms/step - loss: 0.4099 - accuracy: 0.9091 - val_loss: 0.4989 - val_accuracy: 0.9286\n",
      "Epoch 398/1000\n",
      "4/4 [==============================] - 0s 26ms/step - loss: 0.4092 - accuracy: 0.9008 - val_loss: 0.4990 - val_accuracy: 0.9286\n",
      "Epoch 399/1000\n",
      "4/4 [==============================] - 0s 27ms/step - loss: 0.4085 - accuracy: 0.9008 - val_loss: 0.4983 - val_accuracy: 0.9286\n",
      "Epoch 400/1000\n",
      "4/4 [==============================] - 0s 28ms/step - loss: 0.4077 - accuracy: 0.9008 - val_loss: 0.4967 - val_accuracy: 0.9286\n",
      "Epoch 401/1000\n",
      "4/4 [==============================] - 0s 29ms/step - loss: 0.4070 - accuracy: 0.9008 - val_loss: 0.4961 - val_accuracy: 0.9286\n",
      "Epoch 402/1000\n",
      "4/4 [==============================] - 0s 29ms/step - loss: 0.4065 - accuracy: 0.9091 - val_loss: 0.4939 - val_accuracy: 0.9286\n",
      "Epoch 403/1000\n",
      "4/4 [==============================] - 0s 30ms/step - loss: 0.4057 - accuracy: 0.9091 - val_loss: 0.4928 - val_accuracy: 0.9286\n",
      "Epoch 404/1000\n",
      "4/4 [==============================] - 0s 27ms/step - loss: 0.4049 - accuracy: 0.9091 - val_loss: 0.4925 - val_accuracy: 0.9286\n",
      "Epoch 405/1000\n",
      "4/4 [==============================] - 0s 27ms/step - loss: 0.4042 - accuracy: 0.9091 - val_loss: 0.4920 - val_accuracy: 0.9286\n",
      "Epoch 406/1000\n",
      "4/4 [==============================] - 0s 26ms/step - loss: 0.4040 - accuracy: 0.9008 - val_loss: 0.4936 - val_accuracy: 0.9286\n",
      "Epoch 407/1000\n",
      "4/4 [==============================] - 0s 27ms/step - loss: 0.4033 - accuracy: 0.9008 - val_loss: 0.4938 - val_accuracy: 0.9286\n",
      "Epoch 408/1000\n",
      "4/4 [==============================] - 0s 29ms/step - loss: 0.4022 - accuracy: 0.9008 - val_loss: 0.4911 - val_accuracy: 0.9286\n",
      "Epoch 409/1000\n",
      "4/4 [==============================] - 0s 28ms/step - loss: 0.4018 - accuracy: 0.9008 - val_loss: 0.4875 - val_accuracy: 0.9286\n",
      "Epoch 410/1000\n",
      "4/4 [==============================] - 0s 28ms/step - loss: 0.4009 - accuracy: 0.9091 - val_loss: 0.4855 - val_accuracy: 0.9286\n",
      "Epoch 411/1000\n",
      "4/4 [==============================] - 0s 28ms/step - loss: 0.4003 - accuracy: 0.9256 - val_loss: 0.4842 - val_accuracy: 0.9286\n",
      "Epoch 412/1000\n",
      "4/4 [==============================] - 0s 29ms/step - loss: 0.3996 - accuracy: 0.9256 - val_loss: 0.4836 - val_accuracy: 0.9286\n",
      "Epoch 413/1000\n",
      "4/4 [==============================] - 0s 28ms/step - loss: 0.3989 - accuracy: 0.9339 - val_loss: 0.4821 - val_accuracy: 0.9286\n",
      "Epoch 414/1000\n",
      "4/4 [==============================] - 0s 31ms/step - loss: 0.3983 - accuracy: 0.9339 - val_loss: 0.4818 - val_accuracy: 0.9286\n",
      "Epoch 415/1000\n",
      "4/4 [==============================] - 0s 29ms/step - loss: 0.3975 - accuracy: 0.9339 - val_loss: 0.4807 - val_accuracy: 0.9286\n",
      "Epoch 416/1000\n",
      "4/4 [==============================] - 0s 29ms/step - loss: 0.3973 - accuracy: 0.9339 - val_loss: 0.4787 - val_accuracy: 0.9286\n",
      "Epoch 417/1000\n",
      "4/4 [==============================] - 0s 26ms/step - loss: 0.3966 - accuracy: 0.9256 - val_loss: 0.4807 - val_accuracy: 0.9286\n",
      "Epoch 418/1000\n",
      "4/4 [==============================] - 0s 26ms/step - loss: 0.3956 - accuracy: 0.9174 - val_loss: 0.4810 - val_accuracy: 0.9286\n",
      "Epoch 419/1000\n",
      "4/4 [==============================] - 0s 27ms/step - loss: 0.3949 - accuracy: 0.9091 - val_loss: 0.4800 - val_accuracy: 0.9286\n",
      "Epoch 420/1000\n",
      "4/4 [==============================] - 0s 27ms/step - loss: 0.3943 - accuracy: 0.9174 - val_loss: 0.4782 - val_accuracy: 0.9286\n",
      "Epoch 421/1000\n",
      "4/4 [==============================] - 0s 30ms/step - loss: 0.3936 - accuracy: 0.9256 - val_loss: 0.4781 - val_accuracy: 0.9286\n",
      "Epoch 422/1000\n",
      "4/4 [==============================] - 0s 29ms/step - loss: 0.3929 - accuracy: 0.9256 - val_loss: 0.4762 - val_accuracy: 0.9286\n",
      "Epoch 423/1000\n",
      "4/4 [==============================] - 0s 30ms/step - loss: 0.3922 - accuracy: 0.9339 - val_loss: 0.4752 - val_accuracy: 0.9286\n",
      "Epoch 424/1000\n",
      "4/4 [==============================] - 0s 30ms/step - loss: 0.3916 - accuracy: 0.9339 - val_loss: 0.4740 - val_accuracy: 0.9286\n",
      "Epoch 425/1000\n",
      "4/4 [==============================] - 0s 28ms/step - loss: 0.3909 - accuracy: 0.9339 - val_loss: 0.4721 - val_accuracy: 0.9286\n",
      "Epoch 426/1000\n",
      "4/4 [==============================] - 0s 27ms/step - loss: 0.3904 - accuracy: 0.9339 - val_loss: 0.4710 - val_accuracy: 0.9286\n",
      "Epoch 427/1000\n",
      "4/4 [==============================] - 0s 28ms/step - loss: 0.3897 - accuracy: 0.9339 - val_loss: 0.4700 - val_accuracy: 0.9286\n",
      "Epoch 428/1000\n",
      "4/4 [==============================] - 0s 27ms/step - loss: 0.3890 - accuracy: 0.9339 - val_loss: 0.4685 - val_accuracy: 0.9286\n",
      "Epoch 429/1000\n",
      "4/4 [==============================] - 0s 28ms/step - loss: 0.3884 - accuracy: 0.9339 - val_loss: 0.4681 - val_accuracy: 0.9286\n",
      "Epoch 430/1000\n",
      "4/4 [==============================] - 0s 27ms/step - loss: 0.3878 - accuracy: 0.9339 - val_loss: 0.4669 - val_accuracy: 0.9286\n",
      "Epoch 431/1000\n",
      "4/4 [==============================] - 0s 28ms/step - loss: 0.3872 - accuracy: 0.9339 - val_loss: 0.4664 - val_accuracy: 0.9286\n",
      "Epoch 432/1000\n",
      "4/4 [==============================] - 0s 27ms/step - loss: 0.3864 - accuracy: 0.9339 - val_loss: 0.4663 - val_accuracy: 0.9286\n",
      "Epoch 433/1000\n",
      "4/4 [==============================] - 0s 26ms/step - loss: 0.3859 - accuracy: 0.9339 - val_loss: 0.4664 - val_accuracy: 0.9286\n",
      "Epoch 434/1000\n",
      "4/4 [==============================] - 0s 27ms/step - loss: 0.3852 - accuracy: 0.9339 - val_loss: 0.4656 - val_accuracy: 0.9286\n",
      "Epoch 435/1000\n",
      "4/4 [==============================] - 0s 26ms/step - loss: 0.3845 - accuracy: 0.9339 - val_loss: 0.4661 - val_accuracy: 0.9286\n",
      "Epoch 436/1000\n",
      "4/4 [==============================] - 0s 26ms/step - loss: 0.3840 - accuracy: 0.9339 - val_loss: 0.4664 - val_accuracy: 0.9286\n",
      "Epoch 437/1000\n",
      "4/4 [==============================] - 0s 30ms/step - loss: 0.3834 - accuracy: 0.9339 - val_loss: 0.4643 - val_accuracy: 0.9286\n",
      "Epoch 438/1000\n",
      "4/4 [==============================] - 0s 31ms/step - loss: 0.3827 - accuracy: 0.9339 - val_loss: 0.4632 - val_accuracy: 0.9286\n",
      "Epoch 439/1000\n",
      "4/4 [==============================] - 0s 29ms/step - loss: 0.3821 - accuracy: 0.9339 - val_loss: 0.4614 - val_accuracy: 0.9286\n",
      "Epoch 440/1000\n",
      "4/4 [==============================] - 0s 29ms/step - loss: 0.3815 - accuracy: 0.9339 - val_loss: 0.4608 - val_accuracy: 0.9286\n",
      "Epoch 441/1000\n",
      "4/4 [==============================] - 0s 34ms/step - loss: 0.3808 - accuracy: 0.9339 - val_loss: 0.4590 - val_accuracy: 0.9286\n",
      "Epoch 442/1000\n",
      "4/4 [==============================] - 0s 29ms/step - loss: 0.3801 - accuracy: 0.9339 - val_loss: 0.4586 - val_accuracy: 0.9286\n",
      "Epoch 443/1000\n",
      "4/4 [==============================] - 0s 28ms/step - loss: 0.3796 - accuracy: 0.9339 - val_loss: 0.4574 - val_accuracy: 0.9286\n",
      "Epoch 444/1000\n",
      "4/4 [==============================] - 0s 27ms/step - loss: 0.3793 - accuracy: 0.9339 - val_loss: 0.4561 - val_accuracy: 0.9286\n",
      "Epoch 445/1000\n",
      "4/4 [==============================] - 0s 25ms/step - loss: 0.3782 - accuracy: 0.9339 - val_loss: 0.4567 - val_accuracy: 0.9286\n",
      "Epoch 446/1000\n",
      "4/4 [==============================] - 0s 27ms/step - loss: 0.3778 - accuracy: 0.9339 - val_loss: 0.4557 - val_accuracy: 0.9286\n",
      "Epoch 447/1000\n",
      "4/4 [==============================] - 0s 25ms/step - loss: 0.3771 - accuracy: 0.9339 - val_loss: 0.4559 - val_accuracy: 0.9286\n",
      "Epoch 448/1000\n",
      "4/4 [==============================] - 0s 26ms/step - loss: 0.3766 - accuracy: 0.9339 - val_loss: 0.4572 - val_accuracy: 0.9286\n",
      "Epoch 449/1000\n",
      "4/4 [==============================] - 0s 26ms/step - loss: 0.3759 - accuracy: 0.9339 - val_loss: 0.4565 - val_accuracy: 0.9286\n",
      "Epoch 450/1000\n",
      "4/4 [==============================] - 0s 29ms/step - loss: 0.3754 - accuracy: 0.9339 - val_loss: 0.4547 - val_accuracy: 0.9286\n",
      "Epoch 451/1000\n",
      "4/4 [==============================] - 0s 29ms/step - loss: 0.3747 - accuracy: 0.9339 - val_loss: 0.4543 - val_accuracy: 0.9286\n",
      "Epoch 452/1000\n",
      "4/4 [==============================] - 0s 28ms/step - loss: 0.3741 - accuracy: 0.9339 - val_loss: 0.4523 - val_accuracy: 0.9286\n",
      "Epoch 453/1000\n",
      "4/4 [==============================] - 0s 27ms/step - loss: 0.3736 - accuracy: 0.9339 - val_loss: 0.4526 - val_accuracy: 0.9286\n",
      "Epoch 454/1000\n",
      "4/4 [==============================] - 0s 30ms/step - loss: 0.3729 - accuracy: 0.9339 - val_loss: 0.4504 - val_accuracy: 0.9286\n",
      "Epoch 455/1000\n",
      "4/4 [==============================] - 0s 31ms/step - loss: 0.3724 - accuracy: 0.9339 - val_loss: 0.4480 - val_accuracy: 0.9286\n",
      "Epoch 456/1000\n",
      "4/4 [==============================] - 0s 30ms/step - loss: 0.3716 - accuracy: 0.9339 - val_loss: 0.4468 - val_accuracy: 0.9286\n",
      "Epoch 457/1000\n",
      "4/4 [==============================] - 0s 33ms/step - loss: 0.3715 - accuracy: 0.9339 - val_loss: 0.4444 - val_accuracy: 0.9286\n",
      "Epoch 458/1000\n",
      "4/4 [==============================] - 0s 28ms/step - loss: 0.3704 - accuracy: 0.9339 - val_loss: 0.4441 - val_accuracy: 0.9286\n",
      "Epoch 459/1000\n",
      "4/4 [==============================] - 0s 28ms/step - loss: 0.3699 - accuracy: 0.9339 - val_loss: 0.4453 - val_accuracy: 0.9286\n",
      "Epoch 460/1000\n",
      "4/4 [==============================] - 0s 28ms/step - loss: 0.3692 - accuracy: 0.9339 - val_loss: 0.4454 - val_accuracy: 0.9286\n",
      "Epoch 461/1000\n",
      "4/4 [==============================] - 0s 28ms/step - loss: 0.3686 - accuracy: 0.9339 - val_loss: 0.4445 - val_accuracy: 0.9286\n",
      "Epoch 462/1000\n",
      "4/4 [==============================] - 0s 31ms/step - loss: 0.3680 - accuracy: 0.9339 - val_loss: 0.4423 - val_accuracy: 0.9286\n",
      "Epoch 463/1000\n",
      "4/4 [==============================] - 0s 31ms/step - loss: 0.3674 - accuracy: 0.9339 - val_loss: 0.4418 - val_accuracy: 0.9286\n",
      "Epoch 464/1000\n",
      "4/4 [==============================] - 0s 32ms/step - loss: 0.3671 - accuracy: 0.9339 - val_loss: 0.4389 - val_accuracy: 0.9286\n",
      "Epoch 465/1000\n",
      "4/4 [==============================] - 0s 33ms/step - loss: 0.3662 - accuracy: 0.9339 - val_loss: 0.4380 - val_accuracy: 0.9286\n",
      "Epoch 466/1000\n",
      "4/4 [==============================] - 0s 33ms/step - loss: 0.3657 - accuracy: 0.9339 - val_loss: 0.4362 - val_accuracy: 0.9286\n",
      "Epoch 467/1000\n",
      "4/4 [==============================] - 0s 32ms/step - loss: 0.3656 - accuracy: 0.9339 - val_loss: 0.4380 - val_accuracy: 0.9286\n",
      "Epoch 468/1000\n",
      "4/4 [==============================] - 0s 32ms/step - loss: 0.3645 - accuracy: 0.9339 - val_loss: 0.4366 - val_accuracy: 0.9286\n",
      "Epoch 469/1000\n",
      "4/4 [==============================] - 0s 29ms/step - loss: 0.3641 - accuracy: 0.9339 - val_loss: 0.4372 - val_accuracy: 0.9286\n",
      "Epoch 470/1000\n",
      "4/4 [==============================] - 0s 29ms/step - loss: 0.3635 - accuracy: 0.9339 - val_loss: 0.4339 - val_accuracy: 0.9286\n",
      "Epoch 471/1000\n",
      "4/4 [==============================] - 0s 31ms/step - loss: 0.3628 - accuracy: 0.9339 - val_loss: 0.4320 - val_accuracy: 1.0000\n",
      "Epoch 472/1000\n",
      "4/4 [==============================] - 0s 32ms/step - loss: 0.3622 - accuracy: 0.9339 - val_loss: 0.4308 - val_accuracy: 1.0000\n",
      "Epoch 473/1000\n",
      "4/4 [==============================] - 0s 30ms/step - loss: 0.3614 - accuracy: 0.9339 - val_loss: 0.4316 - val_accuracy: 0.9286\n",
      "Epoch 474/1000\n",
      "4/4 [==============================] - 0s 30ms/step - loss: 0.3608 - accuracy: 0.9339 - val_loss: 0.4313 - val_accuracy: 0.9286\n",
      "Epoch 475/1000\n",
      "4/4 [==============================] - 0s 30ms/step - loss: 0.3603 - accuracy: 0.9339 - val_loss: 0.4315 - val_accuracy: 0.9286\n",
      "Epoch 476/1000\n",
      "4/4 [==============================] - 0s 32ms/step - loss: 0.3597 - accuracy: 0.9339 - val_loss: 0.4305 - val_accuracy: 0.9286\n",
      "Epoch 477/1000\n",
      "4/4 [==============================] - 0s 32ms/step - loss: 0.3590 - accuracy: 0.9339 - val_loss: 0.4302 - val_accuracy: 0.9286\n",
      "Epoch 478/1000\n",
      "4/4 [==============================] - 0s 29ms/step - loss: 0.3585 - accuracy: 0.9339 - val_loss: 0.4304 - val_accuracy: 0.9286\n",
      "Epoch 479/1000\n",
      "4/4 [==============================] - 0s 32ms/step - loss: 0.3579 - accuracy: 0.9339 - val_loss: 0.4300 - val_accuracy: 0.9286\n",
      "Epoch 480/1000\n",
      "4/4 [==============================] - 0s 31ms/step - loss: 0.3573 - accuracy: 0.9339 - val_loss: 0.4293 - val_accuracy: 0.9286\n",
      "Epoch 481/1000\n",
      "4/4 [==============================] - 0s 31ms/step - loss: 0.3568 - accuracy: 0.9339 - val_loss: 0.4283 - val_accuracy: 0.9286\n",
      "Epoch 482/1000\n",
      "4/4 [==============================] - 0s 28ms/step - loss: 0.3564 - accuracy: 0.9339 - val_loss: 0.4264 - val_accuracy: 0.9286\n",
      "Epoch 483/1000\n",
      "4/4 [==============================] - 0s 31ms/step - loss: 0.3556 - accuracy: 0.9339 - val_loss: 0.4259 - val_accuracy: 0.9286\n",
      "Epoch 484/1000\n",
      "4/4 [==============================] - 0s 36ms/step - loss: 0.3550 - accuracy: 0.9339 - val_loss: 0.4252 - val_accuracy: 0.9286\n",
      "Epoch 485/1000\n",
      "4/4 [==============================] - 0s 35ms/step - loss: 0.3545 - accuracy: 0.9339 - val_loss: 0.4255 - val_accuracy: 0.9286\n",
      "Epoch 486/1000\n",
      "4/4 [==============================] - 0s 28ms/step - loss: 0.3539 - accuracy: 0.9339 - val_loss: 0.4251 - val_accuracy: 0.9286\n",
      "Epoch 487/1000\n",
      "4/4 [==============================] - 0s 28ms/step - loss: 0.3533 - accuracy: 0.9339 - val_loss: 0.4238 - val_accuracy: 0.9286\n",
      "Epoch 488/1000\n",
      "4/4 [==============================] - 0s 31ms/step - loss: 0.3527 - accuracy: 0.9339 - val_loss: 0.4215 - val_accuracy: 0.9286\n",
      "Epoch 489/1000\n",
      "4/4 [==============================] - 0s 29ms/step - loss: 0.3521 - accuracy: 0.9339 - val_loss: 0.4202 - val_accuracy: 1.0000\n",
      "Epoch 490/1000\n",
      "4/4 [==============================] - 0s 29ms/step - loss: 0.3515 - accuracy: 0.9339 - val_loss: 0.4190 - val_accuracy: 1.0000\n",
      "Epoch 491/1000\n",
      "4/4 [==============================] - 0s 28ms/step - loss: 0.3511 - accuracy: 0.9339 - val_loss: 0.4179 - val_accuracy: 1.0000\n",
      "Epoch 492/1000\n",
      "4/4 [==============================] - 0s 29ms/step - loss: 0.3503 - accuracy: 0.9421 - val_loss: 0.4155 - val_accuracy: 1.0000\n",
      "Epoch 493/1000\n",
      "4/4 [==============================] - 0s 29ms/step - loss: 0.3498 - accuracy: 0.9421 - val_loss: 0.4139 - val_accuracy: 1.0000\n",
      "Epoch 494/1000\n",
      "4/4 [==============================] - 0s 30ms/step - loss: 0.3493 - accuracy: 0.9421 - val_loss: 0.4129 - val_accuracy: 1.0000\n",
      "Epoch 495/1000\n",
      "4/4 [==============================] - 0s 30ms/step - loss: 0.3488 - accuracy: 0.9504 - val_loss: 0.4111 - val_accuracy: 1.0000\n",
      "Epoch 496/1000\n",
      "4/4 [==============================] - 0s 30ms/step - loss: 0.3482 - accuracy: 0.9504 - val_loss: 0.4110 - val_accuracy: 1.0000\n",
      "Epoch 497/1000\n",
      "4/4 [==============================] - 0s 31ms/step - loss: 0.3476 - accuracy: 0.9504 - val_loss: 0.4109 - val_accuracy: 1.0000\n",
      "Epoch 498/1000\n",
      "4/4 [==============================] - 0s 29ms/step - loss: 0.3469 - accuracy: 0.9504 - val_loss: 0.4108 - val_accuracy: 1.0000\n",
      "Epoch 499/1000\n",
      "4/4 [==============================] - 0s 31ms/step - loss: 0.3464 - accuracy: 0.9421 - val_loss: 0.4101 - val_accuracy: 1.0000\n",
      "Epoch 500/1000\n",
      "4/4 [==============================] - 0s 29ms/step - loss: 0.3459 - accuracy: 0.9421 - val_loss: 0.4110 - val_accuracy: 1.0000\n",
      "Epoch 501/1000\n",
      "4/4 [==============================] - 0s 31ms/step - loss: 0.3454 - accuracy: 0.9421 - val_loss: 0.4101 - val_accuracy: 1.0000\n",
      "Epoch 502/1000\n",
      "4/4 [==============================] - 0s 31ms/step - loss: 0.3449 - accuracy: 0.9421 - val_loss: 0.4083 - val_accuracy: 1.0000\n",
      "Epoch 503/1000\n",
      "4/4 [==============================] - 0s 27ms/step - loss: 0.3446 - accuracy: 0.9421 - val_loss: 0.4098 - val_accuracy: 1.0000\n",
      "Epoch 504/1000\n",
      "4/4 [==============================] - 0s 28ms/step - loss: 0.3435 - accuracy: 0.9421 - val_loss: 0.4088 - val_accuracy: 1.0000\n",
      "Epoch 505/1000\n",
      "4/4 [==============================] - 0s 30ms/step - loss: 0.3433 - accuracy: 0.9339 - val_loss: 0.4088 - val_accuracy: 1.0000\n",
      "Epoch 506/1000\n",
      "4/4 [==============================] - 0s 30ms/step - loss: 0.3424 - accuracy: 0.9421 - val_loss: 0.4060 - val_accuracy: 1.0000\n",
      "Epoch 507/1000\n",
      "4/4 [==============================] - 0s 35ms/step - loss: 0.3419 - accuracy: 0.9504 - val_loss: 0.4045 - val_accuracy: 1.0000\n",
      "Epoch 508/1000\n",
      "4/4 [==============================] - 0s 32ms/step - loss: 0.3412 - accuracy: 0.9504 - val_loss: 0.4027 - val_accuracy: 1.0000\n",
      "Epoch 509/1000\n",
      "4/4 [==============================] - 0s 30ms/step - loss: 0.3408 - accuracy: 0.9504 - val_loss: 0.4007 - val_accuracy: 1.0000\n",
      "Epoch 510/1000\n",
      "4/4 [==============================] - 0s 33ms/step - loss: 0.3404 - accuracy: 0.9504 - val_loss: 0.3990 - val_accuracy: 0.9286\n",
      "Epoch 511/1000\n",
      "4/4 [==============================] - 0s 30ms/step - loss: 0.3400 - accuracy: 0.9504 - val_loss: 0.4005 - val_accuracy: 1.0000\n",
      "Epoch 512/1000\n",
      "4/4 [==============================] - 0s 28ms/step - loss: 0.3392 - accuracy: 0.9504 - val_loss: 0.3998 - val_accuracy: 1.0000\n",
      "Epoch 513/1000\n",
      "4/4 [==============================] - 0s 29ms/step - loss: 0.3385 - accuracy: 0.9504 - val_loss: 0.3991 - val_accuracy: 1.0000\n",
      "Epoch 514/1000\n",
      "4/4 [==============================] - 0s 33ms/step - loss: 0.3382 - accuracy: 0.9504 - val_loss: 0.4001 - val_accuracy: 1.0000\n",
      "Epoch 515/1000\n",
      "4/4 [==============================] - 0s 28ms/step - loss: 0.3373 - accuracy: 0.9504 - val_loss: 0.3986 - val_accuracy: 1.0000\n",
      "Epoch 516/1000\n",
      "4/4 [==============================] - 0s 30ms/step - loss: 0.3368 - accuracy: 0.9504 - val_loss: 0.3973 - val_accuracy: 1.0000\n",
      "Epoch 517/1000\n",
      "4/4 [==============================] - 0s 32ms/step - loss: 0.3363 - accuracy: 0.9504 - val_loss: 0.3971 - val_accuracy: 1.0000\n",
      "Epoch 518/1000\n",
      "4/4 [==============================] - 0s 31ms/step - loss: 0.3357 - accuracy: 0.9504 - val_loss: 0.3966 - val_accuracy: 1.0000\n",
      "Epoch 519/1000\n",
      "4/4 [==============================] - 0s 30ms/step - loss: 0.3352 - accuracy: 0.9504 - val_loss: 0.3950 - val_accuracy: 1.0000\n",
      "Epoch 520/1000\n",
      "4/4 [==============================] - 0s 30ms/step - loss: 0.3346 - accuracy: 0.9504 - val_loss: 0.3955 - val_accuracy: 1.0000\n",
      "Epoch 521/1000\n",
      "4/4 [==============================] - 0s 31ms/step - loss: 0.3340 - accuracy: 0.9504 - val_loss: 0.3947 - val_accuracy: 1.0000\n",
      "Epoch 522/1000\n",
      "4/4 [==============================] - 0s 43ms/step - loss: 0.3335 - accuracy: 0.9504 - val_loss: 0.3944 - val_accuracy: 1.0000\n",
      "Epoch 523/1000\n",
      "4/4 [==============================] - 0s 31ms/step - loss: 0.3330 - accuracy: 0.9504 - val_loss: 0.3937 - val_accuracy: 1.0000\n",
      "Epoch 524/1000\n",
      "4/4 [==============================] - 0s 29ms/step - loss: 0.3330 - accuracy: 0.9504 - val_loss: 0.3900 - val_accuracy: 1.0000\n",
      "Epoch 525/1000\n",
      "4/4 [==============================] - 0s 30ms/step - loss: 0.3319 - accuracy: 0.9504 - val_loss: 0.3893 - val_accuracy: 1.0000\n",
      "Epoch 526/1000\n",
      "4/4 [==============================] - 0s 29ms/step - loss: 0.3313 - accuracy: 0.9504 - val_loss: 0.3892 - val_accuracy: 1.0000\n",
      "Epoch 527/1000\n",
      "4/4 [==============================] - 0s 30ms/step - loss: 0.3308 - accuracy: 0.9504 - val_loss: 0.3883 - val_accuracy: 1.0000\n",
      "Epoch 528/1000\n",
      "4/4 [==============================] - 0s 29ms/step - loss: 0.3302 - accuracy: 0.9504 - val_loss: 0.3895 - val_accuracy: 1.0000\n",
      "Epoch 529/1000\n",
      "4/4 [==============================] - 0s 28ms/step - loss: 0.3298 - accuracy: 0.9504 - val_loss: 0.3905 - val_accuracy: 1.0000\n",
      "Epoch 530/1000\n",
      "4/4 [==============================] - 0s 28ms/step - loss: 0.3293 - accuracy: 0.9504 - val_loss: 0.3887 - val_accuracy: 1.0000\n",
      "Epoch 531/1000\n",
      "4/4 [==============================] - 0s 29ms/step - loss: 0.3285 - accuracy: 0.9504 - val_loss: 0.3878 - val_accuracy: 1.0000\n",
      "Epoch 532/1000\n",
      "4/4 [==============================] - 0s 28ms/step - loss: 0.3285 - accuracy: 0.9504 - val_loss: 0.3890 - val_accuracy: 1.0000\n",
      "Epoch 533/1000\n",
      "4/4 [==============================] - 0s 30ms/step - loss: 0.3274 - accuracy: 0.9504 - val_loss: 0.3870 - val_accuracy: 1.0000\n",
      "Epoch 534/1000\n",
      "4/4 [==============================] - 0s 31ms/step - loss: 0.3271 - accuracy: 0.9504 - val_loss: 0.3842 - val_accuracy: 1.0000\n",
      "Epoch 535/1000\n",
      "4/4 [==============================] - 0s 29ms/step - loss: 0.3265 - accuracy: 0.9504 - val_loss: 0.3831 - val_accuracy: 1.0000\n",
      "Epoch 536/1000\n",
      "4/4 [==============================] - 0s 27ms/step - loss: 0.3262 - accuracy: 0.9504 - val_loss: 0.3840 - val_accuracy: 1.0000\n",
      "Epoch 537/1000\n",
      "4/4 [==============================] - 0s 37ms/step - loss: 0.3253 - accuracy: 0.9504 - val_loss: 0.3834 - val_accuracy: 1.0000\n",
      "Epoch 538/1000\n",
      "4/4 [==============================] - 0s 30ms/step - loss: 0.3247 - accuracy: 0.9504 - val_loss: 0.3816 - val_accuracy: 1.0000\n",
      "Epoch 539/1000\n",
      "4/4 [==============================] - 0s 30ms/step - loss: 0.3244 - accuracy: 0.9504 - val_loss: 0.3815 - val_accuracy: 1.0000\n",
      "Epoch 540/1000\n",
      "4/4 [==============================] - 0s 29ms/step - loss: 0.3237 - accuracy: 0.9504 - val_loss: 0.3790 - val_accuracy: 1.0000\n",
      "Epoch 541/1000\n",
      "4/4 [==============================] - 0s 30ms/step - loss: 0.3232 - accuracy: 0.9504 - val_loss: 0.3776 - val_accuracy: 1.0000\n",
      "Epoch 542/1000\n",
      "4/4 [==============================] - 0s 31ms/step - loss: 0.3231 - accuracy: 0.9504 - val_loss: 0.3751 - val_accuracy: 0.9286\n",
      "Epoch 543/1000\n",
      "4/4 [==============================] - 0s 30ms/step - loss: 0.3221 - accuracy: 0.9587 - val_loss: 0.3756 - val_accuracy: 0.9286\n",
      "Epoch 544/1000\n",
      "4/4 [==============================] - 0s 28ms/step - loss: 0.3218 - accuracy: 0.9504 - val_loss: 0.3770 - val_accuracy: 1.0000\n",
      "Epoch 545/1000\n",
      "4/4 [==============================] - 0s 29ms/step - loss: 0.3211 - accuracy: 0.9504 - val_loss: 0.3772 - val_accuracy: 1.0000\n",
      "Epoch 546/1000\n",
      "4/4 [==============================] - 0s 27ms/step - loss: 0.3204 - accuracy: 0.9504 - val_loss: 0.3763 - val_accuracy: 1.0000\n",
      "Epoch 547/1000\n",
      "4/4 [==============================] - 0s 29ms/step - loss: 0.3198 - accuracy: 0.9504 - val_loss: 0.3750 - val_accuracy: 1.0000\n",
      "Epoch 548/1000\n",
      "4/4 [==============================] - 0s 30ms/step - loss: 0.3194 - accuracy: 0.9504 - val_loss: 0.3734 - val_accuracy: 1.0000\n",
      "Epoch 549/1000\n",
      "4/4 [==============================] - 0s 32ms/step - loss: 0.3190 - accuracy: 0.9504 - val_loss: 0.3719 - val_accuracy: 0.9286\n",
      "Epoch 550/1000\n",
      "4/4 [==============================] - 0s 28ms/step - loss: 0.3182 - accuracy: 0.9504 - val_loss: 0.3725 - val_accuracy: 1.0000\n",
      "Epoch 551/1000\n",
      "4/4 [==============================] - 0s 28ms/step - loss: 0.3178 - accuracy: 0.9504 - val_loss: 0.3725 - val_accuracy: 1.0000\n",
      "Epoch 552/1000\n",
      "4/4 [==============================] - 0s 27ms/step - loss: 0.3172 - accuracy: 0.9504 - val_loss: 0.3727 - val_accuracy: 1.0000\n",
      "Epoch 553/1000\n",
      "4/4 [==============================] - 0s 38ms/step - loss: 0.3167 - accuracy: 0.9504 - val_loss: 0.3720 - val_accuracy: 1.0000\n",
      "Epoch 554/1000\n",
      "4/4 [==============================] - 0s 31ms/step - loss: 0.3162 - accuracy: 0.9504 - val_loss: 0.3706 - val_accuracy: 1.0000\n",
      "Epoch 555/1000\n",
      "4/4 [==============================] - 0s 29ms/step - loss: 0.3156 - accuracy: 0.9504 - val_loss: 0.3698 - val_accuracy: 1.0000\n",
      "Epoch 556/1000\n",
      "4/4 [==============================] - 0s 27ms/step - loss: 0.3151 - accuracy: 0.9504 - val_loss: 0.3692 - val_accuracy: 1.0000\n",
      "Epoch 557/1000\n",
      "4/4 [==============================] - 0s 30ms/step - loss: 0.3147 - accuracy: 0.9504 - val_loss: 0.3680 - val_accuracy: 1.0000\n",
      "Epoch 558/1000\n",
      "4/4 [==============================] - 0s 28ms/step - loss: 0.3140 - accuracy: 0.9504 - val_loss: 0.3677 - val_accuracy: 1.0000\n",
      "Epoch 559/1000\n",
      "4/4 [==============================] - 0s 31ms/step - loss: 0.3135 - accuracy: 0.9504 - val_loss: 0.3675 - val_accuracy: 1.0000\n",
      "Epoch 560/1000\n",
      "4/4 [==============================] - 0s 28ms/step - loss: 0.3130 - accuracy: 0.9504 - val_loss: 0.3663 - val_accuracy: 1.0000\n",
      "Epoch 561/1000\n",
      "4/4 [==============================] - 0s 29ms/step - loss: 0.3125 - accuracy: 0.9504 - val_loss: 0.3641 - val_accuracy: 1.0000\n",
      "Epoch 562/1000\n",
      "4/4 [==============================] - 0s 30ms/step - loss: 0.3119 - accuracy: 0.9587 - val_loss: 0.3631 - val_accuracy: 0.9286\n",
      "Epoch 563/1000\n",
      "4/4 [==============================] - 0s 30ms/step - loss: 0.3113 - accuracy: 0.9587 - val_loss: 0.3624 - val_accuracy: 0.9286\n",
      "Epoch 564/1000\n",
      "4/4 [==============================] - 0s 28ms/step - loss: 0.3109 - accuracy: 0.9587 - val_loss: 0.3624 - val_accuracy: 1.0000\n",
      "Epoch 565/1000\n",
      "4/4 [==============================] - 0s 30ms/step - loss: 0.3102 - accuracy: 0.9587 - val_loss: 0.3616 - val_accuracy: 1.0000\n",
      "Epoch 566/1000\n",
      "4/4 [==============================] - 0s 28ms/step - loss: 0.3098 - accuracy: 0.9587 - val_loss: 0.3610 - val_accuracy: 1.0000\n",
      "Epoch 567/1000\n",
      "4/4 [==============================] - 0s 29ms/step - loss: 0.3093 - accuracy: 0.9587 - val_loss: 0.3603 - val_accuracy: 1.0000\n",
      "Epoch 568/1000\n",
      "4/4 [==============================] - 0s 41ms/step - loss: 0.3088 - accuracy: 0.9587 - val_loss: 0.3586 - val_accuracy: 0.9286\n",
      "Epoch 569/1000\n",
      "4/4 [==============================] - 0s 31ms/step - loss: 0.3083 - accuracy: 0.9587 - val_loss: 0.3584 - val_accuracy: 0.9286\n",
      "Epoch 570/1000\n",
      "4/4 [==============================] - 0s 28ms/step - loss: 0.3077 - accuracy: 0.9587 - val_loss: 0.3572 - val_accuracy: 0.9286\n",
      "Epoch 571/1000\n",
      "4/4 [==============================] - 0s 29ms/step - loss: 0.3072 - accuracy: 0.9587 - val_loss: 0.3569 - val_accuracy: 0.9286\n",
      "Epoch 572/1000\n",
      "4/4 [==============================] - 0s 30ms/step - loss: 0.3067 - accuracy: 0.9587 - val_loss: 0.3553 - val_accuracy: 0.9286\n",
      "Epoch 573/1000\n",
      "4/4 [==============================] - 0s 31ms/step - loss: 0.3062 - accuracy: 0.9587 - val_loss: 0.3555 - val_accuracy: 0.9286\n",
      "Epoch 574/1000\n",
      "4/4 [==============================] - 0s 29ms/step - loss: 0.3062 - accuracy: 0.9587 - val_loss: 0.3535 - val_accuracy: 0.9286\n",
      "Epoch 575/1000\n",
      "4/4 [==============================] - 0s 28ms/step - loss: 0.3051 - accuracy: 0.9587 - val_loss: 0.3544 - val_accuracy: 0.9286\n",
      "Epoch 576/1000\n",
      "4/4 [==============================] - 0s 27ms/step - loss: 0.3045 - accuracy: 0.9587 - val_loss: 0.3552 - val_accuracy: 1.0000\n",
      "Epoch 577/1000\n",
      "4/4 [==============================] - 0s 29ms/step - loss: 0.3046 - accuracy: 0.9504 - val_loss: 0.3564 - val_accuracy: 1.0000\n",
      "Epoch 578/1000\n",
      "4/4 [==============================] - 0s 29ms/step - loss: 0.3035 - accuracy: 0.9504 - val_loss: 0.3546 - val_accuracy: 1.0000\n",
      "Epoch 579/1000\n",
      "4/4 [==============================] - 0s 29ms/step - loss: 0.3032 - accuracy: 0.9587 - val_loss: 0.3518 - val_accuracy: 0.9286\n",
      "Epoch 580/1000\n",
      "4/4 [==============================] - 0s 30ms/step - loss: 0.3026 - accuracy: 0.9587 - val_loss: 0.3500 - val_accuracy: 0.9286\n",
      "Epoch 581/1000\n",
      "4/4 [==============================] - 0s 32ms/step - loss: 0.3020 - accuracy: 0.9587 - val_loss: 0.3491 - val_accuracy: 0.9286\n",
      "Epoch 582/1000\n",
      "4/4 [==============================] - 0s 35ms/step - loss: 0.3015 - accuracy: 0.9587 - val_loss: 0.3491 - val_accuracy: 0.9286\n",
      "Epoch 583/1000\n",
      "4/4 [==============================] - 0s 28ms/step - loss: 0.3010 - accuracy: 0.9587 - val_loss: 0.3491 - val_accuracy: 0.9286\n",
      "Epoch 584/1000\n",
      "4/4 [==============================] - 0s 28ms/step - loss: 0.3006 - accuracy: 0.9587 - val_loss: 0.3491 - val_accuracy: 1.0000\n",
      "Epoch 585/1000\n",
      "4/4 [==============================] - 0s 31ms/step - loss: 0.2999 - accuracy: 0.9587 - val_loss: 0.3482 - val_accuracy: 1.0000\n",
      "Epoch 586/1000\n",
      "4/4 [==============================] - 0s 31ms/step - loss: 0.2995 - accuracy: 0.9587 - val_loss: 0.3473 - val_accuracy: 1.0000\n",
      "Epoch 587/1000\n",
      "4/4 [==============================] - 0s 32ms/step - loss: 0.2990 - accuracy: 0.9587 - val_loss: 0.3451 - val_accuracy: 0.9286\n",
      "Epoch 588/1000\n",
      "4/4 [==============================] - 0s 29ms/step - loss: 0.2986 - accuracy: 0.9587 - val_loss: 0.3434 - val_accuracy: 0.9286\n",
      "Epoch 589/1000\n",
      "4/4 [==============================] - 0s 28ms/step - loss: 0.2982 - accuracy: 0.9587 - val_loss: 0.3446 - val_accuracy: 0.9286\n",
      "Epoch 590/1000\n",
      "4/4 [==============================] - 0s 27ms/step - loss: 0.2974 - accuracy: 0.9587 - val_loss: 0.3447 - val_accuracy: 1.0000\n",
      "Epoch 591/1000\n",
      "4/4 [==============================] - 0s 29ms/step - loss: 0.2969 - accuracy: 0.9587 - val_loss: 0.3446 - val_accuracy: 1.0000\n",
      "Epoch 592/1000\n",
      "4/4 [==============================] - 0s 30ms/step - loss: 0.2963 - accuracy: 0.9587 - val_loss: 0.3430 - val_accuracy: 0.9286\n",
      "Epoch 593/1000\n",
      "4/4 [==============================] - 0s 31ms/step - loss: 0.2959 - accuracy: 0.9587 - val_loss: 0.3422 - val_accuracy: 0.9286\n",
      "Epoch 594/1000\n",
      "4/4 [==============================] - 0s 28ms/step - loss: 0.2953 - accuracy: 0.9587 - val_loss: 0.3408 - val_accuracy: 0.9286\n",
      "Epoch 595/1000\n",
      "4/4 [==============================] - 0s 40ms/step - loss: 0.2949 - accuracy: 0.9587 - val_loss: 0.3388 - val_accuracy: 0.9286\n",
      "Epoch 596/1000\n",
      "4/4 [==============================] - 0s 30ms/step - loss: 0.2944 - accuracy: 0.9587 - val_loss: 0.3375 - val_accuracy: 0.9286\n",
      "Epoch 597/1000\n",
      "4/4 [==============================] - 0s 28ms/step - loss: 0.2938 - accuracy: 0.9587 - val_loss: 0.3378 - val_accuracy: 0.9286\n",
      "Epoch 598/1000\n",
      "4/4 [==============================] - 0s 29ms/step - loss: 0.2933 - accuracy: 0.9587 - val_loss: 0.3383 - val_accuracy: 0.9286\n",
      "Epoch 599/1000\n",
      "4/4 [==============================] - 0s 29ms/step - loss: 0.2928 - accuracy: 0.9587 - val_loss: 0.3383 - val_accuracy: 0.9286\n",
      "Epoch 600/1000\n",
      "4/4 [==============================] - 0s 30ms/step - loss: 0.2923 - accuracy: 0.9587 - val_loss: 0.3383 - val_accuracy: 1.0000\n",
      "Epoch 601/1000\n",
      "1/4 [======>.......................] - ETA: 0s - loss: 0.2703 - accuracy: 1.0000Restoring model weights from the end of the best epoch: 596.\n",
      "4/4 [==============================] - 0s 33ms/step - loss: 0.2919 - accuracy: 0.9587 - val_loss: 0.3388 - val_accuracy: 1.0000\n",
      "Epoch 601: early stopping\n"
     ]
    },
    {
     "data": {
      "text/plain": [
       "<keras.callbacks.History at 0x2168407d310>"
      ]
     },
     "execution_count": 219,
     "metadata": {},
     "output_type": "execute_result"
    }
   ],
   "source": [
    "model.fit([x_train_l, x_train_w], y_train, validation_split=0.1,\n",
    "          epochs=1000, verbose=1, callbacks=[es])"
   ]
  },
  {
   "cell_type": "code",
   "execution_count": 221,
   "metadata": {},
   "outputs": [
    {
     "name": "stdout",
     "output_type": "stream",
     "text": [
      "1/1 [==============================] - 0s 51ms/step - loss: 0.3714 - accuracy: 0.9333\n"
     ]
    },
    {
     "data": {
      "text/plain": [
       "[0.3713569641113281, 0.9333333373069763]"
      ]
     },
     "execution_count": 221,
     "metadata": {},
     "output_type": "execute_result"
    }
   ],
   "source": [
    "model.evaluate([x_val_l, x_val_w], y_val)"
   ]
  },
  {
   "cell_type": "code",
   "execution_count": 224,
   "metadata": {},
   "outputs": [
    {
     "name": "stdout",
     "output_type": "stream",
     "text": [
      "1/1 [==============================] - 0s 43ms/step\n"
     ]
    },
    {
     "data": {
      "text/plain": [
       "array([1, 2, 0, 1, 1, 2, 0, 2, 1, 1, 2, 2, 2, 2, 2], dtype=int64)"
      ]
     },
     "execution_count": 224,
     "metadata": {},
     "output_type": "execute_result"
    }
   ],
   "source": [
    "pred = model.predict([x_val_l, x_val_w])\n",
    "pred.argmax(1)"
   ]
  },
  {
   "cell_type": "code",
   "execution_count": 226,
   "metadata": {},
   "outputs": [
    {
     "data": {
      "text/plain": [
       "array([1, 2, 0, 1, 1, 2, 0, 2, 1, 1, 2, 2, 2, 2, 1], dtype=int64)"
      ]
     },
     "execution_count": 226,
     "metadata": {},
     "output_type": "execute_result"
    }
   ],
   "source": [
    "y_val.argmax(1)"
   ]
  },
  {
   "cell_type": "markdown",
   "metadata": {},
   "source": [
    "### CNN ( Convoluttional Neural Networks )"
   ]
  },
  {
   "cell_type": "code",
   "execution_count": null,
   "metadata": {},
   "outputs": [],
   "source": []
  }
 ],
 "metadata": {
  "kernelspec": {
   "display_name": "Python 3.9.12 ('base')",
   "language": "python",
   "name": "python3"
  },
  "language_info": {
   "codemirror_mode": {
    "name": "ipython",
    "version": 3
   },
   "file_extension": ".py",
   "mimetype": "text/x-python",
   "name": "python",
   "nbconvert_exporter": "python",
   "pygments_lexer": "ipython3",
   "version": "3.9.12"
  },
  "orig_nbformat": 4,
  "vscode": {
   "interpreter": {
    "hash": "5f7678e3cf7566e35dc0bd53f9a2e61d18c90ac4f700ab60c30179035bddd9e2"
   }
  }
 },
 "nbformat": 4,
 "nbformat_minor": 2
}
