{
 "cells": [
  {
   "cell_type": "code",
   "execution_count": 1,
   "metadata": {},
   "outputs": [],
   "source": [
    "#기본 라이브러리들\n",
    "import numpy as np   # 수치연산\n",
    "import pandas as pd  # 데이터프레임(2차원) \n",
    "import matplotlib.pyplot as plt  # 그래프\n",
    "import seaborn as sns\n",
    "\n",
    "# 스케일링\n",
    "from sklearn.preprocessing import *\n",
    "\n",
    "# 데이터 분할\n",
    "from sklearn.model_selection import train_test_split  \n",
    "\n",
    "# 모델링\n",
    "from sklearn.linear_model import LinearRegression, LogisticRegression\n",
    "from sklearn.neighbors import KNeighborsRegressor, KNeighborsClassifier\n",
    "from sklearn.tree import DecisionTreeRegressor, DecisionTreeClassifier, plot_tree\n",
    "from sklearn.svm import SVC, SVR\n",
    "\n",
    "# 검증\n",
    "from sklearn.metrics import *\n",
    "\n",
    "# 성능\n",
    "from sklearn.model_selection import RandomizedSearchCV, GridSearchCV\n",
    "import statsmodels.api as sm"
   ]
  },
  {
   "cell_type": "markdown",
   "metadata": {},
   "source": [
    "# Modeling\n",
    "- 데이터로부터 패턴을 찾아 수학식으로 정리\n",
    "- 오차가 적은 모델을 만드는 과정\n",
    "\n",
    "### 목적\n",
    "- 샘플을 가지고 전체를 추정\n",
    "\n",
    "### 패턴을 찾는 방법 ( 머신러닝 알고리즘 )\n",
    "\t- 답이 있는 문제(지도학습) : 답을 알려주면서 패턴을 찾게하기.  \n",
    "\t\t숫자(회귀)와 범주(분류)의 답\n",
    "\t- 답이 없는 문제(비지도학습) : 비슷한 데이터끼리 모아서 데이터 안에서 패턴을 찾기\n",
    "\n",
    "### 오차 : 실제 값 = 모델 + 오차\n",
    "- 자료가 벗어나는 정도 ∑(실제 값 - 모델)^2\n",
    "\n",
    "\n"
   ]
  },
  {
   "cell_type": "markdown",
   "metadata": {},
   "source": [
    "### 과정 : 데이터확인 및 전처리 -> 선언(설계) -> 학습(모델링) -> 검증(예측, 평가)"
   ]
  },
  {
   "cell_type": "markdown",
   "metadata": {},
   "source": [
    "# sklearn 모델"
   ]
  },
  {
   "cell_type": "markdown",
   "metadata": {},
   "source": [
    "## 회귀모델(Regression)"
   ]
  },
  {
   "cell_type": "markdown",
   "metadata": {},
   "source": [
    "### 1) 데이터 확인 및 전처리"
   ]
  },
  {
   "cell_type": "code",
   "execution_count": 28,
   "metadata": {},
   "outputs": [],
   "source": [
    "path = 'https://raw.githubusercontent.com/DA4BAM/dataset/master/boston.csv'\n",
    "data = pd.read_csv(path)"
   ]
  },
  {
   "cell_type": "code",
   "execution_count": 29,
   "metadata": {},
   "outputs": [],
   "source": [
    "data.drop(['black'], axis = 1, inplace = True)"
   ]
  },
  {
   "cell_type": "code",
   "execution_count": 30,
   "metadata": {},
   "outputs": [],
   "source": [
    "target = 'medv'\n",
    "x = data.drop(target, axis=1)\n",
    "y = data.loc[:, target]"
   ]
  },
  {
   "cell_type": "code",
   "execution_count": 31,
   "metadata": {},
   "outputs": [],
   "source": [
    "x_train, x_val, y_train, y_val = train_test_split(x, y, test_size = .3)"
   ]
  },
  {
   "cell_type": "markdown",
   "metadata": {},
   "source": [
    "* 스케일링"
   ]
  },
  {
   "cell_type": "code",
   "execution_count": 38,
   "metadata": {},
   "outputs": [],
   "source": [
    "mm_scaler = MinMaxScaler()\n",
    "st_scaler = StandardScaler()\n",
    "x_train_mm = mm_scaler.fit_transform(x_train)\n",
    "x_train_st = st_scaler.fit_transform(x_train)\n",
    "x_val_mm = mm_scaler.fit_transform(x_val)\n",
    "x_val_st = st_scaler.fit_transform(x_val)"
   ]
  },
  {
   "cell_type": "markdown",
   "metadata": {},
   "source": [
    "### 2. 선언"
   ]
  },
  {
   "cell_type": "markdown",
   "metadata": {},
   "source": [
    "### LinearRegression"
   ]
  },
  {
   "cell_type": "code",
   "execution_count": 32,
   "metadata": {},
   "outputs": [],
   "source": [
    "linear_model = LinearRegression()\n"
   ]
  },
  {
   "cell_type": "markdown",
   "metadata": {},
   "source": [
    "### K-Nearest Neighbors"
   ]
  },
  {
   "cell_type": "code",
   "execution_count": 36,
   "metadata": {},
   "outputs": [
    {
     "data": {
      "text/plain": [
       "12"
      ]
     },
     "execution_count": 36,
     "metadata": {},
     "output_type": "execute_result"
    }
   ],
   "source": [
    "k = int(y_val.count() ** 0.5)\n",
    "k"
   ]
  },
  {
   "cell_type": "code",
   "execution_count": 37,
   "metadata": {},
   "outputs": [],
   "source": [
    "knn_model_e_reg = KNeighborsRegressor(n_neighbors=k, metric='euclidean')\n",
    "\n",
    "knn_model_m_reg = KNeighborsRegressor(n_neighbors=k, metric='manhattan')\n"
   ]
  },
  {
   "cell_type": "markdown",
   "metadata": {},
   "source": [
    "### 3. 학습"
   ]
  },
  {
   "cell_type": "code",
   "execution_count": 39,
   "metadata": {},
   "outputs": [
    {
     "data": {
      "text/plain": [
       "KNeighborsRegressor(metric='manhattan', n_neighbors=12)"
      ]
     },
     "execution_count": 39,
     "metadata": {},
     "output_type": "execute_result"
    }
   ],
   "source": [
    "linear_model.fit(x_train, y_train)\n",
    "knn_model_e_reg.fit(x_train_mm, y_train)\n",
    "knn_model_m_reg.fit(x_train_mm, y_train)"
   ]
  },
  {
   "cell_type": "markdown",
   "metadata": {},
   "source": [
    "### 4. 예측"
   ]
  },
  {
   "cell_type": "code",
   "execution_count": 40,
   "metadata": {},
   "outputs": [],
   "source": [
    "linear_pred = linear_model.predict(x_val)\n",
    "knn_e_pred = knn_model_e_reg.predict(x_val_mm)\n",
    "mkk_m_pred = knn_model_m_reg.predict(x_val_mm)"
   ]
  },
  {
   "cell_type": "markdown",
   "metadata": {},
   "source": [
    "### 5. 검증"
   ]
  },
  {
   "cell_type": "code",
   "execution_count": 42,
   "metadata": {},
   "outputs": [
    {
     "name": "stdout",
     "output_type": "stream",
     "text": [
      "LinearRegression\n",
      "r2_score : 0.6659250862095887\n",
      "mse : 27.024021790749117\n",
      "rmse : 5.198463406695205\n",
      "mae : 3.4151954170252057\n",
      "mape : 0.15485848578166633\n",
      "******************************\n",
      "KNeighborsRegressor_e\n",
      "r2_score : 0.5956828422399985\n",
      "mse : 32.70606451023393\n",
      "rmse : 5.718921621270389\n",
      "mae : 3.3805921052631582\n",
      "mape : 0.1410072162096308\n",
      "******************************\n",
      "KNeighborsRegressor_m\n",
      "r2_score : 0.6357484130178679\n",
      "mse : 29.46507629751462\n",
      "rmse : 5.4281743061101695\n",
      "mae : 3.2275767543859653\n",
      "mape : 0.13509807450544373\n",
      "******************************\n"
     ]
    }
   ],
   "source": [
    "name = ['LinearRegression', 'KNeighborsRegressor_e', 'KNeighborsRegressor_m']\n",
    "list_pred = [linear_pred, knn_e_pred, mkk_m_pred]\n",
    "\n",
    "for n, p in zip(name, list_pred):\n",
    "    print(n)\n",
    "    print(f'r2_score : {r2_score(y_val, p)}')\n",
    "    print(f'mse : {mean_squared_error(y_val, p)}')\n",
    "    print(f'rmse : {mean_squared_error(y_val, p, squared=False)}')\n",
    "    print(f'mae : {mean_absolute_error(y_val, p)}')\n",
    "    print(f'mape : {mean_absolute_percentage_error(y_val, p)}')\n",
    "    print('**' * 15)"
   ]
  },
  {
   "cell_type": "markdown",
   "metadata": {},
   "source": [
    "## 분류모델(Classifier)"
   ]
  },
  {
   "cell_type": "markdown",
   "metadata": {},
   "source": [
    "### 1) 데이터 확인 및 전처리"
   ]
  },
  {
   "cell_type": "code",
   "execution_count": 136,
   "metadata": {},
   "outputs": [
    {
     "data": {
      "text/html": [
       "<div>\n",
       "<style scoped>\n",
       "    .dataframe tbody tr th:only-of-type {\n",
       "        vertical-align: middle;\n",
       "    }\n",
       "\n",
       "    .dataframe tbody tr th {\n",
       "        vertical-align: top;\n",
       "    }\n",
       "\n",
       "    .dataframe thead th {\n",
       "        text-align: right;\n",
       "    }\n",
       "</style>\n",
       "<table border=\"1\" class=\"dataframe\">\n",
       "  <thead>\n",
       "    <tr style=\"text-align: right;\">\n",
       "      <th></th>\n",
       "      <th>Attrition</th>\n",
       "      <th>Age</th>\n",
       "      <th>DistanceFromHome</th>\n",
       "      <th>EmployeeNumber</th>\n",
       "      <th>Gender</th>\n",
       "      <th>JobSatisfaction</th>\n",
       "      <th>MaritalStatus</th>\n",
       "      <th>MonthlyIncome</th>\n",
       "      <th>OverTime</th>\n",
       "      <th>PercentSalaryHike</th>\n",
       "      <th>TotalWorkingYears</th>\n",
       "    </tr>\n",
       "  </thead>\n",
       "  <tbody>\n",
       "    <tr>\n",
       "      <th>0</th>\n",
       "      <td>0</td>\n",
       "      <td>33</td>\n",
       "      <td>7</td>\n",
       "      <td>817</td>\n",
       "      <td>Male</td>\n",
       "      <td>3</td>\n",
       "      <td>Married</td>\n",
       "      <td>11691</td>\n",
       "      <td>No</td>\n",
       "      <td>11</td>\n",
       "      <td>14</td>\n",
       "    </tr>\n",
       "    <tr>\n",
       "      <th>1</th>\n",
       "      <td>0</td>\n",
       "      <td>35</td>\n",
       "      <td>18</td>\n",
       "      <td>1412</td>\n",
       "      <td>Male</td>\n",
       "      <td>4</td>\n",
       "      <td>Single</td>\n",
       "      <td>9362</td>\n",
       "      <td>No</td>\n",
       "      <td>11</td>\n",
       "      <td>10</td>\n",
       "    </tr>\n",
       "    <tr>\n",
       "      <th>2</th>\n",
       "      <td>0</td>\n",
       "      <td>42</td>\n",
       "      <td>6</td>\n",
       "      <td>1911</td>\n",
       "      <td>Male</td>\n",
       "      <td>1</td>\n",
       "      <td>Married</td>\n",
       "      <td>13348</td>\n",
       "      <td>No</td>\n",
       "      <td>13</td>\n",
       "      <td>18</td>\n",
       "    </tr>\n",
       "    <tr>\n",
       "      <th>3</th>\n",
       "      <td>0</td>\n",
       "      <td>46</td>\n",
       "      <td>2</td>\n",
       "      <td>1204</td>\n",
       "      <td>Female</td>\n",
       "      <td>1</td>\n",
       "      <td>Married</td>\n",
       "      <td>17048</td>\n",
       "      <td>No</td>\n",
       "      <td>23</td>\n",
       "      <td>28</td>\n",
       "    </tr>\n",
       "    <tr>\n",
       "      <th>4</th>\n",
       "      <td>1</td>\n",
       "      <td>22</td>\n",
       "      <td>4</td>\n",
       "      <td>593</td>\n",
       "      <td>Male</td>\n",
       "      <td>3</td>\n",
       "      <td>Single</td>\n",
       "      <td>3894</td>\n",
       "      <td>No</td>\n",
       "      <td>16</td>\n",
       "      <td>4</td>\n",
       "    </tr>\n",
       "    <tr>\n",
       "      <th>...</th>\n",
       "      <td>...</td>\n",
       "      <td>...</td>\n",
       "      <td>...</td>\n",
       "      <td>...</td>\n",
       "      <td>...</td>\n",
       "      <td>...</td>\n",
       "      <td>...</td>\n",
       "      <td>...</td>\n",
       "      <td>...</td>\n",
       "      <td>...</td>\n",
       "      <td>...</td>\n",
       "    </tr>\n",
       "    <tr>\n",
       "      <th>1191</th>\n",
       "      <td>0</td>\n",
       "      <td>32</td>\n",
       "      <td>5</td>\n",
       "      <td>1555</td>\n",
       "      <td>Female</td>\n",
       "      <td>2</td>\n",
       "      <td>Married</td>\n",
       "      <td>5878</td>\n",
       "      <td>No</td>\n",
       "      <td>12</td>\n",
       "      <td>12</td>\n",
       "    </tr>\n",
       "    <tr>\n",
       "      <th>1192</th>\n",
       "      <td>0</td>\n",
       "      <td>27</td>\n",
       "      <td>19</td>\n",
       "      <td>1619</td>\n",
       "      <td>Male</td>\n",
       "      <td>1</td>\n",
       "      <td>Divorced</td>\n",
       "      <td>4066</td>\n",
       "      <td>No</td>\n",
       "      <td>11</td>\n",
       "      <td>7</td>\n",
       "    </tr>\n",
       "    <tr>\n",
       "      <th>1193</th>\n",
       "      <td>0</td>\n",
       "      <td>29</td>\n",
       "      <td>9</td>\n",
       "      <td>1558</td>\n",
       "      <td>Male</td>\n",
       "      <td>3</td>\n",
       "      <td>Married</td>\n",
       "      <td>2451</td>\n",
       "      <td>No</td>\n",
       "      <td>18</td>\n",
       "      <td>5</td>\n",
       "    </tr>\n",
       "    <tr>\n",
       "      <th>1194</th>\n",
       "      <td>0</td>\n",
       "      <td>29</td>\n",
       "      <td>2</td>\n",
       "      <td>469</td>\n",
       "      <td>Male</td>\n",
       "      <td>3</td>\n",
       "      <td>Married</td>\n",
       "      <td>4649</td>\n",
       "      <td>No</td>\n",
       "      <td>14</td>\n",
       "      <td>4</td>\n",
       "    </tr>\n",
       "    <tr>\n",
       "      <th>1195</th>\n",
       "      <td>0</td>\n",
       "      <td>43</td>\n",
       "      <td>16</td>\n",
       "      <td>327</td>\n",
       "      <td>Female</td>\n",
       "      <td>4</td>\n",
       "      <td>Married</td>\n",
       "      <td>16064</td>\n",
       "      <td>Yes</td>\n",
       "      <td>22</td>\n",
       "      <td>22</td>\n",
       "    </tr>\n",
       "  </tbody>\n",
       "</table>\n",
       "<p>1196 rows × 11 columns</p>\n",
       "</div>"
      ],
      "text/plain": [
       "      Attrition  Age  DistanceFromHome  EmployeeNumber  Gender  \\\n",
       "0             0   33                 7             817    Male   \n",
       "1             0   35                18            1412    Male   \n",
       "2             0   42                 6            1911    Male   \n",
       "3             0   46                 2            1204  Female   \n",
       "4             1   22                 4             593    Male   \n",
       "...         ...  ...               ...             ...     ...   \n",
       "1191          0   32                 5            1555  Female   \n",
       "1192          0   27                19            1619    Male   \n",
       "1193          0   29                 9            1558    Male   \n",
       "1194          0   29                 2             469    Male   \n",
       "1195          0   43                16             327  Female   \n",
       "\n",
       "      JobSatisfaction MaritalStatus  MonthlyIncome OverTime  \\\n",
       "0                   3       Married          11691       No   \n",
       "1                   4        Single           9362       No   \n",
       "2                   1       Married          13348       No   \n",
       "3                   1       Married          17048       No   \n",
       "4                   3        Single           3894       No   \n",
       "...               ...           ...            ...      ...   \n",
       "1191                2       Married           5878       No   \n",
       "1192                1      Divorced           4066       No   \n",
       "1193                3       Married           2451       No   \n",
       "1194                3       Married           4649       No   \n",
       "1195                4       Married          16064      Yes   \n",
       "\n",
       "      PercentSalaryHike  TotalWorkingYears  \n",
       "0                    11                 14  \n",
       "1                    11                 10  \n",
       "2                    13                 18  \n",
       "3                    23                 28  \n",
       "4                    16                  4  \n",
       "...                 ...                ...  \n",
       "1191                 12                 12  \n",
       "1192                 11                  7  \n",
       "1193                 18                  5  \n",
       "1194                 14                  4  \n",
       "1195                 22                 22  \n",
       "\n",
       "[1196 rows x 11 columns]"
      ]
     },
     "execution_count": 136,
     "metadata": {},
     "output_type": "execute_result"
    }
   ],
   "source": [
    "path = \"https://raw.githubusercontent.com/DA4BAM/dataset/master/Attrition_simple2.CSV\"\n",
    "data = pd.read_csv(path)\n",
    "data"
   ]
  },
  {
   "cell_type": "code",
   "execution_count": 137,
   "metadata": {},
   "outputs": [],
   "source": [
    "data.drop('EmployeeNumber', axis = 1, inplace = True)"
   ]
  },
  {
   "cell_type": "code",
   "execution_count": 138,
   "metadata": {},
   "outputs": [],
   "source": [
    "target = 'Attrition'\n",
    "x = data.drop(target, axis = 1)\n",
    "y = data.loc[:, target]"
   ]
  },
  {
   "cell_type": "markdown",
   "metadata": {},
   "source": [
    "* 가변수화"
   ]
  },
  {
   "cell_type": "code",
   "execution_count": 139,
   "metadata": {},
   "outputs": [],
   "source": [
    "cat_cols = ['Gender','JobSatisfaction','MaritalStatus','OverTime']\n",
    "x = pd.get_dummies(x, columns = cat_cols, drop_first = True)"
   ]
  },
  {
   "cell_type": "code",
   "execution_count": 140,
   "metadata": {},
   "outputs": [],
   "source": [
    "x_train, x_val, y_train, y_val = train_test_split(x, y, test_size = .3)"
   ]
  },
  {
   "cell_type": "markdown",
   "metadata": {},
   "source": [
    "* 스케일링"
   ]
  },
  {
   "cell_type": "code",
   "execution_count": 141,
   "metadata": {},
   "outputs": [],
   "source": [
    "mm_scaler = MinMaxScaler()\n",
    "st_scaler = StandardScaler()\n",
    "x_train_mm = mm_scaler.fit_transform(x_train)\n",
    "x_train_st = st_scaler.fit_transform(x_train)\n",
    "x_val_mm = mm_scaler.fit_transform(x_val)\n",
    "x_val_st = st_scaler.fit_transform(x_val)"
   ]
  },
  {
   "cell_type": "markdown",
   "metadata": {},
   "source": [
    "### 2. 선언"
   ]
  },
  {
   "cell_type": "markdown",
   "metadata": {},
   "source": [
    "### LogisticRegression"
   ]
  },
  {
   "cell_type": "code",
   "execution_count": 142,
   "metadata": {},
   "outputs": [],
   "source": [
    "logtc_model = LogisticRegression()"
   ]
  },
  {
   "cell_type": "markdown",
   "metadata": {},
   "source": [
    "### KNeighborsClassifier"
   ]
  },
  {
   "cell_type": "code",
   "execution_count": 143,
   "metadata": {},
   "outputs": [
    {
     "data": {
      "text/plain": [
       "18"
      ]
     },
     "execution_count": 143,
     "metadata": {},
     "output_type": "execute_result"
    }
   ],
   "source": [
    "k = int(y_val.count() ** 0.5)\n",
    "k"
   ]
  },
  {
   "cell_type": "code",
   "execution_count": 144,
   "metadata": {},
   "outputs": [],
   "source": [
    "knn_model_cla_e = KNeighborsClassifier(n_neighbors=k, metric='euclidean')\n",
    "knn_model_cla_m = KNeighborsClassifier(n_neighbors=k, metric='manhattan')"
   ]
  },
  {
   "cell_type": "markdown",
   "metadata": {},
   "source": [
    "### DecisionTreeClassifier"
   ]
  },
  {
   "cell_type": "code",
   "execution_count": 145,
   "metadata": {},
   "outputs": [],
   "source": [
    "dtree_model = DecisionTreeClassifier(max_depth=3)"
   ]
  },
  {
   "cell_type": "markdown",
   "metadata": {},
   "source": [
    "### SVC"
   ]
  },
  {
   "cell_type": "code",
   "execution_count": 156,
   "metadata": {},
   "outputs": [],
   "source": [
    "svc_model = SVC(C=10, gamma=50)"
   ]
  },
  {
   "cell_type": "markdown",
   "metadata": {},
   "source": [
    "### 3. 학습"
   ]
  },
  {
   "cell_type": "code",
   "execution_count": 157,
   "metadata": {},
   "outputs": [
    {
     "name": "stderr",
     "output_type": "stream",
     "text": [
      "c:\\Users\\mskyu\\anaconda3\\lib\\site-packages\\sklearn\\linear_model\\_logistic.py:814: ConvergenceWarning: lbfgs failed to converge (status=1):\n",
      "STOP: TOTAL NO. of ITERATIONS REACHED LIMIT.\n",
      "\n",
      "Increase the number of iterations (max_iter) or scale the data as shown in:\n",
      "    https://scikit-learn.org/stable/modules/preprocessing.html\n",
      "Please also refer to the documentation for alternative solver options:\n",
      "    https://scikit-learn.org/stable/modules/linear_model.html#logistic-regression\n",
      "  n_iter_i = _check_optimize_result(\n"
     ]
    },
    {
     "data": {
      "text/plain": [
       "SVC(C=10, gamma=50)"
      ]
     },
     "execution_count": 157,
     "metadata": {},
     "output_type": "execute_result"
    }
   ],
   "source": [
    "logtc_model.fit(x_train, y_train)\n",
    "dtree_model.fit(x_train, y_train)\n",
    "knn_model_cla_e.fit(x_train_mm, y_train)\n",
    "knn_model_cla_m.fit(x_train_mm, y_train)\n",
    "svc_model.fit(x_train_mm, y_train)\n"
   ]
  },
  {
   "cell_type": "markdown",
   "metadata": {},
   "source": [
    "### 4. 예측"
   ]
  },
  {
   "cell_type": "code",
   "execution_count": 158,
   "metadata": {},
   "outputs": [],
   "source": [
    "logtc_pred = logtc_model.predict(x_val)\n",
    "knn_e_pred = knn_model_cla_e.predict(x_val_mm)\n",
    "knn_m_pred = knn_model_cla_m.predict(x_val_mm)\n",
    "dtree_pred = dtree_model.predict(x_val)\n",
    "svc_pred = svc_model.predict(x_val_mm)"
   ]
  },
  {
   "cell_type": "markdown",
   "metadata": {},
   "source": [
    "### 5. 검증"
   ]
  },
  {
   "cell_type": "code",
   "execution_count": 159,
   "metadata": {},
   "outputs": [
    {
     "name": "stdout",
     "output_type": "stream",
     "text": [
      "LogisticRegression\n",
      "[[293   0]\n",
      " [ 56  10]]\n",
      "              precision    recall  f1-score   support\n",
      "\n",
      "           0       0.84      1.00      0.91       293\n",
      "           1       1.00      0.15      0.26        66\n",
      "\n",
      "    accuracy                           0.84       359\n",
      "   macro avg       0.92      0.58      0.59       359\n",
      "weighted avg       0.87      0.84      0.79       359\n",
      "\n",
      "******************************\n",
      "KNeighborsClassifier_e\n",
      "[[293   0]\n",
      " [ 63   3]]\n",
      "              precision    recall  f1-score   support\n",
      "\n",
      "           0       0.82      1.00      0.90       293\n",
      "           1       1.00      0.05      0.09        66\n",
      "\n",
      "    accuracy                           0.82       359\n",
      "   macro avg       0.91      0.52      0.49       359\n",
      "weighted avg       0.86      0.82      0.75       359\n",
      "\n",
      "******************************\n",
      "KNeighborsClassifier_m\n",
      "[[293   0]\n",
      " [ 64   2]]\n",
      "              precision    recall  f1-score   support\n",
      "\n",
      "           0       0.82      1.00      0.90       293\n",
      "           1       1.00      0.03      0.06        66\n",
      "\n",
      "    accuracy                           0.82       359\n",
      "   macro avg       0.91      0.52      0.48       359\n",
      "weighted avg       0.85      0.82      0.75       359\n",
      "\n",
      "******************************\n",
      "DecisionTreeClassifier\n",
      "[[285   8]\n",
      " [ 58   8]]\n",
      "              precision    recall  f1-score   support\n",
      "\n",
      "           0       0.83      0.97      0.90       293\n",
      "           1       0.50      0.12      0.20        66\n",
      "\n",
      "    accuracy                           0.82       359\n",
      "   macro avg       0.67      0.55      0.55       359\n",
      "weighted avg       0.77      0.82      0.77       359\n",
      "\n",
      "******************************\n",
      "SVC\n",
      "[[290   3]\n",
      " [ 65   1]]\n",
      "              precision    recall  f1-score   support\n",
      "\n",
      "           0       0.82      0.99      0.90       293\n",
      "           1       0.25      0.02      0.03        66\n",
      "\n",
      "    accuracy                           0.81       359\n",
      "   macro avg       0.53      0.50      0.46       359\n",
      "weighted avg       0.71      0.81      0.74       359\n",
      "\n",
      "******************************\n"
     ]
    }
   ],
   "source": [
    "name = ['LogisticRegression', 'KNeighborsClassifier_e', 'KNeighborsClassifier_m', 'DecisionTreeClassifier', 'SVC']\n",
    "list_pred = [logtc_pred, knn_e_pred, knn_m_pred, dtree_pred, svc_pred]\n",
    "\n",
    "for n, p in zip(name, list_pred):\n",
    "    print(n)\n",
    "    print(confusion_matrix(y_val, p))\n",
    "    print(classification_report(y_val, p))\n",
    "    print('**'*15)"
   ]
  },
  {
   "cell_type": "code",
   "execution_count": 152,
   "metadata": {},
   "outputs": [
    {
     "data": {
      "image/png": "[encoded data removed]",
      "text/plain": [
       "<Figure size 720x720 with 1 Axes>"
      ]
     },
     "metadata": {
      "needs_background": "light"
     },
     "output_type": "display_data"
    }
   ],
   "source": [
    "plt.figure(figsize=(10,10))\n",
    "plot_tree(dtree_model\n",
    "        , feature_names = list(x_train)\n",
    "        , class_names= ['Stay', 'Leave']\n",
    "        , filled = True\n",
    "        , fontsize = 8)\n",
    "plt.show()"
   ]
  },
  {
   "cell_type": "code",
   "execution_count": null,
   "metadata": {},
   "outputs": [],
   "source": []
  },
  {
   "cell_type": "markdown",
   "metadata": {},
   "source": [
    "# 성능 튜닝"
   ]
  },
  {
   "cell_type": "markdown",
   "metadata": {},
   "source": []
  }
 ],
 "metadata": {
  "kernelspec": {
   "display_name": "Python 3.9.13 64-bit",
   "language": "python",
   "name": "python3"
  },
  "language_info": {
   "codemirror_mode": {
    "name": "ipython",
    "version": 3
   },
   "file_extension": ".py",
   "mimetype": "text/x-python",
   "name": "python",
   "nbconvert_exporter": "python",
   "pygments_lexer": "ipython3",
   "version": "3.9.13"
  },
  "orig_nbformat": 4,
  "vscode": {
   "interpreter": {
    "hash": "cf92aa13fedf815d5c8dd192b8d835913fde3e8bc926b2a0ad6cc74ef2ba3ca2"
   }
  }
 },
 "nbformat": 4,
 "nbformat_minor": 2
}
